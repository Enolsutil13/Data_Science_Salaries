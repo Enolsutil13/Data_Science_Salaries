{
 "cells": [
  {
   "attachments": {},
   "cell_type": "markdown",
   "metadata": {},
   "source": [
    "# Data Science Salaries 2023"
   ]
  },
  {
   "attachments": {},
   "cell_type": "markdown",
   "metadata": {},
   "source": [
    "Este conjunto de datos es útil para entender la distribución de los salarios en el campo de la ciencia de datos y cómo estos pueden variar en función de factores como la ubicación del empleado y del empleador, el nivel de experiencia, el tipo de empleo, entre otros. Nos permite explorar el impacto del trabajo remoto en los salarios de ciencia de datos y empezar a sacar nuestras propias conclusiones."
   ]
  },
  {
   "attachments": {},
   "cell_type": "markdown",
   "metadata": {},
   "source": [
    "#### VARIABLES"
   ]
  },
  {
   "attachments": {},
   "cell_type": "markdown",
   "metadata": {},
   "source": [
    "<table>\n",
    "  <tr>\n",
    "    <th>Nombre de la columna</th>\n",
    "    <th>Descripción</th>\n",
    "  </tr>\n",
    "  <tr>\n",
    "    <td>work_year</td>\n",
    "    <td>El año en que se pagó el salario.</td>\n",
    "  </tr>\n",
    "  <tr>\n",
    "    <td>experience_level</td>\n",
    "    <td>El nivel de experiencia en el trabajo durante el año.</td>\n",
    "  </tr>\n",
    "  <tr>\n",
    "    <td>employment_type</td>\n",
    "    <td>El tipo de empleo para el rol.</td>\n",
    "  </tr>\n",
    "  <tr>\n",
    "    <td>job_title</td>\n",
    "    <td>El rol desempeñado durante el año.</td>\n",
    "  </tr>\n",
    "  <tr>\n",
    "    <td>salary</td>\n",
    "    <td>El total bruto del salario pagado.</td>\n",
    "  </tr>\n",
    "  <tr>\n",
    "    <td>salary_currency</td>\n",
    "    <td>La moneda del salario pagado como código de moneda ISO 4217.</td>\n",
    "  </tr>\n",
    "  <tr>\n",
    "    <td>salaryinusd</td>\n",
    "    <td>El salario en dólares estadounidenses (USD).</td>\n",
    "  </tr>\n",
    "  <tr>\n",
    "    <td>employee_residence</td>\n",
    "    <td>El principal país de residencia del empleado durante el año de trabajo como código de país ISO 3166.</td>\n",
    "  </tr>\n",
    "  <tr>\n",
    "    <td>remote_ratio</td>\n",
    "    <td>La cantidad total de trabajo realizado a distancia.</td>\n",
    "  </tr>\n",
    "  <tr>\n",
    "    <td>company_location</td>\n",
    "    <td>El país de la oficina principal del empleador o la sucursal contratante.</td>\n",
    "  </tr>\n",
    "  <tr>\n",
    "    <td>company_size</td>\n",
    "    <td>El número mediano de personas que trabajaron para la empresa durante el año.</td>\n",
    "  </tr>\n",
    "</table>\n"
   ]
  },
  {
   "attachments": {},
   "cell_type": "markdown",
   "metadata": {},
   "source": [
    "### Objetivos:"
   ]
  },
  {
   "attachments": {},
   "cell_type": "markdown",
   "metadata": {},
   "source": [
    "\n",
    "El objetivo principal de este ejercicio es aprender y aplicar técnicas de análisis y visualización de datos utilizando las bibliotecas de Python Matplotlib, Seaborn y Plotly. \n",
    "\n",
    "Los pasos adecuados para completarlo son:\n",
    "\n",
    "1. **Explorar el conjunto de datos**: Comprender la estructura del conjunto de datos, los tipos de variables presentes y cómo estas están distribuidas.\n",
    "   **Limpiar y preparar el conjunto de datos**: Manipular los datos para que sean más accesibles y útiles para el análisis. Esto puede incluir tratar con valores faltantes, convertir tipos de datos y generar nuevas variables a partir de las existentes.\n",
    "   \n",
    "2. **Analizar el conjunto de datos**: Extraer información útil y significativa del conjunto de datos a través de diversas técnicas de análisis de datos. </br>\n",
    "   **Visualizar los datos**: Crear gráficos y diagramas que ayuden a entender y comunicar los patrones y las relaciones presentes en los datos.\n",
    "\n",
    "Para responder a las preguntas planteadas se deben usar las siguientes bibliotecas :\n",
    "\n",
    "- Usar **Matplotlib** para crear gráficos básicos como gráficos de barras, de líneas y de dispersión.\n",
    "- Usar **Seaborn** para crear gráficos más complejos y atractivos visualmente, aprovechando sus capacidades de integración con pandas.\n",
    "- Usar **Plotly** para crear gráficos interactivos que permiten una exploración más profunda de los datos.\n",
    "\n",
    "\n"
   ]
  },
  {
   "attachments": {},
   "cell_type": "markdown",
   "metadata": {},
   "source": [
    "### Primer paso, la carga de datos, limpieza, exploración y primera comprensión de nuestro dataset"
   ]
  },
  {
   "attachments": {},
   "cell_type": "markdown",
   "metadata": {},
   "source": [
    "#### Importamos las librerías necesarias:\n"
   ]
  },
  {
   "cell_type": "code",
   "execution_count": 1,
   "metadata": {},
   "outputs": [],
   "source": [
    "import pandas as pd\n",
    "import numpy as np\n",
    "import matplotlib.pyplot as plt\n",
    "import seaborn as sns\n",
    "import plotly as px\n",
    "import plotly.express as px\n",
    "import math"
   ]
  },
  {
   "attachments": {},
   "cell_type": "markdown",
   "metadata": {},
   "source": [
    "#### Cargamos nuestro dataset\n"
   ]
  },
  {
   "cell_type": "code",
   "execution_count": 2,
   "metadata": {},
   "outputs": [],
   "source": [
    "df = pd.read_csv()"
   ]
  },
  {
   "cell_type": "code",
   "execution_count": 6,
   "metadata": {},
   "outputs": [
    {
     "data": {
      "text/html": [
       "<div>\n",
       "<style scoped>\n",
       "    .dataframe tbody tr th:only-of-type {\n",
       "        vertical-align: middle;\n",
       "    }\n",
       "\n",
       "    .dataframe tbody tr th {\n",
       "        vertical-align: top;\n",
       "    }\n",
       "\n",
       "    .dataframe thead th {\n",
       "        text-align: right;\n",
       "    }\n",
       "</style>\n",
       "<table border=\"1\" class=\"dataframe\">\n",
       "  <thead>\n",
       "    <tr style=\"text-align: right;\">\n",
       "      <th></th>\n",
       "      <th>work_year</th>\n",
       "      <th>experience_level</th>\n",
       "      <th>employment_type</th>\n",
       "      <th>job_title</th>\n",
       "      <th>salary</th>\n",
       "      <th>salary_currency</th>\n",
       "      <th>salary_in_usd</th>\n",
       "      <th>employee_residence</th>\n",
       "      <th>remote_ratio</th>\n",
       "      <th>company_location</th>\n",
       "      <th>company_size</th>\n",
       "    </tr>\n",
       "  </thead>\n",
       "  <tbody>\n",
       "    <tr>\n",
       "      <th>0</th>\n",
       "      <td>2023</td>\n",
       "      <td>SE</td>\n",
       "      <td>FT</td>\n",
       "      <td>Principal Data Scientist</td>\n",
       "      <td>80000</td>\n",
       "      <td>EUR</td>\n",
       "      <td>85847</td>\n",
       "      <td>ES</td>\n",
       "      <td>100</td>\n",
       "      <td>ES</td>\n",
       "      <td>L</td>\n",
       "    </tr>\n",
       "    <tr>\n",
       "      <th>1</th>\n",
       "      <td>2023</td>\n",
       "      <td>MI</td>\n",
       "      <td>CT</td>\n",
       "      <td>ML Engineer</td>\n",
       "      <td>30000</td>\n",
       "      <td>USD</td>\n",
       "      <td>30000</td>\n",
       "      <td>US</td>\n",
       "      <td>100</td>\n",
       "      <td>US</td>\n",
       "      <td>S</td>\n",
       "    </tr>\n",
       "    <tr>\n",
       "      <th>2</th>\n",
       "      <td>2023</td>\n",
       "      <td>MI</td>\n",
       "      <td>CT</td>\n",
       "      <td>ML Engineer</td>\n",
       "      <td>25500</td>\n",
       "      <td>USD</td>\n",
       "      <td>25500</td>\n",
       "      <td>US</td>\n",
       "      <td>100</td>\n",
       "      <td>US</td>\n",
       "      <td>S</td>\n",
       "    </tr>\n",
       "    <tr>\n",
       "      <th>3</th>\n",
       "      <td>2023</td>\n",
       "      <td>SE</td>\n",
       "      <td>FT</td>\n",
       "      <td>Data Scientist</td>\n",
       "      <td>175000</td>\n",
       "      <td>USD</td>\n",
       "      <td>175000</td>\n",
       "      <td>CA</td>\n",
       "      <td>100</td>\n",
       "      <td>CA</td>\n",
       "      <td>M</td>\n",
       "    </tr>\n",
       "    <tr>\n",
       "      <th>4</th>\n",
       "      <td>2023</td>\n",
       "      <td>SE</td>\n",
       "      <td>FT</td>\n",
       "      <td>Data Scientist</td>\n",
       "      <td>120000</td>\n",
       "      <td>USD</td>\n",
       "      <td>120000</td>\n",
       "      <td>CA</td>\n",
       "      <td>100</td>\n",
       "      <td>CA</td>\n",
       "      <td>M</td>\n",
       "    </tr>\n",
       "    <tr>\n",
       "      <th>5</th>\n",
       "      <td>2023</td>\n",
       "      <td>SE</td>\n",
       "      <td>FT</td>\n",
       "      <td>Applied Scientist</td>\n",
       "      <td>222200</td>\n",
       "      <td>USD</td>\n",
       "      <td>222200</td>\n",
       "      <td>US</td>\n",
       "      <td>0</td>\n",
       "      <td>US</td>\n",
       "      <td>L</td>\n",
       "    </tr>\n",
       "    <tr>\n",
       "      <th>6</th>\n",
       "      <td>2023</td>\n",
       "      <td>SE</td>\n",
       "      <td>FT</td>\n",
       "      <td>Applied Scientist</td>\n",
       "      <td>136000</td>\n",
       "      <td>USD</td>\n",
       "      <td>136000</td>\n",
       "      <td>US</td>\n",
       "      <td>0</td>\n",
       "      <td>US</td>\n",
       "      <td>L</td>\n",
       "    </tr>\n",
       "    <tr>\n",
       "      <th>7</th>\n",
       "      <td>2023</td>\n",
       "      <td>SE</td>\n",
       "      <td>FT</td>\n",
       "      <td>Data Scientist</td>\n",
       "      <td>219000</td>\n",
       "      <td>USD</td>\n",
       "      <td>219000</td>\n",
       "      <td>CA</td>\n",
       "      <td>0</td>\n",
       "      <td>CA</td>\n",
       "      <td>M</td>\n",
       "    </tr>\n",
       "    <tr>\n",
       "      <th>8</th>\n",
       "      <td>2023</td>\n",
       "      <td>SE</td>\n",
       "      <td>FT</td>\n",
       "      <td>Data Scientist</td>\n",
       "      <td>141000</td>\n",
       "      <td>USD</td>\n",
       "      <td>141000</td>\n",
       "      <td>CA</td>\n",
       "      <td>0</td>\n",
       "      <td>CA</td>\n",
       "      <td>M</td>\n",
       "    </tr>\n",
       "    <tr>\n",
       "      <th>9</th>\n",
       "      <td>2023</td>\n",
       "      <td>SE</td>\n",
       "      <td>FT</td>\n",
       "      <td>Data Scientist</td>\n",
       "      <td>147100</td>\n",
       "      <td>USD</td>\n",
       "      <td>147100</td>\n",
       "      <td>US</td>\n",
       "      <td>0</td>\n",
       "      <td>US</td>\n",
       "      <td>M</td>\n",
       "    </tr>\n",
       "    <tr>\n",
       "      <th>10</th>\n",
       "      <td>2023</td>\n",
       "      <td>SE</td>\n",
       "      <td>FT</td>\n",
       "      <td>Data Scientist</td>\n",
       "      <td>90700</td>\n",
       "      <td>USD</td>\n",
       "      <td>90700</td>\n",
       "      <td>US</td>\n",
       "      <td>0</td>\n",
       "      <td>US</td>\n",
       "      <td>M</td>\n",
       "    </tr>\n",
       "    <tr>\n",
       "      <th>11</th>\n",
       "      <td>2023</td>\n",
       "      <td>SE</td>\n",
       "      <td>FT</td>\n",
       "      <td>Data Analyst</td>\n",
       "      <td>130000</td>\n",
       "      <td>USD</td>\n",
       "      <td>130000</td>\n",
       "      <td>US</td>\n",
       "      <td>100</td>\n",
       "      <td>US</td>\n",
       "      <td>M</td>\n",
       "    </tr>\n",
       "    <tr>\n",
       "      <th>12</th>\n",
       "      <td>2023</td>\n",
       "      <td>SE</td>\n",
       "      <td>FT</td>\n",
       "      <td>Data Analyst</td>\n",
       "      <td>100000</td>\n",
       "      <td>USD</td>\n",
       "      <td>100000</td>\n",
       "      <td>US</td>\n",
       "      <td>100</td>\n",
       "      <td>US</td>\n",
       "      <td>M</td>\n",
       "    </tr>\n",
       "    <tr>\n",
       "      <th>13</th>\n",
       "      <td>2023</td>\n",
       "      <td>EN</td>\n",
       "      <td>FT</td>\n",
       "      <td>Applied Scientist</td>\n",
       "      <td>213660</td>\n",
       "      <td>USD</td>\n",
       "      <td>213660</td>\n",
       "      <td>US</td>\n",
       "      <td>0</td>\n",
       "      <td>US</td>\n",
       "      <td>L</td>\n",
       "    </tr>\n",
       "    <tr>\n",
       "      <th>14</th>\n",
       "      <td>2023</td>\n",
       "      <td>EN</td>\n",
       "      <td>FT</td>\n",
       "      <td>Applied Scientist</td>\n",
       "      <td>130760</td>\n",
       "      <td>USD</td>\n",
       "      <td>130760</td>\n",
       "      <td>US</td>\n",
       "      <td>0</td>\n",
       "      <td>US</td>\n",
       "      <td>L</td>\n",
       "    </tr>\n",
       "  </tbody>\n",
       "</table>\n",
       "</div>"
      ],
      "text/plain": [
       "    work_year experience_level employment_type                 job_title  \\\n",
       "0        2023               SE              FT  Principal Data Scientist   \n",
       "1        2023               MI              CT               ML Engineer   \n",
       "2        2023               MI              CT               ML Engineer   \n",
       "3        2023               SE              FT            Data Scientist   \n",
       "4        2023               SE              FT            Data Scientist   \n",
       "5        2023               SE              FT         Applied Scientist   \n",
       "6        2023               SE              FT         Applied Scientist   \n",
       "7        2023               SE              FT            Data Scientist   \n",
       "8        2023               SE              FT            Data Scientist   \n",
       "9        2023               SE              FT            Data Scientist   \n",
       "10       2023               SE              FT            Data Scientist   \n",
       "11       2023               SE              FT              Data Analyst   \n",
       "12       2023               SE              FT              Data Analyst   \n",
       "13       2023               EN              FT         Applied Scientist   \n",
       "14       2023               EN              FT         Applied Scientist   \n",
       "\n",
       "    salary salary_currency  salary_in_usd employee_residence  remote_ratio  \\\n",
       "0    80000             EUR          85847                 ES           100   \n",
       "1    30000             USD          30000                 US           100   \n",
       "2    25500             USD          25500                 US           100   \n",
       "3   175000             USD         175000                 CA           100   \n",
       "4   120000             USD         120000                 CA           100   \n",
       "5   222200             USD         222200                 US             0   \n",
       "6   136000             USD         136000                 US             0   \n",
       "7   219000             USD         219000                 CA             0   \n",
       "8   141000             USD         141000                 CA             0   \n",
       "9   147100             USD         147100                 US             0   \n",
       "10   90700             USD          90700                 US             0   \n",
       "11  130000             USD         130000                 US           100   \n",
       "12  100000             USD         100000                 US           100   \n",
       "13  213660             USD         213660                 US             0   \n",
       "14  130760             USD         130760                 US             0   \n",
       "\n",
       "   company_location company_size  \n",
       "0                ES            L  \n",
       "1                US            S  \n",
       "2                US            S  \n",
       "3                CA            M  \n",
       "4                CA            M  \n",
       "5                US            L  \n",
       "6                US            L  \n",
       "7                CA            M  \n",
       "8                CA            M  \n",
       "9                US            M  \n",
       "10               US            M  \n",
       "11               US            M  \n",
       "12               US            M  \n",
       "13               US            L  \n",
       "14               US            L  "
      ]
     },
     "execution_count": 6,
     "metadata": {},
     "output_type": "execute_result"
    }
   ],
   "source": [
    "df.head(15)"
   ]
  },
  {
   "attachments": {},
   "cell_type": "markdown",
   "metadata": {},
   "source": [
    "¿Cuántas entradas (filas) y variables (columnas) tiene el conjunto de datos?"
   ]
  },
  {
   "cell_type": "code",
   "execution_count": 7,
   "metadata": {},
   "outputs": [
    {
     "data": {
      "text/plain": [
       "(3755, 11)"
      ]
     },
     "execution_count": 7,
     "metadata": {},
     "output_type": "execute_result"
    }
   ],
   "source": [
    "df.shape"
   ]
  },
  {
   "attachments": {},
   "cell_type": "markdown",
   "metadata": {},
   "source": [
    "¿Qué tipos de datos contiene cada columna? "
   ]
  },
  {
   "cell_type": "code",
   "execution_count": 8,
   "metadata": {},
   "outputs": [
    {
     "data": {
      "text/plain": [
       "work_year              int64\n",
       "experience_level      object\n",
       "employment_type       object\n",
       "job_title             object\n",
       "salary                 int64\n",
       "salary_currency       object\n",
       "salary_in_usd          int64\n",
       "employee_residence    object\n",
       "remote_ratio           int64\n",
       "company_location      object\n",
       "company_size          object\n",
       "dtype: object"
      ]
     },
     "execution_count": 8,
     "metadata": {},
     "output_type": "execute_result"
    }
   ],
   "source": [
    "df.dtypes"
   ]
  },
  {
   "attachments": {},
   "cell_type": "markdown",
   "metadata": {},
   "source": [
    "¿Existen valores faltantes en el conjunto de datos? "
   ]
  },
  {
   "cell_type": "code",
   "execution_count": 10,
   "metadata": {},
   "outputs": [
    {
     "data": {
      "text/plain": [
       "work_year             0\n",
       "experience_level      0\n",
       "employment_type       0\n",
       "job_title             0\n",
       "salary                0\n",
       "salary_currency       0\n",
       "salary_in_usd         0\n",
       "employee_residence    0\n",
       "remote_ratio          0\n",
       "company_location      0\n",
       "company_size          0\n",
       "dtype: int64"
      ]
     },
     "execution_count": 10,
     "metadata": {},
     "output_type": "execute_result"
    }
   ],
   "source": [
    "df.isnull().sum()"
   ]
  },
  {
   "attachments": {},
   "cell_type": "markdown",
   "metadata": {},
   "source": [
    "#### ¿Cúal es la distribución que presentan las variables de nuestro dataset?"
   ]
  },
  {
   "cell_type": "code",
   "execution_count": 11,
   "metadata": {},
   "outputs": [
    {
     "data": {
      "text/plain": [
       "Index(['work_year', 'experience_level', 'employment_type', 'job_title',\n",
       "       'salary', 'salary_currency', 'salary_in_usd', 'employee_residence',\n",
       "       'remote_ratio', 'company_location', 'company_size'],\n",
       "      dtype='object')"
      ]
     },
     "execution_count": 11,
     "metadata": {},
     "output_type": "execute_result"
    }
   ],
   "source": [
    "df.columns"
   ]
  },
  {
   "cell_type": "code",
   "execution_count": null,
   "metadata": {},
   "outputs": [],
   "source": [
    "#sacamos los nombres de las columnas numericas y categoricas\n",
    "def tipo_columnas(df):\n",
    "    cat = []\n",
    "    num = []\n",
    "    for columna in df.columns:\n",
    "        if df[columna].dtype == 'object':\n",
    "            cat.append(columna)\n",
    "        else:\n",
    "            num.append(columna)\n",
    "    return cat, num\n",
    "cat, num = tipo_columnas(df)\n",
    "print('Las columnas categoricas son:', cat)\n",
    "print('Las columnas numericas son:', num)"
   ]
  },
  {
   "cell_type": "code",
   "execution_count": null,
   "metadata": {},
   "outputs": [],
   "source": [
    "#Estadística de nuestras columnas numéricas\n",
    "df.describe()"
   ]
  },
  {
   "attachments": {},
   "cell_type": "markdown",
   "metadata": {},
   "source": [
    "#### Crea una gráfica para visualizar nuestras variables numéricas:"
   ]
  },
  {
   "cell_type": "code",
   "execution_count": null,
   "metadata": {},
   "outputs": [],
   "source": [
    "fig, axes = plt.subplots(nrows=1, ncols=4, figsize=(24,6))\n",
    "cols = ['work_year', 'salary', 'salary_in_usd', 'remote_ratio']\n",
    "\n",
    "for i, col in enumerate(cols):\n",
    "    sns.histplot(data=df, x=col, kde=True, ax=axes[i])\n",
    "    axes[i].set_title(f\"Distribución de {col}\")\n",
    "    \n",
    "plt.tight_layout()\n",
    "plt.show()"
   ]
  },
  {
   "attachments": {},
   "cell_type": "markdown",
   "metadata": {},
   "source": [
    "#### Crea una gráfica para visualizar nuestras variables categóricas:"
   ]
  },
  {
   "cell_type": "code",
   "execution_count": null,
   "metadata": {},
   "outputs": [],
   "source": [
    "fig, axes = plt.subplots(nrows=3, ncols=3, figsize=(24,12))\n",
    "cols = ['experience_level', 'employment_type', 'job_title', 'salary_currency', 'employee_residence', 'company_location', 'company_size']\n",
    "\n",
    "for i, column in enumerate(cols):\n",
    "    row = i // 3\n",
    "    col = i % 3\n",
    "    sns.countplot(data=df, x=column, ax=axes[row, col])\n",
    "    axes[row, col].set_title(f\"Distribución de {column}\")\n",
    "    axes[row, col].tick_params(axis='x', rotation=90)\n",
    "    \n",
    "plt.tight_layout()\n",
    "plt.show()"
   ]
  },
  {
   "attachments": {},
   "cell_type": "markdown",
   "metadata": {},
   "source": [
    "#### Identifica los outliers de nuestro dataset de forma gráfica: "
   ]
  },
  {
   "cell_type": "code",
   "execution_count": null,
   "metadata": {},
   "outputs": [],
   "source": [
    "#con esta función identificamos los valores atípicos con un grafico de caja\n",
    "def indentificar_atipicos(dataframe):\n",
    "    #seleccionamos las columnas numéricas\n",
    "    numeric_cols = dataframe.select_dtypes(include=np.number).columns\n",
    "    \n",
    "    #creamos los subplots\n",
    "    ncols = 4\n",
    "    nrows = math.ceil(len(numeric_cols) / ncols)\n",
    "    fig, axes = plt.subplots(nrows=nrows, ncols=ncols, figsize=(20, 5*nrows))\n",
    "    \n",
    "    #si el df tiene menos de 4 columnas, convertimos axes en una lista, en vez de una lista de listas\n",
    "    if nrows == 1 or ncols == 1:\n",
    "        axes = [axes]\n",
    "        \n",
    "    for i, col in enumerate(numeric_cols):\n",
    "        row = i // ncols\n",
    "        col_idx = i % ncols\n",
    "        #comprobamos si la columna tiene más de un valor único para evitar errores\n",
    "        if len(dataframe[col].unique()) > 1:\n",
    "            sns.boxplot(x=dataframe[col], data=dataframe, ax=axes[row][col_idx])\n",
    "            axes[row][col_idx].set_title(f\"Gráfico: {col}\", color='DarkBlue')\n",
    "        else:\n",
    "            print(f\"La columna {col} tiene un solo valor único y no se puede graficar\")\n",
    "    plt.tight_layout()\n",
    "    plt.show()\n",
    "    \n",
    "indentificar_atipicos(df)"
   ]
  },
  {
   "cell_type": "code",
   "execution_count": null,
   "metadata": {},
   "outputs": [],
   "source": [
    "#Identificamos los atipicos con plotly\n",
    "for col in num:\n",
    "    fig = px.box(df, y=col)\n",
    "    fig.show()  "
   ]
  },
  {
   "attachments": {},
   "cell_type": "markdown",
   "metadata": {},
   "source": [
    "Mas adelante veremos como tratar el tema de los outliers o profundizar por ejemplo en los valores repetidos y sus posibles causas, en este ejercicio damos por hecho que los valores repetidos no son un error de generación de nuestro dataset y que los outliers encontrados son reales, por lo tanto lejos de eliminarlos, nos sirven para realizar mejores análisis de datos sobre nuestras variables en cuestión."
   ]
  },
  {
   "attachments": {},
   "cell_type": "markdown",
   "metadata": {},
   "source": [
    "### Segundo paso, la visualización y el análisis de datos de forma gráfica y atractiva:"
   ]
  },
  {
   "attachments": {},
   "cell_type": "markdown",
   "metadata": {},
   "source": [
    "Una vez que hemos limpiado y preparado nuestros datos, estamos listos para comenzar a explorarlos y visualizarlos. Si no se nos ha proporcionado un objetivo específico para nuestro análisis, es muy útil formular preguntas sobre nuestros datos. Estas preguntas guiarán nuestras visualizaciones y análisis, y nos ayudarán a descubrir patrones, tendencias e información valiosa."
   ]
  },
  {
   "attachments": {},
   "cell_type": "markdown",
   "metadata": {},
   "source": [
    "#### Preguntas a resolver usando las librerías de creaciones gráficas vistas en clase: "
   ]
  },
  {
   "attachments": {},
   "cell_type": "markdown",
   "metadata": {},
   "source": [
    "¿Cuál es el salario promedio por nivel de experiencia?"
   ]
  },
  {
   "cell_type": "code",
   "execution_count": 29,
   "metadata": {},
   "outputs": [
    {
     "name": "stderr",
     "output_type": "stream",
     "text": [
      "C:\\Users\\leo21\\AppData\\Local\\Temp\\ipykernel_23472\\1583035113.py:6: FutureWarning:\n",
      "\n",
      "\n",
      "\n",
      "Passing `palette` without assigning `hue` is deprecated and will be removed in v0.14.0. Assign the `x` variable to `hue` and set `legend=False` for the same effect.\n",
      "\n",
      "\n",
      "C:\\Users\\leo21\\AppData\\Local\\Temp\\ipykernel_23472\\1583035113.py:7: UserWarning:\n",
      "\n",
      "set_ticklabels() should only be used with a fixed number of ticks, i.e. after set_ticks() or using a FixedLocator.\n",
      "\n"
     ]
    },
    {
     "data": {
      "image/png": "[encoded data removed]",
      "text/plain": [
       "<Figure size 1000x650 with 1 Axes>"
      ]
     },
     "metadata": {},
     "output_type": "display_data"
    }
   ],
   "source": [
    "#La función representa la relación entre dos dimensiones de nuestro df\n",
    "def strip_plot(dataframe, column1:str, column2:str):\n",
    "    sns.set(style=\"whitegrid\")\n",
    "    plt.figure(figsize=(10,6.5))\n",
    "    \n",
    "    graph = sns.stripplot(x=column1, y=column2, data=dataframe, size=5, orient=\"vertical\", jitter=True, palette=\"rocket\")\n",
    "    graph.set_xticklabels(graph.get_xticklabels(),rotation=90)\n",
    "    #usando \".set\" podemos incluir un titulo en nuestra gráfica\n",
    "    graph.set(\n",
    "        ylabel = 'Salary in USD',\n",
    "        title = 'Salary by Position',\n",
    "        xlabel = 'Experience'\n",
    "    )\n",
    "    plt.show()\n",
    "strip_plot(df,'experience_level', 'salary_in_usd')"
   ]
  },
  {
   "cell_type": "code",
   "execution_count": 31,
   "metadata": {},
   "outputs": [
    {
     "data": {
      "application/vnd.plotly.v1+json": {
       "config": {
        "plotlyServerURL": "https://plot.ly"
       },
       "data": [
        {
         "alignmentgroup": "True",
         "boxpoints": "all",
         "fillcolor": "rgba(255,255,255,0)",
         "hoveron": "points",
         "hovertemplate": "job_title=Principal Data Scientist<br>experience_level=%{x}<br>salary_in_usd=%{y}<extra></extra>",
         "legendgroup": "Principal Data Scientist",
         "line": {
          "color": "rgba(255,255,255,0)"
         },
         "marker": {
          "color": "#636efa"
         },
         "name": "Principal Data Scientist",
         "offsetgroup": "Principal Data Scientist",
         "orientation": "v",
         "pointpos": 0,
         "showlegend": true,
         "type": "box",
         "x": [
          "SE",
          "SE",
          "SE",
          "EX",
          "SE",
          "SE",
          "SE",
          "MI"
         ],
         "x0": " ",
         "xaxis": "x",
         "y": [
          85847,
          220000,
          155499,
          416000,
          173762,
          148261,
          235000,
          151000
         ],
         "y0": " ",
         "yaxis": "y"
        },
        {
         "alignmentgroup": "True",
         "boxpoints": "all",
         "fillcolor": "rgba(255,255,255,0)",
         "hoveron": "points",
         "hovertemplate": "job_title=ML Engineer<br>experience_level=%{x}<br>salary_in_usd=%{y}<extra></extra>",
         "legendgroup": "ML Engineer",
         "line": {
          "color": "rgba(255,255,255,0)"
         },
         "marker": {
          "color": "#EF553B"
         },
         "name": "ML Engineer",
         "offsetgroup": "ML Engineer",
         "orientation": "v",
         "pointpos": 0,
         "showlegend": true,
         "type": "box",
         "x": [
          "MI",
          "MI",
          "MI",
          "MI",
          "SE",
          "SE",
          "SE",
          "SE",
          "SE",
          "SE",
          "SE",
          "SE",
          "SE",
          "SE",
          "SE",
          "SE",
          "SE",
          "SE",
          "MI",
          "MI",
          "MI",
          "MI",
          "SE",
          "SE",
          "SE",
          "SE",
          "SE",
          "SE",
          "MI",
          "MI",
          "EN",
          "MI",
          "EN",
          "SE"
         ],
         "x0": " ",
         "xaxis": "x",
         "y": [
          30000,
          25500,
          160000,
          147000,
          260000,
          110000,
          220000,
          150000,
          200000,
          135000,
          234100,
          203500,
          289076,
          202353,
          235000,
          185000,
          243000,
          183000,
          180000,
          100000,
          148500,
          98200,
          195400,
          131300,
          130000,
          84000,
          240000,
          160000,
          77364,
          63711,
          21013,
          270000,
          15966,
          256000
         ],
         "y0": " ",
         "yaxis": "y"
        },
        {
         "alignmentgroup": "True",
         "boxpoints": "all",
         "fillcolor": "rgba(255,255,255,0)",
         "hoveron": "points",
         "hovertemplate": "job_title=Data Scientist<br>experience_level=%{x}<br>salary_in_usd=%{y}<extra></extra>",
         "legendgroup": "Data Scientist",
         "line": {
          "color": "rgba(255,255,255,0)"
         },
         "marker": {
          "color": "#00cc96"
         },
         "name": "Data Scientist",
         "offsetgroup": "Data Scientist",
         "orientation": "v",
         "pointpos": 0,
         "showlegend": true,
         "type": "box",
         "x": [
          "SE",
          "SE",
          "SE",
          "SE",
          "SE",
          "SE",
          "SE",
          "SE",
          "SE",
          "SE",
          "SE",
          "SE",
          "SE",
          "SE",
          "SE",
          "SE",
          "EX",
          "EX",
          "SE",
          "SE",
          "SE",
          "SE",
          "MI",
          "SE",
          "SE",
          "SE",
          "SE",
          "SE",
          "SE",
          "SE",
          "SE",
          "SE",
          "SE",
          "MI",
          "MI",
          "SE",
          "SE",
          "SE",
          "SE",
          "SE",
          "SE",
          "SE",
          "SE",
          "SE",
          "SE",
          "SE",
          "SE",
          "SE",
          "SE",
          "SE",
          "SE",
          "SE",
          "SE",
          "SE",
          "SE",
          "SE",
          "SE",
          "SE",
          "SE",
          "SE",
          "SE",
          "SE",
          "SE",
          "SE",
          "SE",
          "SE",
          "SE",
          "SE",
          "SE",
          "SE",
          "EN",
          "EN",
          "EN",
          "MI",
          "MI",
          "SE",
          "SE",
          "SE",
          "SE",
          "SE",
          "SE",
          "SE",
          "SE",
          "SE",
          "SE",
          "MI",
          "MI",
          "EX",
          "EX",
          "SE",
          "SE",
          "SE",
          "SE",
          "SE",
          "SE",
          "SE",
          "SE",
          "SE",
          "SE",
          "SE",
          "SE",
          "SE",
          "SE",
          "SE",
          "SE",
          "SE",
          "SE",
          "SE",
          "SE",
          "SE",
          "SE",
          "SE",
          "SE",
          "SE",
          "SE",
          "SE",
          "SE",
          "SE",
          "SE",
          "SE",
          "SE",
          "SE",
          "SE",
          "SE",
          "SE",
          "EX",
          "EX",
          "MI",
          "MI",
          "SE",
          "SE",
          "MI",
          "MI",
          "EN",
          "EN",
          "MI",
          "MI",
          "MI",
          "MI",
          "EN",
          "MI",
          "MI",
          "SE",
          "SE",
          "SE",
          "SE",
          "SE",
          "SE",
          "SE",
          "SE",
          "SE",
          "SE",
          "SE",
          "SE",
          "SE",
          "SE",
          "SE",
          "SE",
          "MI",
          "MI",
          "SE",
          "SE",
          "MI",
          "MI",
          "EX",
          "EX",
          "SE",
          "SE",
          "SE",
          "SE",
          "MI",
          "SE",
          "SE",
          "MI",
          "MI",
          "SE",
          "SE",
          "MI",
          "MI",
          "SE",
          "SE",
          "MI",
          "MI",
          "SE",
          "SE",
          "SE",
          "SE",
          "MI",
          "SE",
          "SE",
          "MI",
          "MI",
          "SE",
          "SE",
          "MI",
          "MI",
          "SE",
          "SE",
          "SE",
          "SE",
          "SE",
          "SE",
          "SE",
          "SE",
          "SE",
          "SE",
          "SE",
          "SE",
          "SE",
          "SE",
          "SE",
          "SE",
          "SE",
          "SE",
          "MI",
          "SE",
          "SE",
          "SE",
          "SE",
          "SE",
          "SE",
          "EN",
          "SE",
          "SE",
          "SE",
          "SE",
          "SE",
          "SE",
          "SE",
          "SE",
          "SE",
          "SE",
          "SE",
          "SE",
          "EN",
          "SE",
          "SE",
          "SE",
          "SE",
          "SE",
          "SE",
          "SE",
          "SE",
          "EN",
          "EN",
          "MI",
          "MI",
          "SE",
          "SE",
          "SE",
          "SE",
          "SE",
          "SE",
          "SE",
          "SE",
          "SE",
          "SE",
          "SE",
          "SE",
          "EN",
          "MI",
          "MI",
          "EN",
          "SE",
          "SE",
          "SE",
          "SE",
          "EN",
          "SE",
          "SE",
          "SE",
          "SE",
          "SE",
          "SE",
          "SE",
          "SE",
          "SE",
          "SE",
          "SE",
          "SE",
          "SE",
          "SE",
          "SE",
          "SE",
          "MI",
          "SE",
          "SE",
          "SE",
          "SE",
          "SE",
          "SE",
          "SE",
          "EN",
          "EN",
          "SE",
          "SE",
          "SE",
          "SE",
          "SE",
          "SE",
          "EN",
          "SE",
          "SE",
          "SE",
          "SE",
          "SE",
          "SE",
          "SE",
          "SE",
          "SE",
          "SE",
          "SE",
          "SE",
          "MI",
          "SE",
          "SE",
          "SE",
          "SE",
          "MI",
          "MI",
          "SE",
          "SE",
          "SE",
          "SE",
          "MI",
          "SE",
          "SE",
          "EX",
          "EX",
          "MI",
          "SE",
          "SE",
          "SE",
          "SE",
          "SE",
          "SE",
          "SE",
          "SE",
          "SE",
          "SE",
          "EN",
          "SE",
          "SE",
          "SE",
          "SE",
          "SE",
          "SE",
          "SE",
          "SE",
          "SE",
          "SE",
          "SE",
          "SE",
          "MI",
          "MI",
          "SE",
          "SE",
          "SE",
          "SE",
          "SE",
          "EN",
          "SE",
          "SE",
          "SE",
          "SE",
          "MI",
          "MI",
          "SE",
          "SE",
          "SE",
          "SE",
          "SE",
          "SE",
          "SE",
          "SE",
          "SE",
          "SE",
          "EN",
          "MI",
          "MI",
          "MI",
          "SE",
          "SE",
          "MI",
          "MI",
          "SE",
          "SE",
          "SE",
          "SE",
          "MI",
          "MI",
          "SE",
          "SE",
          "SE",
          "SE",
          "MI",
          "MI",
          "SE",
          "SE",
          "MI",
          "MI",
          "MI",
          "MI",
          "MI",
          "SE",
          "SE",
          "SE",
          "SE",
          "SE",
          "SE",
          "SE",
          "SE",
          "SE",
          "SE",
          "SE",
          "SE",
          "SE",
          "SE",
          "EX",
          "EX",
          "EN",
          "EN",
          "SE",
          "SE",
          "SE",
          "SE",
          "SE",
          "SE",
          "SE",
          "SE",
          "MI",
          "MI",
          "MI",
          "MI",
          "SE",
          "SE",
          "SE",
          "SE",
          "MI",
          "SE",
          "SE",
          "SE",
          "SE",
          "SE",
          "SE",
          "SE",
          "SE",
          "MI",
          "MI",
          "MI",
          "MI",
          "SE",
          "SE",
          "MI",
          "MI",
          "SE",
          "SE",
          "SE",
          "SE",
          "SE",
          "SE",
          "SE",
          "SE",
          "SE",
          "SE",
          "SE",
          "SE",
          "SE",
          "SE",
          "SE",
          "SE",
          "EN",
          "SE",
          "SE",
          "SE",
          "SE",
          "SE",
          "SE",
          "SE",
          "SE",
          "SE",
          "SE",
          "EN",
          "SE",
          "SE",
          "SE",
          "SE",
          "SE",
          "SE",
          "SE",
          "SE",
          "SE",
          "SE",
          "SE",
          "SE",
          "SE",
          "SE",
          "SE",
          "SE",
          "MI",
          "MI",
          "MI",
          "MI",
          "SE",
          "SE",
          "SE",
          "SE",
          "SE",
          "SE",
          "SE",
          "SE",
          "SE",
          "SE",
          "MI",
          "EN",
          "SE",
          "SE",
          "SE",
          "SE",
          "SE",
          "SE",
          "EN",
          "EN",
          "SE",
          "SE",
          "SE",
          "SE",
          "SE",
          "SE",
          "MI",
          "MI",
          "MI",
          "EN",
          "EN",
          "EN",
          "SE",
          "SE",
          "SE",
          "SE",
          "SE",
          "SE",
          "SE",
          "SE",
          "SE",
          "SE",
          "SE",
          "SE",
          "SE",
          "SE",
          "SE",
          "SE",
          "SE",
          "SE",
          "SE",
          "SE",
          "SE",
          "SE",
          "SE",
          "SE",
          "SE",
          "SE",
          "SE",
          "SE",
          "SE",
          "SE",
          "SE",
          "SE",
          "SE",
          "SE",
          "MI",
          "MI",
          "MI",
          "MI",
          "SE",
          "SE",
          "MI",
          "SE",
          "SE",
          "MI",
          "SE",
          "SE",
          "SE",
          "SE",
          "SE",
          "SE",
          "SE",
          "SE",
          "SE",
          "SE",
          "SE",
          "SE",
          "SE",
          "SE",
          "SE",
          "SE",
          "SE",
          "SE",
          "SE",
          "SE",
          "SE",
          "SE",
          "SE",
          "SE",
          "SE",
          "SE",
          "SE",
          "SE",
          "SE",
          "SE",
          "MI",
          "EN",
          "SE",
          "SE",
          "SE",
          "SE",
          "EN",
          "EN",
          "SE",
          "SE",
          "SE",
          "SE",
          "SE",
          "SE",
          "SE",
          "SE",
          "MI",
          "EN",
          "SE",
          "SE",
          "SE",
          "SE",
          "SE",
          "SE",
          "SE",
          "SE",
          "SE",
          "SE",
          "SE",
          "SE",
          "SE",
          "SE",
          "SE",
          "SE",
          "SE",
          "SE",
          "SE",
          "SE",
          "EN",
          "SE",
          "SE",
          "MI",
          "MI",
          "SE",
          "SE",
          "SE",
          "SE",
          "SE",
          "SE",
          "SE",
          "SE",
          "SE",
          "SE",
          "SE",
          "SE",
          "MI",
          "MI",
          "MI",
          "EN",
          "EN",
          "SE",
          "SE",
          "SE",
          "SE",
          "MI",
          "MI",
          "SE",
          "SE",
          "SE",
          "SE",
          "EN",
          "SE",
          "SE",
          "MI",
          "MI",
          "EN",
          "SE",
          "SE",
          "MI",
          "MI",
          "SE",
          "SE",
          "SE",
          "SE",
          "MI",
          "MI",
          "SE",
          "SE",
          "SE",
          "SE",
          "EN",
          "SE",
          "SE",
          "SE",
          "SE",
          "SE",
          "SE",
          "SE",
          "SE",
          "MI",
          "MI",
          "SE",
          "SE",
          "MI",
          "MI",
          "SE",
          "SE",
          "SE",
          "SE",
          "MI",
          "MI",
          "SE",
          "SE",
          "SE",
          "SE",
          "SE",
          "SE",
          "SE",
          "SE",
          "SE",
          "SE",
          "SE",
          "SE",
          "SE",
          "SE",
          "SE",
          "SE",
          "SE",
          "SE",
          "MI",
          "MI",
          "SE",
          "SE",
          "MI",
          "MI",
          "SE",
          "SE",
          "SE",
          "SE",
          "SE",
          "SE",
          "SE",
          "SE",
          "SE",
          "SE",
          "SE",
          "SE",
          "MI",
          "MI",
          "MI",
          "MI",
          "SE",
          "SE",
          "MI",
          "EN",
          "MI",
          "MI",
          "EN",
          "MI",
          "EN",
          "EN",
          "SE",
          "SE",
          "MI",
          "MI",
          "EN",
          "MI",
          "MI",
          "MI",
          "EN",
          "EN",
          "MI",
          "EN",
          "MI",
          "SE",
          "EN",
          "MI",
          "MI",
          "MI",
          "MI",
          "SE",
          "MI",
          "EN",
          "MI",
          "EN",
          "EN",
          "EN",
          "SE",
          "SE",
          "MI",
          "SE",
          "EN",
          "EN",
          "SE",
          "MI",
          "MI",
          "MI",
          "SE",
          "MI",
          "EN",
          "MI",
          "EN",
          "MI",
          "MI",
          "MI",
          "MI",
          "MI",
          "MI",
          "MI",
          "MI",
          "MI",
          "MI",
          "MI",
          "MI",
          "EN",
          "MI",
          "EN",
          "SE",
          "SE",
          "MI",
          "MI",
          "MI",
          "SE",
          "MI",
          "MI",
          "MI",
          "MI",
          "MI",
          "MI",
          "SE",
          "EN"
         ],
         "x0": " ",
         "xaxis": "x",
         "y": [
          175000,
          120000,
          219000,
          141000,
          147100,
          90700,
          170000,
          150000,
          212750,
          185000,
          262000,
          245000,
          275300,
          183500,
          218500,
          199098,
          258750,
          185000,
          172500,
          110500,
          237000,
          201450,
          65062,
          48289,
          38631,
          105000,
          70000,
          150000,
          120000,
          138784,
          83270,
          195000,
          160000,
          66837,
          54685,
          228000,
          186000,
          190000,
          170000,
          224000,
          176000,
          250000,
          162500,
          203500,
          152000,
          239000,
          122900,
          237000,
          145000,
          88256,
          175000,
          145000,
          48289,
          38631,
          195000,
          160000,
          170000,
          135000,
          175000,
          145000,
          199000,
          162000,
          175000,
          100000,
          245000,
          180000,
          210000,
          155000,
          165000,
          140000,
          51753,
          130001,
          71907,
          93918,
          51962,
          203000,
          133200,
          185900,
          129300,
          238000,
          156000,
          140000,
          110000,
          157750,
          104650,
          180000,
          140000,
          200000,
          145000,
          48289,
          38631,
          252000,
          154000,
          191765,
          134236,
          175000,
          145000,
          237000,
          145000,
          200000,
          170000,
          171250,
          113750,
          258000,
          190000,
          170000,
          135000,
          195000,
          160000,
          297300,
          198200,
          200000,
          170000,
          317070,
          170730,
          225000,
          175000,
          275300,
          183000,
          185900,
          129300,
          173000,
          132000,
          275300,
          183500,
          145000,
          100000,
          96578,
          80481,
          275300,
          183500,
          78990,
          51039,
          190000,
          120000,
          85066,
          51039,
          109371,
          72914,
          121093,
          73546,
          60093,
          201036,
          134024,
          172000,
          115000,
          237000,
          145000,
          258000,
          190000,
          239748,
          159832,
          186300,
          102500,
          190000,
          126000,
          175000,
          120000,
          145000,
          100000,
          210000,
          160000,
          145000,
          100000,
          200000,
          145000,
          205000,
          140000,
          297300,
          198200,
          17022,
          105000,
          70000,
          59020,
          48289,
          239748,
          159832,
          128750,
          106250,
          210550,
          153300,
          200000,
          150000,
          175000,
          148750,
          186300,
          123900,
          64385,
          149076,
          82365,
          150000,
          97750,
          201000,
          122000,
          116990,
          82920,
          185900,
          129300,
          201000,
          122000,
          190000,
          136000,
          275300,
          183000,
          175000,
          160000,
          225000,
          156400,
          260000,
          186000,
          48289,
          38631,
          150000,
          120000,
          40000,
          136000,
          104000,
          185900,
          129300,
          149076,
          82365,
          168000,
          147100,
          90700,
          300240,
          200160,
          300240,
          200160,
          370000,
          245000,
          126500,
          78000,
          155000,
          139500,
          19522,
          225000,
          156400,
          185900,
          129300,
          215050,
          156400,
          209300,
          182200,
          85000,
          9727,
          170000,
          120000,
          145000,
          135000,
          170000,
          90000,
          149076,
          82365,
          175000,
          148750,
          235000,
          185000,
          216100,
          140800,
          110000,
          151410,
          115360,
          12767,
          250000,
          162500,
          185000,
          120250,
          180000,
          225000,
          156400,
          225000,
          156400,
          165000,
          144000,
          105000,
          70000,
          183000,
          134000,
          225000,
          156400,
          228000,
          152000,
          209450,
          158677,
          155000,
          63312,
          237000,
          145000,
          240000,
          139000,
          285800,
          154600,
          124234,
          74540,
          275300,
          183500,
          275300,
          183500,
          150000,
          120000,
          12888,
          136000,
          104000,
          110000,
          84000,
          190000,
          165000,
          225000,
          156400,
          257000,
          134000,
          77262,
          38631,
          53654,
          237000,
          145000,
          130000,
          90000,
          183310,
          183310,
          210000,
          185000,
          220000,
          146000,
          24740,
          182000,
          140000,
          300000,
          200000,
          110000,
          136000,
          104000,
          168000,
          130000,
          153400,
          122700,
          185000,
          160000,
          205000,
          185000,
          50000,
          223800,
          172100,
          180000,
          150000,
          168400,
          105200,
          297300,
          198200,
          110000,
          84000,
          185900,
          129300,
          187500,
          165000,
          135000,
          115000,
          170000,
          140000,
          54094,
          100000,
          272550,
          198200,
          182000,
          140000,
          120000,
          105000,
          143100,
          113000,
          140000,
          120000,
          180560,
          115440,
          140000,
          120000,
          120000,
          110000,
          130000,
          13989,
          130000,
          90000,
          150000,
          140000,
          150000,
          127500,
          126500,
          51000,
          272550,
          198200,
          94560,
          52533,
          220000,
          146000,
          140000,
          120000,
          150000,
          110000,
          190000,
          155000,
          92350,
          67723,
          145000,
          100000,
          31795,
          190000,
          150000,
          47280,
          37824,
          175000,
          140000,
          249500,
          149850,
          210000,
          150000,
          182750,
          161500,
          136000,
          104000,
          159000,
          130000,
          124234,
          74540,
          47280,
          37824,
          128000,
          81500,
          173000,
          110000,
          165000,
          125000,
          180000,
          120000,
          63040,
          52533,
          130000,
          95000,
          203500,
          152000,
          120000,
          185900,
          129300,
          47280,
          37824,
          140000,
          120000,
          110000,
          70000,
          64090,
          60938,
          130000,
          90000,
          140000,
          120000,
          180000,
          120000,
          185900,
          129300,
          175000,
          145000,
          47280,
          37824,
          198800,
          122600,
          148000,
          107000,
          168000,
          130000,
          136000,
          104000,
          185900,
          129300,
          80000,
          208000,
          127000,
          47280,
          37824,
          205000,
          185000,
          185900,
          129300,
          185900,
          129300,
          17684,
          225000,
          156400,
          185900,
          129300,
          140700,
          93800,
          350000,
          135000,
          247500,
          172200,
          177500,
          134000,
          185900,
          129300,
          243900,
          156600,
          120000,
          100000,
          85000,
          78000,
          136000,
          104000,
          47280,
          37824,
          245000,
          180000,
          198440,
          144000,
          198440,
          144000,
          57872,
          39925,
          159699,
          138938,
          180000,
          140000,
          225000,
          156400,
          180000,
          100000,
          175000,
          122500,
          202800,
          104300,
          185900,
          129300,
          30000,
          84000,
          54000,
          80000,
          73742,
          33246,
          185900,
          129300,
          225000,
          156400,
          185900,
          129300,
          155000,
          38000,
          155000,
          38000,
          153600,
          106800,
          185000,
          50000,
          155000,
          38000,
          168000,
          130000,
          123400,
          88100,
          120000,
          55000,
          185900,
          129300,
          185900,
          129300,
          225000,
          156400,
          200000,
          175000,
          185000,
          50000,
          47280,
          37824,
          144200,
          115360,
          83171,
          108000,
          198440,
          144000,
          75648,
          198440,
          144000,
          10000,
          215000,
          159000,
          236900,
          159200,
          148000,
          128000,
          191475,
          141525,
          218000,
          145300,
          191475,
          141525,
          207000,
          153000,
          191475,
          141525,
          191475,
          141525,
          191475,
          141525,
          191475,
          141525,
          207000,
          153000,
          191475,
          141525,
          191475,
          141525,
          191475,
          141525,
          102200,
          22892,
          180000,
          165000,
          179400,
          154000,
          93000,
          73000,
          136994,
          101570,
          191475,
          141525,
          172000,
          140000,
          191475,
          141525,
          73546,
          50000,
          151800,
          130240,
          179400,
          154000,
          191475,
          141525,
          191475,
          141525,
          191475,
          141525,
          191475,
          141525,
          191475,
          141525,
          191475,
          141525,
          191475,
          141525,
          191475,
          141525,
          31520,
          204100,
          136100,
          118208,
          110820,
          191475,
          141525,
          191475,
          141525,
          191475,
          141525,
          170000,
          130000,
          175000,
          140000,
          160000,
          119300,
          225000,
          160000,
          54634,
          82000,
          110000,
          203500,
          152000,
          170000,
          120000,
          115573,
          89306,
          123400,
          88100,
          245000,
          205000,
          84053,
          180000,
          140000,
          53416,
          131752,
          52008,
          160000,
          100000,
          60938,
          80036,
          160000,
          92000,
          160000,
          119300,
          25000,
          153000,
          160000,
          92000,
          186000,
          148800,
          49268,
          215300,
          158200,
          170000,
          123000,
          215300,
          140400,
          260000,
          180000,
          67723,
          43096,
          180000,
          80000,
          61566,
          36940,
          165220,
          120160,
          180000,
          120000,
          130000,
          90000,
          136620,
          99360,
          110820,
          98506,
          146000,
          123000,
          167000,
          123000,
          211500,
          138600,
          150000,
          95550,
          205300,
          140400,
          176000,
          144000,
          205300,
          140400,
          141300,
          102100,
          230000,
          150000,
          160000,
          130000,
          210000,
          140000,
          210000,
          140000,
          210000,
          140000,
          210000,
          140000,
          230000,
          140000,
          220000,
          140000,
          172386,
          86193,
          200000,
          120000,
          185100,
          104890,
          30523,
          17805,
          109000,
          67597,
          51081,
          78000,
          40000,
          83171,
          165000,
          100000,
          33609,
          135000,
          80000,
          120402,
          48000,
          100000,
          100000,
          100000,
          82500,
          49646,
          9466,
          68428,
          13400,
          75774,
          150000,
          50000,
          45760,
          53192,
          76958,
          29751,
          105000,
          28399,
          90000,
          36643,
          165000,
          103691,
          79833,
          20171,
          58000,
          100000,
          77684,
          25532,
          16904,
          35735,
          135000,
          147000,
          51321,
          40481,
          39916,
          90734,
          5679,
          40038,
          61467,
          37825,
          56256,
          33808,
          116914,
          88654,
          160000,
          12901,
          42197,
          62726,
          90734,
          21669,
          120000,
          87738,
          130000,
          38776,
          46809,
          91237,
          62726,
          115000,
          73000,
          118000,
          138350,
          119059,
          412000,
          105000
         ],
         "y0": " ",
         "yaxis": "y"
        },
        {
         "alignmentgroup": "True",
         "boxpoints": "all",
         "fillcolor": "rgba(255,255,255,0)",
         "hoveron": "points",
         "hovertemplate": "job_title=Applied Scientist<br>experience_level=%{x}<br>salary_in_usd=%{y}<extra></extra>",
         "legendgroup": "Applied Scientist",
         "line": {
          "color": "rgba(255,255,255,0)"
         },
         "marker": {
          "color": "#ab63fa"
         },
         "name": "Applied Scientist",
         "offsetgroup": "Applied Scientist",
         "orientation": "v",
         "pointpos": 0,
         "showlegend": true,
         "type": "box",
         "x": [
          "SE",
          "SE",
          "EN",
          "EN",
          "EN",
          "EN",
          "SE",
          "SE",
          "SE",
          "SE",
          "SE",
          "SE",
          "SE",
          "SE",
          "SE",
          "SE",
          "SE",
          "SE",
          "SE",
          "SE",
          "EN",
          "EN",
          "SE",
          "SE",
          "SE",
          "SE",
          "SE",
          "SE",
          "SE",
          "SE",
          "SE",
          "SE",
          "SE",
          "SE",
          "SE",
          "SE",
          "SE",
          "SE",
          "SE",
          "SE",
          "SE",
          "SE",
          "SE",
          "SE",
          "SE",
          "SE",
          "SE",
          "SE",
          "SE",
          "SE",
          "SE",
          "SE",
          "SE",
          "SE",
          "SE",
          "SE",
          "SE",
          "SE"
         ],
         "x0": " ",
         "xaxis": "x",
         "y": [
          222200,
          136000,
          213660,
          130760,
          204620,
          110680,
          309400,
          159100,
          309400,
          159100,
          222200,
          136000,
          260000,
          136000,
          260000,
          136000,
          205000,
          184000,
          222200,
          136000,
          213660,
          130760,
          222200,
          136000,
          260000,
          136000,
          205000,
          184000,
          222200,
          136000,
          205000,
          180000,
          350000,
          262500,
          230000,
          196000,
          126100,
          72000,
          184000,
          142000,
          184000,
          142000,
          192000,
          164000,
          230000,
          196000,
          205000,
          184000,
          205000,
          184000,
          230000,
          196000,
          205000,
          184000,
          191475,
          141525,
          212800,
          142800
         ],
         "y0": " ",
         "yaxis": "y"
        },
        {
         "alignmentgroup": "True",
         "boxpoints": "all",
         "fillcolor": "rgba(255,255,255,0)",
         "hoveron": "points",
         "hovertemplate": "job_title=Data Analyst<br>experience_level=%{x}<br>salary_in_usd=%{y}<extra></extra>",
         "legendgroup": "Data Analyst",
         "line": {
          "color": "rgba(255,255,255,0)"
         },
         "marker": {
          "color": "#FFA15A"
         },
         "name": "Data Analyst",
         "offsetgroup": "Data Analyst",
         "orientation": "v",
         "pointpos": 0,
         "showlegend": true,
         "type": "box",
         "x": [
          "SE",
          "SE",
          "MI",
          "MI",
          "MI",
          "MI",
          "SE",
          "SE",
          "SE",
          "SE",
          "EN",
          "EN",
          "SE",
          "SE",
          "MI",
          "MI",
          "SE",
          "SE",
          "SE",
          "SE",
          "EN",
          "EN",
          "SE",
          "SE",
          "SE",
          "SE",
          "SE",
          "SE",
          "SE",
          "SE",
          "SE",
          "SE",
          "SE",
          "SE",
          "SE",
          "SE",
          "SE",
          "SE",
          "SE",
          "SE",
          "SE",
          "SE",
          "EN",
          "SE",
          "SE",
          "SE",
          "SE",
          "MI",
          "MI",
          "SE",
          "SE",
          "SE",
          "SE",
          "SE",
          "SE",
          "SE",
          "SE",
          "EN",
          "EN",
          "SE",
          "SE",
          "SE",
          "SE",
          "MI",
          "MI",
          "MI",
          "MI",
          "SE",
          "SE",
          "SE",
          "SE",
          "SE",
          "SE",
          "SE",
          "SE",
          "SE",
          "SE",
          "SE",
          "SE",
          "SE",
          "SE",
          "MI",
          "MI",
          "SE",
          "SE",
          "SE",
          "SE",
          "MI",
          "MI",
          "EN",
          "EN",
          "MI",
          "MI",
          "SE",
          "SE",
          "SE",
          "SE",
          "SE",
          "SE",
          "SE",
          "SE",
          "EN",
          "EN",
          "SE",
          "SE",
          "MI",
          "MI",
          "SE",
          "SE",
          "MI",
          "MI",
          "MI",
          "MI",
          "SE",
          "SE",
          "SE",
          "SE",
          "MI",
          "MI",
          "SE",
          "SE",
          "EN",
          "EN",
          "SE",
          "SE",
          "SE",
          "SE",
          "MI",
          "MI",
          "SE",
          "SE",
          "SE",
          "SE",
          "SE",
          "SE",
          "SE",
          "SE",
          "SE",
          "SE",
          "EN",
          "SE",
          "SE",
          "EN",
          "EN",
          "MI",
          "MI",
          "SE",
          "SE",
          "SE",
          "SE",
          "SE",
          "SE",
          "MI",
          "MI",
          "SE",
          "SE",
          "EN",
          "EN",
          "SE",
          "SE",
          "SE",
          "SE",
          "EN",
          "EN",
          "SE",
          "SE",
          "SE",
          "SE",
          "SE",
          "SE",
          "SE",
          "SE",
          "SE",
          "SE",
          "SE",
          "SE",
          "SE",
          "SE",
          "SE",
          "SE",
          "SE",
          "SE",
          "SE",
          "SE",
          "SE",
          "SE",
          "SE",
          "SE",
          "SE",
          "SE",
          "SE",
          "SE",
          "SE",
          "SE",
          "SE",
          "EN",
          "EN",
          "SE",
          "SE",
          "MI",
          "MI",
          "SE",
          "SE",
          "MI",
          "MI",
          "EN",
          "SE",
          "SE",
          "SE",
          "SE",
          "EN",
          "EN",
          "SE",
          "SE",
          "SE",
          "SE",
          "EN",
          "EN",
          "SE",
          "SE",
          "EN",
          "EN",
          "SE",
          "SE",
          "MI",
          "MI",
          "SE",
          "SE",
          "MI",
          "MI",
          "MI",
          "MI",
          "EN",
          "EN",
          "EN",
          "SE",
          "SE",
          "MI",
          "MI",
          "SE",
          "SE",
          "SE",
          "SE",
          "SE",
          "SE",
          "MI",
          "MI",
          "MI",
          "MI",
          "SE",
          "SE",
          "MI",
          "MI",
          "SE",
          "SE",
          "SE",
          "SE",
          "SE",
          "SE",
          "MI",
          "MI",
          "SE",
          "SE",
          "SE",
          "SE",
          "EN",
          "MI",
          "MI",
          "MI",
          "MI",
          "SE",
          "SE",
          "SE",
          "SE",
          "MI",
          "MI",
          "MI",
          "MI",
          "MI",
          "MI",
          "SE",
          "SE",
          "SE",
          "SE",
          "MI",
          "MI",
          "SE",
          "SE",
          "MI",
          "MI",
          "MI",
          "MI",
          "MI",
          "MI",
          "MI",
          "MI",
          "MI",
          "MI",
          "SE",
          "SE",
          "EN",
          "SE",
          "SE",
          "SE",
          "SE",
          "SE",
          "SE",
          "MI",
          "MI",
          "MI",
          "MI",
          "MI",
          "MI",
          "MI",
          "SE",
          "SE",
          "MI",
          "MI",
          "SE",
          "SE",
          "MI",
          "MI",
          "SE",
          "SE",
          "EN",
          "EN",
          "SE",
          "SE",
          "MI",
          "MI",
          "SE",
          "SE",
          "SE",
          "SE",
          "MI",
          "MI",
          "SE",
          "SE",
          "SE",
          "SE",
          "MI",
          "MI",
          "EN",
          "SE",
          "SE",
          "MI",
          "MI",
          "MI",
          "EN",
          "MI",
          "MI",
          "SE",
          "SE",
          "SE",
          "SE",
          "SE",
          "SE",
          "SE",
          "SE",
          "SE",
          "SE",
          "SE",
          "SE",
          "MI",
          "MI",
          "MI",
          "MI",
          "SE",
          "SE",
          "SE",
          "SE",
          "SE",
          "SE",
          "SE",
          "SE",
          "SE",
          "SE",
          "SE",
          "SE",
          "MI",
          "MI",
          "MI",
          "MI",
          "MI",
          "MI",
          "SE",
          "SE",
          "MI",
          "SE",
          "SE",
          "MI",
          "MI",
          "MI",
          "MI",
          "MI",
          "MI",
          "SE",
          "SE",
          "SE",
          "SE",
          "MI",
          "MI",
          "SE",
          "SE",
          "SE",
          "SE",
          "SE",
          "SE",
          "SE",
          "SE",
          "SE",
          "SE",
          "SE",
          "SE",
          "MI",
          "MI",
          "MI",
          "MI",
          "MI",
          "MI",
          "SE",
          "SE",
          "SE",
          "SE",
          "MI",
          "MI",
          "SE",
          "SE",
          "EN",
          "SE",
          "SE",
          "SE",
          "SE",
          "SE",
          "SE",
          "SE",
          "SE",
          "SE",
          "SE",
          "EN",
          "MI",
          "MI",
          "SE",
          "SE",
          "SE",
          "SE",
          "SE",
          "SE",
          "SE",
          "SE",
          "SE",
          "SE",
          "MI",
          "MI",
          "SE",
          "SE",
          "SE",
          "SE",
          "SE",
          "SE",
          "MI",
          "MI",
          "SE",
          "SE",
          "SE",
          "SE",
          "SE",
          "EN",
          "EN",
          "SE",
          "SE",
          "SE",
          "SE",
          "SE",
          "SE",
          "SE",
          "SE",
          "EN",
          "MI",
          "MI",
          "MI",
          "EN",
          "SE",
          "EN",
          "MI",
          "SE",
          "SE",
          "SE",
          "SE",
          "SE",
          "SE",
          "SE",
          "SE",
          "SE",
          "MI",
          "EN",
          "MI",
          "MI",
          "EN",
          "EN",
          "MI",
          "EN",
          "SE",
          "SE",
          "SE",
          "SE",
          "SE",
          "SE",
          "MI",
          "SE",
          "SE",
          "EN",
          "EN",
          "SE",
          "SE",
          "SE",
          "SE",
          "SE",
          "SE",
          "SE",
          "SE",
          "SE",
          "SE",
          "MI",
          "MI",
          "MI",
          "MI",
          "MI",
          "MI",
          "MI",
          "MI",
          "SE",
          "SE",
          "MI",
          "MI",
          "SE",
          "SE",
          "SE",
          "SE",
          "SE",
          "SE",
          "EX",
          "EX",
          "SE",
          "SE",
          "SE",
          "SE",
          "SE",
          "SE",
          "MI",
          "MI",
          "SE",
          "SE",
          "SE",
          "SE",
          "SE",
          "SE",
          "SE",
          "SE",
          "SE",
          "SE",
          "MI",
          "MI",
          "SE",
          "SE",
          "MI",
          "MI",
          "SE",
          "SE",
          "SE",
          "SE",
          "EN",
          "EN",
          "SE",
          "SE",
          "SE",
          "SE",
          "SE",
          "SE",
          "SE",
          "SE",
          "SE",
          "SE",
          "SE",
          "SE",
          "MI",
          "MI",
          "MI",
          "MI",
          "MI",
          "EN",
          "EN",
          "MI",
          "EN",
          "EN",
          "EN",
          "SE",
          "EN",
          "EN",
          "MI",
          "MI",
          "EN",
          "EN",
          "MI",
          "SE",
          "EN",
          "SE",
          "SE",
          "MI",
          "MI",
          "MI",
          "MI"
         ],
         "x0": " ",
         "xaxis": "x",
         "y": [
          130000,
          100000,
          150000,
          110000,
          105380,
          64500,
          202800,
          104300,
          145000,
          65000,
          75000,
          70000,
          204500,
          138900,
          46178,
          42533,
          168400,
          105200,
          54685,
          42533,
          85000,
          75000,
          120000,
          75000,
          140000,
          120000,
          135000,
          105500,
          80000,
          70000,
          200000,
          148500,
          149500,
          127075,
          187000,
          128000,
          142000,
          75000,
          125000,
          112000,
          139000,
          106000,
          40663,
          140000,
          120000,
          175000,
          135000,
          90000,
          75000,
          155000,
          106000,
          105000,
          90000,
          135000,
          105500,
          80000,
          70000,
          64200,
          56100,
          208450,
          170550,
          153600,
          100500,
          182500,
          121500,
          72914,
          54685,
          100000,
          80000,
          175000,
          145000,
          148700,
          125600,
          185000,
          120250,
          208049,
          128500,
          190000,
          95000,
          153600,
          106800,
          128000,
          85000,
          135000,
          105500,
          100000,
          80000,
          154000,
          143000,
          85000,
          75000,
          83500,
          52500,
          165000,
          140000,
          180180,
          106020,
          153600,
          100500,
          206500,
          121600,
          95000,
          70000,
          115934,
          81666,
          206000,
          130000,
          110000,
          75000,
          160000,
          112000,
          100000,
          85000,
          185000,
          120250,
          70000,
          55000,
          75000,
          65000,
          180180,
          106020,
          75000,
          60000,
          169000,
          110600,
          250000,
          138000,
          130000,
          100000,
          127000,
          94000,
          161500,
          119500,
          175000,
          145000,
          185900,
          121700,
          153600,
          106800,
          100000,
          125000,
          110000,
          150000,
          100000,
          97218,
          48609,
          95000,
          85500,
          185900,
          121700,
          120000,
          75000,
          78990,
          43809,
          180000,
          110000,
          85000,
          75000,
          145000,
          90000,
          95000,
          85500,
          30000,
          34320,
          175000,
          130000,
          122000,
          93800,
          165000,
          112000,
          15806,
          185900,
          121700,
          180180,
          106020,
          125000,
          110000,
          152380,
          121904,
          170500,
          85000,
          179975,
          86466,
          169000,
          110600,
          230000,
          180000,
          153600,
          106800,
          165000,
          125000,
          95000,
          85500,
          110000,
          80000,
          55000,
          48000,
          95000,
          85000,
          80000,
          60000,
          142000,
          95000,
          109371,
          72914,
          17779,
          120000,
          75000,
          169000,
          110600,
          75000,
          60000,
          227000,
          108000,
          55800,
          51508,
          60000,
          50000,
          80000,
          52500,
          85000,
          75000,
          153600,
          106800,
          165000,
          124000,
          115934,
          81666,
          125000,
          105000,
          109371,
          85066,
          55000,
          48000,
          100000,
          385000,
          60000,
          110000,
          95000,
          180180,
          106020,
          93919,
          51962,
          192500,
          140000,
          60761,
          54685,
          130000,
          100000,
          153600,
          106800,
          150000,
          100000,
          180180,
          106020,
          122000,
          94000,
          175000,
          145000,
          103200,
          61200,
          130000,
          87000,
          160000,
          108000,
          30000,
          206000,
          160000,
          109000,
          79000,
          160000,
          125600,
          141290,
          74178,
          80000,
          52500,
          90000,
          80000,
          150000,
          100000,
          51508,
          40777,
          51508,
          40777,
          120000,
          100000,
          145000,
          102500,
          135000,
          105500,
          78990,
          43809,
          116000,
          72000,
          120000,
          80000,
          150000,
          100000,
          240500,
          137500,
          25216,
          125000,
          85000,
          130000,
          80000,
          155000,
          64000,
          14307,
          150000,
          100000,
          150000,
          100000,
          150000,
          100000,
          149000,
          119000,
          75000,
          60000,
          120000,
          95000,
          150000,
          100000,
          115934,
          81666,
          55000,
          48000,
          127000,
          104000,
          102640,
          66100,
          150000,
          100000,
          115934,
          81666,
          430967,
          55410,
          50432,
          39925,
          169000,
          110600,
          75000,
          60000,
          50000,
          166700,
          119000,
          100000,
          65000,
          16904,
          50000,
          150000,
          100000,
          115934,
          81666,
          120000,
          95000,
          201000,
          89200,
          192500,
          140000,
          65000,
          55000,
          115000,
          171000,
          150000,
          100000,
          165000,
          124000,
          169000,
          110600,
          116000,
          96000,
          92350,
          70186,
          105000,
          70000,
          100000,
          70000,
          130000,
          100000,
          160000,
          109000,
          206000,
          160000,
          150000,
          100000,
          169000,
          110600,
          80000,
          130000,
          100000,
          165000,
          124000,
          150000,
          100000,
          100000,
          65000,
          177000,
          131000,
          169000,
          110600,
          150000,
          100000,
          110000,
          95000,
          169000,
          110600,
          115934,
          81666,
          154560,
          123648,
          130000,
          100000,
          130000,
          105000,
          206000,
          160000,
          109000,
          79000,
          160000,
          109000,
          127000,
          110000,
          169000,
          110600,
          150000,
          100000,
          120000,
          95000,
          64000,
          150000,
          127000,
          166700,
          119000,
          130000,
          100000,
          80000,
          52500,
          135000,
          100000,
          125404,
          80000,
          52500,
          50432,
          36773,
          150000,
          95000,
          175950,
          130050,
          236600,
          89200,
          169000,
          110600,
          85000,
          65000,
          169000,
          110600,
          139600,
          85700,
          115000,
          95000,
          105000,
          62000,
          115934,
          81666,
          50432,
          36773,
          90000,
          42028,
          20000,
          99750,
          68400,
          110000,
          99000,
          50432,
          36773,
          144000,
          113000,
          7799,
          136000,
          112000,
          97500,
          6359,
          115000,
          46000,
          113000,
          50000,
          216200,
          144100,
          117000,
          99450,
          86193,
          61566,
          175000,
          130000,
          5723,
          50000,
          216200,
          144100,
          150000,
          55000,
          130000,
          28368,
          128875,
          93700,
          136260,
          109280,
          117000,
          99450,
          65257,
          150075,
          110925,
          22809,
          15000,
          112900,
          90320,
          112900,
          90320,
          115934,
          81666,
          164000,
          132000,
          128875,
          93700,
          49253,
          36940,
          42026,
          31520,
          42026,
          31520,
          58000,
          58000,
          124190,
          90320,
          126500,
          106260,
          116000,
          99000,
          155000,
          120600,
          102100,
          84900,
          130000,
          110000,
          170000,
          135000,
          130000,
          61300,
          130000,
          61300,
          167000,
          115500,
          112900,
          90320,
          112900,
          90320,
          136600,
          109280,
          116150,
          99050,
          112900,
          90320,
          85000,
          75000,
          115934,
          81666,
          61566,
          43096,
          80000,
          60000,
          170000,
          150000,
          67000,
          52000,
          129000,
          99000,
          100000,
          69000,
          150075,
          110925,
          126500,
          106260,
          105000,
          100000,
          170000,
          135000,
          135000,
          50000,
          20000,
          135000,
          90000,
          10354,
          50000,
          46759,
          90000,
          60000,
          59102,
          80000,
          10000,
          80000,
          51519,
          93000,
          6072,
          91000,
          80000,
          200000,
          72000,
          63831,
          71786,
          85000,
          8000,
          75000,
          62000
         ],
         "y0": " ",
         "yaxis": "y"
        },
        {
         "alignmentgroup": "True",
         "boxpoints": "all",
         "fillcolor": "rgba(255,255,255,0)",
         "hoveron": "points",
         "hovertemplate": "job_title=Data Modeler<br>experience_level=%{x}<br>salary_in_usd=%{y}<extra></extra>",
         "legendgroup": "Data Modeler",
         "line": {
          "color": "rgba(255,255,255,0)"
         },
         "marker": {
          "color": "#19d3f3"
         },
         "name": "Data Modeler",
         "offsetgroup": "Data Modeler",
         "orientation": "v",
         "pointpos": 0,
         "showlegend": true,
         "type": "box",
         "x": [
          "SE",
          "SE"
         ],
         "x0": " ",
         "xaxis": "x",
         "y": [
          147100,
          90700
         ],
         "y0": " ",
         "yaxis": "y"
        },
        {
         "alignmentgroup": "True",
         "boxpoints": "all",
         "fillcolor": "rgba(255,255,255,0)",
         "hoveron": "points",
         "hovertemplate": "job_title=Research Engineer<br>experience_level=%{x}<br>salary_in_usd=%{y}<extra></extra>",
         "legendgroup": "Research Engineer",
         "line": {
          "color": "rgba(255,255,255,0)"
         },
         "marker": {
          "color": "#FF6692"
         },
         "name": "Research Engineer",
         "offsetgroup": "Research Engineer",
         "orientation": "v",
         "pointpos": 0,
         "showlegend": true,
         "type": "box",
         "x": [
          "SE",
          "SE",
          "SE",
          "SE",
          "SE",
          "SE",
          "MI",
          "MI",
          "SE",
          "SE",
          "EN",
          "EN",
          "EN",
          "EN",
          "EN",
          "EN",
          "SE",
          "SE",
          "SE",
          "SE",
          "SE",
          "SE",
          "EN",
          "EN",
          "SE",
          "SE",
          "MI",
          "MI",
          "EN",
          "EN",
          "SE",
          "SE",
          "SE",
          "SE",
          "SE",
          "SE",
          "MI"
         ],
         "x0": " ",
         "xaxis": "x",
         "y": [
          275000,
          174000,
          189110,
          139000,
          203000,
          133000,
          230000,
          200000,
          293000,
          185000,
          155000,
          125000,
          155000,
          125000,
          160000,
          120000,
          200000,
          175000,
          107309,
          85847,
          230000,
          148000,
          120000,
          60000,
          155850,
          102544,
          120000,
          100000,
          160000,
          120000,
          150000,
          100000,
          249500,
          149850,
          250000,
          150000,
          240000
         ],
         "y0": " ",
         "yaxis": "y"
        },
        {
         "alignmentgroup": "True",
         "boxpoints": "all",
         "fillcolor": "rgba(255,255,255,0)",
         "hoveron": "points",
         "hovertemplate": "job_title=Analytics Engineer<br>experience_level=%{x}<br>salary_in_usd=%{y}<extra></extra>",
         "legendgroup": "Analytics Engineer",
         "line": {
          "color": "rgba(255,255,255,0)"
         },
         "marker": {
          "color": "#B6E880"
         },
         "name": "Analytics Engineer",
         "offsetgroup": "Analytics Engineer",
         "orientation": "v",
         "pointpos": 0,
         "showlegend": true,
         "type": "box",
         "x": [
          "SE",
          "SE",
          "SE",
          "SE",
          "SE",
          "SE",
          "SE",
          "SE",
          "SE",
          "SE",
          "SE",
          "SE",
          "SE",
          "SE",
          "SE",
          "SE",
          "SE",
          "SE",
          "SE",
          "SE",
          "EX",
          "EX",
          "SE",
          "SE",
          "SE",
          "SE",
          "SE",
          "SE",
          "SE",
          "SE",
          "MI",
          "MI",
          "SE",
          "SE",
          "SE",
          "SE",
          "SE",
          "SE",
          "SE",
          "SE",
          "SE",
          "SE",
          "SE",
          "SE",
          "SE",
          "SE",
          "MI",
          "MI",
          "SE",
          "SE",
          "SE",
          "SE",
          "MI",
          "MI",
          "SE",
          "SE",
          "SE",
          "SE",
          "SE",
          "SE",
          "SE",
          "SE",
          "EX",
          "EX",
          "MI",
          "MI",
          "SE",
          "SE",
          "MI",
          "MI",
          "SE",
          "SE",
          "SE",
          "SE",
          "SE",
          "SE",
          "SE",
          "SE",
          "SE",
          "SE",
          "SE",
          "SE",
          "SE",
          "SE",
          "MI",
          "SE",
          "SE",
          "SE",
          "SE",
          "SE",
          "SE",
          "EX",
          "EX",
          "SE",
          "SE",
          "SE",
          "MI",
          "MI",
          "EN",
          "EX",
          "EX",
          "SE",
          "SE"
         ],
         "x0": " ",
         "xaxis": "x",
         "y": [
          230000,
          143200,
          152500,
          116450,
          289800,
          214000,
          179820,
          143860,
          289800,
          214200,
          230000,
          143200,
          150000,
          120000,
          190000,
          112000,
          152900,
          117100,
          173000,
          113000,
          221000,
          153000,
          179820,
          143860,
          179820,
          143860,
          130000,
          87000,
          275300,
          183500,
          185700,
          165000,
          170000,
          130000,
          150000,
          120000,
          197000,
          106000,
          175000,
          140000,
          200000,
          175000,
          231250,
          138750,
          207000,
          167000,
          122500,
          100000,
          170000,
          125000,
          135000,
          110000,
          104663,
          73880,
          193750,
          116250,
          231250,
          138750,
          231250,
          138750,
          103432,
          92350,
          210000,
          157000,
          78000,
          48000,
          150000,
          120000,
          108000,
          85000,
          130000,
          110000,
          130000,
          110000,
          190000,
          140000,
          122500,
          100000,
          165000,
          140250,
          102663,
          80041,
          250000,
          63000,
          7500,
          250000,
          63000,
          245000,
          180000,
          203500,
          152000,
          200000,
          150000,
          170000,
          135000,
          48000,
          200000,
          54000,
          130000,
          175000,
          135000,
          205300,
          184700
         ],
         "y0": " ",
         "yaxis": "y"
        },
        {
         "alignmentgroup": "True",
         "boxpoints": "all",
         "fillcolor": "rgba(255,255,255,0)",
         "hoveron": "points",
         "hovertemplate": "job_title=Business Intelligence Engineer<br>experience_level=%{x}<br>salary_in_usd=%{y}<extra></extra>",
         "legendgroup": "Business Intelligence Engineer",
         "line": {
          "color": "rgba(255,255,255,0)"
         },
         "marker": {
          "color": "#FF97FF"
         },
         "name": "Business Intelligence Engineer",
         "offsetgroup": "Business Intelligence Engineer",
         "orientation": "v",
         "pointpos": 0,
         "showlegend": true,
         "type": "box",
         "x": [
          "SE",
          "SE",
          "SE",
          "SE"
         ],
         "x0": " ",
         "xaxis": "x",
         "y": [
          225000,
          156400,
          185900,
          129300
         ],
         "y0": " ",
         "yaxis": "y"
        },
        {
         "alignmentgroup": "True",
         "boxpoints": "all",
         "fillcolor": "rgba(255,255,255,0)",
         "hoveron": "points",
         "hovertemplate": "job_title=Machine Learning Engineer<br>experience_level=%{x}<br>salary_in_usd=%{y}<extra></extra>",
         "legendgroup": "Machine Learning Engineer",
         "line": {
          "color": "rgba(255,255,255,0)"
         },
         "marker": {
          "color": "#FECB52"
         },
         "name": "Machine Learning Engineer",
         "offsetgroup": "Machine Learning Engineer",
         "orientation": "v",
         "pointpos": 0,
         "showlegend": true,
         "type": "box",
         "x": [
          "SE",
          "SE",
          "MI",
          "SE",
          "MI",
          "EN",
          "EN",
          "EN",
          "SE",
          "SE",
          "SE",
          "SE",
          "SE",
          "SE",
          "SE",
          "SE",
          "MI",
          "MI",
          "SE",
          "SE",
          "MI",
          "MI",
          "SE",
          "SE",
          "SE",
          "SE",
          "SE",
          "SE",
          "SE",
          "SE",
          "SE",
          "SE",
          "SE",
          "SE",
          "SE",
          "SE",
          "SE",
          "SE",
          "MI",
          "SE",
          "SE",
          "MI",
          "MI",
          "SE",
          "SE",
          "MI",
          "MI",
          "SE",
          "SE",
          "SE",
          "SE",
          "SE",
          "SE",
          "SE",
          "SE",
          "SE",
          "SE",
          "SE",
          "SE",
          "SE",
          "SE",
          "SE",
          "SE",
          "SE",
          "SE",
          "SE",
          "SE",
          "SE",
          "SE",
          "SE",
          "SE",
          "MI",
          "MI",
          "SE",
          "SE",
          "SE",
          "SE",
          "SE",
          "SE",
          "SE",
          "SE",
          "SE",
          "SE",
          "SE",
          "SE",
          "SE",
          "SE",
          "SE",
          "SE",
          "SE",
          "SE",
          "SE",
          "SE",
          "SE",
          "SE",
          "SE",
          "SE",
          "SE",
          "SE",
          "MI",
          "MI",
          "SE",
          "SE",
          "SE",
          "SE",
          "SE",
          "SE",
          "SE",
          "SE",
          "MI",
          "SE",
          "SE",
          "SE",
          "SE",
          "SE",
          "SE",
          "SE",
          "SE",
          "MI",
          "MI",
          "MI",
          "MI",
          "MI",
          "SE",
          "SE",
          "SE",
          "SE",
          "SE",
          "SE",
          "MI",
          "SE",
          "SE",
          "SE",
          "SE",
          "MI",
          "MI",
          "SE",
          "MI",
          "SE",
          "SE",
          "SE",
          "SE",
          "MI",
          "MI",
          "SE",
          "SE",
          "MI",
          "MI",
          "MI",
          "MI",
          "MI",
          "SE",
          "SE",
          "SE",
          "SE",
          "MI",
          "MI",
          "MI",
          "MI",
          "SE",
          "SE",
          "SE",
          "SE",
          "SE",
          "SE",
          "SE",
          "SE",
          "SE",
          "SE",
          "SE",
          "SE",
          "SE",
          "SE",
          "SE",
          "SE",
          "SE",
          "SE",
          "EN",
          "SE",
          "SE",
          "MI",
          "MI",
          "MI",
          "MI",
          "SE",
          "SE",
          "EN",
          "EN",
          "SE",
          "SE",
          "EN",
          "SE",
          "SE",
          "SE",
          "SE",
          "SE",
          "SE",
          "SE",
          "SE",
          "MI",
          "MI",
          "MI",
          "SE",
          "SE",
          "MI",
          "MI",
          "SE",
          "SE",
          "SE",
          "SE",
          "SE",
          "SE",
          "EN",
          "SE",
          "SE",
          "SE",
          "SE",
          "SE",
          "SE",
          "SE",
          "SE",
          "SE",
          "SE",
          "SE",
          "MI",
          "SE",
          "SE",
          "SE",
          "SE",
          "SE",
          "SE",
          "SE",
          "SE",
          "SE",
          "SE",
          "EN",
          "SE",
          "SE",
          "SE",
          "SE",
          "EN",
          "MI",
          "MI",
          "EN",
          "SE",
          "SE",
          "SE",
          "SE",
          "EN",
          "MI",
          "MI",
          "MI",
          "SE",
          "SE",
          "EN",
          "SE",
          "SE",
          "MI",
          "SE",
          "SE",
          "SE",
          "SE",
          "SE",
          "SE",
          "MI",
          "SE",
          "MI",
          "SE",
          "EN",
          "SE",
          "EN",
          "MI",
          "EN",
          "EN",
          "SE",
          "SE",
          "SE",
          "EN",
          "SE",
          "EN",
          "SE",
          "EN",
          "EN",
          "MI",
          "MI",
          "MI",
          "SE",
          "MI",
          "SE"
         ],
         "x0": " ",
         "xaxis": "x",
         "y": [
          200000,
          130000,
          20984,
          150000,
          96578,
          163196,
          145885,
          56536,
          283200,
          188800,
          342300,
          176100,
          318300,
          212200,
          190000,
          150000,
          300000,
          250000,
          247500,
          172200,
          280700,
          150450,
          257000,
          147000,
          304000,
          199000,
          289076,
          202353,
          241000,
          181000,
          170000,
          130000,
          125000,
          100000,
          115000,
          95000,
          247500,
          172200,
          135000,
          216000,
          184000,
          130000,
          90000,
          150000,
          120000,
          250000,
          150000,
          139500,
          109400,
          195652,
          101228,
          247500,
          172200,
          163800,
          126000,
          153400,
          122700,
          153400,
          122700,
          247500,
          172200,
          139500,
          109400,
          204500,
          142200,
          163800,
          126000,
          204500,
          142200,
          204500,
          142200,
          200000,
          175000,
          204500,
          142200,
          153400,
          122700,
          247500,
          172200,
          128280,
          106900,
          275000,
          174000,
          139500,
          109400,
          163800,
          126000,
          269000,
          158000,
          323300,
          184700,
          186000,
          153088,
          200000,
          150000,
          240000,
          180000,
          200000,
          150000,
          148500,
          126277,
          139500,
          109400,
          288000,
          140000,
          288000,
          140000,
          204500,
          142200,
          48609,
          147100,
          90700,
          220000,
          170000,
          284310,
          153090,
          318300,
          188800,
          36000,
          121523,
          97218,
          145828,
          121523,
          204500,
          142200,
          163800,
          126000,
          150000,
          125000,
          110000,
          220000,
          150000,
          276000,
          184000,
          180000,
          150000,
          84053,
          50000,
          77262,
          38631,
          204500,
          142200,
          145000,
          87000,
          145000,
          135000,
          219000,
          175000,
          140000,
          109006,
          67141,
          204500,
          142200,
          204500,
          142200,
          75344,
          63192,
          58331,
          46178,
          261500,
          134500,
          210000,
          160000,
          246000,
          201000,
          204500,
          142200,
          192000,
          164000,
          145000,
          135000,
          210000,
          150000,
          246000,
          201000,
          255000,
          185000,
          12000,
          192000,
          120000,
          130000,
          90000,
          230000,
          150000,
          204500,
          142200,
          189750,
          140250,
          115573,
          73546,
          100000,
          204500,
          142200,
          204500,
          142200,
          247500,
          172200,
          204500,
          142200,
          104663,
          80036,
          104697,
          201000,
          119000,
          130000,
          90000,
          187200,
          116100,
          204500,
          142200,
          210000,
          180000,
          108000,
          210000,
          180000,
          140000,
          110000,
          210000,
          180000,
          200000,
          135000,
          195400,
          131300,
          63040,
          128058,
          186000,
          148800,
          135000,
          85000,
          189650,
          164996,
          200000,
          150000,
          193900,
          129300,
          55410,
          248700,
          167100,
          202900,
          131300,
          115000,
          193900,
          129300,
          30000,
          180000,
          100000,
          202900,
          131300,
          83000,
          116976,
          92350,
          84053,
          189650,
          164996,
          35093,
          189650,
          164996,
          51064,
          214000,
          192600,
          220000,
          120000,
          120000,
          65000,
          120000,
          68293,
          83864,
          59888,
          20000,
          82744,
          125000,
          47282,
          250000,
          138000,
          94564,
          185000,
          150000,
          85000,
          66265,
          24823,
          24342,
          21844,
          81000,
          46597,
          88654,
          24823,
          200000,
          74000,
          45618
         ],
         "y0": " ",
         "yaxis": "y"
        },
        {
         "alignmentgroup": "True",
         "boxpoints": "all",
         "fillcolor": "rgba(255,255,255,0)",
         "hoveron": "points",
         "hovertemplate": "job_title=Data Strategist<br>experience_level=%{x}<br>salary_in_usd=%{y}<extra></extra>",
         "legendgroup": "Data Strategist",
         "line": {
          "color": "rgba(255,255,255,0)"
         },
         "marker": {
          "color": "#636efa"
         },
         "name": "Data Strategist",
         "offsetgroup": "Data Strategist",
         "orientation": "v",
         "pointpos": 0,
         "showlegend": true,
         "type": "box",
         "x": [
          "SE",
          "SE"
         ],
         "x0": " ",
         "xaxis": "x",
         "y": [
          90000,
          72000
         ],
         "y0": " ",
         "yaxis": "y"
        },
        {
         "alignmentgroup": "True",
         "boxpoints": "all",
         "fillcolor": "rgba(255,255,255,0)",
         "hoveron": "points",
         "hovertemplate": "job_title=Data Engineer<br>experience_level=%{x}<br>salary_in_usd=%{y}<extra></extra>",
         "legendgroup": "Data Engineer",
         "line": {
          "color": "rgba(255,255,255,0)"
         },
         "marker": {
          "color": "#EF553B"
         },
         "name": "Data Engineer",
         "offsetgroup": "Data Engineer",
         "orientation": "v",
         "pointpos": 0,
         "showlegend": true,
         "type": "box",
         "x": [
          "SE",
          "SE",
          "MI",
          "MI",
          "SE",
          "SE",
          "SE",
          "SE",
          "SE",
          "SE",
          "SE",
          "SE",
          "SE",
          "SE",
          "SE",
          "SE",
          "SE",
          "SE",
          "SE",
          "SE",
          "SE",
          "SE",
          "SE",
          "SE",
          "SE",
          "SE",
          "SE",
          "SE",
          "SE",
          "SE",
          "SE",
          "SE",
          "SE",
          "SE",
          "SE",
          "SE",
          "MI",
          "MI",
          "EN",
          "EN",
          "SE",
          "SE",
          "MI",
          "MI",
          "SE",
          "SE",
          "MI",
          "MI",
          "SE",
          "SE",
          "SE",
          "SE",
          "SE",
          "SE",
          "SE",
          "SE",
          "EX",
          "EX",
          "MI",
          "MI",
          "SE",
          "SE",
          "EN",
          "SE",
          "SE",
          "SE",
          "SE",
          "SE",
          "SE",
          "SE",
          "SE",
          "EX",
          "EX",
          "EN",
          "EN",
          "SE",
          "SE",
          "SE",
          "SE",
          "EX",
          "EX",
          "SE",
          "SE",
          "SE",
          "SE",
          "SE",
          "SE",
          "EN",
          "EN",
          "SE",
          "SE",
          "SE",
          "SE",
          "SE",
          "SE",
          "SE",
          "SE",
          "SE",
          "SE",
          "SE",
          "SE",
          "SE",
          "SE",
          "EN",
          "EN",
          "MI",
          "MI",
          "SE",
          "SE",
          "SE",
          "SE",
          "SE",
          "SE",
          "EN",
          "EN",
          "SE",
          "SE",
          "MI",
          "MI",
          "EN",
          "EX",
          "EX",
          "SE",
          "SE",
          "SE",
          "SE",
          "SE",
          "SE",
          "SE",
          "SE",
          "SE",
          "SE",
          "SE",
          "SE",
          "SE",
          "SE",
          "SE",
          "SE",
          "MI",
          "MI",
          "SE",
          "SE",
          "MI",
          "MI",
          "MI",
          "MI",
          "SE",
          "SE",
          "SE",
          "SE",
          "EX",
          "EX",
          "SE",
          "SE",
          "MI",
          "MI",
          "SE",
          "SE",
          "EN",
          "EN",
          "EN",
          "EN",
          "EN",
          "EN",
          "SE",
          "SE",
          "MI",
          "MI",
          "SE",
          "SE",
          "MI",
          "MI",
          "SE",
          "SE",
          "SE",
          "SE",
          "SE",
          "SE",
          "SE",
          "SE",
          "SE",
          "SE",
          "SE",
          "SE",
          "EX",
          "EX",
          "SE",
          "SE",
          "MI",
          "MI",
          "SE",
          "SE",
          "EN",
          "EN",
          "SE",
          "SE",
          "MI",
          "MI",
          "MI",
          "MI",
          "SE",
          "SE",
          "EX",
          "EX",
          "SE",
          "SE",
          "SE",
          "SE",
          "SE",
          "SE",
          "MI",
          "MI",
          "SE",
          "SE",
          "SE",
          "SE",
          "SE",
          "SE",
          "SE",
          "SE",
          "EX",
          "EX",
          "SE",
          "SE",
          "SE",
          "SE",
          "EN",
          "EN",
          "MI",
          "MI",
          "MI",
          "MI",
          "MI",
          "MI",
          "EX",
          "EX",
          "MI",
          "MI",
          "SE",
          "SE",
          "MI",
          "MI",
          "SE",
          "SE",
          "MI",
          "MI",
          "SE",
          "SE",
          "SE",
          "SE",
          "MI",
          "MI",
          "SE",
          "SE",
          "SE",
          "SE",
          "SE",
          "SE",
          "MI",
          "MI",
          "MI",
          "MI",
          "SE",
          "SE",
          "SE",
          "SE",
          "SE",
          "SE",
          "SE",
          "SE",
          "SE",
          "SE",
          "EX",
          "EX",
          "MI",
          "MI",
          "SE",
          "SE",
          "SE",
          "SE",
          "SE",
          "SE",
          "SE",
          "SE",
          "SE",
          "SE",
          "SE",
          "SE",
          "SE",
          "SE",
          "SE",
          "SE",
          "SE",
          "SE",
          "SE",
          "SE",
          "SE",
          "SE",
          "SE",
          "SE",
          "MI",
          "SE",
          "SE",
          "SE",
          "SE",
          "SE",
          "SE",
          "SE",
          "SE",
          "SE",
          "SE",
          "EX",
          "EX",
          "MI",
          "MI",
          "SE",
          "SE",
          "SE",
          "SE",
          "MI",
          "MI",
          "MI",
          "MI",
          "SE",
          "SE",
          "SE",
          "SE",
          "SE",
          "SE",
          "SE",
          "SE",
          "SE",
          "SE",
          "SE",
          "SE",
          "SE",
          "SE",
          "SE",
          "SE",
          "SE",
          "SE",
          "SE",
          "SE",
          "EN",
          "SE",
          "EX",
          "EX",
          "SE",
          "SE",
          "SE",
          "SE",
          "SE",
          "SE",
          "EX",
          "EX",
          "SE",
          "SE",
          "MI",
          "MI",
          "EX",
          "EX",
          "MI",
          "MI",
          "EN",
          "SE",
          "SE",
          "SE",
          "SE",
          "SE",
          "SE",
          "MI",
          "MI",
          "SE",
          "SE",
          "EX",
          "EX",
          "SE",
          "SE",
          "SE",
          "SE",
          "SE",
          "SE",
          "SE",
          "SE",
          "SE",
          "SE",
          "EX",
          "EX",
          "EN",
          "EN",
          "EX",
          "EX",
          "SE",
          "SE",
          "SE",
          "SE",
          "SE",
          "SE",
          "SE",
          "SE",
          "SE",
          "SE",
          "SE",
          "SE",
          "SE",
          "SE",
          "SE",
          "SE",
          "SE",
          "SE",
          "SE",
          "SE",
          "SE",
          "SE",
          "MI",
          "MI",
          "SE",
          "SE",
          "SE",
          "SE",
          "MI",
          "MI",
          "SE",
          "SE",
          "SE",
          "SE",
          "SE",
          "SE",
          "SE",
          "SE",
          "MI",
          "MI",
          "SE",
          "SE",
          "EN",
          "EN",
          "MI",
          "MI",
          "SE",
          "SE",
          "SE",
          "SE",
          "SE",
          "SE",
          "SE",
          "SE",
          "MI",
          "MI",
          "SE",
          "SE",
          "SE",
          "SE",
          "SE",
          "SE",
          "EX",
          "EX",
          "MI",
          "MI",
          "MI",
          "MI",
          "SE",
          "SE",
          "SE",
          "SE",
          "SE",
          "SE",
          "SE",
          "SE",
          "SE",
          "SE",
          "SE",
          "SE",
          "SE",
          "SE",
          "SE",
          "SE",
          "MI",
          "MI",
          "SE",
          "SE",
          "SE",
          "SE",
          "EN",
          "EN",
          "SE",
          "SE",
          "SE",
          "SE",
          "SE",
          "SE",
          "SE",
          "SE",
          "SE",
          "SE",
          "SE",
          "SE",
          "SE",
          "SE",
          "EN",
          "EN",
          "SE",
          "SE",
          "SE",
          "SE",
          "SE",
          "SE",
          "SE",
          "SE",
          "SE",
          "SE",
          "SE",
          "SE",
          "MI",
          "MI",
          "SE",
          "SE",
          "MI",
          "MI",
          "MI",
          "MI",
          "EN",
          "EN",
          "SE",
          "SE",
          "EN",
          "EN",
          "MI",
          "MI",
          "MI",
          "MI",
          "SE",
          "SE",
          "SE",
          "SE",
          "SE",
          "SE",
          "SE",
          "SE",
          "SE",
          "SE",
          "EX",
          "EX",
          "MI",
          "MI",
          "SE",
          "SE",
          "EX",
          "EX",
          "SE",
          "SE",
          "SE",
          "SE",
          "MI",
          "MI",
          "MI",
          "SE",
          "SE",
          "SE",
          "SE",
          "SE",
          "SE",
          "SE",
          "SE",
          "SE",
          "SE",
          "MI",
          "MI",
          "EN",
          "EN",
          "SE",
          "SE",
          "SE",
          "SE",
          "MI",
          "MI",
          "SE",
          "SE",
          "SE",
          "SE",
          "SE",
          "SE",
          "SE",
          "SE",
          "SE",
          "SE",
          "SE",
          "SE",
          "EN",
          "EN",
          "SE",
          "SE",
          "SE",
          "SE",
          "SE",
          "SE",
          "SE",
          "SE",
          "SE",
          "SE",
          "SE",
          "SE",
          "MI",
          "MI",
          "SE",
          "SE",
          "SE",
          "SE",
          "SE",
          "SE",
          "MI",
          "MI",
          "SE",
          "SE",
          "SE",
          "SE",
          "SE",
          "SE",
          "SE",
          "SE",
          "SE",
          "SE",
          "SE",
          "SE",
          "EN",
          "EN",
          "MI",
          "MI",
          "SE",
          "SE",
          "SE",
          "SE",
          "SE",
          "SE",
          "SE",
          "SE",
          "SE",
          "SE",
          "SE",
          "SE",
          "SE",
          "SE",
          "SE",
          "SE",
          "MI",
          "MI",
          "SE",
          "SE",
          "SE",
          "SE",
          "SE",
          "SE",
          "SE",
          "SE",
          "SE",
          "SE",
          "EN",
          "EN",
          "MI",
          "MI",
          "SE",
          "SE",
          "MI",
          "MI",
          "SE",
          "SE",
          "EX",
          "EX",
          "MI",
          "MI",
          "SE",
          "SE",
          "SE",
          "SE",
          "MI",
          "MI",
          "SE",
          "SE",
          "SE",
          "SE",
          "MI",
          "MI",
          "SE",
          "SE",
          "SE",
          "SE",
          "SE",
          "SE",
          "SE",
          "SE",
          "EN",
          "EN",
          "SE",
          "SE",
          "SE",
          "SE",
          "MI",
          "MI",
          "SE",
          "SE",
          "SE",
          "SE",
          "SE",
          "SE",
          "SE",
          "SE",
          "MI",
          "MI",
          "SE",
          "SE",
          "SE",
          "SE",
          "SE",
          "SE",
          "SE",
          "SE",
          "EN",
          "EN",
          "SE",
          "SE",
          "SE",
          "SE",
          "SE",
          "SE",
          "SE",
          "SE",
          "SE",
          "SE",
          "SE",
          "SE",
          "SE",
          "SE",
          "SE",
          "SE",
          "SE",
          "SE",
          "SE",
          "SE",
          "SE",
          "SE",
          "SE",
          "SE",
          "SE",
          "SE",
          "SE",
          "SE",
          "SE",
          "SE",
          "SE",
          "SE",
          "SE",
          "SE",
          "MI",
          "MI",
          "SE",
          "SE",
          "SE",
          "SE",
          "SE",
          "SE",
          "MI",
          "SE",
          "SE",
          "MI",
          "MI",
          "SE",
          "SE",
          "SE",
          "SE",
          "SE",
          "SE",
          "SE",
          "SE",
          "SE",
          "SE",
          "SE",
          "SE",
          "SE",
          "SE",
          "SE",
          "SE",
          "SE",
          "SE",
          "SE",
          "SE",
          "SE",
          "SE",
          "SE",
          "SE",
          "SE",
          "SE",
          "EX",
          "EX",
          "SE",
          "SE",
          "SE",
          "SE",
          "SE",
          "SE",
          "SE",
          "SE",
          "SE",
          "SE",
          "SE",
          "SE",
          "MI",
          "MI",
          "SE",
          "SE",
          "SE",
          "SE",
          "SE",
          "SE",
          "SE",
          "SE",
          "SE",
          "SE",
          "MI",
          "MI",
          "MI",
          "MI",
          "EX",
          "EX",
          "SE",
          "SE",
          "SE",
          "SE",
          "SE",
          "SE",
          "SE",
          "SE",
          "SE",
          "EN",
          "SE",
          "SE",
          "SE",
          "SE",
          "MI",
          "MI",
          "MI",
          "MI",
          "MI",
          "MI",
          "SE",
          "SE",
          "EN",
          "SE",
          "SE",
          "SE",
          "SE",
          "SE",
          "SE",
          "SE",
          "SE",
          "SE",
          "SE",
          "SE",
          "SE",
          "MI",
          "MI",
          "SE",
          "SE",
          "SE",
          "SE",
          "SE",
          "SE",
          "SE",
          "SE",
          "MI",
          "MI",
          "SE",
          "SE",
          "SE",
          "SE",
          "SE",
          "SE",
          "SE",
          "SE",
          "SE",
          "SE",
          "SE",
          "SE",
          "SE",
          "SE",
          "MI",
          "MI",
          "SE",
          "SE",
          "SE",
          "SE",
          "MI",
          "MI",
          "EN",
          "EN",
          "EN",
          "EN",
          "SE",
          "SE",
          "SE",
          "SE",
          "MI",
          "MI",
          "MI",
          "MI",
          "MI",
          "SE",
          "SE",
          "SE",
          "SE",
          "SE",
          "SE",
          "SE",
          "SE",
          "SE",
          "SE",
          "MI",
          "MI",
          "MI",
          "MI",
          "MI",
          "MI",
          "MI",
          "MI",
          "MI",
          "MI",
          "MI",
          "MI",
          "MI",
          "MI",
          "MI",
          "MI",
          "SE",
          "SE",
          "EX",
          "EX",
          "MI",
          "MI",
          "SE",
          "SE",
          "SE",
          "SE",
          "MI",
          "MI",
          "EN",
          "EN",
          "SE",
          "SE",
          "SE",
          "SE",
          "SE",
          "SE",
          "SE",
          "SE",
          "SE",
          "SE",
          "SE",
          "SE",
          "SE",
          "SE",
          "SE",
          "SE",
          "SE",
          "SE",
          "SE",
          "SE",
          "SE",
          "SE",
          "SE",
          "SE",
          "MI",
          "MI",
          "SE",
          "SE",
          "SE",
          "SE",
          "SE",
          "SE",
          "SE",
          "SE",
          "EX",
          "EX",
          "SE",
          "SE",
          "SE",
          "SE",
          "MI",
          "EN",
          "SE",
          "SE",
          "EN",
          "EN",
          "SE",
          "MI",
          "EN",
          "MI",
          "MI",
          "MI",
          "MI",
          "EN",
          "MI",
          "SE",
          "MI",
          "MI",
          "MI",
          "EX",
          "SE",
          "EN",
          "SE",
          "SE",
          "MI",
          "MI",
          "SE",
          "SE",
          "MI",
          "SE",
          "MI",
          "SE",
          "SE",
          "MI",
          "MI",
          "EN",
          "SE",
          "MI",
          "EN",
          "MI",
          "MI",
          "EN",
          "MI",
          "MI",
          "MI",
          "MI",
          "EN",
          "SE",
          "MI",
          "MI",
          "SE",
          "MI",
          "SE",
          "MI",
          "MI",
          "MI"
         ],
         "x0": " ",
         "xaxis": "x",
         "y": [
          253200,
          90700,
          162500,
          130000,
          270703,
          221484,
          203300,
          123600,
          231500,
          166000,
          238000,
          176000,
          237000,
          201450,
          115000,
          81500,
          193500,
          139000,
          225000,
          175000,
          185000,
          140000,
          217000,
          185000,
          165000,
          132300,
          179170,
          94300,
          247300,
          133800,
          185900,
          129300,
          252000,
          129000,
          161800,
          141600,
          100000,
          70000,
          85000,
          65000,
          95000,
          75000,
          100000,
          70000,
          145000,
          115000,
          162500,
          130000,
          145000,
          120000,
          241000,
          155000,
          220000,
          190000,
          160000,
          140000,
          220000,
          205000,
          180000,
          130000,
          200000,
          150000,
          17022,
          128000,
          81500,
          145000,
          115000,
          185000,
          140000,
          145000,
          100000,
          145000,
          115000,
          85000,
          65000,
          220000,
          160000,
          240500,
          123700,
          175000,
          110000,
          219535,
          146115,
          179000,
          109000,
          145000,
          115000,
          85000,
          65000,
          222000,
          175000,
          221000,
          147000,
          150000,
          130000,
          240000,
          183600,
          250000,
          150000,
          145000,
          120000,
          200000,
          160000,
          85000,
          65000,
          125000,
          90000,
          146000,
          75000,
          203100,
          114500,
          252000,
          129000,
          92700,
          61800,
          160000,
          130000,
          146000,
          75000,
          59888,
          286000,
          207000,
          223250,
          178600,
          128000,
          81500,
          171250,
          113750,
          165000,
          132300,
          230000,
          124500,
          145000,
          115000,
          180000,
          165000,
          145000,
          120000,
          143865,
          115092,
          167500,
          106500,
          149600,
          102000,
          151000,
          140000,
          160000,
          145000,
          150000,
          111000,
          265000,
          235000,
          160000,
          130000,
          75000,
          60400,
          252000,
          129000,
          92700,
          61800,
          62000,
          58000,
          125000,
          90000,
          163800,
          126000,
          90000,
          90000,
          139500,
          109400,
          145000,
          120000,
          205600,
          105700,
          252000,
          129000,
          165000,
          132300,
          153600,
          106800,
          172600,
          107900,
          260000,
          225000,
          194500,
          115500,
          275000,
          160000,
          162500,
          130000,
          147100,
          90700,
          115100,
          73900,
          168400,
          105200,
          85066,
          57723,
          140000,
          95000,
          139500,
          109400,
          210914,
          116704,
          146000,
          75000,
          160000,
          130000,
          276000,
          178500,
          75116,
          48289,
          136956,
          101228,
          252000,
          129000,
          163800,
          126000,
          252000,
          129000,
          167500,
          106500,
          140000,
          120000,
          153600,
          106800,
          125000,
          90000,
          72000,
          60000,
          260000,
          175000,
          250000,
          175000,
          310000,
          239000,
          146000,
          75000,
          139500,
          109400,
          149600,
          102000,
          252000,
          129000,
          145000,
          125000,
          252000,
          129000,
          121500,
          78000,
          154000,
          116000,
          170000,
          140000,
          154000,
          116000,
          160000,
          130000,
          200000,
          120000,
          127599,
          103294,
          153600,
          106800,
          167500,
          106500,
          163800,
          126000,
          160000,
          130000,
          185900,
          129300,
          310000,
          239000,
          140000,
          100000,
          139500,
          109400,
          80000,
          65000,
          124740,
          65488,
          153600,
          106800,
          120000,
          90000,
          265000,
          185000,
          167580,
          87980,
          202000,
          135000,
          163800,
          126000,
          104000,
          65000,
          290000,
          210000,
          192000,
          172800,
          115447,
          137500,
          81500,
          144000,
          66000,
          180000,
          160000,
          259000,
          146000,
          200000,
          160000,
          310000,
          239000,
          140000,
          120000,
          259000,
          146000,
          139500,
          109400,
          125000,
          90000,
          120000,
          90000,
          230000,
          170000,
          180000,
          160000,
          180000,
          130000,
          226700,
          133300,
          252000,
          129000,
          250000,
          162500,
          167580,
          87980,
          250000,
          63000,
          124740,
          65488,
          213580,
          163625,
          12000,
          101943,
          235000,
          210000,
          160000,
          75000,
          250000,
          162500,
          241871,
          133832,
          210914,
          116704,
          128000,
          81500,
          66837,
          63192,
          284000,
          236000,
          66531,
          59020,
          26827,
          226700,
          133300,
          163800,
          126000,
          145000,
          115000,
          162500,
          130000,
          150000,
          107000,
          175000,
          110000,
          226700,
          133300,
          252000,
          129000,
          252000,
          129000,
          265000,
          182750,
          137500,
          81500,
          200000,
          145000,
          160000,
          135000,
          310000,
          239000,
          240000,
          170000,
          165000,
          107250,
          300000,
          119000,
          153000,
          94000,
          240500,
          123700,
          160000,
          90000,
          170000,
          120000,
          225000,
          140000,
          85000,
          75000,
          220000,
          160000,
          205600,
          107500,
          120000,
          95000,
          185900,
          129300,
          160000,
          130000,
          250000,
          175000,
          130000,
          75000,
          252000,
          129000,
          226700,
          133300,
          170000,
          150000,
          150000,
          130000,
          205600,
          105700,
          160000,
          135000,
          120000,
          95000,
          250000,
          63000,
          300000,
          130000,
          122000,
          94000,
          252000,
          129000,
          120000,
          95000,
          232200,
          167200,
          170000,
          114000,
          291500,
          180000,
          196200,
          150900,
          95000,
          80000,
          105000,
          70000,
          133800,
          96100,
          202000,
          135000,
          160000,
          110000,
          170000,
          150000,
          175308,
          100706,
          310000,
          229000,
          69751,
          37558,
          226700,
          133300,
          120000,
          100000,
          231250,
          138750,
          199000,
          162000,
          160000,
          135000,
          200000,
          160000,
          187500,
          175000,
          291500,
          180000,
          161800,
          141600,
          166000,
          128000,
          160000,
          75000,
          236000,
          182000,
          160000,
          135000,
          175000,
          155000,
          153600,
          106800,
          170000,
          130000,
          145000,
          100000,
          175000,
          120000,
          145000,
          115000,
          260000,
          175000,
          250000,
          63000,
          150000,
          150000,
          120000,
          95000,
          160000,
          135000,
          216000,
          144000,
          85000,
          65000,
          130000,
          115000,
          105000,
          70000,
          185900,
          129300,
          130000,
          75000,
          167500,
          106500,
          175000,
          120000,
          175000,
          120000,
          200000,
          145000,
          92350,
          73880,
          145000,
          100000,
          310000,
          239000,
          100000,
          78000,
          73546,
          36773,
          160000,
          120000,
          35610,
          120000,
          95000,
          120000,
          95000,
          190000,
          120000,
          210000,
          130000,
          198800,
          122600,
          130000,
          80000,
          160000,
          135000,
          216000,
          144000,
          215000,
          150000,
          187000,
          153000,
          220000,
          146000,
          68293,
          36773,
          120000,
          95000,
          194000,
          129400,
          153600,
          106800,
          216000,
          144000,
          160000,
          135000,
          152500,
          130000,
          178750,
          160000,
          105000,
          70000,
          197430,
          134760,
          197000,
          99000,
          220000,
          162000,
          110446,
          79178,
          100000,
          78000,
          120000,
          95000,
          230000,
          154600,
          160000,
          75000,
          213000,
          152000,
          175000,
          150000,
          178000,
          132000,
          300000,
          130000,
          194000,
          129400,
          135000,
          120000,
          160000,
          135000,
          120000,
          95000,
          68293,
          42026,
          191200,
          130000,
          191200,
          130000,
          230000,
          154600,
          120000,
          95000,
          185900,
          129300,
          205000,
          150000,
          179500,
          134000,
          160000,
          90000,
          68293,
          36773,
          145000,
          115000,
          168400,
          105200,
          200000,
          160000,
          125000,
          110000,
          160000,
          135000,
          120000,
          95000,
          153600,
          106800,
          120000,
          95000,
          63040,
          36773,
          310000,
          239000,
          161000,
          118000,
          146000,
          102000,
          135000,
          100000,
          80000,
          65000,
          135000,
          100000,
          61566,
          43096,
          175000,
          135000,
          231250,
          138750,
          231250,
          138750,
          193750,
          116250,
          185900,
          129300,
          160000,
          135000,
          191200,
          130000,
          175000,
          150000,
          170000,
          145000,
          135000,
          100000,
          179305,
          142127,
          315000,
          225000,
          182500,
          128500,
          160000,
          90000,
          170000,
          140000,
          247500,
          172200,
          225000,
          184100,
          161000,
          110000,
          61566,
          49253,
          160000,
          130000,
          135000,
          100000,
          220000,
          150000,
          240000,
          170000,
          275000,
          166000,
          236000,
          182000,
          300000,
          130000,
          195000,
          175000,
          155000,
          110000,
          170000,
          150000,
          97000,
          90000,
          200000,
          160000,
          260000,
          180000,
          171000,
          117000,
          197000,
          99000,
          160000,
          110000,
          170000,
          130000,
          78000,
          42000,
          145000,
          115000,
          205600,
          105700,
          185900,
          129300,
          75050,
          225000,
          184100,
          110820,
          92350,
          185900,
          129300,
          191200,
          130000,
          185000,
          50000,
          185900,
          129300,
          185900,
          129300,
          73546,
          42026,
          170000,
          150000,
          188700,
          160395,
          300000,
          225000,
          200000,
          180000,
          165000,
          132000,
          178800,
          132100,
          160000,
          85000,
          187200,
          116100,
          200000,
          145000,
          229998,
          154545,
          229998,
          154545,
          175000,
          150000,
          160000,
          85000,
          195700,
          130500,
          80036,
          67723,
          141300,
          102100,
          135000,
          80000,
          160000,
          85000,
          178800,
          132100,
          140000,
          105000,
          80036,
          67723,
          150000,
          100000,
          297500,
          260000,
          193000,
          215000,
          164000,
          300000,
          130000,
          250000,
          63000,
          180000,
          150000,
          45390,
          250000,
          63000,
          135000,
          115000,
          84053,
          73546,
          98506,
          86193,
          84053,
          73546,
          104611,
          82280,
          80000,
          105000,
          90000,
          185800,
          137400,
          250000,
          63000,
          135000,
          85000,
          154000,
          126000,
          195700,
          130500,
          98506,
          73880,
          200000,
          135000,
          188100,
          139860,
          141300,
          102100,
          177600,
          131300,
          24000,
          24000,
          250000,
          63000,
          145000,
          115000,
          210000,
          100000,
          206699,
          99100,
          250000,
          63000,
          250000,
          63000,
          100000,
          80000,
          91118,
          61566,
          170000,
          130000,
          200000,
          160000,
          135446,
          104663,
          129000,
          86000,
          13493,
          13493,
          210000,
          100000,
          175000,
          135000,
          92350,
          67723,
          65666,
          110820,
          92350,
          209100,
          154600,
          175000,
          155000,
          165400,
          132320,
          136994,
          101570,
          183600,
          100800,
          84053,
          73546,
          98506,
          86193,
          84053,
          73546,
          92350,
          73880,
          63040,
          47280,
          63040,
          47280,
          73880,
          55410,
          82900,
          63900,
          136000,
          108800,
          242000,
          200000,
          73880,
          49253,
          181940,
          132320,
          220110,
          160080,
          170000,
          150000,
          49253,
          43096,
          73880,
          61566,
          160000,
          113000,
          165400,
          132320,
          243900,
          156600,
          128875,
          93700,
          209100,
          154600,
          180000,
          160000,
          200100,
          160000,
          70500,
          54000,
          175100,
          140250,
          145000,
          130000,
          155000,
          115000,
          206699,
          99100,
          130000,
          110500,
          154000,
          126000,
          100000,
          25000,
          220110,
          160080,
          324000,
          216000,
          210000,
          100000,
          105000,
          80000,
          52533,
          65000,
          135000,
          115000,
          54742,
          55475,
          150000,
          65141,
          120000,
          200000,
          100000,
          59303,
          82528,
          80000,
          74130,
          153000,
          90000,
          28476,
          140000,
          79833,
          113476,
          30428,
          150000,
          115000,
          106000,
          112872,
          150000,
          188000,
          200000,
          174000,
          70139,
          33511,
          96282,
          12103,
          72212,
          21637,
          200000,
          110000,
          72500,
          69741,
          112000,
          65013,
          28016,
          111775,
          93150,
          26005,
          41689,
          47899,
          66022,
          20000,
          165000,
          110000,
          76833,
          45391,
          130800,
          28369
         ],
         "y0": " ",
         "yaxis": "y"
        },
        {
         "alignmentgroup": "True",
         "boxpoints": "all",
         "fillcolor": "rgba(255,255,255,0)",
         "hoveron": "points",
         "hovertemplate": "job_title=Computer Vision Engineer<br>experience_level=%{x}<br>salary_in_usd=%{y}<extra></extra>",
         "legendgroup": "Computer Vision Engineer",
         "line": {
          "color": "rgba(255,255,255,0)"
         },
         "marker": {
          "color": "#00cc96"
         },
         "name": "Computer Vision Engineer",
         "offsetgroup": "Computer Vision Engineer",
         "orientation": "v",
         "pointpos": 0,
         "showlegend": true,
         "type": "box",
         "x": [
          "SE",
          "SE",
          "SE",
          "SE",
          "SE",
          "SE",
          "EN",
          "SE",
          "MI",
          "SE",
          "SE",
          "MI",
          "EN",
          "SE",
          "EN",
          "EN",
          "SE",
          "SE"
         ],
         "x0": " ",
         "xaxis": "x",
         "y": [
          342810,
          184590,
          280000,
          210000,
          215000,
          170000,
          220000,
          200000,
          15897,
          235000,
          185000,
          58837,
          10000,
          24000,
          125000,
          28609,
          60000,
          18907
         ],
         "y0": " ",
         "yaxis": "y"
        },
        {
         "alignmentgroup": "True",
         "boxpoints": "all",
         "fillcolor": "rgba(255,255,255,0)",
         "hoveron": "points",
         "hovertemplate": "job_title=Data Quality Analyst<br>experience_level=%{x}<br>salary_in_usd=%{y}<extra></extra>",
         "legendgroup": "Data Quality Analyst",
         "line": {
          "color": "rgba(255,255,255,0)"
         },
         "marker": {
          "color": "#ab63fa"
         },
         "name": "Data Quality Analyst",
         "offsetgroup": "Data Quality Analyst",
         "orientation": "v",
         "pointpos": 0,
         "showlegend": true,
         "type": "box",
         "x": [
          "EN",
          "SE",
          "SE",
          "SE",
          "SE",
          "SE",
          "SE"
         ],
         "x0": " ",
         "xaxis": "x",
         "y": [
          100000,
          100000,
          80000,
          100000,
          80000,
          72200,
          64980
         ],
         "y0": " ",
         "yaxis": "y"
        },
        {
         "alignmentgroup": "True",
         "boxpoints": "all",
         "fillcolor": "rgba(255,255,255,0)",
         "hoveron": "points",
         "hovertemplate": "job_title=Compliance Data Analyst<br>experience_level=%{x}<br>salary_in_usd=%{y}<extra></extra>",
         "legendgroup": "Compliance Data Analyst",
         "line": {
          "color": "rgba(255,255,255,0)"
         },
         "marker": {
          "color": "#FFA15A"
         },
         "name": "Compliance Data Analyst",
         "offsetgroup": "Compliance Data Analyst",
         "orientation": "v",
         "pointpos": 0,
         "showlegend": true,
         "type": "box",
         "x": [
          "EN"
         ],
         "x0": " ",
         "xaxis": "x",
         "y": [
          30000
         ],
         "y0": " ",
         "yaxis": "y"
        },
        {
         "alignmentgroup": "True",
         "boxpoints": "all",
         "fillcolor": "rgba(255,255,255,0)",
         "hoveron": "points",
         "hovertemplate": "job_title=Data Architect<br>experience_level=%{x}<br>salary_in_usd=%{y}<extra></extra>",
         "legendgroup": "Data Architect",
         "line": {
          "color": "rgba(255,255,255,0)"
         },
         "marker": {
          "color": "#19d3f3"
         },
         "name": "Data Architect",
         "offsetgroup": "Data Architect",
         "orientation": "v",
         "pointpos": 0,
         "showlegend": true,
         "type": "box",
         "x": [
          "SE",
          "SE",
          "SE",
          "SE",
          "SE",
          "SE",
          "SE",
          "SE",
          "EX",
          "EX",
          "MI",
          "MI",
          "SE",
          "SE",
          "MI",
          "MI",
          "SE",
          "SE",
          "SE",
          "SE",
          "SE",
          "SE",
          "SE",
          "SE",
          "SE",
          "SE",
          "SE",
          "SE",
          "SE",
          "SE",
          "SE",
          "SE",
          "SE",
          "SE",
          "SE",
          "SE",
          "SE",
          "SE",
          "SE",
          "SE",
          "SE",
          "SE",
          "SE",
          "SE",
          "SE",
          "SE",
          "SE",
          "SE",
          "SE",
          "SE",
          "SE",
          "SE",
          "SE",
          "SE",
          "SE",
          "SE",
          "SE",
          "SE",
          "SE",
          "SE",
          "SE",
          "SE",
          "SE",
          "SE",
          "SE",
          "SE",
          "SE",
          "SE",
          "SE",
          "SE",
          "SE",
          "SE",
          "SE",
          "SE",
          "SE",
          "SE",
          "SE",
          "SE",
          "SE",
          "SE",
          "SE",
          "SE",
          "SE",
          "SE",
          "SE",
          "SE",
          "SE",
          "SE",
          "SE",
          "SE",
          "SE",
          "SE",
          "SE",
          "SE",
          "SE",
          "SE",
          "SE",
          "SE",
          "MI",
          "MI",
          "MI"
         ],
         "x0": " ",
         "xaxis": "x",
         "y": [
          280100,
          168100,
          180000,
          115000,
          200000,
          115000,
          250500,
          159500,
          180000,
          155000,
          167500,
          106500,
          170000,
          125000,
          167500,
          106500,
          149040,
          113900,
          376080,
          213120,
          138000,
          92000,
          149040,
          113900,
          188500,
          117000,
          168400,
          105200,
          228000,
          120000,
          198000,
          114000,
          180000,
          160000,
          180000,
          115000,
          200000,
          115000,
          174500,
          113000,
          174500,
          113000,
          174500,
          113000,
          180000,
          115000,
          174500,
          113000,
          174500,
          113000,
          170000,
          110000,
          190000,
          135000,
          149040,
          113900,
          190000,
          135000,
          235000,
          175000,
          192564,
          144854,
          210000,
          136000,
          128000,
          81500,
          345600,
          230400,
          225000,
          66000,
          180000,
          160000,
          190000,
          135000,
          195400,
          131300,
          195400,
          131300,
          190000,
          135000,
          190000,
          135000,
          149040,
          113900,
          141300,
          102100,
          250000,
          63000,
          250000,
          63000,
          208775,
          147800,
          192400,
          90700,
          266400,
          213120,
          192564,
          144854,
          170000,
          150000,
          180000
         ],
         "y0": " ",
         "yaxis": "y"
        },
        {
         "alignmentgroup": "True",
         "boxpoints": "all",
         "fillcolor": "rgba(255,255,255,0)",
         "hoveron": "points",
         "hovertemplate": "job_title=Applied Machine Learning Engineer<br>experience_level=%{x}<br>salary_in_usd=%{y}<extra></extra>",
         "legendgroup": "Applied Machine Learning Engineer",
         "line": {
          "color": "rgba(255,255,255,0)"
         },
         "marker": {
          "color": "#FF6692"
         },
         "name": "Applied Machine Learning Engineer",
         "offsetgroup": "Applied Machine Learning Engineer",
         "orientation": "v",
         "pointpos": 0,
         "showlegend": true,
         "type": "box",
         "x": [
          "MI",
          "MI"
         ],
         "x0": " ",
         "xaxis": "x",
         "y": [
          69751,
          130000
         ],
         "y0": " ",
         "yaxis": "y"
        },
        {
         "alignmentgroup": "True",
         "boxpoints": "all",
         "fillcolor": "rgba(255,255,255,0)",
         "hoveron": "points",
         "hovertemplate": "job_title=AI Developer<br>experience_level=%{x}<br>salary_in_usd=%{y}<extra></extra>",
         "legendgroup": "AI Developer",
         "line": {
          "color": "rgba(255,255,255,0)"
         },
         "marker": {
          "color": "#B6E880"
         },
         "name": "AI Developer",
         "offsetgroup": "AI Developer",
         "orientation": "v",
         "pointpos": 0,
         "showlegend": true,
         "type": "box",
         "x": [
          "EN",
          "MI",
          "MI",
          "SE",
          "SE",
          "SE",
          "EN",
          "EN",
          "EN",
          "EN",
          "EN"
         ],
         "x0": " ",
         "xaxis": "x",
         "y": [
          300000,
          75020,
          200000,
          275000,
          108000,
          60000,
          80000,
          214618,
          64385,
          120000,
          6304
         ],
         "y0": " ",
         "yaxis": "y"
        },
        {
         "alignmentgroup": "True",
         "boxpoints": "all",
         "fillcolor": "rgba(255,255,255,0)",
         "hoveron": "points",
         "hovertemplate": "job_title=Research Scientist<br>experience_level=%{x}<br>salary_in_usd=%{y}<extra></extra>",
         "legendgroup": "Research Scientist",
         "line": {
          "color": "rgba(255,255,255,0)"
         },
         "marker": {
          "color": "#FF97FF"
         },
         "name": "Research Scientist",
         "offsetgroup": "Research Scientist",
         "orientation": "v",
         "pointpos": 0,
         "showlegend": true,
         "type": "box",
         "x": [
          "EN",
          "SE",
          "SE",
          "SE",
          "SE",
          "MI",
          "MI",
          "MI",
          "MI",
          "SE",
          "SE",
          "SE",
          "SE",
          "SE",
          "SE",
          "EN",
          "EN",
          "MI",
          "MI",
          "SE",
          "SE",
          "MI",
          "MI",
          "EN",
          "EN",
          "SE",
          "SE",
          "SE",
          "SE",
          "MI",
          "MI",
          "SE",
          "SE",
          "SE",
          "SE",
          "SE",
          "SE",
          "SE",
          "SE",
          "MI",
          "MI",
          "MI",
          "SE",
          "SE",
          "SE",
          "SE",
          "SE",
          "SE",
          "SE",
          "SE",
          "SE",
          "SE",
          "SE",
          "SE",
          "SE",
          "SE",
          "SE",
          "SE",
          "SE",
          "SE",
          "SE",
          "SE",
          "MI",
          "MI",
          "MI",
          "EX",
          "SE",
          "MI",
          "MI",
          "EN",
          "SE",
          "MI",
          "MI",
          "EN",
          "MI",
          "SE",
          "EN",
          "MI",
          "EN",
          "SE",
          "MI",
          "SE"
         ],
         "x0": " ",
         "xaxis": "x",
         "y": [
          220000,
          130000,
          110000,
          210000,
          136000,
          195895,
          102772,
          210000,
          151800,
          200000,
          150000,
          250000,
          200000,
          141288,
          94192,
          150000,
          100000,
          185000,
          125000,
          215000,
          146300,
          340000,
          150000,
          150000,
          100000,
          250000,
          200000,
          200000,
          150000,
          185000,
          125000,
          253750,
          169200,
          253750,
          169200,
          370000,
          200000,
          248100,
          145900,
          85000,
          70000,
          23000,
          210000,
          151800,
          180000,
          145000,
          150000,
          120000,
          210000,
          165750,
          200000,
          150000,
          250000,
          200000,
          248100,
          145900,
          249500,
          149850,
          210000,
          150000,
          300000,
          196000,
          126080,
          84053,
          145000,
          84053,
          89306,
          69999,
          61989,
          120000,
          144000,
          62649,
          450000,
          82528,
          187442,
          60757,
          42000,
          63810,
          100000,
          96113,
          56738,
          50000
         ],
         "y0": " ",
         "yaxis": "y"
        },
        {
         "alignmentgroup": "True",
         "boxpoints": "all",
         "fillcolor": "rgba(255,255,255,0)",
         "hoveron": "points",
         "hovertemplate": "job_title=Data Analytics Manager<br>experience_level=%{x}<br>salary_in_usd=%{y}<extra></extra>",
         "legendgroup": "Data Analytics Manager",
         "line": {
          "color": "rgba(255,255,255,0)"
         },
         "marker": {
          "color": "#FECB52"
         },
         "name": "Data Analytics Manager",
         "offsetgroup": "Data Analytics Manager",
         "orientation": "v",
         "pointpos": 0,
         "showlegend": true,
         "type": "box",
         "x": [
          "MI",
          "MI",
          "SE",
          "SE",
          "MI",
          "MI",
          "MI",
          "MI",
          "EX",
          "EX",
          "SE",
          "SE",
          "SE",
          "MI",
          "MI",
          "SE",
          "SE",
          "SE",
          "SE",
          "SE",
          "SE",
          "SE"
         ],
         "x0": " ",
         "xaxis": "x",
         "y": [
          155000,
          140000,
          160000,
          120000,
          155000,
          140000,
          155000,
          140000,
          155000,
          140000,
          204500,
          138900,
          133000,
          155000,
          140000,
          145000,
          105400,
          150260,
          109280,
          120000,
          120000,
          140000
         ],
         "y0": " ",
         "yaxis": "y"
        },
        {
         "alignmentgroup": "True",
         "boxpoints": "all",
         "fillcolor": "rgba(255,255,255,0)",
         "hoveron": "points",
         "hovertemplate": "job_title=Business Data Analyst<br>experience_level=%{x}<br>salary_in_usd=%{y}<extra></extra>",
         "legendgroup": "Business Data Analyst",
         "line": {
          "color": "rgba(255,255,255,0)"
         },
         "marker": {
          "color": "#636efa"
         },
         "name": "Business Data Analyst",
         "offsetgroup": "Business Data Analyst",
         "orientation": "v",
         "pointpos": 0,
         "showlegend": true,
         "type": "box",
         "x": [
          "MI",
          "EN",
          "MI",
          "EN",
          "EN",
          "MI",
          "MI",
          "MI",
          "EN",
          "SE",
          "MI",
          "MI",
          "MI",
          "EN",
          "EN"
         ],
         "x0": " ",
         "xaxis": "x",
         "y": [
          105000,
          21461,
          9289,
          48000,
          12877,
          18314,
          95000,
          150000,
          50000,
          100000,
          17805,
          69133,
          135000,
          59102,
          100000
         ],
         "y0": " ",
         "yaxis": "y"
        },
        {
         "alignmentgroup": "True",
         "boxpoints": "all",
         "fillcolor": "rgba(255,255,255,0)",
         "hoveron": "points",
         "hovertemplate": "job_title=Applied Data Scientist<br>experience_level=%{x}<br>salary_in_usd=%{y}<extra></extra>",
         "legendgroup": "Applied Data Scientist",
         "line": {
          "color": "rgba(255,255,255,0)"
         },
         "marker": {
          "color": "#EF553B"
         },
         "name": "Applied Data Scientist",
         "offsetgroup": "Applied Data Scientist",
         "orientation": "v",
         "pointpos": 0,
         "showlegend": true,
         "type": "box",
         "x": [
          "MI",
          "SE",
          "MI",
          "EN",
          "EN",
          "MI",
          "SE",
          "SE",
          "EN",
          "MI"
         ],
         "x0": " ",
         "xaxis": "x",
         "y": [
          20670,
          68318,
          80000,
          40000,
          50000,
          157000,
          380000,
          177000,
          110037,
          54238
         ],
         "y0": " ",
         "yaxis": "y"
        },
        {
         "alignmentgroup": "True",
         "boxpoints": "all",
         "fillcolor": "rgba(255,255,255,0)",
         "hoveron": "points",
         "hovertemplate": "job_title=Staff Data Analyst<br>experience_level=%{x}<br>salary_in_usd=%{y}<extra></extra>",
         "legendgroup": "Staff Data Analyst",
         "line": {
          "color": "rgba(255,255,255,0)"
         },
         "marker": {
          "color": "#00cc96"
         },
         "name": "Staff Data Analyst",
         "offsetgroup": "Staff Data Analyst",
         "orientation": "v",
         "pointpos": 0,
         "showlegend": true,
         "type": "box",
         "x": [
          "EX"
         ],
         "x0": " ",
         "xaxis": "x",
         "y": [
          15000
         ],
         "y0": " ",
         "yaxis": "y"
        },
        {
         "alignmentgroup": "True",
         "boxpoints": "all",
         "fillcolor": "rgba(255,255,255,0)",
         "hoveron": "points",
         "hovertemplate": "job_title=ETL Engineer<br>experience_level=%{x}<br>salary_in_usd=%{y}<extra></extra>",
         "legendgroup": "ETL Engineer",
         "line": {
          "color": "rgba(255,255,255,0)"
         },
         "marker": {
          "color": "#ab63fa"
         },
         "name": "ETL Engineer",
         "offsetgroup": "ETL Engineer",
         "orientation": "v",
         "pointpos": 0,
         "showlegend": true,
         "type": "box",
         "x": [
          "MI",
          "MI"
         ],
         "x0": " ",
         "xaxis": "x",
         "y": [
          85066,
          57723
         ],
         "y0": " ",
         "yaxis": "y"
        },
        {
         "alignmentgroup": "True",
         "boxpoints": "all",
         "fillcolor": "rgba(255,255,255,0)",
         "hoveron": "points",
         "hovertemplate": "job_title=Data DevOps Engineer<br>experience_level=%{x}<br>salary_in_usd=%{y}<extra></extra>",
         "legendgroup": "Data DevOps Engineer",
         "line": {
          "color": "rgba(255,255,255,0)"
         },
         "marker": {
          "color": "#FFA15A"
         },
         "name": "Data DevOps Engineer",
         "offsetgroup": "Data DevOps Engineer",
         "orientation": "v",
         "pointpos": 0,
         "showlegend": true,
         "type": "box",
         "x": [
          "SE"
         ],
         "x0": " ",
         "xaxis": "x",
         "y": [
          53654
         ],
         "y0": " ",
         "yaxis": "y"
        },
        {
         "alignmentgroup": "True",
         "boxpoints": "all",
         "fillcolor": "rgba(255,255,255,0)",
         "hoveron": "points",
         "hovertemplate": "job_title=Head of Data<br>experience_level=%{x}<br>salary_in_usd=%{y}<extra></extra>",
         "legendgroup": "Head of Data",
         "line": {
          "color": "rgba(255,255,255,0)"
         },
         "marker": {
          "color": "#19d3f3"
         },
         "name": "Head of Data",
         "offsetgroup": "Head of Data",
         "orientation": "v",
         "pointpos": 0,
         "showlegend": true,
         "type": "box",
         "x": [
          "EX",
          "EX",
          "SE",
          "EX",
          "EX",
          "SE",
          "SE",
          "MI",
          "EX",
          "EX"
         ],
         "x0": " ",
         "xaxis": "x",
         "y": [
          329500,
          269600,
          75116,
          205000,
          160000,
          102839,
          200000,
          31520,
          230000,
          235000
         ],
         "y0": " ",
         "yaxis": "y"
        },
        {
         "alignmentgroup": "True",
         "boxpoints": "all",
         "fillcolor": "rgba(255,255,255,0)",
         "hoveron": "points",
         "hovertemplate": "job_title=Data Science Manager<br>experience_level=%{x}<br>salary_in_usd=%{y}<extra></extra>",
         "legendgroup": "Data Science Manager",
         "line": {
          "color": "rgba(255,255,255,0)"
         },
         "marker": {
          "color": "#FF6692"
         },
         "name": "Data Science Manager",
         "offsetgroup": "Data Science Manager",
         "orientation": "v",
         "pointpos": 0,
         "showlegend": true,
         "type": "box",
         "x": [
          "SE",
          "SE",
          "SE",
          "SE",
          "SE",
          "SE",
          "MI",
          "MI",
          "EX",
          "SE",
          "SE",
          "SE",
          "SE",
          "SE",
          "SE",
          "SE",
          "SE",
          "MI",
          "MI",
          "SE",
          "SE",
          "SE",
          "SE",
          "SE",
          "SE",
          "SE",
          "SE",
          "SE",
          "SE",
          "SE",
          "SE",
          "EX",
          "EX",
          "MI",
          "MI",
          "SE",
          "SE",
          "SE",
          "SE",
          "EX",
          "EX",
          "SE",
          "SE",
          "SE",
          "SE",
          "SE",
          "MI",
          "MI",
          "SE",
          "SE",
          "SE",
          "SE",
          "SE",
          "SE",
          "SE",
          "SE",
          "SE",
          "SE"
         ],
         "x0": " ",
         "xaxis": "x",
         "y": [
          191765,
          134236,
          299500,
          245100,
          299500,
          245100,
          104500,
          70000,
          106000,
          150000,
          90000,
          175000,
          120000,
          299500,
          245100,
          231250,
          138750,
          220000,
          195000,
          299500,
          245100,
          297300,
          198200,
          175000,
          120000,
          299500,
          245100,
          247500,
          172200,
          243225,
          179775,
          222640,
          182160,
          158000,
          134000,
          206000,
          175100,
          189500,
          140100,
          260500,
          175100,
          249260,
          185400,
          133766,
          300000,
          200000,
          241000,
          159000,
          161342,
          137141,
          152500,
          240000,
          144000,
          54094,
          174000,
          152000,
          190200,
          94665
         ],
         "y0": " ",
         "yaxis": "y"
        },
        {
         "alignmentgroup": "True",
         "boxpoints": "all",
         "fillcolor": "rgba(255,255,255,0)",
         "hoveron": "points",
         "hovertemplate": "job_title=Data Manager<br>experience_level=%{x}<br>salary_in_usd=%{y}<extra></extra>",
         "legendgroup": "Data Manager",
         "line": {
          "color": "rgba(255,255,255,0)"
         },
         "marker": {
          "color": "#B6E880"
         },
         "name": "Data Manager",
         "offsetgroup": "Data Manager",
         "orientation": "v",
         "pointpos": 0,
         "showlegend": true,
         "type": "box",
         "x": [
          "SE",
          "SE",
          "SE",
          "SE",
          "MI",
          "MI",
          "SE",
          "SE",
          "SE",
          "SE",
          "SE",
          "SE",
          "SE",
          "SE",
          "SE",
          "SE",
          "SE",
          "SE",
          "SE",
          "SE",
          "SE",
          "SE",
          "EN",
          "EN",
          "MI",
          "MI",
          "EX",
          "MI",
          "MI"
         ],
         "x0": " ",
         "xaxis": "x",
         "y": [
          198800,
          105200,
          115000,
          86000,
          135000,
          120000,
          65000,
          48000,
          155000,
          140000,
          72946,
          54365,
          140000,
          120000,
          169000,
          100000,
          140000,
          120000,
          199000,
          112000,
          168400,
          105200,
          77300,
          45600,
          134000,
          98000,
          125976,
          134000,
          98000
         ],
         "y0": " ",
         "yaxis": "y"
        },
        {
         "alignmentgroup": "True",
         "boxpoints": "all",
         "fillcolor": "rgba(255,255,255,0)",
         "hoveron": "points",
         "hovertemplate": "job_title=Machine Learning Researcher<br>experience_level=%{x}<br>salary_in_usd=%{y}<extra></extra>",
         "legendgroup": "Machine Learning Researcher",
         "line": {
          "color": "rgba(255,255,255,0)"
         },
         "marker": {
          "color": "#FF97FF"
         },
         "name": "Machine Learning Researcher",
         "offsetgroup": "Machine Learning Researcher",
         "orientation": "v",
         "pointpos": 0,
         "showlegend": true,
         "type": "box",
         "x": [
          "SE",
          "MI",
          "MI",
          "MI",
          "MI",
          "MI"
         ],
         "x0": " ",
         "xaxis": "x",
         "y": [
          50000,
          150000,
          100000,
          130000,
          100000,
          105236
         ],
         "y0": " ",
         "yaxis": "y"
        },
        {
         "alignmentgroup": "True",
         "boxpoints": "all",
         "fillcolor": "rgba(255,255,255,0)",
         "hoveron": "points",
         "hovertemplate": "job_title=Big Data Engineer<br>experience_level=%{x}<br>salary_in_usd=%{y}<extra></extra>",
         "legendgroup": "Big Data Engineer",
         "line": {
          "color": "rgba(255,255,255,0)"
         },
         "marker": {
          "color": "#FECB52"
         },
         "name": "Big Data Engineer",
         "offsetgroup": "Big Data Engineer",
         "orientation": "v",
         "pointpos": 0,
         "showlegend": true,
         "type": "box",
         "x": [
          "MI",
          "EN",
          "SE",
          "MI",
          "EN",
          "SE",
          "EN",
          "MI",
          "SE",
          "EN",
          "MI"
         ],
         "x0": " ",
         "xaxis": "x",
         "y": [
          48289,
          130000,
          161311,
          60000,
          70000,
          109024,
          16228,
          22611,
          114047,
          5882,
          18000
         ],
         "y0": " ",
         "yaxis": "y"
        },
        {
         "alignmentgroup": "True",
         "boxpoints": "all",
         "fillcolor": "rgba(255,255,255,0)",
         "hoveron": "points",
         "hovertemplate": "job_title=Data Specialist<br>experience_level=%{x}<br>salary_in_usd=%{y}<extra></extra>",
         "legendgroup": "Data Specialist",
         "line": {
          "color": "rgba(255,255,255,0)"
         },
         "marker": {
          "color": "#636efa"
         },
         "name": "Data Specialist",
         "offsetgroup": "Data Specialist",
         "orientation": "v",
         "pointpos": 0,
         "showlegend": true,
         "type": "box",
         "x": [
          "MI",
          "MI",
          "SE",
          "SE",
          "SE",
          "SE",
          "MI",
          "MI",
          "EN",
          "SE",
          "SE",
          "SE",
          "SE",
          "SE"
         ],
         "x0": " ",
         "xaxis": "x",
         "y": [
          130000,
          80000,
          110000,
          70000,
          110000,
          70000,
          165000,
          135000,
          105000,
          95000,
          70000,
          221300,
          148700,
          165000
         ],
         "y0": " ",
         "yaxis": "y"
        },
        {
         "alignmentgroup": "True",
         "boxpoints": "all",
         "fillcolor": "rgba(255,255,255,0)",
         "hoveron": "points",
         "hovertemplate": "job_title=Lead Data Analyst<br>experience_level=%{x}<br>salary_in_usd=%{y}<extra></extra>",
         "legendgroup": "Lead Data Analyst",
         "line": {
          "color": "rgba(255,255,255,0)"
         },
         "marker": {
          "color": "#EF553B"
         },
         "name": "Lead Data Analyst",
         "offsetgroup": "Lead Data Analyst",
         "orientation": "v",
         "pointpos": 0,
         "showlegend": true,
         "type": "box",
         "x": [
          "MI",
          "MI",
          "SE",
          "MI",
          "MI"
         ],
         "x0": " ",
         "xaxis": "x",
         "y": [
          68000,
          18238,
          170000,
          87000,
          19609
         ],
         "y0": " ",
         "yaxis": "y"
        },
        {
         "alignmentgroup": "True",
         "boxpoints": "all",
         "fillcolor": "rgba(255,255,255,0)",
         "hoveron": "points",
         "hovertemplate": "job_title=BI Data Engineer<br>experience_level=%{x}<br>salary_in_usd=%{y}<extra></extra>",
         "legendgroup": "BI Data Engineer",
         "line": {
          "color": "rgba(255,255,255,0)"
         },
         "marker": {
          "color": "#00cc96"
         },
         "name": "BI Data Engineer",
         "offsetgroup": "BI Data Engineer",
         "orientation": "v",
         "pointpos": 0,
         "showlegend": true,
         "type": "box",
         "x": [
          "EN"
         ],
         "x0": " ",
         "xaxis": "x",
         "y": [
          60000
         ],
         "y0": " ",
         "yaxis": "y"
        },
        {
         "alignmentgroup": "True",
         "boxpoints": "all",
         "fillcolor": "rgba(255,255,255,0)",
         "hoveron": "points",
         "hovertemplate": "job_title=Director of Data Science<br>experience_level=%{x}<br>salary_in_usd=%{y}<extra></extra>",
         "legendgroup": "Director of Data Science",
         "line": {
          "color": "rgba(255,255,255,0)"
         },
         "marker": {
          "color": "#ab63fa"
         },
         "name": "Director of Data Science",
         "offsetgroup": "Director of Data Science",
         "orientation": "v",
         "pointpos": 0,
         "showlegend": true,
         "type": "box",
         "x": [
          "EX",
          "EX",
          "SE",
          "SE",
          "EX",
          "EX",
          "EX",
          "EX",
          "EX",
          "EX",
          "SE"
         ],
         "x0": " ",
         "xaxis": "x",
         "y": [
          353200,
          249300,
          125686,
          57786,
          192037,
          250000,
          130026,
          153667,
          141846,
          325000,
          168000
         ],
         "y0": " ",
         "yaxis": "y"
        },
        {
         "alignmentgroup": "True",
         "boxpoints": "all",
         "fillcolor": "rgba(255,255,255,0)",
         "hoveron": "points",
         "hovertemplate": "job_title=Machine Learning Scientist<br>experience_level=%{x}<br>salary_in_usd=%{y}<extra></extra>",
         "legendgroup": "Machine Learning Scientist",
         "line": {
          "color": "rgba(255,255,255,0)"
         },
         "marker": {
          "color": "#FFA15A"
         },
         "name": "Machine Learning Scientist",
         "offsetgroup": "Machine Learning Scientist",
         "orientation": "v",
         "pointpos": 0,
         "showlegend": true,
         "type": "box",
         "x": [
          "MI",
          "MI",
          "SE",
          "SE",
          "MI",
          "MI",
          "SE",
          "SE",
          "MI",
          "MI",
          "EN",
          "SE",
          "SE",
          "EX",
          "EX",
          "SE",
          "SE",
          "MI",
          "MI",
          "MI",
          "MI",
          "SE",
          "EN",
          "SE",
          "SE",
          "MI"
         ],
         "x0": " ",
         "xaxis": "x",
         "y": [
          230000,
          220000,
          220000,
          170000,
          200000,
          125000,
          225000,
          165750,
          165000,
          135000,
          34672,
          193900,
          129300,
          200000,
          180000,
          216000,
          144000,
          22800,
          160000,
          112300,
          153000,
          120000,
          225000,
          260000,
          225000,
          12000
         ],
         "y0": " ",
         "yaxis": "y"
        },
        {
         "alignmentgroup": "True",
         "boxpoints": "all",
         "fillcolor": "rgba(255,255,255,0)",
         "hoveron": "points",
         "hovertemplate": "job_title=MLOps Engineer<br>experience_level=%{x}<br>salary_in_usd=%{y}<extra></extra>",
         "legendgroup": "MLOps Engineer",
         "line": {
          "color": "rgba(255,255,255,0)"
         },
         "marker": {
          "color": "#19d3f3"
         },
         "name": "MLOps Engineer",
         "offsetgroup": "MLOps Engineer",
         "orientation": "v",
         "pointpos": 0,
         "showlegend": true,
         "type": "box",
         "x": [
          "MI",
          "MI",
          "MI",
          "MI"
         ],
         "x0": " ",
         "xaxis": "x",
         "y": [
          134000,
          124000,
          134000,
          124000
         ],
         "y0": " ",
         "yaxis": "y"
        },
        {
         "alignmentgroup": "True",
         "boxpoints": "all",
         "fillcolor": "rgba(255,255,255,0)",
         "hoveron": "points",
         "hovertemplate": "job_title=AI Scientist<br>experience_level=%{x}<br>salary_in_usd=%{y}<extra></extra>",
         "legendgroup": "AI Scientist",
         "line": {
          "color": "rgba(255,255,255,0)"
         },
         "marker": {
          "color": "#FF6692"
         },
         "name": "AI Scientist",
         "offsetgroup": "AI Scientist",
         "orientation": "v",
         "pointpos": 0,
         "showlegend": true,
         "type": "box",
         "x": [
          "SE",
          "MI",
          "MI",
          "SE",
          "EN",
          "EN",
          "EN",
          "EX",
          "MI",
          "MI",
          "MI",
          "EN",
          "SE",
          "EN",
          "EN",
          "EN"
         ],
         "x0": " ",
         "xaxis": "x",
         "y": [
          423834,
          38631,
          30000,
          125000,
          200000,
          50000,
          31520,
          200000,
          200000,
          200000,
          120000,
          12000,
          55000,
          45896,
          18053,
          12000
         ],
         "y0": " ",
         "yaxis": "y"
        },
        {
         "alignmentgroup": "True",
         "boxpoints": "all",
         "fillcolor": "rgba(255,255,255,0)",
         "hoveron": "points",
         "hovertemplate": "job_title=Autonomous Vehicle Technician<br>experience_level=%{x}<br>salary_in_usd=%{y}<extra></extra>",
         "legendgroup": "Autonomous Vehicle Technician",
         "line": {
          "color": "rgba(255,255,255,0)"
         },
         "marker": {
          "color": "#B6E880"
         },
         "name": "Autonomous Vehicle Technician",
         "offsetgroup": "Autonomous Vehicle Technician",
         "orientation": "v",
         "pointpos": 0,
         "showlegend": true,
         "type": "box",
         "x": [
          "EN",
          "MI"
         ],
         "x0": " ",
         "xaxis": "x",
         "y": [
          7000,
          45555
         ],
         "y0": " ",
         "yaxis": "y"
        },
        {
         "alignmentgroup": "True",
         "boxpoints": "all",
         "fillcolor": "rgba(255,255,255,0)",
         "hoveron": "points",
         "hovertemplate": "job_title=Applied Machine Learning Scientist<br>experience_level=%{x}<br>salary_in_usd=%{y}<extra></extra>",
         "legendgroup": "Applied Machine Learning Scientist",
         "line": {
          "color": "rgba(255,255,255,0)"
         },
         "marker": {
          "color": "#FF97FF"
         },
         "name": "Applied Machine Learning Scientist",
         "offsetgroup": "Applied Machine Learning Scientist",
         "orientation": "v",
         "pointpos": 0,
         "showlegend": true,
         "type": "box",
         "x": [
          "EN",
          "SE",
          "SE",
          "SE",
          "MI",
          "MI",
          "SE",
          "MI",
          "MI",
          "EN",
          "MI",
          "MI"
         ],
         "x0": " ",
         "xaxis": "x",
         "y": [
          42923,
          90000,
          150000,
          108000,
          75000,
          173000,
          77119,
          30523,
          75000,
          30469,
          38400,
          423000
         ],
         "y0": " ",
         "yaxis": "y"
        },
        {
         "alignmentgroup": "True",
         "boxpoints": "all",
         "fillcolor": "rgba(255,255,255,0)",
         "hoveron": "points",
         "hovertemplate": "job_title=Lead Data Scientist<br>experience_level=%{x}<br>salary_in_usd=%{y}<extra></extra>",
         "legendgroup": "Lead Data Scientist",
         "line": {
          "color": "rgba(255,255,255,0)"
         },
         "marker": {
          "color": "#FECB52"
         },
         "name": "Lead Data Scientist",
         "offsetgroup": "Lead Data Scientist",
         "orientation": "v",
         "pointpos": 0,
         "showlegend": true,
         "type": "box",
         "x": [
          "SE",
          "SE",
          "SE",
          "SE",
          "SE",
          "MI",
          "SE",
          "MI",
          "SE"
         ],
         "x0": " ",
         "xaxis": "x",
         "y": [
          172309,
          192000,
          56723,
          156868,
          29944,
          61566,
          40570,
          115000,
          190000
         ],
         "y0": " ",
         "yaxis": "y"
        },
        {
         "alignmentgroup": "True",
         "boxpoints": "all",
         "fillcolor": "rgba(255,255,255,0)",
         "hoveron": "points",
         "hovertemplate": "job_title=Cloud Database Engineer<br>experience_level=%{x}<br>salary_in_usd=%{y}<extra></extra>",
         "legendgroup": "Cloud Database Engineer",
         "line": {
          "color": "rgba(255,255,255,0)"
         },
         "marker": {
          "color": "#636efa"
         },
         "name": "Cloud Database Engineer",
         "offsetgroup": "Cloud Database Engineer",
         "orientation": "v",
         "pointpos": 0,
         "showlegend": true,
         "type": "box",
         "x": [
          "SE",
          "SE",
          "SE",
          "SE",
          "SE"
         ],
         "x0": " ",
         "xaxis": "x",
         "y": [
          170000,
          140000,
          115000,
          190000,
          160000
         ],
         "y0": " ",
         "yaxis": "y"
        },
        {
         "alignmentgroup": "True",
         "boxpoints": "all",
         "fillcolor": "rgba(255,255,255,0)",
         "hoveron": "points",
         "hovertemplate": "job_title=Financial Data Analyst<br>experience_level=%{x}<br>salary_in_usd=%{y}<extra></extra>",
         "legendgroup": "Financial Data Analyst",
         "line": {
          "color": "rgba(255,255,255,0)"
         },
         "marker": {
          "color": "#EF553B"
         },
         "name": "Financial Data Analyst",
         "offsetgroup": "Financial Data Analyst",
         "orientation": "v",
         "pointpos": 0,
         "showlegend": true,
         "type": "box",
         "x": [
          "MI",
          "MI",
          "EN"
         ],
         "x0": " ",
         "xaxis": "x",
         "y": [
          130000,
          75000,
          100000
         ],
         "y0": " ",
         "yaxis": "y"
        },
        {
         "alignmentgroup": "True",
         "boxpoints": "all",
         "fillcolor": "rgba(255,255,255,0)",
         "hoveron": "points",
         "hovertemplate": "job_title=Data Infrastructure Engineer<br>experience_level=%{x}<br>salary_in_usd=%{y}<extra></extra>",
         "legendgroup": "Data Infrastructure Engineer",
         "line": {
          "color": "rgba(255,255,255,0)"
         },
         "marker": {
          "color": "#00cc96"
         },
         "name": "Data Infrastructure Engineer",
         "offsetgroup": "Data Infrastructure Engineer",
         "orientation": "v",
         "pointpos": 0,
         "showlegend": true,
         "type": "box",
         "x": [
          "SE",
          "SE",
          "MI",
          "MI",
          "MI",
          "MI"
         ],
         "x0": " ",
         "xaxis": "x",
         "y": [
          184000,
          143000,
          190000,
          160000,
          190000,
          183310
         ],
         "y0": " ",
         "yaxis": "y"
        },
        {
         "alignmentgroup": "True",
         "boxpoints": "all",
         "fillcolor": "rgba(255,255,255,0)",
         "hoveron": "points",
         "hovertemplate": "job_title=Software Data Engineer<br>experience_level=%{x}<br>salary_in_usd=%{y}<extra></extra>",
         "legendgroup": "Software Data Engineer",
         "line": {
          "color": "rgba(255,255,255,0)"
         },
         "marker": {
          "color": "#ab63fa"
         },
         "name": "Software Data Engineer",
         "offsetgroup": "Software Data Engineer",
         "orientation": "v",
         "pointpos": 0,
         "showlegend": true,
         "type": "box",
         "x": [
          "MI",
          "SE"
         ],
         "x0": " ",
         "xaxis": "x",
         "y": [
          75020,
          50000
         ],
         "y0": " ",
         "yaxis": "y"
        },
        {
         "alignmentgroup": "True",
         "boxpoints": "all",
         "fillcolor": "rgba(255,255,255,0)",
         "hoveron": "points",
         "hovertemplate": "job_title=AI Programmer<br>experience_level=%{x}<br>salary_in_usd=%{y}<extra></extra>",
         "legendgroup": "AI Programmer",
         "line": {
          "color": "rgba(255,255,255,0)"
         },
         "marker": {
          "color": "#FFA15A"
         },
         "name": "AI Programmer",
         "offsetgroup": "AI Programmer",
         "orientation": "v",
         "pointpos": 0,
         "showlegend": true,
         "type": "box",
         "x": [
          "EN",
          "EN"
         ],
         "x0": " ",
         "xaxis": "x",
         "y": [
          70000,
          40000
         ],
         "y0": " ",
         "yaxis": "y"
        },
        {
         "alignmentgroup": "True",
         "boxpoints": "all",
         "fillcolor": "rgba(255,255,255,0)",
         "hoveron": "points",
         "hovertemplate": "job_title=Data Operations Engineer<br>experience_level=%{x}<br>salary_in_usd=%{y}<extra></extra>",
         "legendgroup": "Data Operations Engineer",
         "line": {
          "color": "rgba(255,255,255,0)"
         },
         "marker": {
          "color": "#19d3f3"
         },
         "name": "Data Operations Engineer",
         "offsetgroup": "Data Operations Engineer",
         "orientation": "v",
         "pointpos": 0,
         "showlegend": true,
         "type": "box",
         "x": [
          "SE",
          "SE",
          "SE",
          "SE",
          "MI",
          "MI",
          "MI",
          "MI",
          "MI",
          "MI"
         ],
         "x0": " ",
         "xaxis": "x",
         "y": [
          193000,
          136850,
          105000,
          70000,
          100000,
          60000,
          100000,
          60000,
          100000,
          60000
         ],
         "y0": " ",
         "yaxis": "y"
        },
        {
         "alignmentgroup": "True",
         "boxpoints": "all",
         "fillcolor": "rgba(255,255,255,0)",
         "hoveron": "points",
         "hovertemplate": "job_title=BI Developer<br>experience_level=%{x}<br>salary_in_usd=%{y}<extra></extra>",
         "legendgroup": "BI Developer",
         "line": {
          "color": "rgba(255,255,255,0)"
         },
         "marker": {
          "color": "#FF6692"
         },
         "name": "BI Developer",
         "offsetgroup": "BI Developer",
         "orientation": "v",
         "pointpos": 0,
         "showlegend": true,
         "type": "box",
         "x": [
          "SE",
          "SE",
          "SE",
          "EN",
          "EN",
          "SE",
          "SE",
          "SE",
          "SE",
          "SE",
          "SE",
          "SE",
          "SE"
         ],
         "x0": " ",
         "xaxis": "x",
         "y": [
          130000,
          135000,
          100000,
          160000,
          100000,
          140000,
          110000,
          197000,
          106000,
          140000,
          110000,
          140000,
          120000
         ],
         "y0": " ",
         "yaxis": "y"
        },
        {
         "alignmentgroup": "True",
         "boxpoints": "all",
         "fillcolor": "rgba(255,255,255,0)",
         "hoveron": "points",
         "hovertemplate": "job_title=Data Science Lead<br>experience_level=%{x}<br>salary_in_usd=%{y}<extra></extra>",
         "legendgroup": "Data Science Lead",
         "line": {
          "color": "rgba(255,255,255,0)"
         },
         "marker": {
          "color": "#B6E880"
         },
         "name": "Data Science Lead",
         "offsetgroup": "Data Science Lead",
         "orientation": "v",
         "pointpos": 0,
         "showlegend": true,
         "type": "box",
         "x": [
          "MI",
          "SE",
          "SE",
          "MI",
          "MI",
          "SE",
          "SE",
          "SE"
         ],
         "x0": " ",
         "xaxis": "x",
         "y": [
          150000,
          247500,
          172200,
          72914,
          60761,
          225900,
          156400,
          165000
         ],
         "y0": " ",
         "yaxis": "y"
        },
        {
         "alignmentgroup": "True",
         "boxpoints": "all",
         "fillcolor": "rgba(255,255,255,0)",
         "hoveron": "points",
         "hovertemplate": "job_title=Deep Learning Researcher<br>experience_level=%{x}<br>salary_in_usd=%{y}<extra></extra>",
         "legendgroup": "Deep Learning Researcher",
         "line": {
          "color": "rgba(255,255,255,0)"
         },
         "marker": {
          "color": "#FF97FF"
         },
         "name": "Deep Learning Researcher",
         "offsetgroup": "Deep Learning Researcher",
         "orientation": "v",
         "pointpos": 0,
         "showlegend": true,
         "type": "box",
         "x": [
          "SE"
         ],
         "x0": " ",
         "xaxis": "x",
         "y": [
          123405
         ],
         "y0": " ",
         "yaxis": "y"
        },
        {
         "alignmentgroup": "True",
         "boxpoints": "all",
         "fillcolor": "rgba(255,255,255,0)",
         "hoveron": "points",
         "hovertemplate": "job_title=BI Analyst<br>experience_level=%{x}<br>salary_in_usd=%{y}<extra></extra>",
         "legendgroup": "BI Analyst",
         "line": {
          "color": "rgba(255,255,255,0)"
         },
         "marker": {
          "color": "#FECB52"
         },
         "name": "BI Analyst",
         "offsetgroup": "BI Analyst",
         "orientation": "v",
         "pointpos": 0,
         "showlegend": true,
         "type": "box",
         "x": [
          "SE",
          "SE",
          "SE",
          "SE",
          "EN",
          "EN",
          "MI",
          "MI",
          "SE"
         ],
         "x0": " ",
         "xaxis": "x",
         "y": [
          160000,
          135000,
          125000,
          110000,
          12000,
          76000,
          78000,
          48000,
          200000
         ],
         "y0": " ",
         "yaxis": "y"
        },
        {
         "alignmentgroup": "True",
         "boxpoints": "all",
         "fillcolor": "rgba(255,255,255,0)",
         "hoveron": "points",
         "hovertemplate": "job_title=Data Science Consultant<br>experience_level=%{x}<br>salary_in_usd=%{y}<extra></extra>",
         "legendgroup": "Data Science Consultant",
         "line": {
          "color": "rgba(255,255,255,0)"
         },
         "marker": {
          "color": "#636efa"
         },
         "name": "Data Science Consultant",
         "offsetgroup": "Data Science Consultant",
         "orientation": "v",
         "pointpos": 0,
         "showlegend": true,
         "type": "box",
         "x": [
          "MI",
          "MI",
          "SE",
          "SE",
          "SE",
          "SE",
          "SE",
          "SE",
          "SE",
          "SE",
          "SE",
          "EN",
          "MI",
          "MI",
          "EN",
          "SE",
          "SE",
          "EN",
          "MI",
          "EN",
          "EN",
          "EX",
          "EN",
          "EN"
         ],
         "x0": " ",
         "xaxis": "x",
         "y": [
          90000,
          70000,
          29453,
          122000,
          94000,
          145000,
          128000,
          122000,
          94500,
          145000,
          128000,
          24165,
          70186,
          51716,
          27317,
          139000,
          122000,
          63831,
          103000,
          76833,
          76833,
          69741,
          90000,
          5707
         ],
         "y0": " ",
         "yaxis": "y"
        },
        {
         "alignmentgroup": "True",
         "boxpoints": "all",
         "fillcolor": "rgba(255,255,255,0)",
         "hoveron": "points",
         "hovertemplate": "job_title=Data Analytics Specialist<br>experience_level=%{x}<br>salary_in_usd=%{y}<extra></extra>",
         "legendgroup": "Data Analytics Specialist",
         "line": {
          "color": "rgba(255,255,255,0)"
         },
         "marker": {
          "color": "#EF553B"
         },
         "name": "Data Analytics Specialist",
         "offsetgroup": "Data Analytics Specialist",
         "orientation": "v",
         "pointpos": 0,
         "showlegend": true,
         "type": "box",
         "x": [
          "SE",
          "SE"
         ],
         "x0": " ",
         "xaxis": "x",
         "y": [
          105000,
          85000
         ],
         "y0": " ",
         "yaxis": "y"
        },
        {
         "alignmentgroup": "True",
         "boxpoints": "all",
         "fillcolor": "rgba(255,255,255,0)",
         "hoveron": "points",
         "hovertemplate": "job_title=Machine Learning Infrastructure Engineer<br>experience_level=%{x}<br>salary_in_usd=%{y}<extra></extra>",
         "legendgroup": "Machine Learning Infrastructure Engineer",
         "line": {
          "color": "rgba(255,255,255,0)"
         },
         "marker": {
          "color": "#00cc96"
         },
         "name": "Machine Learning Infrastructure Engineer",
         "offsetgroup": "Machine Learning Infrastructure Engineer",
         "orientation": "v",
         "pointpos": 0,
         "showlegend": true,
         "type": "box",
         "x": [
          "MI",
          "MI",
          "SE",
          "SE",
          "SE",
          "SE",
          "SE",
          "SE",
          "MI",
          "MI",
          "SE"
         ],
         "x0": " ",
         "xaxis": "x",
         "y": [
          205920,
          171600,
          205920,
          171600,
          107309,
          75116,
          186000,
          148800,
          55685,
          50180,
          195000
         ],
         "y0": " ",
         "yaxis": "y"
        },
        {
         "alignmentgroup": "True",
         "boxpoints": "all",
         "fillcolor": "rgba(255,255,255,0)",
         "hoveron": "points",
         "hovertemplate": "job_title=BI Data Analyst<br>experience_level=%{x}<br>salary_in_usd=%{y}<extra></extra>",
         "legendgroup": "BI Data Analyst",
         "line": {
          "color": "rgba(255,255,255,0)"
         },
         "marker": {
          "color": "#ab63fa"
         },
         "name": "BI Data Analyst",
         "offsetgroup": "BI Data Analyst",
         "orientation": "v",
         "pointpos": 0,
         "showlegend": true,
         "type": "box",
         "x": [
          "SE",
          "EN",
          "MI",
          "EN",
          "MI",
          "EN",
          "MI",
          "EN",
          "MI",
          "EN",
          "MI",
          "EX",
          "MI",
          "EN",
          "MI"
         ],
         "x0": " ",
         "xaxis": "x",
         "y": [
          71897,
          60938,
          105066,
          57000,
          45050,
          8050,
          53368,
          6270,
          50432,
          55000,
          100000,
          150000,
          36259,
          9272,
          98000
         ],
         "y0": " ",
         "yaxis": "y"
        },
        {
         "alignmentgroup": "True",
         "boxpoints": "all",
         "fillcolor": "rgba(255,255,255,0)",
         "hoveron": "points",
         "hovertemplate": "job_title=Head of Data Science<br>experience_level=%{x}<br>salary_in_usd=%{y}<extra></extra>",
         "legendgroup": "Head of Data Science",
         "line": {
          "color": "rgba(255,255,255,0)"
         },
         "marker": {
          "color": "#FFA15A"
         },
         "name": "Head of Data Science",
         "offsetgroup": "Head of Data Science",
         "orientation": "v",
         "pointpos": 0,
         "showlegend": true,
         "type": "box",
         "x": [
          "EX",
          "EX",
          "EX",
          "EX",
          "MI",
          "EX",
          "EX",
          "EX",
          "MI"
         ],
         "x0": " ",
         "xaxis": "x",
         "y": [
          160288,
          127467,
          314100,
          195800,
          60795,
          224000,
          167875,
          85000,
          110000
         ],
         "y0": " ",
         "yaxis": "y"
        },
        {
         "alignmentgroup": "True",
         "boxpoints": "all",
         "fillcolor": "rgba(255,255,255,0)",
         "hoveron": "points",
         "hovertemplate": "job_title=Insight Analyst<br>experience_level=%{x}<br>salary_in_usd=%{y}<extra></extra>",
         "legendgroup": "Insight Analyst",
         "line": {
          "color": "rgba(255,255,255,0)"
         },
         "marker": {
          "color": "#19d3f3"
         },
         "name": "Insight Analyst",
         "offsetgroup": "Insight Analyst",
         "orientation": "v",
         "pointpos": 0,
         "showlegend": true,
         "type": "box",
         "x": [
          "MI",
          "MI"
         ],
         "x0": " ",
         "xaxis": "x",
         "y": [
          51039,
          42533
         ],
         "y0": " ",
         "yaxis": "y"
        },
        {
         "alignmentgroup": "True",
         "boxpoints": "all",
         "fillcolor": "rgba(255,255,255,0)",
         "hoveron": "points",
         "hovertemplate": "job_title=Deep Learning Engineer<br>experience_level=%{x}<br>salary_in_usd=%{y}<extra></extra>",
         "legendgroup": "Deep Learning Engineer",
         "line": {
          "color": "rgba(255,255,255,0)"
         },
         "marker": {
          "color": "#FF6692"
         },
         "name": "Deep Learning Engineer",
         "offsetgroup": "Deep Learning Engineer",
         "orientation": "v",
         "pointpos": 0,
         "showlegend": true,
         "type": "box",
         "x": [
          "MI",
          "MI",
          "EN",
          "EN",
          "MI",
          "MI"
         ],
         "x0": " ",
         "xaxis": "x",
         "y": [
          150000,
          100000,
          150000,
          120000,
          86193,
          49253
         ],
         "y0": " ",
         "yaxis": "y"
        },
        {
         "alignmentgroup": "True",
         "boxpoints": "all",
         "fillcolor": "rgba(255,255,255,0)",
         "hoveron": "points",
         "hovertemplate": "job_title=Machine Learning Software Engineer<br>experience_level=%{x}<br>salary_in_usd=%{y}<extra></extra>",
         "legendgroup": "Machine Learning Software Engineer",
         "line": {
          "color": "rgba(255,255,255,0)"
         },
         "marker": {
          "color": "#B6E880"
         },
         "name": "Machine Learning Software Engineer",
         "offsetgroup": "Machine Learning Software Engineer",
         "orientation": "v",
         "pointpos": 0,
         "showlegend": true,
         "type": "box",
         "x": [
          "SE",
          "SE",
          "SE",
          "SE",
          "SE",
          "SE",
          "SE",
          "EN",
          "SE",
          "SE"
         ],
         "x0": " ",
         "xaxis": "x",
         "y": [
          180000,
          90000,
          272000,
          170000,
          375000,
          248400,
          183600,
          10000,
          227200,
          168000
         ],
         "y0": " ",
         "yaxis": "y"
        },
        {
         "alignmentgroup": "True",
         "boxpoints": "all",
         "fillcolor": "rgba(255,255,255,0)",
         "hoveron": "points",
         "hovertemplate": "job_title=Big Data Architect<br>experience_level=%{x}<br>salary_in_usd=%{y}<extra></extra>",
         "legendgroup": "Big Data Architect",
         "line": {
          "color": "rgba(255,255,255,0)"
         },
         "marker": {
          "color": "#FF97FF"
         },
         "name": "Big Data Architect",
         "offsetgroup": "Big Data Architect",
         "orientation": "v",
         "pointpos": 0,
         "showlegend": true,
         "type": "box",
         "x": [
          "SE",
          "SE"
         ],
         "x0": " ",
         "xaxis": "x",
         "y": [
          151902,
          99703
         ],
         "y0": " ",
         "yaxis": "y"
        },
        {
         "alignmentgroup": "True",
         "boxpoints": "all",
         "fillcolor": "rgba(255,255,255,0)",
         "hoveron": "points",
         "hovertemplate": "job_title=Product Data Analyst<br>experience_level=%{x}<br>salary_in_usd=%{y}<extra></extra>",
         "legendgroup": "Product Data Analyst",
         "line": {
          "color": "rgba(255,255,255,0)"
         },
         "marker": {
          "color": "#FECB52"
         },
         "name": "Product Data Analyst",
         "offsetgroup": "Product Data Analyst",
         "orientation": "v",
         "pointpos": 0,
         "showlegend": true,
         "type": "box",
         "x": [
          "MI",
          "EN",
          "MI",
          "MI",
          "MI"
         ],
         "x0": " ",
         "xaxis": "x",
         "y": [
          16414,
          100000,
          140000,
          20000,
          6072
         ],
         "y0": " ",
         "yaxis": "y"
        },
        {
         "alignmentgroup": "True",
         "boxpoints": "all",
         "fillcolor": "rgba(255,255,255,0)",
         "hoveron": "points",
         "hovertemplate": "job_title=Computer Vision Software Engineer<br>experience_level=%{x}<br>salary_in_usd=%{y}<extra></extra>",
         "legendgroup": "Computer Vision Software Engineer",
         "line": {
          "color": "rgba(255,255,255,0)"
         },
         "marker": {
          "color": "#636efa"
         },
         "name": "Computer Vision Software Engineer",
         "offsetgroup": "Computer Vision Software Engineer",
         "orientation": "v",
         "pointpos": 0,
         "showlegend": true,
         "type": "box",
         "x": [
          "SE",
          "EN",
          "EN",
          "MI",
          "EN"
         ],
         "x0": " ",
         "xaxis": "x",
         "y": [
          53654,
          19073,
          150000,
          95746,
          70000
         ],
         "y0": " ",
         "yaxis": "y"
        },
        {
         "alignmentgroup": "True",
         "boxpoints": "all",
         "fillcolor": "rgba(255,255,255,0)",
         "hoveron": "points",
         "hovertemplate": "job_title=Azure Data Engineer<br>experience_level=%{x}<br>salary_in_usd=%{y}<extra></extra>",
         "legendgroup": "Azure Data Engineer",
         "line": {
          "color": "rgba(255,255,255,0)"
         },
         "marker": {
          "color": "#EF553B"
         },
         "name": "Azure Data Engineer",
         "offsetgroup": "Azure Data Engineer",
         "orientation": "v",
         "pointpos": 0,
         "showlegend": true,
         "type": "box",
         "x": [
          "SE"
         ],
         "x0": " ",
         "xaxis": "x",
         "y": [
          100000
         ],
         "y0": " ",
         "yaxis": "y"
        },
        {
         "alignmentgroup": "True",
         "boxpoints": "all",
         "fillcolor": "rgba(255,255,255,0)",
         "hoveron": "points",
         "hovertemplate": "job_title=Marketing Data Engineer<br>experience_level=%{x}<br>salary_in_usd=%{y}<extra></extra>",
         "legendgroup": "Marketing Data Engineer",
         "line": {
          "color": "rgba(255,255,255,0)"
         },
         "marker": {
          "color": "#00cc96"
         },
         "name": "Marketing Data Engineer",
         "offsetgroup": "Marketing Data Engineer",
         "orientation": "v",
         "pointpos": 0,
         "showlegend": true,
         "type": "box",
         "x": [
          "EN"
         ],
         "x0": " ",
         "xaxis": "x",
         "y": [
          66970
         ],
         "y0": " ",
         "yaxis": "y"
        },
        {
         "alignmentgroup": "True",
         "boxpoints": "all",
         "fillcolor": "rgba(255,255,255,0)",
         "hoveron": "points",
         "hovertemplate": "job_title=Data Analytics Lead<br>experience_level=%{x}<br>salary_in_usd=%{y}<extra></extra>",
         "legendgroup": "Data Analytics Lead",
         "line": {
          "color": "rgba(255,255,255,0)"
         },
         "marker": {
          "color": "#ab63fa"
         },
         "name": "Data Analytics Lead",
         "offsetgroup": "Data Analytics Lead",
         "orientation": "v",
         "pointpos": 0,
         "showlegend": true,
         "type": "box",
         "x": [
          "MI",
          "SE"
         ],
         "x0": " ",
         "xaxis": "x",
         "y": [
          17509,
          405000
         ],
         "y0": " ",
         "yaxis": "y"
        },
        {
         "alignmentgroup": "True",
         "boxpoints": "all",
         "fillcolor": "rgba(255,255,255,0)",
         "hoveron": "points",
         "hovertemplate": "job_title=Data Lead<br>experience_level=%{x}<br>salary_in_usd=%{y}<extra></extra>",
         "legendgroup": "Data Lead",
         "line": {
          "color": "rgba(255,255,255,0)"
         },
         "marker": {
          "color": "#FFA15A"
         },
         "name": "Data Lead",
         "offsetgroup": "Data Lead",
         "orientation": "v",
         "pointpos": 0,
         "showlegend": true,
         "type": "box",
         "x": [
          "SE",
          "SE"
         ],
         "x0": " ",
         "xaxis": "x",
         "y": [
          225000,
          200000
         ],
         "y0": " ",
         "yaxis": "y"
        },
        {
         "alignmentgroup": "True",
         "boxpoints": "all",
         "fillcolor": "rgba(255,255,255,0)",
         "hoveron": "points",
         "hovertemplate": "job_title=Data Science Engineer<br>experience_level=%{x}<br>salary_in_usd=%{y}<extra></extra>",
         "legendgroup": "Data Science Engineer",
         "line": {
          "color": "rgba(255,255,255,0)"
         },
         "marker": {
          "color": "#19d3f3"
         },
         "name": "Data Science Engineer",
         "offsetgroup": "Data Science Engineer",
         "orientation": "v",
         "pointpos": 0,
         "showlegend": true,
         "type": "box",
         "x": [
          "SE",
          "SE",
          "SE",
          "SE",
          "MI"
         ],
         "x0": " ",
         "xaxis": "x",
         "y": [
          140000,
          100000,
          60000,
          127221,
          40189
         ],
         "y0": " ",
         "yaxis": "y"
        },
        {
         "alignmentgroup": "True",
         "boxpoints": "all",
         "fillcolor": "rgba(255,255,255,0)",
         "hoveron": "points",
         "hovertemplate": "job_title=Machine Learning Research Engineer<br>experience_level=%{x}<br>salary_in_usd=%{y}<extra></extra>",
         "legendgroup": "Machine Learning Research Engineer",
         "line": {
          "color": "rgba(255,255,255,0)"
         },
         "marker": {
          "color": "#FF6692"
         },
         "name": "Machine Learning Research Engineer",
         "offsetgroup": "Machine Learning Research Engineer",
         "orientation": "v",
         "pointpos": 0,
         "showlegend": true,
         "type": "box",
         "x": [
          "MI",
          "EN",
          "EN",
          "EN"
         ],
         "x0": " ",
         "xaxis": "x",
         "y": [
          72914,
          66192,
          20000,
          12171
         ],
         "y0": " ",
         "yaxis": "y"
        },
        {
         "alignmentgroup": "True",
         "boxpoints": "all",
         "fillcolor": "rgba(255,255,255,0)",
         "hoveron": "points",
         "hovertemplate": "job_title=NLP Engineer<br>experience_level=%{x}<br>salary_in_usd=%{y}<extra></extra>",
         "legendgroup": "NLP Engineer",
         "line": {
          "color": "rgba(255,255,255,0)"
         },
         "marker": {
          "color": "#B6E880"
         },
         "name": "NLP Engineer",
         "offsetgroup": "NLP Engineer",
         "orientation": "v",
         "pointpos": 0,
         "showlegend": true,
         "type": "box",
         "x": [
          "SE",
          "SE",
          "SE",
          "SE",
          "MI",
          "MI",
          "MI"
         ],
         "x0": " ",
         "xaxis": "x",
         "y": [
          275000,
          175000,
          235000,
          135000,
          44365,
          5132,
          60000
         ],
         "y0": " ",
         "yaxis": "y"
        },
        {
         "alignmentgroup": "True",
         "boxpoints": "all",
         "fillcolor": "rgba(255,255,255,0)",
         "hoveron": "points",
         "hovertemplate": "job_title=Manager Data Management<br>experience_level=%{x}<br>salary_in_usd=%{y}<extra></extra>",
         "legendgroup": "Manager Data Management",
         "line": {
          "color": "rgba(255,255,255,0)"
         },
         "marker": {
          "color": "#FF97FF"
         },
         "name": "Manager Data Management",
         "offsetgroup": "Manager Data Management",
         "orientation": "v",
         "pointpos": 0,
         "showlegend": true,
         "type": "box",
         "x": [
          "SE"
         ],
         "x0": " ",
         "xaxis": "x",
         "y": [
          125000
         ],
         "y0": " ",
         "yaxis": "y"
        },
        {
         "alignmentgroup": "True",
         "boxpoints": "all",
         "fillcolor": "rgba(255,255,255,0)",
         "hoveron": "points",
         "hovertemplate": "job_title=Machine Learning Developer<br>experience_level=%{x}<br>salary_in_usd=%{y}<extra></extra>",
         "legendgroup": "Machine Learning Developer",
         "line": {
          "color": "rgba(255,255,255,0)"
         },
         "marker": {
          "color": "#FECB52"
         },
         "name": "Machine Learning Developer",
         "offsetgroup": "Machine Learning Developer",
         "orientation": "v",
         "pointpos": 0,
         "showlegend": true,
         "type": "box",
         "x": [
          "EN",
          "EN",
          "EN",
          "EN",
          "MI",
          "SE",
          "EN"
         ],
         "x0": " ",
         "xaxis": "x",
         "y": [
          40000,
          33000,
          15000,
          180000,
          76814,
          76814,
          100000
         ],
         "y0": " ",
         "yaxis": "y"
        },
        {
         "alignmentgroup": "True",
         "boxpoints": "all",
         "fillcolor": "rgba(255,255,255,0)",
         "hoveron": "points",
         "hovertemplate": "job_title=3D Computer Vision Researcher<br>experience_level=%{x}<br>salary_in_usd=%{y}<extra></extra>",
         "legendgroup": "3D Computer Vision Researcher",
         "line": {
          "color": "rgba(255,255,255,0)"
         },
         "marker": {
          "color": "#636efa"
         },
         "name": "3D Computer Vision Researcher",
         "offsetgroup": "3D Computer Vision Researcher",
         "orientation": "v",
         "pointpos": 0,
         "showlegend": true,
         "type": "box",
         "x": [
          "SE",
          "EN",
          "EN",
          "MI"
         ],
         "x0": " ",
         "xaxis": "x",
         "y": [
          10000,
          20000,
          50000,
          5409
         ],
         "y0": " ",
         "yaxis": "y"
        },
        {
         "alignmentgroup": "True",
         "boxpoints": "all",
         "fillcolor": "rgba(255,255,255,0)",
         "hoveron": "points",
         "hovertemplate": "job_title=Principal Machine Learning Engineer<br>experience_level=%{x}<br>salary_in_usd=%{y}<extra></extra>",
         "legendgroup": "Principal Machine Learning Engineer",
         "line": {
          "color": "rgba(255,255,255,0)"
         },
         "marker": {
          "color": "#EF553B"
         },
         "name": "Principal Machine Learning Engineer",
         "offsetgroup": "Principal Machine Learning Engineer",
         "orientation": "v",
         "pointpos": 0,
         "showlegend": true,
         "type": "box",
         "x": [
          "SE"
         ],
         "x0": " ",
         "xaxis": "x",
         "y": [
          190000
         ],
         "y0": " ",
         "yaxis": "y"
        },
        {
         "alignmentgroup": "True",
         "boxpoints": "all",
         "fillcolor": "rgba(255,255,255,0)",
         "hoveron": "points",
         "hovertemplate": "job_title=Data Analytics Engineer<br>experience_level=%{x}<br>salary_in_usd=%{y}<extra></extra>",
         "legendgroup": "Data Analytics Engineer",
         "line": {
          "color": "rgba(255,255,255,0)"
         },
         "marker": {
          "color": "#00cc96"
         },
         "name": "Data Analytics Engineer",
         "offsetgroup": "Data Analytics Engineer",
         "orientation": "v",
         "pointpos": 0,
         "showlegend": true,
         "type": "box",
         "x": [
          "EN",
          "MI",
          "EN",
          "MI",
          "SE",
          "SE"
         ],
         "x0": " ",
         "xaxis": "x",
         "y": [
          13000,
          135000,
          20000,
          110000,
          79197,
          50000
         ],
         "y0": " ",
         "yaxis": "y"
        },
        {
         "alignmentgroup": "True",
         "boxpoints": "all",
         "fillcolor": "rgba(255,255,255,0)",
         "hoveron": "points",
         "hovertemplate": "job_title=Data Analytics Consultant<br>experience_level=%{x}<br>salary_in_usd=%{y}<extra></extra>",
         "legendgroup": "Data Analytics Consultant",
         "line": {
          "color": "rgba(255,255,255,0)"
         },
         "marker": {
          "color": "#ab63fa"
         },
         "name": "Data Analytics Consultant",
         "offsetgroup": "Data Analytics Consultant",
         "orientation": "v",
         "pointpos": 0,
         "showlegend": true,
         "type": "box",
         "x": [
          "EN",
          "MI"
         ],
         "x0": " ",
         "xaxis": "x",
         "y": [
          50000,
          113000
         ],
         "y0": " ",
         "yaxis": "y"
        },
        {
         "alignmentgroup": "True",
         "boxpoints": "all",
         "fillcolor": "rgba(255,255,255,0)",
         "hoveron": "points",
         "hovertemplate": "job_title=Data Management Specialist<br>experience_level=%{x}<br>salary_in_usd=%{y}<extra></extra>",
         "legendgroup": "Data Management Specialist",
         "line": {
          "color": "rgba(255,255,255,0)"
         },
         "marker": {
          "color": "#FFA15A"
         },
         "name": "Data Management Specialist",
         "offsetgroup": "Data Management Specialist",
         "orientation": "v",
         "pointpos": 0,
         "showlegend": true,
         "type": "box",
         "x": [
          "SE"
         ],
         "x0": " ",
         "xaxis": "x",
         "y": [
          68293
         ],
         "y0": " ",
         "yaxis": "y"
        },
        {
         "alignmentgroup": "True",
         "boxpoints": "all",
         "fillcolor": "rgba(255,255,255,0)",
         "hoveron": "points",
         "hovertemplate": "job_title=Data Science Tech Lead<br>experience_level=%{x}<br>salary_in_usd=%{y}<extra></extra>",
         "legendgroup": "Data Science Tech Lead",
         "line": {
          "color": "rgba(255,255,255,0)"
         },
         "marker": {
          "color": "#19d3f3"
         },
         "name": "Data Science Tech Lead",
         "offsetgroup": "Data Science Tech Lead",
         "orientation": "v",
         "pointpos": 0,
         "showlegend": true,
         "type": "box",
         "x": [
          "SE"
         ],
         "x0": " ",
         "xaxis": "x",
         "y": [
          375000
         ],
         "y0": " ",
         "yaxis": "y"
        },
        {
         "alignmentgroup": "True",
         "boxpoints": "all",
         "fillcolor": "rgba(255,255,255,0)",
         "hoveron": "points",
         "hovertemplate": "job_title=Data Scientist Lead<br>experience_level=%{x}<br>salary_in_usd=%{y}<extra></extra>",
         "legendgroup": "Data Scientist Lead",
         "line": {
          "color": "rgba(255,255,255,0)"
         },
         "marker": {
          "color": "#FF6692"
         },
         "name": "Data Scientist Lead",
         "offsetgroup": "Data Scientist Lead",
         "orientation": "v",
         "pointpos": 0,
         "showlegend": true,
         "type": "box",
         "x": [
          "MI",
          "SE"
         ],
         "x0": " ",
         "xaxis": "x",
         "y": [
          89306,
          183000
         ],
         "y0": " ",
         "yaxis": "y"
        },
        {
         "alignmentgroup": "True",
         "boxpoints": "all",
         "fillcolor": "rgba(255,255,255,0)",
         "hoveron": "points",
         "hovertemplate": "job_title=Cloud Data Engineer<br>experience_level=%{x}<br>salary_in_usd=%{y}<extra></extra>",
         "legendgroup": "Cloud Data Engineer",
         "line": {
          "color": "rgba(255,255,255,0)"
         },
         "marker": {
          "color": "#B6E880"
         },
         "name": "Cloud Data Engineer",
         "offsetgroup": "Cloud Data Engineer",
         "orientation": "v",
         "pointpos": 0,
         "showlegend": true,
         "type": "box",
         "x": [
          "SE",
          "MI",
          "SE"
         ],
         "x0": " ",
         "xaxis": "x",
         "y": [
          12608,
          89294,
          160000
         ],
         "y0": " ",
         "yaxis": "y"
        },
        {
         "alignmentgroup": "True",
         "boxpoints": "all",
         "fillcolor": "rgba(255,255,255,0)",
         "hoveron": "points",
         "hovertemplate": "job_title=Data Operations Analyst<br>experience_level=%{x}<br>salary_in_usd=%{y}<extra></extra>",
         "legendgroup": "Data Operations Analyst",
         "line": {
          "color": "rgba(255,255,255,0)"
         },
         "marker": {
          "color": "#FF97FF"
         },
         "name": "Data Operations Analyst",
         "offsetgroup": "Data Operations Analyst",
         "orientation": "v",
         "pointpos": 0,
         "showlegend": true,
         "type": "box",
         "x": [
          "SE",
          "SE",
          "SE",
          "SE"
         ],
         "x0": " ",
         "xaxis": "x",
         "y": [
          123000,
          92250,
          81000,
          66000
         ],
         "y0": " ",
         "yaxis": "y"
        },
        {
         "alignmentgroup": "True",
         "boxpoints": "all",
         "fillcolor": "rgba(255,255,255,0)",
         "hoveron": "points",
         "hovertemplate": "job_title=Marketing Data Analyst<br>experience_level=%{x}<br>salary_in_usd=%{y}<extra></extra>",
         "legendgroup": "Marketing Data Analyst",
         "line": {
          "color": "rgba(255,255,255,0)"
         },
         "marker": {
          "color": "#FECB52"
         },
         "name": "Marketing Data Analyst",
         "offsetgroup": "Marketing Data Analyst",
         "orientation": "v",
         "pointpos": 0,
         "showlegend": true,
         "type": "box",
         "x": [
          "SE",
          "SE"
         ],
         "x0": " ",
         "xaxis": "x",
         "y": [
          200000,
          88654
         ],
         "y0": " ",
         "yaxis": "y"
        },
        {
         "alignmentgroup": "True",
         "boxpoints": "all",
         "fillcolor": "rgba(255,255,255,0)",
         "hoveron": "points",
         "hovertemplate": "job_title=Power BI Developer<br>experience_level=%{x}<br>salary_in_usd=%{y}<extra></extra>",
         "legendgroup": "Power BI Developer",
         "line": {
          "color": "rgba(255,255,255,0)"
         },
         "marker": {
          "color": "#636efa"
         },
         "name": "Power BI Developer",
         "offsetgroup": "Power BI Developer",
         "orientation": "v",
         "pointpos": 0,
         "showlegend": true,
         "type": "box",
         "x": [
          "EN"
         ],
         "x0": " ",
         "xaxis": "x",
         "y": [
          5409
         ],
         "y0": " ",
         "yaxis": "y"
        },
        {
         "alignmentgroup": "True",
         "boxpoints": "all",
         "fillcolor": "rgba(255,255,255,0)",
         "hoveron": "points",
         "hovertemplate": "job_title=Product Data Scientist<br>experience_level=%{x}<br>salary_in_usd=%{y}<extra></extra>",
         "legendgroup": "Product Data Scientist",
         "line": {
          "color": "rgba(255,255,255,0)"
         },
         "marker": {
          "color": "#EF553B"
         },
         "name": "Product Data Scientist",
         "offsetgroup": "Product Data Scientist",
         "orientation": "v",
         "pointpos": 0,
         "showlegend": true,
         "type": "box",
         "x": [
          "SE"
         ],
         "x0": " ",
         "xaxis": "x",
         "y": [
          8000
         ],
         "y0": " ",
         "yaxis": "y"
        },
        {
         "alignmentgroup": "True",
         "boxpoints": "all",
         "fillcolor": "rgba(255,255,255,0)",
         "hoveron": "points",
         "hovertemplate": "job_title=Principal Data Architect<br>experience_level=%{x}<br>salary_in_usd=%{y}<extra></extra>",
         "legendgroup": "Principal Data Architect",
         "line": {
          "color": "rgba(255,255,255,0)"
         },
         "marker": {
          "color": "#00cc96"
         },
         "name": "Principal Data Architect",
         "offsetgroup": "Principal Data Architect",
         "orientation": "v",
         "pointpos": 0,
         "showlegend": true,
         "type": "box",
         "x": [
          "SE"
         ],
         "x0": " ",
         "xaxis": "x",
         "y": [
          38154
         ],
         "y0": " ",
         "yaxis": "y"
        },
        {
         "alignmentgroup": "True",
         "boxpoints": "all",
         "fillcolor": "rgba(255,255,255,0)",
         "hoveron": "points",
         "hovertemplate": "job_title=Machine Learning Manager<br>experience_level=%{x}<br>salary_in_usd=%{y}<extra></extra>",
         "legendgroup": "Machine Learning Manager",
         "line": {
          "color": "rgba(255,255,255,0)"
         },
         "marker": {
          "color": "#ab63fa"
         },
         "name": "Machine Learning Manager",
         "offsetgroup": "Machine Learning Manager",
         "orientation": "v",
         "pointpos": 0,
         "showlegend": true,
         "type": "box",
         "x": [
          "SE",
          "SE",
          "SE"
         ],
         "x0": " ",
         "xaxis": "x",
         "y": [
          200000,
          150000,
          117104
         ],
         "y0": " ",
         "yaxis": "y"
        },
        {
         "alignmentgroup": "True",
         "boxpoints": "all",
         "fillcolor": "rgba(255,255,255,0)",
         "hoveron": "points",
         "hovertemplate": "job_title=Lead Machine Learning Engineer<br>experience_level=%{x}<br>salary_in_usd=%{y}<extra></extra>",
         "legendgroup": "Lead Machine Learning Engineer",
         "line": {
          "color": "rgba(255,255,255,0)"
         },
         "marker": {
          "color": "#FFA15A"
         },
         "name": "Lead Machine Learning Engineer",
         "offsetgroup": "Lead Machine Learning Engineer",
         "orientation": "v",
         "pointpos": 0,
         "showlegend": true,
         "type": "box",
         "x": [
          "SE",
          "SE",
          "SE"
         ],
         "x0": " ",
         "xaxis": "x",
         "y": [
          69344,
          95386,
          84053
         ],
         "y0": " ",
         "yaxis": "y"
        },
        {
         "alignmentgroup": "True",
         "boxpoints": "all",
         "fillcolor": "rgba(255,255,255,0)",
         "hoveron": "points",
         "hovertemplate": "job_title=ETL Developer<br>experience_level=%{x}<br>salary_in_usd=%{y}<extra></extra>",
         "legendgroup": "ETL Developer",
         "line": {
          "color": "rgba(255,255,255,0)"
         },
         "marker": {
          "color": "#19d3f3"
         },
         "name": "ETL Developer",
         "offsetgroup": "ETL Developer",
         "orientation": "v",
         "pointpos": 0,
         "showlegend": true,
         "type": "box",
         "x": [
          "SE",
          "SE",
          "SE",
          "SE",
          "SE",
          "SE",
          "SE",
          "SE",
          "MI",
          "MI"
         ],
         "x0": " ",
         "xaxis": "x",
         "y": [
          250000,
          63000,
          250000,
          63000,
          146200,
          124270,
          250000,
          63000,
          52533,
          52533
         ],
         "y0": " ",
         "yaxis": "y"
        },
        {
         "alignmentgroup": "True",
         "boxpoints": "all",
         "fillcolor": "rgba(255,255,255,0)",
         "hoveron": "points",
         "hovertemplate": "job_title=Cloud Data Architect<br>experience_level=%{x}<br>salary_in_usd=%{y}<extra></extra>",
         "legendgroup": "Cloud Data Architect",
         "line": {
          "color": "rgba(255,255,255,0)"
         },
         "marker": {
          "color": "#FF6692"
         },
         "name": "Cloud Data Architect",
         "offsetgroup": "Cloud Data Architect",
         "orientation": "v",
         "pointpos": 0,
         "showlegend": true,
         "type": "box",
         "x": [
          "SE"
         ],
         "x0": " ",
         "xaxis": "x",
         "y": [
          250000
         ],
         "y0": " ",
         "yaxis": "y"
        },
        {
         "alignmentgroup": "True",
         "boxpoints": "all",
         "fillcolor": "rgba(255,255,255,0)",
         "hoveron": "points",
         "hovertemplate": "job_title=Lead Data Engineer<br>experience_level=%{x}<br>salary_in_usd=%{y}<extra></extra>",
         "legendgroup": "Lead Data Engineer",
         "line": {
          "color": "rgba(255,255,255,0)"
         },
         "marker": {
          "color": "#B6E880"
         },
         "name": "Lead Data Engineer",
         "offsetgroup": "Lead Data Engineer",
         "orientation": "v",
         "pointpos": 0,
         "showlegend": true,
         "type": "box",
         "x": [
          "EX",
          "SE",
          "SE",
          "SE",
          "SE",
          "MI"
         ],
         "x0": " ",
         "xaxis": "x",
         "y": [
          115222,
          103160,
          276000,
          160000,
          125000,
          56000
         ],
         "y0": " ",
         "yaxis": "y"
        },
        {
         "alignmentgroup": "True",
         "boxpoints": "all",
         "fillcolor": "rgba(255,255,255,0)",
         "hoveron": "points",
         "hovertemplate": "job_title=Head of Machine Learning<br>experience_level=%{x}<br>salary_in_usd=%{y}<extra></extra>",
         "legendgroup": "Head of Machine Learning",
         "line": {
          "color": "rgba(255,255,255,0)"
         },
         "marker": {
          "color": "#FF97FF"
         },
         "name": "Head of Machine Learning",
         "offsetgroup": "Head of Machine Learning",
         "orientation": "v",
         "pointpos": 0,
         "showlegend": true,
         "type": "box",
         "x": [
          "EX"
         ],
         "x0": " ",
         "xaxis": "x",
         "y": [
          76309
         ],
         "y0": " ",
         "yaxis": "y"
        },
        {
         "alignmentgroup": "True",
         "boxpoints": "all",
         "fillcolor": "rgba(255,255,255,0)",
         "hoveron": "points",
         "hovertemplate": "job_title=Principal Data Analyst<br>experience_level=%{x}<br>salary_in_usd=%{y}<extra></extra>",
         "legendgroup": "Principal Data Analyst",
         "line": {
          "color": "rgba(255,255,255,0)"
         },
         "marker": {
          "color": "#FECB52"
         },
         "name": "Principal Data Analyst",
         "offsetgroup": "Principal Data Analyst",
         "orientation": "v",
         "pointpos": 0,
         "showlegend": true,
         "type": "box",
         "x": [
          "MI",
          "SE"
         ],
         "x0": " ",
         "xaxis": "x",
         "y": [
          75000,
          170000
         ],
         "y0": " ",
         "yaxis": "y"
        },
        {
         "alignmentgroup": "True",
         "boxpoints": "all",
         "fillcolor": "rgba(255,255,255,0)",
         "hoveron": "points",
         "hovertemplate": "job_title=Principal Data Engineer<br>experience_level=%{x}<br>salary_in_usd=%{y}<extra></extra>",
         "legendgroup": "Principal Data Engineer",
         "line": {
          "color": "rgba(255,255,255,0)"
         },
         "marker": {
          "color": "#636efa"
         },
         "name": "Principal Data Engineer",
         "offsetgroup": "Principal Data Engineer",
         "orientation": "v",
         "pointpos": 0,
         "showlegend": true,
         "type": "box",
         "x": [
          "SE",
          "SE"
         ],
         "x0": " ",
         "xaxis": "x",
         "y": [
          200000,
          185000
         ],
         "y0": " ",
         "yaxis": "y"
        },
        {
         "alignmentgroup": "True",
         "boxpoints": "all",
         "fillcolor": "rgba(255,255,255,0)",
         "hoveron": "points",
         "hovertemplate": "job_title=Staff Data Scientist<br>experience_level=%{x}<br>salary_in_usd=%{y}<extra></extra>",
         "legendgroup": "Staff Data Scientist",
         "line": {
          "color": "rgba(255,255,255,0)"
         },
         "marker": {
          "color": "#EF553B"
         },
         "name": "Staff Data Scientist",
         "offsetgroup": "Staff Data Scientist",
         "orientation": "v",
         "pointpos": 0,
         "showlegend": true,
         "type": "box",
         "x": [
          "SE"
         ],
         "x0": " ",
         "xaxis": "x",
         "y": [
          105000
         ],
         "y0": " ",
         "yaxis": "y"
        },
        {
         "alignmentgroup": "True",
         "boxpoints": "all",
         "fillcolor": "rgba(255,255,255,0)",
         "hoveron": "points",
         "hovertemplate": "job_title=Finance Data Analyst<br>experience_level=%{x}<br>salary_in_usd=%{y}<extra></extra>",
         "legendgroup": "Finance Data Analyst",
         "line": {
          "color": "rgba(255,255,255,0)"
         },
         "marker": {
          "color": "#00cc96"
         },
         "name": "Finance Data Analyst",
         "offsetgroup": "Finance Data Analyst",
         "orientation": "v",
         "pointpos": 0,
         "showlegend": true,
         "type": "box",
         "x": [
          "SE"
         ],
         "x0": " ",
         "xaxis": "x",
         "y": [
          61896
         ],
         "y0": " ",
         "yaxis": "y"
        }
       ],
       "layout": {
        "boxmode": "group",
        "legend": {
         "title": {
          "text": "job_title"
         },
         "tracegroupgap": 0
        },
        "template": {
         "data": {
          "bar": [
           {
            "error_x": {
             "color": "#f2f5fa"
            },
            "error_y": {
             "color": "#f2f5fa"
            },
            "marker": {
             "line": {
              "color": "rgb(17,17,17)",
              "width": 0.5
             },
             "pattern": {
              "fillmode": "overlay",
              "size": 10,
              "solidity": 0.2
             }
            },
            "type": "bar"
           }
          ],
          "barpolar": [
           {
            "marker": {
             "line": {
              "color": "rgb(17,17,17)",
              "width": 0.5
             },
             "pattern": {
              "fillmode": "overlay",
              "size": 10,
              "solidity": 0.2
             }
            },
            "type": "barpolar"
           }
          ],
          "carpet": [
           {
            "aaxis": {
             "endlinecolor": "#A2B1C6",
             "gridcolor": "#506784",
             "linecolor": "#506784",
             "minorgridcolor": "#506784",
             "startlinecolor": "#A2B1C6"
            },
            "baxis": {
             "endlinecolor": "#A2B1C6",
             "gridcolor": "#506784",
             "linecolor": "#506784",
             "minorgridcolor": "#506784",
             "startlinecolor": "#A2B1C6"
            },
            "type": "carpet"
           }
          ],
          "choropleth": [
           {
            "colorbar": {
             "outlinewidth": 0,
             "ticks": ""
            },
            "type": "choropleth"
           }
          ],
          "contour": [
           {
            "colorbar": {
             "outlinewidth": 0,
             "ticks": ""
            },
            "colorscale": [
             [
              0,
              "#0d0887"
             ],
             [
              0.1111111111111111,
              "#46039f"
             ],
             [
              0.2222222222222222,
              "#7201a8"
             ],
             [
              0.3333333333333333,
              "#9c179e"
             ],
             [
              0.4444444444444444,
              "#bd3786"
             ],
             [
              0.5555555555555556,
              "#d8576b"
             ],
             [
              0.6666666666666666,
              "#ed7953"
             ],
             [
              0.7777777777777778,
              "#fb9f3a"
             ],
             [
              0.8888888888888888,
              "#fdca26"
             ],
             [
              1,
              "#f0f921"
             ]
            ],
            "type": "contour"
           }
          ],
          "contourcarpet": [
           {
            "colorbar": {
             "outlinewidth": 0,
             "ticks": ""
            },
            "type": "contourcarpet"
           }
          ],
          "heatmap": [
           {
            "colorbar": {
             "outlinewidth": 0,
             "ticks": ""
            },
            "colorscale": [
             [
              0,
              "#0d0887"
             ],
             [
              0.1111111111111111,
              "#46039f"
             ],
             [
              0.2222222222222222,
              "#7201a8"
             ],
             [
              0.3333333333333333,
              "#9c179e"
             ],
             [
              0.4444444444444444,
              "#bd3786"
             ],
             [
              0.5555555555555556,
              "#d8576b"
             ],
             [
              0.6666666666666666,
              "#ed7953"
             ],
             [
              0.7777777777777778,
              "#fb9f3a"
             ],
             [
              0.8888888888888888,
              "#fdca26"
             ],
             [
              1,
              "#f0f921"
             ]
            ],
            "type": "heatmap"
           }
          ],
          "heatmapgl": [
           {
            "colorbar": {
             "outlinewidth": 0,
             "ticks": ""
            },
            "colorscale": [
             [
              0,
              "#0d0887"
             ],
             [
              0.1111111111111111,
              "#46039f"
             ],
             [
              0.2222222222222222,
              "#7201a8"
             ],
             [
              0.3333333333333333,
              "#9c179e"
             ],
             [
              0.4444444444444444,
              "#bd3786"
             ],
             [
              0.5555555555555556,
              "#d8576b"
             ],
             [
              0.6666666666666666,
              "#ed7953"
             ],
             [
              0.7777777777777778,
              "#fb9f3a"
             ],
             [
              0.8888888888888888,
              "#fdca26"
             ],
             [
              1,
              "#f0f921"
             ]
            ],
            "type": "heatmapgl"
           }
          ],
          "histogram": [
           {
            "marker": {
             "pattern": {
              "fillmode": "overlay",
              "size": 10,
              "solidity": 0.2
             }
            },
            "type": "histogram"
           }
          ],
          "histogram2d": [
           {
            "colorbar": {
             "outlinewidth": 0,
             "ticks": ""
            },
            "colorscale": [
             [
              0,
              "#0d0887"
             ],
             [
              0.1111111111111111,
              "#46039f"
             ],
             [
              0.2222222222222222,
              "#7201a8"
             ],
             [
              0.3333333333333333,
              "#9c179e"
             ],
             [
              0.4444444444444444,
              "#bd3786"
             ],
             [
              0.5555555555555556,
              "#d8576b"
             ],
             [
              0.6666666666666666,
              "#ed7953"
             ],
             [
              0.7777777777777778,
              "#fb9f3a"
             ],
             [
              0.8888888888888888,
              "#fdca26"
             ],
             [
              1,
              "#f0f921"
             ]
            ],
            "type": "histogram2d"
           }
          ],
          "histogram2dcontour": [
           {
            "colorbar": {
             "outlinewidth": 0,
             "ticks": ""
            },
            "colorscale": [
             [
              0,
              "#0d0887"
             ],
             [
              0.1111111111111111,
              "#46039f"
             ],
             [
              0.2222222222222222,
              "#7201a8"
             ],
             [
              0.3333333333333333,
              "#9c179e"
             ],
             [
              0.4444444444444444,
              "#bd3786"
             ],
             [
              0.5555555555555556,
              "#d8576b"
             ],
             [
              0.6666666666666666,
              "#ed7953"
             ],
             [
              0.7777777777777778,
              "#fb9f3a"
             ],
             [
              0.8888888888888888,
              "#fdca26"
             ],
             [
              1,
              "#f0f921"
             ]
            ],
            "type": "histogram2dcontour"
           }
          ],
          "mesh3d": [
           {
            "colorbar": {
             "outlinewidth": 0,
             "ticks": ""
            },
            "type": "mesh3d"
           }
          ],
          "parcoords": [
           {
            "line": {
             "colorbar": {
              "outlinewidth": 0,
              "ticks": ""
             }
            },
            "type": "parcoords"
           }
          ],
          "pie": [
           {
            "automargin": true,
            "type": "pie"
           }
          ],
          "scatter": [
           {
            "marker": {
             "line": {
              "color": "#283442"
             }
            },
            "type": "scatter"
           }
          ],
          "scatter3d": [
           {
            "line": {
             "colorbar": {
              "outlinewidth": 0,
              "ticks": ""
             }
            },
            "marker": {
             "colorbar": {
              "outlinewidth": 0,
              "ticks": ""
             }
            },
            "type": "scatter3d"
           }
          ],
          "scattercarpet": [
           {
            "marker": {
             "colorbar": {
              "outlinewidth": 0,
              "ticks": ""
             }
            },
            "type": "scattercarpet"
           }
          ],
          "scattergeo": [
           {
            "marker": {
             "colorbar": {
              "outlinewidth": 0,
              "ticks": ""
             }
            },
            "type": "scattergeo"
           }
          ],
          "scattergl": [
           {
            "marker": {
             "line": {
              "color": "#283442"
             }
            },
            "type": "scattergl"
           }
          ],
          "scattermapbox": [
           {
            "marker": {
             "colorbar": {
              "outlinewidth": 0,
              "ticks": ""
             }
            },
            "type": "scattermapbox"
           }
          ],
          "scatterpolar": [
           {
            "marker": {
             "colorbar": {
              "outlinewidth": 0,
              "ticks": ""
             }
            },
            "type": "scatterpolar"
           }
          ],
          "scatterpolargl": [
           {
            "marker": {
             "colorbar": {
              "outlinewidth": 0,
              "ticks": ""
             }
            },
            "type": "scatterpolargl"
           }
          ],
          "scatterternary": [
           {
            "marker": {
             "colorbar": {
              "outlinewidth": 0,
              "ticks": ""
             }
            },
            "type": "scatterternary"
           }
          ],
          "surface": [
           {
            "colorbar": {
             "outlinewidth": 0,
             "ticks": ""
            },
            "colorscale": [
             [
              0,
              "#0d0887"
             ],
             [
              0.1111111111111111,
              "#46039f"
             ],
             [
              0.2222222222222222,
              "#7201a8"
             ],
             [
              0.3333333333333333,
              "#9c179e"
             ],
             [
              0.4444444444444444,
              "#bd3786"
             ],
             [
              0.5555555555555556,
              "#d8576b"
             ],
             [
              0.6666666666666666,
              "#ed7953"
             ],
             [
              0.7777777777777778,
              "#fb9f3a"
             ],
             [
              0.8888888888888888,
              "#fdca26"
             ],
             [
              1,
              "#f0f921"
             ]
            ],
            "type": "surface"
           }
          ],
          "table": [
           {
            "cells": {
             "fill": {
              "color": "#506784"
             },
             "line": {
              "color": "rgb(17,17,17)"
             }
            },
            "header": {
             "fill": {
              "color": "#2a3f5f"
             },
             "line": {
              "color": "rgb(17,17,17)"
             }
            },
            "type": "table"
           }
          ]
         },
         "layout": {
          "annotationdefaults": {
           "arrowcolor": "#f2f5fa",
           "arrowhead": 0,
           "arrowwidth": 1
          },
          "autotypenumbers": "strict",
          "coloraxis": {
           "colorbar": {
            "outlinewidth": 0,
            "ticks": ""
           }
          },
          "colorscale": {
           "diverging": [
            [
             0,
             "#8e0152"
            ],
            [
             0.1,
             "#c51b7d"
            ],
            [
             0.2,
             "#de77ae"
            ],
            [
             0.3,
             "#f1b6da"
            ],
            [
             0.4,
             "#fde0ef"
            ],
            [
             0.5,
             "#f7f7f7"
            ],
            [
             0.6,
             "#e6f5d0"
            ],
            [
             0.7,
             "#b8e186"
            ],
            [
             0.8,
             "#7fbc41"
            ],
            [
             0.9,
             "#4d9221"
            ],
            [
             1,
             "#276419"
            ]
           ],
           "sequential": [
            [
             0,
             "#0d0887"
            ],
            [
             0.1111111111111111,
             "#46039f"
            ],
            [
             0.2222222222222222,
             "#7201a8"
            ],
            [
             0.3333333333333333,
             "#9c179e"
            ],
            [
             0.4444444444444444,
             "#bd3786"
            ],
            [
             0.5555555555555556,
             "#d8576b"
            ],
            [
             0.6666666666666666,
             "#ed7953"
            ],
            [
             0.7777777777777778,
             "#fb9f3a"
            ],
            [
             0.8888888888888888,
             "#fdca26"
            ],
            [
             1,
             "#f0f921"
            ]
           ],
           "sequentialminus": [
            [
             0,
             "#0d0887"
            ],
            [
             0.1111111111111111,
             "#46039f"
            ],
            [
             0.2222222222222222,
             "#7201a8"
            ],
            [
             0.3333333333333333,
             "#9c179e"
            ],
            [
             0.4444444444444444,
             "#bd3786"
            ],
            [
             0.5555555555555556,
             "#d8576b"
            ],
            [
             0.6666666666666666,
             "#ed7953"
            ],
            [
             0.7777777777777778,
             "#fb9f3a"
            ],
            [
             0.8888888888888888,
             "#fdca26"
            ],
            [
             1,
             "#f0f921"
            ]
           ]
          },
          "colorway": [
           "#636efa",
           "#EF553B",
           "#00cc96",
           "#ab63fa",
           "#FFA15A",
           "#19d3f3",
           "#FF6692",
           "#B6E880",
           "#FF97FF",
           "#FECB52"
          ],
          "font": {
           "color": "#f2f5fa"
          },
          "geo": {
           "bgcolor": "rgb(17,17,17)",
           "lakecolor": "rgb(17,17,17)",
           "landcolor": "rgb(17,17,17)",
           "showlakes": true,
           "showland": true,
           "subunitcolor": "#506784"
          },
          "hoverlabel": {
           "align": "left"
          },
          "hovermode": "closest",
          "mapbox": {
           "style": "dark"
          },
          "paper_bgcolor": "rgb(17,17,17)",
          "plot_bgcolor": "rgb(17,17,17)",
          "polar": {
           "angularaxis": {
            "gridcolor": "#506784",
            "linecolor": "#506784",
            "ticks": ""
           },
           "bgcolor": "rgb(17,17,17)",
           "radialaxis": {
            "gridcolor": "#506784",
            "linecolor": "#506784",
            "ticks": ""
           }
          },
          "scene": {
           "xaxis": {
            "backgroundcolor": "rgb(17,17,17)",
            "gridcolor": "#506784",
            "gridwidth": 2,
            "linecolor": "#506784",
            "showbackground": true,
            "ticks": "",
            "zerolinecolor": "#C8D4E3"
           },
           "yaxis": {
            "backgroundcolor": "rgb(17,17,17)",
            "gridcolor": "#506784",
            "gridwidth": 2,
            "linecolor": "#506784",
            "showbackground": true,
            "ticks": "",
            "zerolinecolor": "#C8D4E3"
           },
           "zaxis": {
            "backgroundcolor": "rgb(17,17,17)",
            "gridcolor": "#506784",
            "gridwidth": 2,
            "linecolor": "#506784",
            "showbackground": true,
            "ticks": "",
            "zerolinecolor": "#C8D4E3"
           }
          },
          "shapedefaults": {
           "line": {
            "color": "#f2f5fa"
           }
          },
          "sliderdefaults": {
           "bgcolor": "#C8D4E3",
           "bordercolor": "rgb(17,17,17)",
           "borderwidth": 1,
           "tickwidth": 0
          },
          "ternary": {
           "aaxis": {
            "gridcolor": "#506784",
            "linecolor": "#506784",
            "ticks": ""
           },
           "baxis": {
            "gridcolor": "#506784",
            "linecolor": "#506784",
            "ticks": ""
           },
           "bgcolor": "rgb(17,17,17)",
           "caxis": {
            "gridcolor": "#506784",
            "linecolor": "#506784",
            "ticks": ""
           }
          },
          "title": {
           "x": 0.05
          },
          "updatemenudefaults": {
           "bgcolor": "#506784",
           "borderwidth": 0
          },
          "xaxis": {
           "automargin": true,
           "gridcolor": "#283442",
           "linecolor": "#506784",
           "ticks": "",
           "title": {
            "standoff": 15
           },
           "zerolinecolor": "#283442",
           "zerolinewidth": 2
          },
          "yaxis": {
           "automargin": true,
           "gridcolor": "#283442",
           "linecolor": "#506784",
           "ticks": "",
           "title": {
            "standoff": 15
           },
           "zerolinecolor": "#283442",
           "zerolinewidth": 2
          }
         }
        },
        "title": {
         "text": "Salario según experiencia"
        },
        "xaxis": {
         "anchor": "y",
         "domain": [
          0,
          1
         ],
         "tickangle": 90,
         "title": {
          "text": "experience_level"
         }
        },
        "yaxis": {
         "anchor": "x",
         "domain": [
          0,
          1
         ],
         "title": {
          "text": "salary_in_usd"
         }
        }
       }
      }
     },
     "metadata": {},
     "output_type": "display_data"
    }
   ],
   "source": [
    "#Usamos plotly para hacerlo más sencillo\n",
    "fig = px.strip(df, x='experience_level', y='salary_in_usd', template='plotly_dark',color='job_title', title='Salario según experiencia')\n",
    "fig.update_xaxes(tickangle=90)\n",
    "fig.show()"
   ]
  },
  {
   "attachments": {},
   "cell_type": "markdown",
   "metadata": {},
   "source": [
    "¿Cómo ha cambiado el salario medio con el paso del tiempo (work_year)?"
   ]
  },
  {
   "cell_type": "code",
   "execution_count": 33,
   "metadata": {},
   "outputs": [
    {
     "data": {
      "application/vnd.plotly.v1+json": {
       "config": {
        "plotlyServerURL": "https://plot.ly"
       },
       "data": [
        {
         "hovertemplate": "work_year=%{x}<br>salary_in_usd=%{y}<extra></extra>",
         "legendgroup": "",
         "line": {
          "color": "green",
          "dash": "solid"
         },
         "marker": {
          "symbol": "circle"
         },
         "mode": "lines",
         "name": "",
         "orientation": "v",
         "showlegend": false,
         "type": "scatter",
         "x": [
          2020,
          2021,
          2022,
          2023
         ],
         "xaxis": "x",
         "y": [
          92302.63157894737,
          94087.20869565217,
          133338.62079326922,
          149045.54117647058
         ],
         "yaxis": "y"
        }
       ],
       "layout": {
        "legend": {
         "tracegroupgap": 0
        },
        "template": {
         "data": {
          "bar": [
           {
            "error_x": {
             "color": "#f2f5fa"
            },
            "error_y": {
             "color": "#f2f5fa"
            },
            "marker": {
             "line": {
              "color": "rgb(17,17,17)",
              "width": 0.5
             },
             "pattern": {
              "fillmode": "overlay",
              "size": 10,
              "solidity": 0.2
             }
            },
            "type": "bar"
           }
          ],
          "barpolar": [
           {
            "marker": {
             "line": {
              "color": "rgb(17,17,17)",
              "width": 0.5
             },
             "pattern": {
              "fillmode": "overlay",
              "size": 10,
              "solidity": 0.2
             }
            },
            "type": "barpolar"
           }
          ],
          "carpet": [
           {
            "aaxis": {
             "endlinecolor": "#A2B1C6",
             "gridcolor": "#506784",
             "linecolor": "#506784",
             "minorgridcolor": "#506784",
             "startlinecolor": "#A2B1C6"
            },
            "baxis": {
             "endlinecolor": "#A2B1C6",
             "gridcolor": "#506784",
             "linecolor": "#506784",
             "minorgridcolor": "#506784",
             "startlinecolor": "#A2B1C6"
            },
            "type": "carpet"
           }
          ],
          "choropleth": [
           {
            "colorbar": {
             "outlinewidth": 0,
             "ticks": ""
            },
            "type": "choropleth"
           }
          ],
          "contour": [
           {
            "colorbar": {
             "outlinewidth": 0,
             "ticks": ""
            },
            "colorscale": [
             [
              0,
              "#0d0887"
             ],
             [
              0.1111111111111111,
              "#46039f"
             ],
             [
              0.2222222222222222,
              "#7201a8"
             ],
             [
              0.3333333333333333,
              "#9c179e"
             ],
             [
              0.4444444444444444,
              "#bd3786"
             ],
             [
              0.5555555555555556,
              "#d8576b"
             ],
             [
              0.6666666666666666,
              "#ed7953"
             ],
             [
              0.7777777777777778,
              "#fb9f3a"
             ],
             [
              0.8888888888888888,
              "#fdca26"
             ],
             [
              1,
              "#f0f921"
             ]
            ],
            "type": "contour"
           }
          ],
          "contourcarpet": [
           {
            "colorbar": {
             "outlinewidth": 0,
             "ticks": ""
            },
            "type": "contourcarpet"
           }
          ],
          "heatmap": [
           {
            "colorbar": {
             "outlinewidth": 0,
             "ticks": ""
            },
            "colorscale": [
             [
              0,
              "#0d0887"
             ],
             [
              0.1111111111111111,
              "#46039f"
             ],
             [
              0.2222222222222222,
              "#7201a8"
             ],
             [
              0.3333333333333333,
              "#9c179e"
             ],
             [
              0.4444444444444444,
              "#bd3786"
             ],
             [
              0.5555555555555556,
              "#d8576b"
             ],
             [
              0.6666666666666666,
              "#ed7953"
             ],
             [
              0.7777777777777778,
              "#fb9f3a"
             ],
             [
              0.8888888888888888,
              "#fdca26"
             ],
             [
              1,
              "#f0f921"
             ]
            ],
            "type": "heatmap"
           }
          ],
          "heatmapgl": [
           {
            "colorbar": {
             "outlinewidth": 0,
             "ticks": ""
            },
            "colorscale": [
             [
              0,
              "#0d0887"
             ],
             [
              0.1111111111111111,
              "#46039f"
             ],
             [
              0.2222222222222222,
              "#7201a8"
             ],
             [
              0.3333333333333333,
              "#9c179e"
             ],
             [
              0.4444444444444444,
              "#bd3786"
             ],
             [
              0.5555555555555556,
              "#d8576b"
             ],
             [
              0.6666666666666666,
              "#ed7953"
             ],
             [
              0.7777777777777778,
              "#fb9f3a"
             ],
             [
              0.8888888888888888,
              "#fdca26"
             ],
             [
              1,
              "#f0f921"
             ]
            ],
            "type": "heatmapgl"
           }
          ],
          "histogram": [
           {
            "marker": {
             "pattern": {
              "fillmode": "overlay",
              "size": 10,
              "solidity": 0.2
             }
            },
            "type": "histogram"
           }
          ],
          "histogram2d": [
           {
            "colorbar": {
             "outlinewidth": 0,
             "ticks": ""
            },
            "colorscale": [
             [
              0,
              "#0d0887"
             ],
             [
              0.1111111111111111,
              "#46039f"
             ],
             [
              0.2222222222222222,
              "#7201a8"
             ],
             [
              0.3333333333333333,
              "#9c179e"
             ],
             [
              0.4444444444444444,
              "#bd3786"
             ],
             [
              0.5555555555555556,
              "#d8576b"
             ],
             [
              0.6666666666666666,
              "#ed7953"
             ],
             [
              0.7777777777777778,
              "#fb9f3a"
             ],
             [
              0.8888888888888888,
              "#fdca26"
             ],
             [
              1,
              "#f0f921"
             ]
            ],
            "type": "histogram2d"
           }
          ],
          "histogram2dcontour": [
           {
            "colorbar": {
             "outlinewidth": 0,
             "ticks": ""
            },
            "colorscale": [
             [
              0,
              "#0d0887"
             ],
             [
              0.1111111111111111,
              "#46039f"
             ],
             [
              0.2222222222222222,
              "#7201a8"
             ],
             [
              0.3333333333333333,
              "#9c179e"
             ],
             [
              0.4444444444444444,
              "#bd3786"
             ],
             [
              0.5555555555555556,
              "#d8576b"
             ],
             [
              0.6666666666666666,
              "#ed7953"
             ],
             [
              0.7777777777777778,
              "#fb9f3a"
             ],
             [
              0.8888888888888888,
              "#fdca26"
             ],
             [
              1,
              "#f0f921"
             ]
            ],
            "type": "histogram2dcontour"
           }
          ],
          "mesh3d": [
           {
            "colorbar": {
             "outlinewidth": 0,
             "ticks": ""
            },
            "type": "mesh3d"
           }
          ],
          "parcoords": [
           {
            "line": {
             "colorbar": {
              "outlinewidth": 0,
              "ticks": ""
             }
            },
            "type": "parcoords"
           }
          ],
          "pie": [
           {
            "automargin": true,
            "type": "pie"
           }
          ],
          "scatter": [
           {
            "marker": {
             "line": {
              "color": "#283442"
             }
            },
            "type": "scatter"
           }
          ],
          "scatter3d": [
           {
            "line": {
             "colorbar": {
              "outlinewidth": 0,
              "ticks": ""
             }
            },
            "marker": {
             "colorbar": {
              "outlinewidth": 0,
              "ticks": ""
             }
            },
            "type": "scatter3d"
           }
          ],
          "scattercarpet": [
           {
            "marker": {
             "colorbar": {
              "outlinewidth": 0,
              "ticks": ""
             }
            },
            "type": "scattercarpet"
           }
          ],
          "scattergeo": [
           {
            "marker": {
             "colorbar": {
              "outlinewidth": 0,
              "ticks": ""
             }
            },
            "type": "scattergeo"
           }
          ],
          "scattergl": [
           {
            "marker": {
             "line": {
              "color": "#283442"
             }
            },
            "type": "scattergl"
           }
          ],
          "scattermapbox": [
           {
            "marker": {
             "colorbar": {
              "outlinewidth": 0,
              "ticks": ""
             }
            },
            "type": "scattermapbox"
           }
          ],
          "scatterpolar": [
           {
            "marker": {
             "colorbar": {
              "outlinewidth": 0,
              "ticks": ""
             }
            },
            "type": "scatterpolar"
           }
          ],
          "scatterpolargl": [
           {
            "marker": {
             "colorbar": {
              "outlinewidth": 0,
              "ticks": ""
             }
            },
            "type": "scatterpolargl"
           }
          ],
          "scatterternary": [
           {
            "marker": {
             "colorbar": {
              "outlinewidth": 0,
              "ticks": ""
             }
            },
            "type": "scatterternary"
           }
          ],
          "surface": [
           {
            "colorbar": {
             "outlinewidth": 0,
             "ticks": ""
            },
            "colorscale": [
             [
              0,
              "#0d0887"
             ],
             [
              0.1111111111111111,
              "#46039f"
             ],
             [
              0.2222222222222222,
              "#7201a8"
             ],
             [
              0.3333333333333333,
              "#9c179e"
             ],
             [
              0.4444444444444444,
              "#bd3786"
             ],
             [
              0.5555555555555556,
              "#d8576b"
             ],
             [
              0.6666666666666666,
              "#ed7953"
             ],
             [
              0.7777777777777778,
              "#fb9f3a"
             ],
             [
              0.8888888888888888,
              "#fdca26"
             ],
             [
              1,
              "#f0f921"
             ]
            ],
            "type": "surface"
           }
          ],
          "table": [
           {
            "cells": {
             "fill": {
              "color": "#506784"
             },
             "line": {
              "color": "rgb(17,17,17)"
             }
            },
            "header": {
             "fill": {
              "color": "#2a3f5f"
             },
             "line": {
              "color": "rgb(17,17,17)"
             }
            },
            "type": "table"
           }
          ]
         },
         "layout": {
          "annotationdefaults": {
           "arrowcolor": "#f2f5fa",
           "arrowhead": 0,
           "arrowwidth": 1
          },
          "autotypenumbers": "strict",
          "coloraxis": {
           "colorbar": {
            "outlinewidth": 0,
            "ticks": ""
           }
          },
          "colorscale": {
           "diverging": [
            [
             0,
             "#8e0152"
            ],
            [
             0.1,
             "#c51b7d"
            ],
            [
             0.2,
             "#de77ae"
            ],
            [
             0.3,
             "#f1b6da"
            ],
            [
             0.4,
             "#fde0ef"
            ],
            [
             0.5,
             "#f7f7f7"
            ],
            [
             0.6,
             "#e6f5d0"
            ],
            [
             0.7,
             "#b8e186"
            ],
            [
             0.8,
             "#7fbc41"
            ],
            [
             0.9,
             "#4d9221"
            ],
            [
             1,
             "#276419"
            ]
           ],
           "sequential": [
            [
             0,
             "#0d0887"
            ],
            [
             0.1111111111111111,
             "#46039f"
            ],
            [
             0.2222222222222222,
             "#7201a8"
            ],
            [
             0.3333333333333333,
             "#9c179e"
            ],
            [
             0.4444444444444444,
             "#bd3786"
            ],
            [
             0.5555555555555556,
             "#d8576b"
            ],
            [
             0.6666666666666666,
             "#ed7953"
            ],
            [
             0.7777777777777778,
             "#fb9f3a"
            ],
            [
             0.8888888888888888,
             "#fdca26"
            ],
            [
             1,
             "#f0f921"
            ]
           ],
           "sequentialminus": [
            [
             0,
             "#0d0887"
            ],
            [
             0.1111111111111111,
             "#46039f"
            ],
            [
             0.2222222222222222,
             "#7201a8"
            ],
            [
             0.3333333333333333,
             "#9c179e"
            ],
            [
             0.4444444444444444,
             "#bd3786"
            ],
            [
             0.5555555555555556,
             "#d8576b"
            ],
            [
             0.6666666666666666,
             "#ed7953"
            ],
            [
             0.7777777777777778,
             "#fb9f3a"
            ],
            [
             0.8888888888888888,
             "#fdca26"
            ],
            [
             1,
             "#f0f921"
            ]
           ]
          },
          "colorway": [
           "#636efa",
           "#EF553B",
           "#00cc96",
           "#ab63fa",
           "#FFA15A",
           "#19d3f3",
           "#FF6692",
           "#B6E880",
           "#FF97FF",
           "#FECB52"
          ],
          "font": {
           "color": "#f2f5fa"
          },
          "geo": {
           "bgcolor": "rgb(17,17,17)",
           "lakecolor": "rgb(17,17,17)",
           "landcolor": "rgb(17,17,17)",
           "showlakes": true,
           "showland": true,
           "subunitcolor": "#506784"
          },
          "hoverlabel": {
           "align": "left"
          },
          "hovermode": "closest",
          "mapbox": {
           "style": "dark"
          },
          "paper_bgcolor": "rgb(17,17,17)",
          "plot_bgcolor": "rgb(17,17,17)",
          "polar": {
           "angularaxis": {
            "gridcolor": "#506784",
            "linecolor": "#506784",
            "ticks": ""
           },
           "bgcolor": "rgb(17,17,17)",
           "radialaxis": {
            "gridcolor": "#506784",
            "linecolor": "#506784",
            "ticks": ""
           }
          },
          "scene": {
           "xaxis": {
            "backgroundcolor": "rgb(17,17,17)",
            "gridcolor": "#506784",
            "gridwidth": 2,
            "linecolor": "#506784",
            "showbackground": true,
            "ticks": "",
            "zerolinecolor": "#C8D4E3"
           },
           "yaxis": {
            "backgroundcolor": "rgb(17,17,17)",
            "gridcolor": "#506784",
            "gridwidth": 2,
            "linecolor": "#506784",
            "showbackground": true,
            "ticks": "",
            "zerolinecolor": "#C8D4E3"
           },
           "zaxis": {
            "backgroundcolor": "rgb(17,17,17)",
            "gridcolor": "#506784",
            "gridwidth": 2,
            "linecolor": "#506784",
            "showbackground": true,
            "ticks": "",
            "zerolinecolor": "#C8D4E3"
           }
          },
          "shapedefaults": {
           "line": {
            "color": "#f2f5fa"
           }
          },
          "sliderdefaults": {
           "bgcolor": "#C8D4E3",
           "bordercolor": "rgb(17,17,17)",
           "borderwidth": 1,
           "tickwidth": 0
          },
          "ternary": {
           "aaxis": {
            "gridcolor": "#506784",
            "linecolor": "#506784",
            "ticks": ""
           },
           "baxis": {
            "gridcolor": "#506784",
            "linecolor": "#506784",
            "ticks": ""
           },
           "bgcolor": "rgb(17,17,17)",
           "caxis": {
            "gridcolor": "#506784",
            "linecolor": "#506784",
            "ticks": ""
           }
          },
          "title": {
           "x": 0.05
          },
          "updatemenudefaults": {
           "bgcolor": "#506784",
           "borderwidth": 0
          },
          "xaxis": {
           "automargin": true,
           "gridcolor": "#283442",
           "linecolor": "#506784",
           "ticks": "",
           "title": {
            "standoff": 15
           },
           "zerolinecolor": "#283442",
           "zerolinewidth": 2
          },
          "yaxis": {
           "automargin": true,
           "gridcolor": "#283442",
           "linecolor": "#506784",
           "ticks": "",
           "title": {
            "standoff": 15
           },
           "zerolinecolor": "#283442",
           "zerolinewidth": 2
          }
         }
        },
        "title": {
         "text": "Evolución del salario medio"
        },
        "xaxis": {
         "anchor": "y",
         "domain": [
          0,
          1
         ],
         "title": {
          "text": "work_year"
         }
        },
        "yaxis": {
         "anchor": "x",
         "domain": [
          0,
          1
         ],
         "title": {
          "text": "salary_in_usd"
         }
        }
       }
      }
     },
     "metadata": {},
     "output_type": "display_data"
    }
   ],
   "source": [
    "#Primero calculamos el salario medio por año\n",
    "average_salary_year = df.groupby('work_year')['salary_in_usd'].mean().reset_index()\n",
    "#hacemos la grafica\n",
    "fig = px.line(average_salary_year, x='work_year', y='salary_in_usd', \n",
    "              title='Evolución del salario medio', template='plotly_dark', color_discrete_sequence=['green'])\n",
    "fig.show()"
   ]
  },
  {
   "attachments": {},
   "cell_type": "markdown",
   "metadata": {},
   "source": [
    "¿Cuál es la proporción de trabajo remoto entre diferentes roles de trabajo?"
   ]
  },
  {
   "cell_type": "code",
   "execution_count": 35,
   "metadata": {},
   "outputs": [
    {
     "data": {
      "application/vnd.plotly.v1+json": {
       "config": {
        "plotlyServerURL": "https://plot.ly"
       },
       "data": [
        {
         "alignmentgroup": "True",
         "hovertemplate": "job_title=%{y}<br>remote_ratio=%{x}<extra></extra>",
         "legendgroup": "3D Computer Vision Researcher",
         "marker": {
          "color": "#636efa",
          "pattern": {
           "shape": ""
          }
         },
         "name": "3D Computer Vision Researcher",
         "offsetgroup": "3D Computer Vision Researcher",
         "orientation": "h",
         "showlegend": true,
         "textposition": "auto",
         "type": "bar",
         "x": [
          50
         ],
         "xaxis": "x",
         "y": [
          "3D Computer Vision Researcher"
         ],
         "yaxis": "y"
        },
        {
         "alignmentgroup": "True",
         "hovertemplate": "job_title=%{y}<br>remote_ratio=%{x}<extra></extra>",
         "legendgroup": "AI Developer",
         "marker": {
          "color": "#EF553B",
          "pattern": {
           "shape": ""
          }
         },
         "name": "AI Developer",
         "offsetgroup": "AI Developer",
         "orientation": "h",
         "showlegend": true,
         "textposition": "auto",
         "type": "bar",
         "x": [
          31.818181818181817
         ],
         "xaxis": "x",
         "y": [
          "AI Developer"
         ],
         "yaxis": "y"
        },
        {
         "alignmentgroup": "True",
         "hovertemplate": "job_title=%{y}<br>remote_ratio=%{x}<extra></extra>",
         "legendgroup": "AI Programmer",
         "marker": {
          "color": "#00cc96",
          "pattern": {
           "shape": ""
          }
         },
         "name": "AI Programmer",
         "offsetgroup": "AI Programmer",
         "orientation": "h",
         "showlegend": true,
         "textposition": "auto",
         "type": "bar",
         "x": [
          50
         ],
         "xaxis": "x",
         "y": [
          "AI Programmer"
         ],
         "yaxis": "y"
        },
        {
         "alignmentgroup": "True",
         "hovertemplate": "job_title=%{y}<br>remote_ratio=%{x}<extra></extra>",
         "legendgroup": "AI Scientist",
         "marker": {
          "color": "#ab63fa",
          "pattern": {
           "shape": ""
          }
         },
         "name": "AI Scientist",
         "offsetgroup": "AI Scientist",
         "orientation": "h",
         "showlegend": true,
         "textposition": "auto",
         "type": "bar",
         "x": [
          71.875
         ],
         "xaxis": "x",
         "y": [
          "AI Scientist"
         ],
         "yaxis": "y"
        },
        {
         "alignmentgroup": "True",
         "hovertemplate": "job_title=%{y}<br>remote_ratio=%{x}<extra></extra>",
         "legendgroup": "Analytics Engineer",
         "marker": {
          "color": "#FFA15A",
          "pattern": {
           "shape": ""
          }
         },
         "name": "Analytics Engineer",
         "offsetgroup": "Analytics Engineer",
         "orientation": "h",
         "showlegend": true,
         "textposition": "auto",
         "type": "bar",
         "x": [
          54.36893203883495
         ],
         "xaxis": "x",
         "y": [
          "Analytics Engineer"
         ],
         "yaxis": "y"
        },
        {
         "alignmentgroup": "True",
         "hovertemplate": "job_title=%{y}<br>remote_ratio=%{x}<extra></extra>",
         "legendgroup": "Applied Data Scientist",
         "marker": {
          "color": "#19d3f3",
          "pattern": {
           "shape": ""
          }
         },
         "name": "Applied Data Scientist",
         "offsetgroup": "Applied Data Scientist",
         "orientation": "h",
         "showlegend": true,
         "textposition": "auto",
         "type": "bar",
         "x": [
          80
         ],
         "xaxis": "x",
         "y": [
          "Applied Data Scientist"
         ],
         "yaxis": "y"
        },
        {
         "alignmentgroup": "True",
         "hovertemplate": "job_title=%{y}<br>remote_ratio=%{x}<extra></extra>",
         "legendgroup": "Applied Machine Learning Engineer",
         "marker": {
          "color": "#FF6692",
          "pattern": {
           "shape": ""
          }
         },
         "name": "Applied Machine Learning Engineer",
         "offsetgroup": "Applied Machine Learning Engineer",
         "orientation": "h",
         "showlegend": true,
         "textposition": "auto",
         "type": "bar",
         "x": [
          50
         ],
         "xaxis": "x",
         "y": [
          "Applied Machine Learning Engineer"
         ],
         "yaxis": "y"
        },
        {
         "alignmentgroup": "True",
         "hovertemplate": "job_title=%{y}<br>remote_ratio=%{x}<extra></extra>",
         "legendgroup": "Applied Machine Learning Scientist",
         "marker": {
          "color": "#B6E880",
          "pattern": {
           "shape": ""
          }
         },
         "name": "Applied Machine Learning Scientist",
         "offsetgroup": "Applied Machine Learning Scientist",
         "orientation": "h",
         "showlegend": true,
         "textposition": "auto",
         "type": "bar",
         "x": [
          79.16666666666667
         ],
         "xaxis": "x",
         "y": [
          "Applied Machine Learning Scientist"
         ],
         "yaxis": "y"
        },
        {
         "alignmentgroup": "True",
         "hovertemplate": "job_title=%{y}<br>remote_ratio=%{x}<extra></extra>",
         "legendgroup": "Applied Scientist",
         "marker": {
          "color": "#FF97FF",
          "pattern": {
           "shape": ""
          }
         },
         "name": "Applied Scientist",
         "offsetgroup": "Applied Scientist",
         "orientation": "h",
         "showlegend": true,
         "textposition": "auto",
         "type": "bar",
         "x": [
          44.827586206896555
         ],
         "xaxis": "x",
         "y": [
          "Applied Scientist"
         ],
         "yaxis": "y"
        },
        {
         "alignmentgroup": "True",
         "hovertemplate": "job_title=%{y}<br>remote_ratio=%{x}<extra></extra>",
         "legendgroup": "Autonomous Vehicle Technician",
         "marker": {
          "color": "#FECB52",
          "pattern": {
           "shape": ""
          }
         },
         "name": "Autonomous Vehicle Technician",
         "offsetgroup": "Autonomous Vehicle Technician",
         "orientation": "h",
         "showlegend": true,
         "textposition": "auto",
         "type": "bar",
         "x": [
          25
         ],
         "xaxis": "x",
         "y": [
          "Autonomous Vehicle Technician"
         ],
         "yaxis": "y"
        },
        {
         "alignmentgroup": "True",
         "hovertemplate": "job_title=%{y}<br>remote_ratio=%{x}<extra></extra>",
         "legendgroup": "Azure Data Engineer",
         "marker": {
          "color": "#636efa",
          "pattern": {
           "shape": ""
          }
         },
         "name": "Azure Data Engineer",
         "offsetgroup": "Azure Data Engineer",
         "orientation": "h",
         "showlegend": true,
         "textposition": "auto",
         "type": "bar",
         "x": [
          50
         ],
         "xaxis": "x",
         "y": [
          "Azure Data Engineer"
         ],
         "yaxis": "y"
        },
        {
         "alignmentgroup": "True",
         "hovertemplate": "job_title=%{y}<br>remote_ratio=%{x}<extra></extra>",
         "legendgroup": "BI Analyst",
         "marker": {
          "color": "#EF553B",
          "pattern": {
           "shape": ""
          }
         },
         "name": "BI Analyst",
         "offsetgroup": "BI Analyst",
         "orientation": "h",
         "showlegend": true,
         "textposition": "auto",
         "type": "bar",
         "x": [
          50
         ],
         "xaxis": "x",
         "y": [
          "BI Analyst"
         ],
         "yaxis": "y"
        },
        {
         "alignmentgroup": "True",
         "hovertemplate": "job_title=%{y}<br>remote_ratio=%{x}<extra></extra>",
         "legendgroup": "BI Data Analyst",
         "marker": {
          "color": "#00cc96",
          "pattern": {
           "shape": ""
          }
         },
         "name": "BI Data Analyst",
         "offsetgroup": "BI Data Analyst",
         "orientation": "h",
         "showlegend": true,
         "textposition": "auto",
         "type": "bar",
         "x": [
          73.33333333333333
         ],
         "xaxis": "x",
         "y": [
          "BI Data Analyst"
         ],
         "yaxis": "y"
        },
        {
         "alignmentgroup": "True",
         "hovertemplate": "job_title=%{y}<br>remote_ratio=%{x}<extra></extra>",
         "legendgroup": "BI Data Engineer",
         "marker": {
          "color": "#ab63fa",
          "pattern": {
           "shape": ""
          }
         },
         "name": "BI Data Engineer",
         "offsetgroup": "BI Data Engineer",
         "orientation": "h",
         "showlegend": true,
         "textposition": "auto",
         "type": "bar",
         "x": [
          100
         ],
         "xaxis": "x",
         "y": [
          "BI Data Engineer"
         ],
         "yaxis": "y"
        },
        {
         "alignmentgroup": "True",
         "hovertemplate": "job_title=%{y}<br>remote_ratio=%{x}<extra></extra>",
         "legendgroup": "BI Developer",
         "marker": {
          "color": "#FFA15A",
          "pattern": {
           "shape": ""
          }
         },
         "name": "BI Developer",
         "offsetgroup": "BI Developer",
         "orientation": "h",
         "showlegend": true,
         "textposition": "auto",
         "type": "bar",
         "x": [
          69.23076923076923
         ],
         "xaxis": "x",
         "y": [
          "BI Developer"
         ],
         "yaxis": "y"
        },
        {
         "alignmentgroup": "True",
         "hovertemplate": "job_title=%{y}<br>remote_ratio=%{x}<extra></extra>",
         "legendgroup": "Big Data Architect",
         "marker": {
          "color": "#19d3f3",
          "pattern": {
           "shape": ""
          }
         },
         "name": "Big Data Architect",
         "offsetgroup": "Big Data Architect",
         "orientation": "h",
         "showlegend": true,
         "textposition": "auto",
         "type": "bar",
         "x": [
          75
         ],
         "xaxis": "x",
         "y": [
          "Big Data Architect"
         ],
         "yaxis": "y"
        },
        {
         "alignmentgroup": "True",
         "hovertemplate": "job_title=%{y}<br>remote_ratio=%{x}<extra></extra>",
         "legendgroup": "Big Data Engineer",
         "marker": {
          "color": "#FF6692",
          "pattern": {
           "shape": ""
          }
         },
         "name": "Big Data Engineer",
         "offsetgroup": "Big Data Engineer",
         "orientation": "h",
         "showlegend": true,
         "textposition": "auto",
         "type": "bar",
         "x": [
          59.09090909090909
         ],
         "xaxis": "x",
         "y": [
          "Big Data Engineer"
         ],
         "yaxis": "y"
        },
        {
         "alignmentgroup": "True",
         "hovertemplate": "job_title=%{y}<br>remote_ratio=%{x}<extra></extra>",
         "legendgroup": "Business Data Analyst",
         "marker": {
          "color": "#B6E880",
          "pattern": {
           "shape": ""
          }
         },
         "name": "Business Data Analyst",
         "offsetgroup": "Business Data Analyst",
         "orientation": "h",
         "showlegend": true,
         "textposition": "auto",
         "type": "bar",
         "x": [
          70
         ],
         "xaxis": "x",
         "y": [
          "Business Data Analyst"
         ],
         "yaxis": "y"
        },
        {
         "alignmentgroup": "True",
         "hovertemplate": "job_title=%{y}<br>remote_ratio=%{x}<extra></extra>",
         "legendgroup": "Business Intelligence Engineer",
         "marker": {
          "color": "#FF97FF",
          "pattern": {
           "shape": ""
          }
         },
         "name": "Business Intelligence Engineer",
         "offsetgroup": "Business Intelligence Engineer",
         "orientation": "h",
         "showlegend": true,
         "textposition": "auto",
         "type": "bar",
         "x": [
          0
         ],
         "xaxis": "x",
         "y": [
          "Business Intelligence Engineer"
         ],
         "yaxis": "y"
        },
        {
         "alignmentgroup": "True",
         "hovertemplate": "job_title=%{y}<br>remote_ratio=%{x}<extra></extra>",
         "legendgroup": "Cloud Data Architect",
         "marker": {
          "color": "#FECB52",
          "pattern": {
           "shape": ""
          }
         },
         "name": "Cloud Data Architect",
         "offsetgroup": "Cloud Data Architect",
         "orientation": "h",
         "showlegend": true,
         "textposition": "auto",
         "type": "bar",
         "x": [
          50
         ],
         "xaxis": "x",
         "y": [
          "Cloud Data Architect"
         ],
         "yaxis": "y"
        },
        {
         "alignmentgroup": "True",
         "hovertemplate": "job_title=%{y}<br>remote_ratio=%{x}<extra></extra>",
         "legendgroup": "Cloud Data Engineer",
         "marker": {
          "color": "#636efa",
          "pattern": {
           "shape": ""
          }
         },
         "name": "Cloud Data Engineer",
         "offsetgroup": "Cloud Data Engineer",
         "orientation": "h",
         "showlegend": true,
         "textposition": "auto",
         "type": "bar",
         "x": [
          83.33333333333333
         ],
         "xaxis": "x",
         "y": [
          "Cloud Data Engineer"
         ],
         "yaxis": "y"
        },
        {
         "alignmentgroup": "True",
         "hovertemplate": "job_title=%{y}<br>remote_ratio=%{x}<extra></extra>",
         "legendgroup": "Cloud Database Engineer",
         "marker": {
          "color": "#EF553B",
          "pattern": {
           "shape": ""
          }
         },
         "name": "Cloud Database Engineer",
         "offsetgroup": "Cloud Database Engineer",
         "orientation": "h",
         "showlegend": true,
         "textposition": "auto",
         "type": "bar",
         "x": [
          100
         ],
         "xaxis": "x",
         "y": [
          "Cloud Database Engineer"
         ],
         "yaxis": "y"
        },
        {
         "alignmentgroup": "True",
         "hovertemplate": "job_title=%{y}<br>remote_ratio=%{x}<extra></extra>",
         "legendgroup": "Compliance Data Analyst",
         "marker": {
          "color": "#00cc96",
          "pattern": {
           "shape": ""
          }
         },
         "name": "Compliance Data Analyst",
         "offsetgroup": "Compliance Data Analyst",
         "orientation": "h",
         "showlegend": true,
         "textposition": "auto",
         "type": "bar",
         "x": [
          100
         ],
         "xaxis": "x",
         "y": [
          "Compliance Data Analyst"
         ],
         "yaxis": "y"
        },
        {
         "alignmentgroup": "True",
         "hovertemplate": "job_title=%{y}<br>remote_ratio=%{x}<extra></extra>",
         "legendgroup": "Computer Vision Engineer",
         "marker": {
          "color": "#ab63fa",
          "pattern": {
           "shape": ""
          }
         },
         "name": "Computer Vision Engineer",
         "offsetgroup": "Computer Vision Engineer",
         "orientation": "h",
         "showlegend": true,
         "textposition": "auto",
         "type": "bar",
         "x": [
          36.111111111111114
         ],
         "xaxis": "x",
         "y": [
          "Computer Vision Engineer"
         ],
         "yaxis": "y"
        },
        {
         "alignmentgroup": "True",
         "hovertemplate": "job_title=%{y}<br>remote_ratio=%{x}<extra></extra>",
         "legendgroup": "Computer Vision Software Engineer",
         "marker": {
          "color": "#FFA15A",
          "pattern": {
           "shape": ""
          }
         },
         "name": "Computer Vision Software Engineer",
         "offsetgroup": "Computer Vision Software Engineer",
         "orientation": "h",
         "showlegend": true,
         "textposition": "auto",
         "type": "bar",
         "x": [
          90
         ],
         "xaxis": "x",
         "y": [
          "Computer Vision Software Engineer"
         ],
         "yaxis": "y"
        },
        {
         "alignmentgroup": "True",
         "hovertemplate": "job_title=%{y}<br>remote_ratio=%{x}<extra></extra>",
         "legendgroup": "Data Analyst",
         "marker": {
          "color": "#19d3f3",
          "pattern": {
           "shape": ""
          }
         },
         "name": "Data Analyst",
         "offsetgroup": "Data Analyst",
         "orientation": "h",
         "showlegend": true,
         "textposition": "auto",
         "type": "bar",
         "x": [
          45.50653594771242
         ],
         "xaxis": "x",
         "y": [
          "Data Analyst"
         ],
         "yaxis": "y"
        },
        {
         "alignmentgroup": "True",
         "hovertemplate": "job_title=%{y}<br>remote_ratio=%{x}<extra></extra>",
         "legendgroup": "Data Analytics Consultant",
         "marker": {
          "color": "#FF6692",
          "pattern": {
           "shape": ""
          }
         },
         "name": "Data Analytics Consultant",
         "offsetgroup": "Data Analytics Consultant",
         "orientation": "h",
         "showlegend": true,
         "textposition": "auto",
         "type": "bar",
         "x": [
          100
         ],
         "xaxis": "x",
         "y": [
          "Data Analytics Consultant"
         ],
         "yaxis": "y"
        },
        {
         "alignmentgroup": "True",
         "hovertemplate": "job_title=%{y}<br>remote_ratio=%{x}<extra></extra>",
         "legendgroup": "Data Analytics Engineer",
         "marker": {
          "color": "#B6E880",
          "pattern": {
           "shape": ""
          }
         },
         "name": "Data Analytics Engineer",
         "offsetgroup": "Data Analytics Engineer",
         "orientation": "h",
         "showlegend": true,
         "textposition": "auto",
         "type": "bar",
         "x": [
          83.33333333333333
         ],
         "xaxis": "x",
         "y": [
          "Data Analytics Engineer"
         ],
         "yaxis": "y"
        },
        {
         "alignmentgroup": "True",
         "hovertemplate": "job_title=%{y}<br>remote_ratio=%{x}<extra></extra>",
         "legendgroup": "Data Analytics Lead",
         "marker": {
          "color": "#FF97FF",
          "pattern": {
           "shape": ""
          }
         },
         "name": "Data Analytics Lead",
         "offsetgroup": "Data Analytics Lead",
         "orientation": "h",
         "showlegend": true,
         "textposition": "auto",
         "type": "bar",
         "x": [
          75
         ],
         "xaxis": "x",
         "y": [
          "Data Analytics Lead"
         ],
         "yaxis": "y"
        },
        {
         "alignmentgroup": "True",
         "hovertemplate": "job_title=%{y}<br>remote_ratio=%{x}<extra></extra>",
         "legendgroup": "Data Analytics Manager",
         "marker": {
          "color": "#FECB52",
          "pattern": {
           "shape": ""
          }
         },
         "name": "Data Analytics Manager",
         "offsetgroup": "Data Analytics Manager",
         "orientation": "h",
         "showlegend": true,
         "textposition": "auto",
         "type": "bar",
         "x": [
          36.36363636363637
         ],
         "xaxis": "x",
         "y": [
          "Data Analytics Manager"
         ],
         "yaxis": "y"
        },
        {
         "alignmentgroup": "True",
         "hovertemplate": "job_title=%{y}<br>remote_ratio=%{x}<extra></extra>",
         "legendgroup": "Data Analytics Specialist",
         "marker": {
          "color": "#636efa",
          "pattern": {
           "shape": ""
          }
         },
         "name": "Data Analytics Specialist",
         "offsetgroup": "Data Analytics Specialist",
         "orientation": "h",
         "showlegend": true,
         "textposition": "auto",
         "type": "bar",
         "x": [
          0
         ],
         "xaxis": "x",
         "y": [
          "Data Analytics Specialist"
         ],
         "yaxis": "y"
        },
        {
         "alignmentgroup": "True",
         "hovertemplate": "job_title=%{y}<br>remote_ratio=%{x}<extra></extra>",
         "legendgroup": "Data Architect",
         "marker": {
          "color": "#EF553B",
          "pattern": {
           "shape": ""
          }
         },
         "name": "Data Architect",
         "offsetgroup": "Data Architect",
         "orientation": "h",
         "showlegend": true,
         "textposition": "auto",
         "type": "bar",
         "x": [
          68.31683168316832
         ],
         "xaxis": "x",
         "y": [
          "Data Architect"
         ],
         "yaxis": "y"
        },
        {
         "alignmentgroup": "True",
         "hovertemplate": "job_title=%{y}<br>remote_ratio=%{x}<extra></extra>",
         "legendgroup": "Data DevOps Engineer",
         "marker": {
          "color": "#00cc96",
          "pattern": {
           "shape": ""
          }
         },
         "name": "Data DevOps Engineer",
         "offsetgroup": "Data DevOps Engineer",
         "orientation": "h",
         "showlegend": true,
         "textposition": "auto",
         "type": "bar",
         "x": [
          50
         ],
         "xaxis": "x",
         "y": [
          "Data DevOps Engineer"
         ],
         "yaxis": "y"
        },
        {
         "alignmentgroup": "True",
         "hovertemplate": "job_title=%{y}<br>remote_ratio=%{x}<extra></extra>",
         "legendgroup": "Data Engineer",
         "marker": {
          "color": "#ab63fa",
          "pattern": {
           "shape": ""
          }
         },
         "name": "Data Engineer",
         "offsetgroup": "Data Engineer",
         "orientation": "h",
         "showlegend": true,
         "textposition": "auto",
         "type": "bar",
         "x": [
          42.35576923076923
         ],
         "xaxis": "x",
         "y": [
          "Data Engineer"
         ],
         "yaxis": "y"
        },
        {
         "alignmentgroup": "True",
         "hovertemplate": "job_title=%{y}<br>remote_ratio=%{x}<extra></extra>",
         "legendgroup": "Data Infrastructure Engineer",
         "marker": {
          "color": "#FFA15A",
          "pattern": {
           "shape": ""
          }
         },
         "name": "Data Infrastructure Engineer",
         "offsetgroup": "Data Infrastructure Engineer",
         "orientation": "h",
         "showlegend": true,
         "textposition": "auto",
         "type": "bar",
         "x": [
          66.66666666666667
         ],
         "xaxis": "x",
         "y": [
          "Data Infrastructure Engineer"
         ],
         "yaxis": "y"
        },
        {
         "alignmentgroup": "True",
         "hovertemplate": "job_title=%{y}<br>remote_ratio=%{x}<extra></extra>",
         "legendgroup": "Data Lead",
         "marker": {
          "color": "#19d3f3",
          "pattern": {
           "shape": ""
          }
         },
         "name": "Data Lead",
         "offsetgroup": "Data Lead",
         "orientation": "h",
         "showlegend": true,
         "textposition": "auto",
         "type": "bar",
         "x": [
          0
         ],
         "xaxis": "x",
         "y": [
          "Data Lead"
         ],
         "yaxis": "y"
        },
        {
         "alignmentgroup": "True",
         "hovertemplate": "job_title=%{y}<br>remote_ratio=%{x}<extra></extra>",
         "legendgroup": "Data Management Specialist",
         "marker": {
          "color": "#FF6692",
          "pattern": {
           "shape": ""
          }
         },
         "name": "Data Management Specialist",
         "offsetgroup": "Data Management Specialist",
         "orientation": "h",
         "showlegend": true,
         "textposition": "auto",
         "type": "bar",
         "x": [
          0
         ],
         "xaxis": "x",
         "y": [
          "Data Management Specialist"
         ],
         "yaxis": "y"
        },
        {
         "alignmentgroup": "True",
         "hovertemplate": "job_title=%{y}<br>remote_ratio=%{x}<extra></extra>",
         "legendgroup": "Data Manager",
         "marker": {
          "color": "#B6E880",
          "pattern": {
           "shape": ""
          }
         },
         "name": "Data Manager",
         "offsetgroup": "Data Manager",
         "orientation": "h",
         "showlegend": true,
         "textposition": "auto",
         "type": "bar",
         "x": [
          15.517241379310345
         ],
         "xaxis": "x",
         "y": [
          "Data Manager"
         ],
         "yaxis": "y"
        },
        {
         "alignmentgroup": "True",
         "hovertemplate": "job_title=%{y}<br>remote_ratio=%{x}<extra></extra>",
         "legendgroup": "Data Modeler",
         "marker": {
          "color": "#FF97FF",
          "pattern": {
           "shape": ""
          }
         },
         "name": "Data Modeler",
         "offsetgroup": "Data Modeler",
         "orientation": "h",
         "showlegend": true,
         "textposition": "auto",
         "type": "bar",
         "x": [
          0
         ],
         "xaxis": "x",
         "y": [
          "Data Modeler"
         ],
         "yaxis": "y"
        },
        {
         "alignmentgroup": "True",
         "hovertemplate": "job_title=%{y}<br>remote_ratio=%{x}<extra></extra>",
         "legendgroup": "Data Operations Analyst",
         "marker": {
          "color": "#FECB52",
          "pattern": {
           "shape": ""
          }
         },
         "name": "Data Operations Analyst",
         "offsetgroup": "Data Operations Analyst",
         "orientation": "h",
         "showlegend": true,
         "textposition": "auto",
         "type": "bar",
         "x": [
          50
         ],
         "xaxis": "x",
         "y": [
          "Data Operations Analyst"
         ],
         "yaxis": "y"
        },
        {
         "alignmentgroup": "True",
         "hovertemplate": "job_title=%{y}<br>remote_ratio=%{x}<extra></extra>",
         "legendgroup": "Data Operations Engineer",
         "marker": {
          "color": "#636efa",
          "pattern": {
           "shape": ""
          }
         },
         "name": "Data Operations Engineer",
         "offsetgroup": "Data Operations Engineer",
         "orientation": "h",
         "showlegend": true,
         "textposition": "auto",
         "type": "bar",
         "x": [
          80
         ],
         "xaxis": "x",
         "y": [
          "Data Operations Engineer"
         ],
         "yaxis": "y"
        },
        {
         "alignmentgroup": "True",
         "hovertemplate": "job_title=%{y}<br>remote_ratio=%{x}<extra></extra>",
         "legendgroup": "Data Quality Analyst",
         "marker": {
          "color": "#EF553B",
          "pattern": {
           "shape": ""
          }
         },
         "name": "Data Quality Analyst",
         "offsetgroup": "Data Quality Analyst",
         "orientation": "h",
         "showlegend": true,
         "textposition": "auto",
         "type": "bar",
         "x": [
          14.285714285714286
         ],
         "xaxis": "x",
         "y": [
          "Data Quality Analyst"
         ],
         "yaxis": "y"
        },
        {
         "alignmentgroup": "True",
         "hovertemplate": "job_title=%{y}<br>remote_ratio=%{x}<extra></extra>",
         "legendgroup": "Data Science Consultant",
         "marker": {
          "color": "#00cc96",
          "pattern": {
           "shape": ""
          }
         },
         "name": "Data Science Consultant",
         "offsetgroup": "Data Science Consultant",
         "orientation": "h",
         "showlegend": true,
         "textposition": "auto",
         "type": "bar",
         "x": [
          27.083333333333332
         ],
         "xaxis": "x",
         "y": [
          "Data Science Consultant"
         ],
         "yaxis": "y"
        },
        {
         "alignmentgroup": "True",
         "hovertemplate": "job_title=%{y}<br>remote_ratio=%{x}<extra></extra>",
         "legendgroup": "Data Science Engineer",
         "marker": {
          "color": "#ab63fa",
          "pattern": {
           "shape": ""
          }
         },
         "name": "Data Science Engineer",
         "offsetgroup": "Data Science Engineer",
         "orientation": "h",
         "showlegend": true,
         "textposition": "auto",
         "type": "bar",
         "x": [
          50
         ],
         "xaxis": "x",
         "y": [
          "Data Science Engineer"
         ],
         "yaxis": "y"
        },
        {
         "alignmentgroup": "True",
         "hovertemplate": "job_title=%{y}<br>remote_ratio=%{x}<extra></extra>",
         "legendgroup": "Data Science Lead",
         "marker": {
          "color": "#FFA15A",
          "pattern": {
           "shape": ""
          }
         },
         "name": "Data Science Lead",
         "offsetgroup": "Data Science Lead",
         "orientation": "h",
         "showlegend": true,
         "textposition": "auto",
         "type": "bar",
         "x": [
          18.75
         ],
         "xaxis": "x",
         "y": [
          "Data Science Lead"
         ],
         "yaxis": "y"
        },
        {
         "alignmentgroup": "True",
         "hovertemplate": "job_title=%{y}<br>remote_ratio=%{x}<extra></extra>",
         "legendgroup": "Data Science Manager",
         "marker": {
          "color": "#19d3f3",
          "pattern": {
           "shape": ""
          }
         },
         "name": "Data Science Manager",
         "offsetgroup": "Data Science Manager",
         "orientation": "h",
         "showlegend": true,
         "textposition": "auto",
         "type": "bar",
         "x": [
          46.55172413793103
         ],
         "xaxis": "x",
         "y": [
          "Data Science Manager"
         ],
         "yaxis": "y"
        },
        {
         "alignmentgroup": "True",
         "hovertemplate": "job_title=%{y}<br>remote_ratio=%{x}<extra></extra>",
         "legendgroup": "Data Science Tech Lead",
         "marker": {
          "color": "#FF6692",
          "pattern": {
           "shape": ""
          }
         },
         "name": "Data Science Tech Lead",
         "offsetgroup": "Data Science Tech Lead",
         "orientation": "h",
         "showlegend": true,
         "textposition": "auto",
         "type": "bar",
         "x": [
          50
         ],
         "xaxis": "x",
         "y": [
          "Data Science Tech Lead"
         ],
         "yaxis": "y"
        },
        {
         "alignmentgroup": "True",
         "hovertemplate": "job_title=%{y}<br>remote_ratio=%{x}<extra></extra>",
         "legendgroup": "Data Scientist",
         "marker": {
          "color": "#B6E880",
          "pattern": {
           "shape": ""
          }
         },
         "name": "Data Scientist",
         "offsetgroup": "Data Scientist",
         "orientation": "h",
         "showlegend": true,
         "textposition": "auto",
         "type": "bar",
         "x": [
          47.916666666666664
         ],
         "xaxis": "x",
         "y": [
          "Data Scientist"
         ],
         "yaxis": "y"
        },
        {
         "alignmentgroup": "True",
         "hovertemplate": "job_title=%{y}<br>remote_ratio=%{x}<extra></extra>",
         "legendgroup": "Data Scientist Lead",
         "marker": {
          "color": "#FF97FF",
          "pattern": {
           "shape": ""
          }
         },
         "name": "Data Scientist Lead",
         "offsetgroup": "Data Scientist Lead",
         "orientation": "h",
         "showlegend": true,
         "textposition": "auto",
         "type": "bar",
         "x": [
          75
         ],
         "xaxis": "x",
         "y": [
          "Data Scientist Lead"
         ],
         "yaxis": "y"
        },
        {
         "alignmentgroup": "True",
         "hovertemplate": "job_title=%{y}<br>remote_ratio=%{x}<extra></extra>",
         "legendgroup": "Data Specialist",
         "marker": {
          "color": "#FECB52",
          "pattern": {
           "shape": ""
          }
         },
         "name": "Data Specialist",
         "offsetgroup": "Data Specialist",
         "orientation": "h",
         "showlegend": true,
         "textposition": "auto",
         "type": "bar",
         "x": [
          42.857142857142854
         ],
         "xaxis": "x",
         "y": [
          "Data Specialist"
         ],
         "yaxis": "y"
        },
        {
         "alignmentgroup": "True",
         "hovertemplate": "job_title=%{y}<br>remote_ratio=%{x}<extra></extra>",
         "legendgroup": "Data Strategist",
         "marker": {
          "color": "#636efa",
          "pattern": {
           "shape": ""
          }
         },
         "name": "Data Strategist",
         "offsetgroup": "Data Strategist",
         "orientation": "h",
         "showlegend": true,
         "textposition": "auto",
         "type": "bar",
         "x": [
          0
         ],
         "xaxis": "x",
         "y": [
          "Data Strategist"
         ],
         "yaxis": "y"
        },
        {
         "alignmentgroup": "True",
         "hovertemplate": "job_title=%{y}<br>remote_ratio=%{x}<extra></extra>",
         "legendgroup": "Deep Learning Engineer",
         "marker": {
          "color": "#EF553B",
          "pattern": {
           "shape": ""
          }
         },
         "name": "Deep Learning Engineer",
         "offsetgroup": "Deep Learning Engineer",
         "orientation": "h",
         "showlegend": true,
         "textposition": "auto",
         "type": "bar",
         "x": [
          66.66666666666667
         ],
         "xaxis": "x",
         "y": [
          "Deep Learning Engineer"
         ],
         "yaxis": "y"
        },
        {
         "alignmentgroup": "True",
         "hovertemplate": "job_title=%{y}<br>remote_ratio=%{x}<extra></extra>",
         "legendgroup": "Deep Learning Researcher",
         "marker": {
          "color": "#00cc96",
          "pattern": {
           "shape": ""
          }
         },
         "name": "Deep Learning Researcher",
         "offsetgroup": "Deep Learning Researcher",
         "orientation": "h",
         "showlegend": true,
         "textposition": "auto",
         "type": "bar",
         "x": [
          0
         ],
         "xaxis": "x",
         "y": [
          "Deep Learning Researcher"
         ],
         "yaxis": "y"
        },
        {
         "alignmentgroup": "True",
         "hovertemplate": "job_title=%{y}<br>remote_ratio=%{x}<extra></extra>",
         "legendgroup": "Director of Data Science",
         "marker": {
          "color": "#ab63fa",
          "pattern": {
           "shape": ""
          }
         },
         "name": "Director of Data Science",
         "offsetgroup": "Director of Data Science",
         "orientation": "h",
         "showlegend": true,
         "textposition": "auto",
         "type": "bar",
         "x": [
          36.36363636363637
         ],
         "xaxis": "x",
         "y": [
          "Director of Data Science"
         ],
         "yaxis": "y"
        },
        {
         "alignmentgroup": "True",
         "hovertemplate": "job_title=%{y}<br>remote_ratio=%{x}<extra></extra>",
         "legendgroup": "ETL Developer",
         "marker": {
          "color": "#FFA15A",
          "pattern": {
           "shape": ""
          }
         },
         "name": "ETL Developer",
         "offsetgroup": "ETL Developer",
         "orientation": "h",
         "showlegend": true,
         "textposition": "auto",
         "type": "bar",
         "x": [
          60
         ],
         "xaxis": "x",
         "y": [
          "ETL Developer"
         ],
         "yaxis": "y"
        },
        {
         "alignmentgroup": "True",
         "hovertemplate": "job_title=%{y}<br>remote_ratio=%{x}<extra></extra>",
         "legendgroup": "ETL Engineer",
         "marker": {
          "color": "#19d3f3",
          "pattern": {
           "shape": ""
          }
         },
         "name": "ETL Engineer",
         "offsetgroup": "ETL Engineer",
         "orientation": "h",
         "showlegend": true,
         "textposition": "auto",
         "type": "bar",
         "x": [
          100
         ],
         "xaxis": "x",
         "y": [
          "ETL Engineer"
         ],
         "yaxis": "y"
        },
        {
         "alignmentgroup": "True",
         "hovertemplate": "job_title=%{y}<br>remote_ratio=%{x}<extra></extra>",
         "legendgroup": "Finance Data Analyst",
         "marker": {
          "color": "#FF6692",
          "pattern": {
           "shape": ""
          }
         },
         "name": "Finance Data Analyst",
         "offsetgroup": "Finance Data Analyst",
         "orientation": "h",
         "showlegend": true,
         "textposition": "auto",
         "type": "bar",
         "x": [
          50
         ],
         "xaxis": "x",
         "y": [
          "Finance Data Analyst"
         ],
         "yaxis": "y"
        },
        {
         "alignmentgroup": "True",
         "hovertemplate": "job_title=%{y}<br>remote_ratio=%{x}<extra></extra>",
         "legendgroup": "Financial Data Analyst",
         "marker": {
          "color": "#B6E880",
          "pattern": {
           "shape": ""
          }
         },
         "name": "Financial Data Analyst",
         "offsetgroup": "Financial Data Analyst",
         "orientation": "h",
         "showlegend": true,
         "textposition": "auto",
         "type": "bar",
         "x": [
          50
         ],
         "xaxis": "x",
         "y": [
          "Financial Data Analyst"
         ],
         "yaxis": "y"
        },
        {
         "alignmentgroup": "True",
         "hovertemplate": "job_title=%{y}<br>remote_ratio=%{x}<extra></extra>",
         "legendgroup": "Head of Data",
         "marker": {
          "color": "#FF97FF",
          "pattern": {
           "shape": ""
          }
         },
         "name": "Head of Data",
         "offsetgroup": "Head of Data",
         "orientation": "h",
         "showlegend": true,
         "textposition": "auto",
         "type": "bar",
         "x": [
          55
         ],
         "xaxis": "x",
         "y": [
          "Head of Data"
         ],
         "yaxis": "y"
        },
        {
         "alignmentgroup": "True",
         "hovertemplate": "job_title=%{y}<br>remote_ratio=%{x}<extra></extra>",
         "legendgroup": "Head of Data Science",
         "marker": {
          "color": "#FECB52",
          "pattern": {
           "shape": ""
          }
         },
         "name": "Head of Data Science",
         "offsetgroup": "Head of Data Science",
         "orientation": "h",
         "showlegend": true,
         "textposition": "auto",
         "type": "bar",
         "x": [
          27.77777777777778
         ],
         "xaxis": "x",
         "y": [
          "Head of Data Science"
         ],
         "yaxis": "y"
        },
        {
         "alignmentgroup": "True",
         "hovertemplate": "job_title=%{y}<br>remote_ratio=%{x}<extra></extra>",
         "legendgroup": "Head of Machine Learning",
         "marker": {
          "color": "#636efa",
          "pattern": {
           "shape": ""
          }
         },
         "name": "Head of Machine Learning",
         "offsetgroup": "Head of Machine Learning",
         "orientation": "h",
         "showlegend": true,
         "textposition": "auto",
         "type": "bar",
         "x": [
          50
         ],
         "xaxis": "x",
         "y": [
          "Head of Machine Learning"
         ],
         "yaxis": "y"
        },
        {
         "alignmentgroup": "True",
         "hovertemplate": "job_title=%{y}<br>remote_ratio=%{x}<extra></extra>",
         "legendgroup": "Insight Analyst",
         "marker": {
          "color": "#EF553B",
          "pattern": {
           "shape": ""
          }
         },
         "name": "Insight Analyst",
         "offsetgroup": "Insight Analyst",
         "orientation": "h",
         "showlegend": true,
         "textposition": "auto",
         "type": "bar",
         "x": [
          0
         ],
         "xaxis": "x",
         "y": [
          "Insight Analyst"
         ],
         "yaxis": "y"
        },
        {
         "alignmentgroup": "True",
         "hovertemplate": "job_title=%{y}<br>remote_ratio=%{x}<extra></extra>",
         "legendgroup": "Lead Data Analyst",
         "marker": {
          "color": "#00cc96",
          "pattern": {
           "shape": ""
          }
         },
         "name": "Lead Data Analyst",
         "offsetgroup": "Lead Data Analyst",
         "orientation": "h",
         "showlegend": true,
         "textposition": "auto",
         "type": "bar",
         "x": [
          70
         ],
         "xaxis": "x",
         "y": [
          "Lead Data Analyst"
         ],
         "yaxis": "y"
        },
        {
         "alignmentgroup": "True",
         "hovertemplate": "job_title=%{y}<br>remote_ratio=%{x}<extra></extra>",
         "legendgroup": "Lead Data Engineer",
         "marker": {
          "color": "#ab63fa",
          "pattern": {
           "shape": ""
          }
         },
         "name": "Lead Data Engineer",
         "offsetgroup": "Lead Data Engineer",
         "orientation": "h",
         "showlegend": true,
         "textposition": "auto",
         "type": "bar",
         "x": [
          66.66666666666667
         ],
         "xaxis": "x",
         "y": [
          "Lead Data Engineer"
         ],
         "yaxis": "y"
        },
        {
         "alignmentgroup": "True",
         "hovertemplate": "job_title=%{y}<br>remote_ratio=%{x}<extra></extra>",
         "legendgroup": "Lead Data Scientist",
         "marker": {
          "color": "#FFA15A",
          "pattern": {
           "shape": ""
          }
         },
         "name": "Lead Data Scientist",
         "offsetgroup": "Lead Data Scientist",
         "orientation": "h",
         "showlegend": true,
         "textposition": "auto",
         "type": "bar",
         "x": [
          61.111111111111114
         ],
         "xaxis": "x",
         "y": [
          "Lead Data Scientist"
         ],
         "yaxis": "y"
        },
        {
         "alignmentgroup": "True",
         "hovertemplate": "job_title=%{y}<br>remote_ratio=%{x}<extra></extra>",
         "legendgroup": "Lead Machine Learning Engineer",
         "marker": {
          "color": "#19d3f3",
          "pattern": {
           "shape": ""
          }
         },
         "name": "Lead Machine Learning Engineer",
         "offsetgroup": "Lead Machine Learning Engineer",
         "orientation": "h",
         "showlegend": true,
         "textposition": "auto",
         "type": "bar",
         "x": [
          50
         ],
         "xaxis": "x",
         "y": [
          "Lead Machine Learning Engineer"
         ],
         "yaxis": "y"
        },
        {
         "alignmentgroup": "True",
         "hovertemplate": "job_title=%{y}<br>remote_ratio=%{x}<extra></extra>",
         "legendgroup": "ML Engineer",
         "marker": {
          "color": "#FF6692",
          "pattern": {
           "shape": ""
          }
         },
         "name": "ML Engineer",
         "offsetgroup": "ML Engineer",
         "orientation": "h",
         "showlegend": true,
         "textposition": "auto",
         "type": "bar",
         "x": [
          67.6470588235294
         ],
         "xaxis": "x",
         "y": [
          "ML Engineer"
         ],
         "yaxis": "y"
        },
        {
         "alignmentgroup": "True",
         "hovertemplate": "job_title=%{y}<br>remote_ratio=%{x}<extra></extra>",
         "legendgroup": "MLOps Engineer",
         "marker": {
          "color": "#B6E880",
          "pattern": {
           "shape": ""
          }
         },
         "name": "MLOps Engineer",
         "offsetgroup": "MLOps Engineer",
         "orientation": "h",
         "showlegend": true,
         "textposition": "auto",
         "type": "bar",
         "x": [
          100
         ],
         "xaxis": "x",
         "y": [
          "MLOps Engineer"
         ],
         "yaxis": "y"
        },
        {
         "alignmentgroup": "True",
         "hovertemplate": "job_title=%{y}<br>remote_ratio=%{x}<extra></extra>",
         "legendgroup": "Machine Learning Developer",
         "marker": {
          "color": "#FF97FF",
          "pattern": {
           "shape": ""
          }
         },
         "name": "Machine Learning Developer",
         "offsetgroup": "Machine Learning Developer",
         "orientation": "h",
         "showlegend": true,
         "textposition": "auto",
         "type": "bar",
         "x": [
          92.85714285714286
         ],
         "xaxis": "x",
         "y": [
          "Machine Learning Developer"
         ],
         "yaxis": "y"
        },
        {
         "alignmentgroup": "True",
         "hovertemplate": "job_title=%{y}<br>remote_ratio=%{x}<extra></extra>",
         "legendgroup": "Machine Learning Engineer",
         "marker": {
          "color": "#FECB52",
          "pattern": {
           "shape": ""
          }
         },
         "name": "Machine Learning Engineer",
         "offsetgroup": "Machine Learning Engineer",
         "orientation": "h",
         "showlegend": true,
         "textposition": "auto",
         "type": "bar",
         "x": [
          40.83044982698962
         ],
         "xaxis": "x",
         "y": [
          "Machine Learning Engineer"
         ],
         "yaxis": "y"
        },
        {
         "alignmentgroup": "True",
         "hovertemplate": "job_title=%{y}<br>remote_ratio=%{x}<extra></extra>",
         "legendgroup": "Machine Learning Infrastructure Engineer",
         "marker": {
          "color": "#636efa",
          "pattern": {
           "shape": ""
          }
         },
         "name": "Machine Learning Infrastructure Engineer",
         "offsetgroup": "Machine Learning Infrastructure Engineer",
         "orientation": "h",
         "showlegend": true,
         "textposition": "auto",
         "type": "bar",
         "x": [
          50
         ],
         "xaxis": "x",
         "y": [
          "Machine Learning Infrastructure Engineer"
         ],
         "yaxis": "y"
        },
        {
         "alignmentgroup": "True",
         "hovertemplate": "job_title=%{y}<br>remote_ratio=%{x}<extra></extra>",
         "legendgroup": "Machine Learning Manager",
         "marker": {
          "color": "#EF553B",
          "pattern": {
           "shape": ""
          }
         },
         "name": "Machine Learning Manager",
         "offsetgroup": "Machine Learning Manager",
         "orientation": "h",
         "showlegend": true,
         "textposition": "auto",
         "type": "bar",
         "x": [
          83.33333333333333
         ],
         "xaxis": "x",
         "y": [
          "Machine Learning Manager"
         ],
         "yaxis": "y"
        },
        {
         "alignmentgroup": "True",
         "hovertemplate": "job_title=%{y}<br>remote_ratio=%{x}<extra></extra>",
         "legendgroup": "Machine Learning Research Engineer",
         "marker": {
          "color": "#00cc96",
          "pattern": {
           "shape": ""
          }
         },
         "name": "Machine Learning Research Engineer",
         "offsetgroup": "Machine Learning Research Engineer",
         "orientation": "h",
         "showlegend": true,
         "textposition": "auto",
         "type": "bar",
         "x": [
          50
         ],
         "xaxis": "x",
         "y": [
          "Machine Learning Research Engineer"
         ],
         "yaxis": "y"
        },
        {
         "alignmentgroup": "True",
         "hovertemplate": "job_title=%{y}<br>remote_ratio=%{x}<extra></extra>",
         "legendgroup": "Machine Learning Researcher",
         "marker": {
          "color": "#ab63fa",
          "pattern": {
           "shape": ""
          }
         },
         "name": "Machine Learning Researcher",
         "offsetgroup": "Machine Learning Researcher",
         "orientation": "h",
         "showlegend": true,
         "textposition": "auto",
         "type": "bar",
         "x": [
          83.33333333333333
         ],
         "xaxis": "x",
         "y": [
          "Machine Learning Researcher"
         ],
         "yaxis": "y"
        },
        {
         "alignmentgroup": "True",
         "hovertemplate": "job_title=%{y}<br>remote_ratio=%{x}<extra></extra>",
         "legendgroup": "Machine Learning Scientist",
         "marker": {
          "color": "#FFA15A",
          "pattern": {
           "shape": ""
          }
         },
         "name": "Machine Learning Scientist",
         "offsetgroup": "Machine Learning Scientist",
         "orientation": "h",
         "showlegend": true,
         "textposition": "auto",
         "type": "bar",
         "x": [
          44.23076923076923
         ],
         "xaxis": "x",
         "y": [
          "Machine Learning Scientist"
         ],
         "yaxis": "y"
        },
        {
         "alignmentgroup": "True",
         "hovertemplate": "job_title=%{y}<br>remote_ratio=%{x}<extra></extra>",
         "legendgroup": "Machine Learning Software Engineer",
         "marker": {
          "color": "#19d3f3",
          "pattern": {
           "shape": ""
          }
         },
         "name": "Machine Learning Software Engineer",
         "offsetgroup": "Machine Learning Software Engineer",
         "orientation": "h",
         "showlegend": true,
         "textposition": "auto",
         "type": "bar",
         "x": [
          55
         ],
         "xaxis": "x",
         "y": [
          "Machine Learning Software Engineer"
         ],
         "yaxis": "y"
        },
        {
         "alignmentgroup": "True",
         "hovertemplate": "job_title=%{y}<br>remote_ratio=%{x}<extra></extra>",
         "legendgroup": "Manager Data Management",
         "marker": {
          "color": "#FF6692",
          "pattern": {
           "shape": ""
          }
         },
         "name": "Manager Data Management",
         "offsetgroup": "Manager Data Management",
         "orientation": "h",
         "showlegend": true,
         "textposition": "auto",
         "type": "bar",
         "x": [
          100
         ],
         "xaxis": "x",
         "y": [
          "Manager Data Management"
         ],
         "yaxis": "y"
        },
        {
         "alignmentgroup": "True",
         "hovertemplate": "job_title=%{y}<br>remote_ratio=%{x}<extra></extra>",
         "legendgroup": "Marketing Data Analyst",
         "marker": {
          "color": "#B6E880",
          "pattern": {
           "shape": ""
          }
         },
         "name": "Marketing Data Analyst",
         "offsetgroup": "Marketing Data Analyst",
         "orientation": "h",
         "showlegend": true,
         "textposition": "auto",
         "type": "bar",
         "x": [
          100
         ],
         "xaxis": "x",
         "y": [
          "Marketing Data Analyst"
         ],
         "yaxis": "y"
        },
        {
         "alignmentgroup": "True",
         "hovertemplate": "job_title=%{y}<br>remote_ratio=%{x}<extra></extra>",
         "legendgroup": "Marketing Data Engineer",
         "marker": {
          "color": "#FF97FF",
          "pattern": {
           "shape": ""
          }
         },
         "name": "Marketing Data Engineer",
         "offsetgroup": "Marketing Data Engineer",
         "orientation": "h",
         "showlegend": true,
         "textposition": "auto",
         "type": "bar",
         "x": [
          50
         ],
         "xaxis": "x",
         "y": [
          "Marketing Data Engineer"
         ],
         "yaxis": "y"
        },
        {
         "alignmentgroup": "True",
         "hovertemplate": "job_title=%{y}<br>remote_ratio=%{x}<extra></extra>",
         "legendgroup": "NLP Engineer",
         "marker": {
          "color": "#FECB52",
          "pattern": {
           "shape": ""
          }
         },
         "name": "NLP Engineer",
         "offsetgroup": "NLP Engineer",
         "orientation": "h",
         "showlegend": true,
         "textposition": "auto",
         "type": "bar",
         "x": [
          42.857142857142854
         ],
         "xaxis": "x",
         "y": [
          "NLP Engineer"
         ],
         "yaxis": "y"
        },
        {
         "alignmentgroup": "True",
         "hovertemplate": "job_title=%{y}<br>remote_ratio=%{x}<extra></extra>",
         "legendgroup": "Power BI Developer",
         "marker": {
          "color": "#636efa",
          "pattern": {
           "shape": ""
          }
         },
         "name": "Power BI Developer",
         "offsetgroup": "Power BI Developer",
         "orientation": "h",
         "showlegend": true,
         "textposition": "auto",
         "type": "bar",
         "x": [
          50
         ],
         "xaxis": "x",
         "y": [
          "Power BI Developer"
         ],
         "yaxis": "y"
        },
        {
         "alignmentgroup": "True",
         "hovertemplate": "job_title=%{y}<br>remote_ratio=%{x}<extra></extra>",
         "legendgroup": "Principal Data Analyst",
         "marker": {
          "color": "#EF553B",
          "pattern": {
           "shape": ""
          }
         },
         "name": "Principal Data Analyst",
         "offsetgroup": "Principal Data Analyst",
         "orientation": "h",
         "showlegend": true,
         "textposition": "auto",
         "type": "bar",
         "x": [
          100
         ],
         "xaxis": "x",
         "y": [
          "Principal Data Analyst"
         ],
         "yaxis": "y"
        },
        {
         "alignmentgroup": "True",
         "hovertemplate": "job_title=%{y}<br>remote_ratio=%{x}<extra></extra>",
         "legendgroup": "Principal Data Architect",
         "marker": {
          "color": "#00cc96",
          "pattern": {
           "shape": ""
          }
         },
         "name": "Principal Data Architect",
         "offsetgroup": "Principal Data Architect",
         "orientation": "h",
         "showlegend": true,
         "textposition": "auto",
         "type": "bar",
         "x": [
          100
         ],
         "xaxis": "x",
         "y": [
          "Principal Data Architect"
         ],
         "yaxis": "y"
        },
        {
         "alignmentgroup": "True",
         "hovertemplate": "job_title=%{y}<br>remote_ratio=%{x}<extra></extra>",
         "legendgroup": "Principal Data Engineer",
         "marker": {
          "color": "#ab63fa",
          "pattern": {
           "shape": ""
          }
         },
         "name": "Principal Data Engineer",
         "offsetgroup": "Principal Data Engineer",
         "orientation": "h",
         "showlegend": true,
         "textposition": "auto",
         "type": "bar",
         "x": [
          100
         ],
         "xaxis": "x",
         "y": [
          "Principal Data Engineer"
         ],
         "yaxis": "y"
        },
        {
         "alignmentgroup": "True",
         "hovertemplate": "job_title=%{y}<br>remote_ratio=%{x}<extra></extra>",
         "legendgroup": "Principal Data Scientist",
         "marker": {
          "color": "#FFA15A",
          "pattern": {
           "shape": ""
          }
         },
         "name": "Principal Data Scientist",
         "offsetgroup": "Principal Data Scientist",
         "orientation": "h",
         "showlegend": true,
         "textposition": "auto",
         "type": "bar",
         "x": [
          87.5
         ],
         "xaxis": "x",
         "y": [
          "Principal Data Scientist"
         ],
         "yaxis": "y"
        },
        {
         "alignmentgroup": "True",
         "hovertemplate": "job_title=%{y}<br>remote_ratio=%{x}<extra></extra>",
         "legendgroup": "Principal Machine Learning Engineer",
         "marker": {
          "color": "#19d3f3",
          "pattern": {
           "shape": ""
          }
         },
         "name": "Principal Machine Learning Engineer",
         "offsetgroup": "Principal Machine Learning Engineer",
         "orientation": "h",
         "showlegend": true,
         "textposition": "auto",
         "type": "bar",
         "x": [
          100
         ],
         "xaxis": "x",
         "y": [
          "Principal Machine Learning Engineer"
         ],
         "yaxis": "y"
        },
        {
         "alignmentgroup": "True",
         "hovertemplate": "job_title=%{y}<br>remote_ratio=%{x}<extra></extra>",
         "legendgroup": "Product Data Analyst",
         "marker": {
          "color": "#FF6692",
          "pattern": {
           "shape": ""
          }
         },
         "name": "Product Data Analyst",
         "offsetgroup": "Product Data Analyst",
         "orientation": "h",
         "showlegend": true,
         "textposition": "auto",
         "type": "bar",
         "x": [
          80
         ],
         "xaxis": "x",
         "y": [
          "Product Data Analyst"
         ],
         "yaxis": "y"
        },
        {
         "alignmentgroup": "True",
         "hovertemplate": "job_title=%{y}<br>remote_ratio=%{x}<extra></extra>",
         "legendgroup": "Product Data Scientist",
         "marker": {
          "color": "#B6E880",
          "pattern": {
           "shape": ""
          }
         },
         "name": "Product Data Scientist",
         "offsetgroup": "Product Data Scientist",
         "orientation": "h",
         "showlegend": true,
         "textposition": "auto",
         "type": "bar",
         "x": [
          100
         ],
         "xaxis": "x",
         "y": [
          "Product Data Scientist"
         ],
         "yaxis": "y"
        },
        {
         "alignmentgroup": "True",
         "hovertemplate": "job_title=%{y}<br>remote_ratio=%{x}<extra></extra>",
         "legendgroup": "Research Engineer",
         "marker": {
          "color": "#FF97FF",
          "pattern": {
           "shape": ""
          }
         },
         "name": "Research Engineer",
         "offsetgroup": "Research Engineer",
         "orientation": "h",
         "showlegend": true,
         "textposition": "auto",
         "type": "bar",
         "x": [
          18.91891891891892
         ],
         "xaxis": "x",
         "y": [
          "Research Engineer"
         ],
         "yaxis": "y"
        },
        {
         "alignmentgroup": "True",
         "hovertemplate": "job_title=%{y}<br>remote_ratio=%{x}<extra></extra>",
         "legendgroup": "Research Scientist",
         "marker": {
          "color": "#FECB52",
          "pattern": {
           "shape": ""
          }
         },
         "name": "Research Scientist",
         "offsetgroup": "Research Scientist",
         "orientation": "h",
         "showlegend": true,
         "textposition": "auto",
         "type": "bar",
         "x": [
          27.4390243902439
         ],
         "xaxis": "x",
         "y": [
          "Research Scientist"
         ],
         "yaxis": "y"
        },
        {
         "alignmentgroup": "True",
         "hovertemplate": "job_title=%{y}<br>remote_ratio=%{x}<extra></extra>",
         "legendgroup": "Software Data Engineer",
         "marker": {
          "color": "#636efa",
          "pattern": {
           "shape": ""
          }
         },
         "name": "Software Data Engineer",
         "offsetgroup": "Software Data Engineer",
         "orientation": "h",
         "showlegend": true,
         "textposition": "auto",
         "type": "bar",
         "x": [
          75
         ],
         "xaxis": "x",
         "y": [
          "Software Data Engineer"
         ],
         "yaxis": "y"
        },
        {
         "alignmentgroup": "True",
         "hovertemplate": "job_title=%{y}<br>remote_ratio=%{x}<extra></extra>",
         "legendgroup": "Staff Data Analyst",
         "marker": {
          "color": "#EF553B",
          "pattern": {
           "shape": ""
          }
         },
         "name": "Staff Data Analyst",
         "offsetgroup": "Staff Data Analyst",
         "orientation": "h",
         "showlegend": true,
         "textposition": "auto",
         "type": "bar",
         "x": [
          0
         ],
         "xaxis": "x",
         "y": [
          "Staff Data Analyst"
         ],
         "yaxis": "y"
        },
        {
         "alignmentgroup": "True",
         "hovertemplate": "job_title=%{y}<br>remote_ratio=%{x}<extra></extra>",
         "legendgroup": "Staff Data Scientist",
         "marker": {
          "color": "#00cc96",
          "pattern": {
           "shape": ""
          }
         },
         "name": "Staff Data Scientist",
         "offsetgroup": "Staff Data Scientist",
         "orientation": "h",
         "showlegend": true,
         "textposition": "auto",
         "type": "bar",
         "x": [
          100
         ],
         "xaxis": "x",
         "y": [
          "Staff Data Scientist"
         ],
         "yaxis": "y"
        }
       ],
       "layout": {
        "barmode": "relative",
        "legend": {
         "title": {
          "text": "job_title"
         },
         "tracegroupgap": 0
        },
        "template": {
         "data": {
          "bar": [
           {
            "error_x": {
             "color": "#f2f5fa"
            },
            "error_y": {
             "color": "#f2f5fa"
            },
            "marker": {
             "line": {
              "color": "rgb(17,17,17)",
              "width": 0.5
             },
             "pattern": {
              "fillmode": "overlay",
              "size": 10,
              "solidity": 0.2
             }
            },
            "type": "bar"
           }
          ],
          "barpolar": [
           {
            "marker": {
             "line": {
              "color": "rgb(17,17,17)",
              "width": 0.5
             },
             "pattern": {
              "fillmode": "overlay",
              "size": 10,
              "solidity": 0.2
             }
            },
            "type": "barpolar"
           }
          ],
          "carpet": [
           {
            "aaxis": {
             "endlinecolor": "#A2B1C6",
             "gridcolor": "#506784",
             "linecolor": "#506784",
             "minorgridcolor": "#506784",
             "startlinecolor": "#A2B1C6"
            },
            "baxis": {
             "endlinecolor": "#A2B1C6",
             "gridcolor": "#506784",
             "linecolor": "#506784",
             "minorgridcolor": "#506784",
             "startlinecolor": "#A2B1C6"
            },
            "type": "carpet"
           }
          ],
          "choropleth": [
           {
            "colorbar": {
             "outlinewidth": 0,
             "ticks": ""
            },
            "type": "choropleth"
           }
          ],
          "contour": [
           {
            "colorbar": {
             "outlinewidth": 0,
             "ticks": ""
            },
            "colorscale": [
             [
              0,
              "#0d0887"
             ],
             [
              0.1111111111111111,
              "#46039f"
             ],
             [
              0.2222222222222222,
              "#7201a8"
             ],
             [
              0.3333333333333333,
              "#9c179e"
             ],
             [
              0.4444444444444444,
              "#bd3786"
             ],
             [
              0.5555555555555556,
              "#d8576b"
             ],
             [
              0.6666666666666666,
              "#ed7953"
             ],
             [
              0.7777777777777778,
              "#fb9f3a"
             ],
             [
              0.8888888888888888,
              "#fdca26"
             ],
             [
              1,
              "#f0f921"
             ]
            ],
            "type": "contour"
           }
          ],
          "contourcarpet": [
           {
            "colorbar": {
             "outlinewidth": 0,
             "ticks": ""
            },
            "type": "contourcarpet"
           }
          ],
          "heatmap": [
           {
            "colorbar": {
             "outlinewidth": 0,
             "ticks": ""
            },
            "colorscale": [
             [
              0,
              "#0d0887"
             ],
             [
              0.1111111111111111,
              "#46039f"
             ],
             [
              0.2222222222222222,
              "#7201a8"
             ],
             [
              0.3333333333333333,
              "#9c179e"
             ],
             [
              0.4444444444444444,
              "#bd3786"
             ],
             [
              0.5555555555555556,
              "#d8576b"
             ],
             [
              0.6666666666666666,
              "#ed7953"
             ],
             [
              0.7777777777777778,
              "#fb9f3a"
             ],
             [
              0.8888888888888888,
              "#fdca26"
             ],
             [
              1,
              "#f0f921"
             ]
            ],
            "type": "heatmap"
           }
          ],
          "heatmapgl": [
           {
            "colorbar": {
             "outlinewidth": 0,
             "ticks": ""
            },
            "colorscale": [
             [
              0,
              "#0d0887"
             ],
             [
              0.1111111111111111,
              "#46039f"
             ],
             [
              0.2222222222222222,
              "#7201a8"
             ],
             [
              0.3333333333333333,
              "#9c179e"
             ],
             [
              0.4444444444444444,
              "#bd3786"
             ],
             [
              0.5555555555555556,
              "#d8576b"
             ],
             [
              0.6666666666666666,
              "#ed7953"
             ],
             [
              0.7777777777777778,
              "#fb9f3a"
             ],
             [
              0.8888888888888888,
              "#fdca26"
             ],
             [
              1,
              "#f0f921"
             ]
            ],
            "type": "heatmapgl"
           }
          ],
          "histogram": [
           {
            "marker": {
             "pattern": {
              "fillmode": "overlay",
              "size": 10,
              "solidity": 0.2
             }
            },
            "type": "histogram"
           }
          ],
          "histogram2d": [
           {
            "colorbar": {
             "outlinewidth": 0,
             "ticks": ""
            },
            "colorscale": [
             [
              0,
              "#0d0887"
             ],
             [
              0.1111111111111111,
              "#46039f"
             ],
             [
              0.2222222222222222,
              "#7201a8"
             ],
             [
              0.3333333333333333,
              "#9c179e"
             ],
             [
              0.4444444444444444,
              "#bd3786"
             ],
             [
              0.5555555555555556,
              "#d8576b"
             ],
             [
              0.6666666666666666,
              "#ed7953"
             ],
             [
              0.7777777777777778,
              "#fb9f3a"
             ],
             [
              0.8888888888888888,
              "#fdca26"
             ],
             [
              1,
              "#f0f921"
             ]
            ],
            "type": "histogram2d"
           }
          ],
          "histogram2dcontour": [
           {
            "colorbar": {
             "outlinewidth": 0,
             "ticks": ""
            },
            "colorscale": [
             [
              0,
              "#0d0887"
             ],
             [
              0.1111111111111111,
              "#46039f"
             ],
             [
              0.2222222222222222,
              "#7201a8"
             ],
             [
              0.3333333333333333,
              "#9c179e"
             ],
             [
              0.4444444444444444,
              "#bd3786"
             ],
             [
              0.5555555555555556,
              "#d8576b"
             ],
             [
              0.6666666666666666,
              "#ed7953"
             ],
             [
              0.7777777777777778,
              "#fb9f3a"
             ],
             [
              0.8888888888888888,
              "#fdca26"
             ],
             [
              1,
              "#f0f921"
             ]
            ],
            "type": "histogram2dcontour"
           }
          ],
          "mesh3d": [
           {
            "colorbar": {
             "outlinewidth": 0,
             "ticks": ""
            },
            "type": "mesh3d"
           }
          ],
          "parcoords": [
           {
            "line": {
             "colorbar": {
              "outlinewidth": 0,
              "ticks": ""
             }
            },
            "type": "parcoords"
           }
          ],
          "pie": [
           {
            "automargin": true,
            "type": "pie"
           }
          ],
          "scatter": [
           {
            "marker": {
             "line": {
              "color": "#283442"
             }
            },
            "type": "scatter"
           }
          ],
          "scatter3d": [
           {
            "line": {
             "colorbar": {
              "outlinewidth": 0,
              "ticks": ""
             }
            },
            "marker": {
             "colorbar": {
              "outlinewidth": 0,
              "ticks": ""
             }
            },
            "type": "scatter3d"
           }
          ],
          "scattercarpet": [
           {
            "marker": {
             "colorbar": {
              "outlinewidth": 0,
              "ticks": ""
             }
            },
            "type": "scattercarpet"
           }
          ],
          "scattergeo": [
           {
            "marker": {
             "colorbar": {
              "outlinewidth": 0,
              "ticks": ""
             }
            },
            "type": "scattergeo"
           }
          ],
          "scattergl": [
           {
            "marker": {
             "line": {
              "color": "#283442"
             }
            },
            "type": "scattergl"
           }
          ],
          "scattermapbox": [
           {
            "marker": {
             "colorbar": {
              "outlinewidth": 0,
              "ticks": ""
             }
            },
            "type": "scattermapbox"
           }
          ],
          "scatterpolar": [
           {
            "marker": {
             "colorbar": {
              "outlinewidth": 0,
              "ticks": ""
             }
            },
            "type": "scatterpolar"
           }
          ],
          "scatterpolargl": [
           {
            "marker": {
             "colorbar": {
              "outlinewidth": 0,
              "ticks": ""
             }
            },
            "type": "scatterpolargl"
           }
          ],
          "scatterternary": [
           {
            "marker": {
             "colorbar": {
              "outlinewidth": 0,
              "ticks": ""
             }
            },
            "type": "scatterternary"
           }
          ],
          "surface": [
           {
            "colorbar": {
             "outlinewidth": 0,
             "ticks": ""
            },
            "colorscale": [
             [
              0,
              "#0d0887"
             ],
             [
              0.1111111111111111,
              "#46039f"
             ],
             [
              0.2222222222222222,
              "#7201a8"
             ],
             [
              0.3333333333333333,
              "#9c179e"
             ],
             [
              0.4444444444444444,
              "#bd3786"
             ],
             [
              0.5555555555555556,
              "#d8576b"
             ],
             [
              0.6666666666666666,
              "#ed7953"
             ],
             [
              0.7777777777777778,
              "#fb9f3a"
             ],
             [
              0.8888888888888888,
              "#fdca26"
             ],
             [
              1,
              "#f0f921"
             ]
            ],
            "type": "surface"
           }
          ],
          "table": [
           {
            "cells": {
             "fill": {
              "color": "#506784"
             },
             "line": {
              "color": "rgb(17,17,17)"
             }
            },
            "header": {
             "fill": {
              "color": "#2a3f5f"
             },
             "line": {
              "color": "rgb(17,17,17)"
             }
            },
            "type": "table"
           }
          ]
         },
         "layout": {
          "annotationdefaults": {
           "arrowcolor": "#f2f5fa",
           "arrowhead": 0,
           "arrowwidth": 1
          },
          "autotypenumbers": "strict",
          "coloraxis": {
           "colorbar": {
            "outlinewidth": 0,
            "ticks": ""
           }
          },
          "colorscale": {
           "diverging": [
            [
             0,
             "#8e0152"
            ],
            [
             0.1,
             "#c51b7d"
            ],
            [
             0.2,
             "#de77ae"
            ],
            [
             0.3,
             "#f1b6da"
            ],
            [
             0.4,
             "#fde0ef"
            ],
            [
             0.5,
             "#f7f7f7"
            ],
            [
             0.6,
             "#e6f5d0"
            ],
            [
             0.7,
             "#b8e186"
            ],
            [
             0.8,
             "#7fbc41"
            ],
            [
             0.9,
             "#4d9221"
            ],
            [
             1,
             "#276419"
            ]
           ],
           "sequential": [
            [
             0,
             "#0d0887"
            ],
            [
             0.1111111111111111,
             "#46039f"
            ],
            [
             0.2222222222222222,
             "#7201a8"
            ],
            [
             0.3333333333333333,
             "#9c179e"
            ],
            [
             0.4444444444444444,
             "#bd3786"
            ],
            [
             0.5555555555555556,
             "#d8576b"
            ],
            [
             0.6666666666666666,
             "#ed7953"
            ],
            [
             0.7777777777777778,
             "#fb9f3a"
            ],
            [
             0.8888888888888888,
             "#fdca26"
            ],
            [
             1,
             "#f0f921"
            ]
           ],
           "sequentialminus": [
            [
             0,
             "#0d0887"
            ],
            [
             0.1111111111111111,
             "#46039f"
            ],
            [
             0.2222222222222222,
             "#7201a8"
            ],
            [
             0.3333333333333333,
             "#9c179e"
            ],
            [
             0.4444444444444444,
             "#bd3786"
            ],
            [
             0.5555555555555556,
             "#d8576b"
            ],
            [
             0.6666666666666666,
             "#ed7953"
            ],
            [
             0.7777777777777778,
             "#fb9f3a"
            ],
            [
             0.8888888888888888,
             "#fdca26"
            ],
            [
             1,
             "#f0f921"
            ]
           ]
          },
          "colorway": [
           "#636efa",
           "#EF553B",
           "#00cc96",
           "#ab63fa",
           "#FFA15A",
           "#19d3f3",
           "#FF6692",
           "#B6E880",
           "#FF97FF",
           "#FECB52"
          ],
          "font": {
           "color": "#f2f5fa"
          },
          "geo": {
           "bgcolor": "rgb(17,17,17)",
           "lakecolor": "rgb(17,17,17)",
           "landcolor": "rgb(17,17,17)",
           "showlakes": true,
           "showland": true,
           "subunitcolor": "#506784"
          },
          "hoverlabel": {
           "align": "left"
          },
          "hovermode": "closest",
          "mapbox": {
           "style": "dark"
          },
          "paper_bgcolor": "rgb(17,17,17)",
          "plot_bgcolor": "rgb(17,17,17)",
          "polar": {
           "angularaxis": {
            "gridcolor": "#506784",
            "linecolor": "#506784",
            "ticks": ""
           },
           "bgcolor": "rgb(17,17,17)",
           "radialaxis": {
            "gridcolor": "#506784",
            "linecolor": "#506784",
            "ticks": ""
           }
          },
          "scene": {
           "xaxis": {
            "backgroundcolor": "rgb(17,17,17)",
            "gridcolor": "#506784",
            "gridwidth": 2,
            "linecolor": "#506784",
            "showbackground": true,
            "ticks": "",
            "zerolinecolor": "#C8D4E3"
           },
           "yaxis": {
            "backgroundcolor": "rgb(17,17,17)",
            "gridcolor": "#506784",
            "gridwidth": 2,
            "linecolor": "#506784",
            "showbackground": true,
            "ticks": "",
            "zerolinecolor": "#C8D4E3"
           },
           "zaxis": {
            "backgroundcolor": "rgb(17,17,17)",
            "gridcolor": "#506784",
            "gridwidth": 2,
            "linecolor": "#506784",
            "showbackground": true,
            "ticks": "",
            "zerolinecolor": "#C8D4E3"
           }
          },
          "shapedefaults": {
           "line": {
            "color": "#f2f5fa"
           }
          },
          "sliderdefaults": {
           "bgcolor": "#C8D4E3",
           "bordercolor": "rgb(17,17,17)",
           "borderwidth": 1,
           "tickwidth": 0
          },
          "ternary": {
           "aaxis": {
            "gridcolor": "#506784",
            "linecolor": "#506784",
            "ticks": ""
           },
           "baxis": {
            "gridcolor": "#506784",
            "linecolor": "#506784",
            "ticks": ""
           },
           "bgcolor": "rgb(17,17,17)",
           "caxis": {
            "gridcolor": "#506784",
            "linecolor": "#506784",
            "ticks": ""
           }
          },
          "title": {
           "x": 0.05
          },
          "updatemenudefaults": {
           "bgcolor": "#506784",
           "borderwidth": 0
          },
          "xaxis": {
           "automargin": true,
           "gridcolor": "#283442",
           "linecolor": "#506784",
           "ticks": "",
           "title": {
            "standoff": 15
           },
           "zerolinecolor": "#283442",
           "zerolinewidth": 2
          },
          "yaxis": {
           "automargin": true,
           "gridcolor": "#283442",
           "linecolor": "#506784",
           "ticks": "",
           "title": {
            "standoff": 15
           },
           "zerolinecolor": "#283442",
           "zerolinewidth": 2
          }
         }
        },
        "title": {
         "text": "Proporción de trabajo remoto por puesto"
        },
        "xaxis": {
         "anchor": "y",
         "domain": [
          0,
          1
         ],
         "title": {
          "text": "remote_ratio"
         }
        },
        "yaxis": {
         "anchor": "x",
         "categoryarray": [
          "Staff Data Scientist",
          "Staff Data Analyst",
          "Software Data Engineer",
          "Research Scientist",
          "Research Engineer",
          "Product Data Scientist",
          "Product Data Analyst",
          "Principal Machine Learning Engineer",
          "Principal Data Scientist",
          "Principal Data Engineer",
          "Principal Data Architect",
          "Principal Data Analyst",
          "Power BI Developer",
          "NLP Engineer",
          "Marketing Data Engineer",
          "Marketing Data Analyst",
          "Manager Data Management",
          "Machine Learning Software Engineer",
          "Machine Learning Scientist",
          "Machine Learning Researcher",
          "Machine Learning Research Engineer",
          "Machine Learning Manager",
          "Machine Learning Infrastructure Engineer",
          "Machine Learning Engineer",
          "Machine Learning Developer",
          "MLOps Engineer",
          "ML Engineer",
          "Lead Machine Learning Engineer",
          "Lead Data Scientist",
          "Lead Data Engineer",
          "Lead Data Analyst",
          "Insight Analyst",
          "Head of Machine Learning",
          "Head of Data Science",
          "Head of Data",
          "Financial Data Analyst",
          "Finance Data Analyst",
          "ETL Engineer",
          "ETL Developer",
          "Director of Data Science",
          "Deep Learning Researcher",
          "Deep Learning Engineer",
          "Data Strategist",
          "Data Specialist",
          "Data Scientist Lead",
          "Data Scientist",
          "Data Science Tech Lead",
          "Data Science Manager",
          "Data Science Lead",
          "Data Science Engineer",
          "Data Science Consultant",
          "Data Quality Analyst",
          "Data Operations Engineer",
          "Data Operations Analyst",
          "Data Modeler",
          "Data Manager",
          "Data Management Specialist",
          "Data Lead",
          "Data Infrastructure Engineer",
          "Data Engineer",
          "Data DevOps Engineer",
          "Data Architect",
          "Data Analytics Specialist",
          "Data Analytics Manager",
          "Data Analytics Lead",
          "Data Analytics Engineer",
          "Data Analytics Consultant",
          "Data Analyst",
          "Computer Vision Software Engineer",
          "Computer Vision Engineer",
          "Compliance Data Analyst",
          "Cloud Database Engineer",
          "Cloud Data Engineer",
          "Cloud Data Architect",
          "Business Intelligence Engineer",
          "Business Data Analyst",
          "Big Data Engineer",
          "Big Data Architect",
          "BI Developer",
          "BI Data Engineer",
          "BI Data Analyst",
          "BI Analyst",
          "Azure Data Engineer",
          "Autonomous Vehicle Technician",
          "Applied Scientist",
          "Applied Machine Learning Scientist",
          "Applied Machine Learning Engineer",
          "Applied Data Scientist",
          "Analytics Engineer",
          "AI Scientist",
          "AI Programmer",
          "AI Developer",
          "3D Computer Vision Researcher"
         ],
         "categoryorder": "array",
         "domain": [
          0,
          1
         ],
         "title": {
          "text": "job_title"
         }
        }
       }
      }
     },
     "metadata": {},
     "output_type": "display_data"
    }
   ],
   "source": [
    "#Calculamos la media de la proporción de trabajo remoto para cada puesto\n",
    "average_remote = df.groupby('job_title')['remote_ratio'].mean().reset_index()\n",
    "#creamos la gráfica\n",
    "fig = px.bar(average_remote, y='job_title', x='remote_ratio', title='Proporción de trabajo remoto por puesto', template='plotly_dark', color='job_title')\n",
    "fig.show()"
   ]
  },
  {
   "attachments": {},
   "cell_type": "markdown",
   "metadata": {},
   "source": [
    "¿Existe una relación entre el tamaño de la empresa y el salario?"
   ]
  },
  {
   "cell_type": "code",
   "execution_count": 6,
   "metadata": {},
   "outputs": [
    {
     "data": {
      "application/vnd.plotly.v1+json": {
       "config": {
        "plotlyServerURL": "https://plot.ly"
       },
       "data": [
        {
         "alignmentgroup": "True",
         "hovertemplate": "company_size=%{x}<br>salary_in_usd=%{y}<extra></extra>",
         "legendgroup": "S",
         "marker": {
          "color": "#636efa"
         },
         "name": "S",
         "notched": false,
         "offsetgroup": "S",
         "orientation": "v",
         "showlegend": true,
         "type": "box",
         "x": [
          "S",
          "S",
          "S",
          "S",
          "S",
          "S",
          "S",
          "S",
          "S",
          "S",
          "S",
          "S",
          "S",
          "S",
          "S",
          "S",
          "S",
          "S",
          "S",
          "S",
          "S",
          "S",
          "S",
          "S",
          "S",
          "S",
          "S",
          "S",
          "S",
          "S",
          "S",
          "S",
          "S",
          "S",
          "S",
          "S",
          "S",
          "S",
          "S",
          "S",
          "S",
          "S",
          "S",
          "S",
          "S",
          "S",
          "S",
          "S",
          "S",
          "S",
          "S",
          "S",
          "S",
          "S",
          "S",
          "S",
          "S",
          "S",
          "S",
          "S",
          "S",
          "S",
          "S",
          "S",
          "S",
          "S",
          "S",
          "S",
          "S",
          "S",
          "S",
          "S",
          "S",
          "S",
          "S",
          "S",
          "S",
          "S",
          "S",
          "S",
          "S",
          "S",
          "S",
          "S",
          "S",
          "S",
          "S",
          "S",
          "S",
          "S",
          "S",
          "S",
          "S",
          "S",
          "S",
          "S",
          "S",
          "S",
          "S",
          "S",
          "S",
          "S",
          "S",
          "S",
          "S",
          "S",
          "S",
          "S",
          "S",
          "S",
          "S",
          "S",
          "S",
          "S",
          "S",
          "S",
          "S",
          "S",
          "S",
          "S",
          "S",
          "S",
          "S",
          "S",
          "S",
          "S",
          "S",
          "S",
          "S",
          "S",
          "S",
          "S",
          "S",
          "S",
          "S",
          "S",
          "S",
          "S",
          "S",
          "S",
          "S",
          "S",
          "S",
          "S",
          "S",
          "S",
          "S",
          "S"
         ],
         "x0": " ",
         "xaxis": "x",
         "y": [
          30000,
          25500,
          69751,
          56536,
          53654,
          275000,
          50000,
          7000,
          200000,
          125000,
          34320,
          15806,
          107309,
          85847,
          110000,
          80000,
          30000,
          36000,
          110000,
          130000,
          30000,
          50000,
          12888,
          120000,
          200000,
          80000,
          6304,
          10000,
          44365,
          58837,
          10000,
          115000,
          13000,
          50000,
          50000,
          33000,
          34672,
          12608,
          125404,
          200000,
          165000,
          108000,
          120000,
          55000,
          75648,
          200000,
          126080,
          84053,
          60000,
          63040,
          200000,
          180000,
          200000,
          50000,
          29944,
          54634,
          55410,
          5723,
          50432,
          61566,
          48000,
          55000,
          52008,
          30523,
          60938,
          65666,
          49268,
          115222,
          58000,
          58000,
          120000,
          65000,
          120000,
          65000,
          68293,
          20000,
          31520,
          75000,
          20000,
          48000,
          77364,
          63711,
          150000,
          100000,
          82500,
          20000,
          9466,
          120000,
          100000,
          59303,
          55000,
          125000,
          90000,
          60000,
          47282,
          80000,
          10000,
          138000,
          45760,
          76833,
          103160,
          115000,
          15966,
          95746,
          76958,
          160000,
          90000,
          6072,
          33511,
          260000,
          110000,
          256000,
          85000,
          160000,
          25532,
          16904,
          190000,
          9272,
          125000,
          51321,
          69741,
          5679,
          81000,
          90000,
          416000,
          41689,
          114047,
          28609,
          66022,
          56738,
          45896,
          50000,
          12901,
          42197,
          62726,
          21669,
          87738,
          76833,
          74000,
          18000,
          60000,
          18053,
          91237,
          62726,
          12000,
          45618,
          168000,
          105000
         ],
         "y0": " ",
         "yaxis": "y"
        },
        {
         "alignmentgroup": "True",
         "hovertemplate": "company_size=%{x}<br>salary_in_usd=%{y}<extra></extra>",
         "legendgroup": "M",
         "marker": {
          "color": "#EF553B"
         },
         "name": "M",
         "notched": false,
         "offsetgroup": "M",
         "orientation": "v",
         "showlegend": true,
         "type": "box",
         "x": [
          "M",
          "M",
          "M",
          "M",
          "M",
          "M",
          "M",
          "M",
          "M",
          "M",
          "M",
          "M",
          "M",
          "M",
          "M",
          "M",
          "M",
          "M",
          "M",
          "M",
          "M",
          "M",
          "M",
          "M",
          "M",
          "M",
          "M",
          "M",
          "M",
          "M",
          "M",
          "M",
          "M",
          "M",
          "M",
          "M",
          "M",
          "M",
          "M",
          "M",
          "M",
          "M",
          "M",
          "M",
          "M",
          "M",
          "M",
          "M",
          "M",
          "M",
          "M",
          "M",
          "M",
          "M",
          "M",
          "M",
          "M",
          "M",
          "M",
          "M",
          "M",
          "M",
          "M",
          "M",
          "M",
          "M",
          "M",
          "M",
          "M",
          "M",
          "M",
          "M",
          "M",
          "M",
          "M",
          "M",
          "M",
          "M",
          "M",
          "M",
          "M",
          "M",
          "M",
          "M",
          "M",
          "M",
          "M",
          "M",
          "M",
          "M",
          "M",
          "M",
          "M",
          "M",
          "M",
          "M",
          "M",
          "M",
          "M",
          "M",
          "M",
          "M",
          "M",
          "M",
          "M",
          "M",
          "M",
          "M",
          "M",
          "M",
          "M",
          "M",
          "M",
          "M",
          "M",
          "M",
          "M",
          "M",
          "M",
          "M",
          "M",
          "M",
          "M",
          "M",
          "M",
          "M",
          "M",
          "M",
          "M",
          "M",
          "M",
          "M",
          "M",
          "M",
          "M",
          "M",
          "M",
          "M",
          "M",
          "M",
          "M",
          "M",
          "M",
          "M",
          "M",
          "M",
          "M",
          "M",
          "M",
          "M",
          "M",
          "M",
          "M",
          "M",
          "M",
          "M",
          "M",
          "M",
          "M",
          "M",
          "M",
          "M",
          "M",
          "M",
          "M",
          "M",
          "M",
          "M",
          "M",
          "M",
          "M",
          "M",
          "M",
          "M",
          "M",
          "M",
          "M",
          "M",
          "M",
          "M",
          "M",
          "M",
          "M",
          "M",
          "M",
          "M",
          "M",
          "M",
          "M",
          "M",
          "M",
          "M",
          "M",
          "M",
          "M",
          "M",
          "M",
          "M",
          "M",
          "M",
          "M",
          "M",
          "M",
          "M",
          "M",
          "M",
          "M",
          "M",
          "M",
          "M",
          "M",
          "M",
          "M",
          "M",
          "M",
          "M",
          "M",
          "M",
          "M",
          "M",
          "M",
          "M",
          "M",
          "M",
          "M",
          "M",
          "M",
          "M",
          "M",
          "M",
          "M",
          "M",
          "M",
          "M",
          "M",
          "M",
          "M",
          "M",
          "M",
          "M",
          "M",
          "M",
          "M",
          "M",
          "M",
          "M",
          "M",
          "M",
          "M",
          "M",
          "M",
          "M",
          "M",
          "M",
          "M",
          "M",
          "M",
          "M",
          "M",
          "M",
          "M",
          "M",
          "M",
          "M",
          "M",
          "M",
          "M",
          "M",
          "M",
          "M",
          "M",
          "M",
          "M",
          "M",
          "M",
          "M",
          "M",
          "M",
          "M",
          "M",
          "M",
          "M",
          "M",
          "M",
          "M",
          "M",
          "M",
          "M",
          "M",
          "M",
          "M",
          "M",
          "M",
          "M",
          "M",
          "M",
          "M",
          "M",
          "M",
          "M",
          "M",
          "M",
          "M",
          "M",
          "M",
          "M",
          "M",
          "M",
          "M",
          "M",
          "M",
          "M",
          "M",
          "M",
          "M",
          "M",
          "M",
          "M",
          "M",
          "M",
          "M",
          "M",
          "M",
          "M",
          "M",
          "M",
          "M",
          "M",
          "M",
          "M",
          "M",
          "M",
          "M",
          "M",
          "M",
          "M",
          "M",
          "M",
          "M",
          "M",
          "M",
          "M",
          "M",
          "M",
          "M",
          "M",
          "M",
          "M",
          "M",
          "M",
          "M",
          "M",
          "M",
          "M",
          "M",
          "M",
          "M",
          "M",
          "M",
          "M",
          "M",
          "M",
          "M",
          "M",
          "M",
          "M",
          "M",
          "M",
          "M",
          "M",
          "M",
          "M",
          "M",
          "M",
          "M",
          "M",
          "M",
          "M",
          "M",
          "M",
          "M",
          "M",
          "M",
          "M",
          "M",
          "M",
          "M",
          "M",
          "M",
          "M",
          "M",
          "M",
          "M",
          "M",
          "M",
          "M",
          "M",
          "M",
          "M",
          "M",
          "M",
          "M",
          "M",
          "M",
          "M",
          "M",
          "M",
          "M",
          "M",
          "M",
          "M",
          "M",
          "M",
          "M",
          "M",
          "M",
          "M",
          "M",
          "M",
          "M",
          "M",
          "M",
          "M",
          "M",
          "M",
          "M",
          "M",
          "M",
          "M",
          "M",
          "M",
          "M",
          "M",
          "M",
          "M",
          "M",
          "M",
          "M",
          "M",
          "M",
          "M",
          "M",
          "M",
          "M",
          "M",
          "M",
          "M",
          "M",
          "M",
          "M",
          "M",
          "M",
          "M",
          "M",
          "M",
          "M",
          "M",
          "M",
          "M",
          "M",
          "M",
          "M",
          "M",
          "M",
          "M",
          "M",
          "M",
          "M",
          "M",
          "M",
          "M",
          "M",
          "M",
          "M",
          "M",
          "M",
          "M",
          "M",
          "M",
          "M",
          "M",
          "M",
          "M",
          "M",
          "M",
          "M",
          "M",
          "M",
          "M",
          "M",
          "M",
          "M",
          "M",
          "M",
          "M",
          "M",
          "M",
          "M",
          "M",
          "M",
          "M",
          "M",
          "M",
          "M",
          "M",
          "M",
          "M",
          "M",
          "M",
          "M",
          "M",
          "M",
          "M",
          "M",
          "M",
          "M",
          "M",
          "M",
          "M",
          "M",
          "M",
          "M",
          "M",
          "M",
          "M",
          "M",
          "M",
          "M",
          "M",
          "M",
          "M",
          "M",
          "M",
          "M",
          "M",
          "M",
          "M",
          "M",
          "M",
          "M",
          "M",
          "M",
          "M",
          "M",
          "M",
          "M",
          "M",
          "M",
          "M",
          "M",
          "M",
          "M",
          "M",
          "M",
          "M",
          "M",
          "M",
          "M",
          "M",
          "M",
          "M",
          "M",
          "M",
          "M",
          "M",
          "M",
          "M",
          "M",
          "M",
          "M",
          "M",
          "M",
          "M",
          "M",
          "M",
          "M",
          "M",
          "M",
          "M",
          "M",
          "M",
          "M",
          "M",
          "M",
          "M",
          "M",
          "M",
          "M",
          "M",
          "M",
          "M",
          "M",
          "M",
          "M",
          "M",
          "M",
          "M",
          "M",
          "M",
          "M",
          "M",
          "M",
          "M",
          "M",
          "M",
          "M",
          "M",
          "M",
          "M",
          "M",
          "M",
          "M",
          "M",
          "M",
          "M",
          "M",
          "M",
          "M",
          "M",
          "M",
          "M",
          "M",
          "M",
          "M",
          "M",
          "M",
          "M",
          "M",
          "M",
          "M",
          "M",
          "M",
          "M",
          "M",
          "M",
          "M",
          "M",
          "M",
          "M",
          "M",
          "M",
          "M",
          "M",
          "M",
          "M",
          "M",
          "M",
          "M",
          "M",
          "M",
          "M",
          "M",
          "M",
          "M",
          "M",
          "M",
          "M",
          "M",
          "M",
          "M",
          "M",
          "M",
          "M",
          "M",
          "M",
          "M",
          "M",
          "M",
          "M",
          "M",
          "M",
          "M",
          "M",
          "M",
          "M",
          "M",
          "M",
          "M",
          "M",
          "M",
          "M",
          "M",
          "M",
          "M",
          "M",
          "M",
          "M",
          "M",
          "M",
          "M",
          "M",
          "M",
          "M",
          "M",
          "M",
          "M",
          "M",
          "M",
          "M",
          "M",
          "M",
          "M",
          "M",
          "M",
          "M",
          "M",
          "M",
          "M",
          "M",
          "M",
          "M",
          "M",
          "M",
          "M",
          "M",
          "M",
          "M",
          "M",
          "M",
          "M",
          "M",
          "M",
          "M",
          "M",
          "M",
          "M",
          "M",
          "M",
          "M",
          "M",
          "M",
          "M",
          "M",
          "M",
          "M",
          "M",
          "M",
          "M",
          "M",
          "M",
          "M",
          "M",
          "M",
          "M",
          "M",
          "M",
          "M",
          "M",
          "M",
          "M",
          "M",
          "M",
          "M",
          "M",
          "M",
          "M",
          "M",
          "M",
          "M",
          "M",
          "M",
          "M",
          "M",
          "M",
          "M",
          "M",
          "M",
          "M",
          "M",
          "M",
          "M",
          "M",
          "M",
          "M",
          "M",
          "M",
          "M",
          "M",
          "M",
          "M",
          "M",
          "M",
          "M",
          "M",
          "M",
          "M",
          "M",
          "M",
          "M",
          "M",
          "M",
          "M",
          "M",
          "M",
          "M",
          "M",
          "M",
          "M",
          "M",
          "M",
          "M",
          "M",
          "M",
          "M",
          "M",
          "M",
          "M",
          "M",
          "M",
          "M",
          "M",
          "M",
          "M",
          "M",
          "M",
          "M",
          "M",
          "M",
          "M",
          "M",
          "M",
          "M",
          "M",
          "M",
          "M",
          "M",
          "M",
          "M",
          "M",
          "M",
          "M",
          "M",
          "M",
          "M",
          "M",
          "M",
          "M",
          "M",
          "M",
          "M",
          "M",
          "M",
          "M",
          "M",
          "M",
          "M",
          "M",
          "M",
          "M",
          "M",
          "M",
          "M",
          "M",
          "M",
          "M",
          "M",
          "M",
          "M",
          "M",
          "M",
          "M",
          "M",
          "M",
          "M",
          "M",
          "M",
          "M",
          "M",
          "M",
          "M",
          "M",
          "M",
          "M",
          "M",
          "M",
          "M",
          "M",
          "M",
          "M",
          "M",
          "M",
          "M",
          "M",
          "M",
          "M",
          "M",
          "M",
          "M",
          "M",
          "M",
          "M",
          "M",
          "M",
          "M",
          "M",
          "M",
          "M",
          "M",
          "M",
          "M",
          "M",
          "M",
          "M",
          "M",
          "M",
          "M",
          "M",
          "M",
          "M",
          "M",
          "M",
          "M",
          "M",
          "M",
          "M",
          "M",
          "M",
          "M",
          "M",
          "M",
          "M",
          "M",
          "M",
          "M",
          "M",
          "M",
          "M",
          "M",
          "M",
          "M",
          "M",
          "M",
          "M",
          "M",
          "M",
          "M",
          "M",
          "M",
          "M",
          "M",
          "M",
          "M",
          "M",
          "M",
          "M",
          "M",
          "M",
          "M",
          "M",
          "M",
          "M",
          "M",
          "M",
          "M",
          "M",
          "M",
          "M",
          "M",
          "M",
          "M",
          "M",
          "M",
          "M",
          "M",
          "M",
          "M",
          "M",
          "M",
          "M",
          "M",
          "M",
          "M",
          "M",
          "M",
          "M",
          "M",
          "M",
          "M",
          "M",
          "M",
          "M",
          "M",
          "M",
          "M",
          "M",
          "M",
          "M",
          "M",
          "M",
          "M",
          "M",
          "M",
          "M",
          "M",
          "M",
          "M",
          "M",
          "M",
          "M",
          "M",
          "M",
          "M",
          "M",
          "M",
          "M",
          "M",
          "M",
          "M",
          "M",
          "M",
          "M",
          "M",
          "M",
          "M",
          "M",
          "M",
          "M",
          "M",
          "M",
          "M",
          "M",
          "M",
          "M",
          "M",
          "M",
          "M",
          "M",
          "M",
          "M",
          "M",
          "M",
          "M",
          "M",
          "M",
          "M",
          "M",
          "M",
          "M",
          "M",
          "M",
          "M",
          "M",
          "M",
          "M",
          "M",
          "M",
          "M",
          "M",
          "M",
          "M",
          "M",
          "M",
          "M",
          "M",
          "M",
          "M",
          "M",
          "M",
          "M",
          "M",
          "M",
          "M",
          "M",
          "M",
          "M",
          "M",
          "M",
          "M",
          "M",
          "M",
          "M",
          "M",
          "M",
          "M",
          "M",
          "M",
          "M",
          "M",
          "M",
          "M",
          "M",
          "M",
          "M",
          "M",
          "M",
          "M",
          "M",
          "M",
          "M",
          "M",
          "M",
          "M",
          "M",
          "M",
          "M",
          "M",
          "M",
          "M",
          "M",
          "M",
          "M",
          "M",
          "M",
          "M",
          "M",
          "M",
          "M",
          "M",
          "M",
          "M",
          "M",
          "M",
          "M",
          "M",
          "M",
          "M",
          "M",
          "M",
          "M",
          "M",
          "M",
          "M",
          "M",
          "M",
          "M",
          "M",
          "M",
          "M",
          "M",
          "M",
          "M",
          "M",
          "M",
          "M",
          "M",
          "M",
          "M",
          "M",
          "M",
          "M",
          "M",
          "M",
          "M",
          "M",
          "M",
          "M",
          "M",
          "M",
          "M",
          "M",
          "M",
          "M",
          "M",
          "M",
          "M",
          "M",
          "M",
          "M",
          "M",
          "M",
          "M",
          "M",
          "M",
          "M",
          "M",
          "M",
          "M",
          "M",
          "M",
          "M",
          "M",
          "M",
          "M",
          "M",
          "M",
          "M",
          "M",
          "M",
          "M",
          "M",
          "M",
          "M",
          "M",
          "M",
          "M",
          "M",
          "M",
          "M",
          "M",
          "M",
          "M",
          "M",
          "M",
          "M",
          "M",
          "M",
          "M",
          "M",
          "M",
          "M",
          "M",
          "M",
          "M",
          "M",
          "M",
          "M",
          "M",
          "M",
          "M",
          "M",
          "M",
          "M",
          "M",
          "M",
          "M",
          "M",
          "M",
          "M",
          "M",
          "M",
          "M",
          "M",
          "M",
          "M",
          "M",
          "M",
          "M",
          "M",
          "M",
          "M",
          "M",
          "M",
          "M",
          "M",
          "M",
          "M",
          "M",
          "M",
          "M",
          "M",
          "M",
          "M",
          "M",
          "M",
          "M",
          "M",
          "M",
          "M",
          "M",
          "M",
          "M",
          "M",
          "M",
          "M",
          "M",
          "M",
          "M",
          "M",
          "M",
          "M",
          "M",
          "M",
          "M",
          "M",
          "M",
          "M",
          "M",
          "M",
          "M",
          "M",
          "M",
          "M",
          "M",
          "M",
          "M",
          "M",
          "M",
          "M",
          "M",
          "M",
          "M",
          "M",
          "M",
          "M",
          "M",
          "M",
          "M",
          "M",
          "M",
          "M",
          "M",
          "M",
          "M",
          "M",
          "M",
          "M",
          "M",
          "M",
          "M",
          "M",
          "M",
          "M",
          "M",
          "M",
          "M",
          "M",
          "M",
          "M",
          "M",
          "M",
          "M",
          "M",
          "M",
          "M",
          "M",
          "M",
          "M",
          "M",
          "M",
          "M",
          "M",
          "M",
          "M",
          "M",
          "M",
          "M",
          "M",
          "M",
          "M",
          "M",
          "M",
          "M",
          "M",
          "M",
          "M",
          "M",
          "M",
          "M",
          "M",
          "M",
          "M",
          "M",
          "M",
          "M",
          "M",
          "M",
          "M",
          "M",
          "M",
          "M",
          "M",
          "M",
          "M",
          "M",
          "M",
          "M",
          "M",
          "M",
          "M",
          "M",
          "M",
          "M",
          "M",
          "M",
          "M",
          "M",
          "M",
          "M",
          "M",
          "M",
          "M",
          "M",
          "M",
          "M",
          "M",
          "M",
          "M",
          "M",
          "M",
          "M",
          "M",
          "M",
          "M",
          "M",
          "M",
          "M",
          "M",
          "M",
          "M",
          "M",
          "M",
          "M",
          "M",
          "M",
          "M",
          "M",
          "M",
          "M",
          "M",
          "M",
          "M",
          "M",
          "M",
          "M",
          "M",
          "M",
          "M",
          "M",
          "M",
          "M",
          "M",
          "M",
          "M",
          "M",
          "M",
          "M",
          "M",
          "M",
          "M",
          "M",
          "M",
          "M",
          "M",
          "M",
          "M",
          "M",
          "M",
          "M",
          "M",
          "M",
          "M",
          "M",
          "M",
          "M",
          "M",
          "M",
          "M",
          "M",
          "M",
          "M",
          "M",
          "M",
          "M",
          "M",
          "M",
          "M",
          "M",
          "M",
          "M",
          "M",
          "M",
          "M",
          "M",
          "M",
          "M",
          "M",
          "M",
          "M",
          "M",
          "M",
          "M",
          "M",
          "M",
          "M",
          "M",
          "M",
          "M",
          "M",
          "M",
          "M",
          "M",
          "M",
          "M",
          "M",
          "M",
          "M",
          "M",
          "M",
          "M",
          "M",
          "M",
          "M",
          "M",
          "M",
          "M",
          "M",
          "M",
          "M",
          "M",
          "M",
          "M",
          "M",
          "M",
          "M",
          "M",
          "M",
          "M",
          "M",
          "M",
          "M",
          "M",
          "M",
          "M",
          "M",
          "M",
          "M",
          "M",
          "M",
          "M",
          "M",
          "M",
          "M",
          "M",
          "M",
          "M",
          "M",
          "M",
          "M",
          "M",
          "M",
          "M",
          "M",
          "M",
          "M",
          "M",
          "M",
          "M",
          "M",
          "M",
          "M",
          "M",
          "M",
          "M",
          "M",
          "M",
          "M",
          "M",
          "M",
          "M",
          "M",
          "M",
          "M",
          "M",
          "M",
          "M",
          "M",
          "M",
          "M",
          "M",
          "M",
          "M",
          "M",
          "M",
          "M",
          "M",
          "M",
          "M",
          "M",
          "M",
          "M",
          "M",
          "M",
          "M",
          "M",
          "M",
          "M",
          "M",
          "M",
          "M",
          "M",
          "M",
          "M",
          "M",
          "M",
          "M",
          "M",
          "M",
          "M",
          "M",
          "M",
          "M",
          "M",
          "M",
          "M",
          "M",
          "M",
          "M",
          "M",
          "M",
          "M",
          "M",
          "M",
          "M",
          "M",
          "M",
          "M",
          "M",
          "M",
          "M",
          "M",
          "M",
          "M",
          "M",
          "M",
          "M",
          "M",
          "M",
          "M",
          "M",
          "M",
          "M",
          "M",
          "M",
          "M",
          "M",
          "M",
          "M",
          "M",
          "M",
          "M",
          "M",
          "M",
          "M",
          "M",
          "M",
          "M",
          "M",
          "M",
          "M",
          "M",
          "M",
          "M",
          "M",
          "M",
          "M",
          "M",
          "M",
          "M",
          "M",
          "M",
          "M",
          "M",
          "M",
          "M",
          "M",
          "M",
          "M",
          "M",
          "M",
          "M",
          "M",
          "M",
          "M",
          "M",
          "M",
          "M",
          "M",
          "M",
          "M",
          "M",
          "M",
          "M",
          "M",
          "M",
          "M",
          "M",
          "M",
          "M",
          "M",
          "M",
          "M",
          "M",
          "M",
          "M",
          "M",
          "M",
          "M",
          "M",
          "M",
          "M",
          "M",
          "M",
          "M",
          "M",
          "M",
          "M",
          "M",
          "M",
          "M",
          "M",
          "M",
          "M",
          "M",
          "M",
          "M",
          "M",
          "M",
          "M",
          "M",
          "M",
          "M",
          "M",
          "M",
          "M",
          "M",
          "M",
          "M",
          "M",
          "M",
          "M",
          "M",
          "M",
          "M",
          "M",
          "M",
          "M",
          "M",
          "M",
          "M",
          "M",
          "M",
          "M",
          "M",
          "M",
          "M",
          "M",
          "M",
          "M",
          "M",
          "M",
          "M",
          "M",
          "M",
          "M",
          "M",
          "M",
          "M",
          "M",
          "M",
          "M",
          "M",
          "M",
          "M",
          "M",
          "M",
          "M",
          "M",
          "M",
          "M",
          "M",
          "M",
          "M",
          "M",
          "M",
          "M",
          "M",
          "M",
          "M",
          "M",
          "M",
          "M",
          "M",
          "M",
          "M",
          "M",
          "M",
          "M",
          "M",
          "M",
          "M",
          "M",
          "M",
          "M",
          "M",
          "M",
          "M",
          "M",
          "M",
          "M",
          "M",
          "M",
          "M",
          "M",
          "M",
          "M",
          "M",
          "M",
          "M",
          "M",
          "M",
          "M",
          "M",
          "M",
          "M",
          "M",
          "M",
          "M",
          "M",
          "M",
          "M",
          "M",
          "M",
          "M",
          "M",
          "M",
          "M",
          "M",
          "M",
          "M",
          "M",
          "M",
          "M",
          "M",
          "M",
          "M",
          "M",
          "M",
          "M",
          "M",
          "M",
          "M",
          "M",
          "M",
          "M",
          "M",
          "M",
          "M",
          "M",
          "M",
          "M",
          "M",
          "M",
          "M",
          "M",
          "M",
          "M",
          "M",
          "M",
          "M",
          "M",
          "M",
          "M",
          "M",
          "M",
          "M",
          "M",
          "M",
          "M",
          "M",
          "M",
          "M",
          "M",
          "M",
          "M",
          "M",
          "M",
          "M",
          "M",
          "M",
          "M",
          "M",
          "M",
          "M",
          "M",
          "M",
          "M",
          "M",
          "M",
          "M",
          "M",
          "M",
          "M",
          "M",
          "M",
          "M",
          "M",
          "M",
          "M",
          "M",
          "M",
          "M",
          "M",
          "M",
          "M",
          "M",
          "M",
          "M",
          "M",
          "M",
          "M",
          "M",
          "M",
          "M",
          "M",
          "M",
          "M",
          "M",
          "M",
          "M",
          "M",
          "M",
          "M",
          "M",
          "M",
          "M",
          "M",
          "M",
          "M",
          "M",
          "M",
          "M",
          "M",
          "M",
          "M",
          "M",
          "M",
          "M",
          "M",
          "M",
          "M",
          "M",
          "M",
          "M",
          "M",
          "M",
          "M",
          "M",
          "M",
          "M",
          "M",
          "M",
          "M",
          "M",
          "M",
          "M",
          "M",
          "M",
          "M",
          "M",
          "M",
          "M",
          "M",
          "M",
          "M",
          "M",
          "M",
          "M",
          "M",
          "M",
          "M",
          "M",
          "M",
          "M",
          "M",
          "M",
          "M",
          "M",
          "M",
          "M",
          "M",
          "M",
          "M",
          "M",
          "M",
          "M",
          "M",
          "M",
          "M",
          "M",
          "M",
          "M",
          "M",
          "M",
          "M",
          "M",
          "M",
          "M",
          "M",
          "M",
          "M",
          "M",
          "M",
          "M",
          "M",
          "M",
          "M",
          "M",
          "M",
          "M",
          "M",
          "M",
          "M",
          "M",
          "M",
          "M",
          "M",
          "M",
          "M",
          "M",
          "M",
          "M",
          "M",
          "M",
          "M",
          "M",
          "M",
          "M",
          "M",
          "M",
          "M",
          "M",
          "M",
          "M",
          "M",
          "M",
          "M",
          "M",
          "M",
          "M",
          "M",
          "M",
          "M",
          "M",
          "M",
          "M",
          "M",
          "M",
          "M",
          "M",
          "M",
          "M",
          "M",
          "M",
          "M",
          "M",
          "M",
          "M",
          "M",
          "M",
          "M",
          "M",
          "M",
          "M",
          "M",
          "M",
          "M",
          "M",
          "M",
          "M",
          "M",
          "M",
          "M",
          "M",
          "M",
          "M",
          "M",
          "M",
          "M",
          "M",
          "M",
          "M",
          "M",
          "M",
          "M",
          "M",
          "M",
          "M",
          "M",
          "M",
          "M",
          "M",
          "M",
          "M",
          "M",
          "M",
          "M",
          "M",
          "M",
          "M",
          "M",
          "M",
          "M",
          "M",
          "M",
          "M",
          "M",
          "M",
          "M",
          "M",
          "M",
          "M",
          "M",
          "M",
          "M",
          "M",
          "M",
          "M",
          "M",
          "M",
          "M",
          "M",
          "M",
          "M",
          "M",
          "M",
          "M",
          "M",
          "M",
          "M",
          "M",
          "M",
          "M",
          "M",
          "M",
          "M",
          "M",
          "M",
          "M",
          "M",
          "M",
          "M",
          "M",
          "M",
          "M",
          "M",
          "M",
          "M",
          "M",
          "M",
          "M",
          "M",
          "M",
          "M",
          "M",
          "M",
          "M",
          "M",
          "M",
          "M",
          "M",
          "M",
          "M",
          "M",
          "M",
          "M",
          "M",
          "M",
          "M",
          "M",
          "M",
          "M",
          "M",
          "M",
          "M",
          "M",
          "M",
          "M",
          "M",
          "M",
          "M",
          "M",
          "M",
          "M",
          "M",
          "M",
          "M",
          "M",
          "M",
          "M",
          "M",
          "M",
          "M",
          "M",
          "M",
          "M",
          "M",
          "M",
          "M",
          "M",
          "M",
          "M",
          "M",
          "M",
          "M",
          "M",
          "M",
          "M",
          "M",
          "M",
          "M",
          "M",
          "M",
          "M",
          "M",
          "M",
          "M",
          "M",
          "M",
          "M",
          "M",
          "M",
          "M",
          "M",
          "M",
          "M",
          "M",
          "M",
          "M",
          "M",
          "M",
          "M",
          "M",
          "M",
          "M",
          "M",
          "M",
          "M",
          "M",
          "M",
          "M",
          "M",
          "M",
          "M",
          "M",
          "M",
          "M",
          "M",
          "M",
          "M",
          "M",
          "M",
          "M",
          "M",
          "M",
          "M",
          "M",
          "M",
          "M",
          "M",
          "M",
          "M",
          "M",
          "M",
          "M",
          "M",
          "M",
          "M",
          "M",
          "M",
          "M",
          "M",
          "M",
          "M",
          "M",
          "M",
          "M",
          "M",
          "M",
          "M",
          "M",
          "M",
          "M",
          "M",
          "M",
          "M",
          "M",
          "M",
          "M",
          "M",
          "M",
          "M",
          "M",
          "M",
          "M",
          "M",
          "M",
          "M",
          "M",
          "M",
          "M",
          "M",
          "M",
          "M",
          "M",
          "M",
          "M",
          "M",
          "M",
          "M",
          "M",
          "M",
          "M",
          "M",
          "M",
          "M",
          "M",
          "M",
          "M",
          "M",
          "M",
          "M",
          "M",
          "M",
          "M",
          "M",
          "M",
          "M",
          "M",
          "M",
          "M",
          "M",
          "M",
          "M",
          "M",
          "M",
          "M",
          "M",
          "M",
          "M",
          "M",
          "M",
          "M",
          "M",
          "M",
          "M",
          "M",
          "M",
          "M",
          "M",
          "M",
          "M",
          "M",
          "M",
          "M",
          "M",
          "M",
          "M",
          "M",
          "M",
          "M",
          "M",
          "M",
          "M",
          "M",
          "M",
          "M",
          "M",
          "M",
          "M",
          "M",
          "M",
          "M",
          "M",
          "M",
          "M",
          "M",
          "M",
          "M",
          "M",
          "M",
          "M",
          "M",
          "M",
          "M",
          "M",
          "M",
          "M",
          "M",
          "M",
          "M",
          "M",
          "M",
          "M",
          "M",
          "M",
          "M",
          "M",
          "M",
          "M",
          "M",
          "M",
          "M",
          "M",
          "M",
          "M",
          "M",
          "M",
          "M",
          "M",
          "M",
          "M",
          "M",
          "M",
          "M",
          "M",
          "M",
          "M",
          "M",
          "M",
          "M",
          "M",
          "M",
          "M",
          "M",
          "M",
          "M",
          "M",
          "M",
          "M",
          "M",
          "M",
          "M",
          "M",
          "M",
          "M",
          "M",
          "M",
          "M",
          "M",
          "M",
          "M",
          "M",
          "M",
          "M",
          "M",
          "M",
          "M",
          "M",
          "M",
          "M",
          "M",
          "M",
          "M",
          "M",
          "M",
          "M",
          "M",
          "M",
          "M",
          "M",
          "M",
          "M",
          "M",
          "M",
          "M",
          "M",
          "M",
          "M",
          "M",
          "M",
          "M",
          "M",
          "M",
          "M",
          "M",
          "M",
          "M",
          "M",
          "M",
          "M",
          "M",
          "M",
          "M",
          "M",
          "M",
          "M",
          "M",
          "M",
          "M",
          "M",
          "M",
          "M",
          "M",
          "M",
          "M",
          "M",
          "M",
          "M",
          "M",
          "M",
          "M",
          "M",
          "M",
          "M",
          "M",
          "M",
          "M",
          "M",
          "M",
          "M",
          "M",
          "M",
          "M",
          "M",
          "M",
          "M",
          "M",
          "M",
          "M",
          "M",
          "M",
          "M",
          "M",
          "M",
          "M",
          "M",
          "M",
          "M",
          "M",
          "M",
          "M",
          "M",
          "M",
          "M",
          "M",
          "M",
          "M",
          "M",
          "M",
          "M",
          "M",
          "M",
          "M",
          "M",
          "M",
          "M",
          "M",
          "M",
          "M",
          "M",
          "M",
          "M",
          "M",
          "M",
          "M",
          "M",
          "M",
          "M",
          "M",
          "M",
          "M",
          "M",
          "M",
          "M",
          "M",
          "M",
          "M",
          "M",
          "M",
          "M",
          "M",
          "M",
          "M",
          "M",
          "M",
          "M",
          "M",
          "M",
          "M",
          "M",
          "M",
          "M",
          "M",
          "M",
          "M",
          "M",
          "M",
          "M",
          "M",
          "M",
          "M",
          "M",
          "M",
          "M",
          "M",
          "M",
          "M",
          "M",
          "M",
          "M",
          "M",
          "M",
          "M",
          "M",
          "M",
          "M",
          "M",
          "M",
          "M",
          "M",
          "M",
          "M",
          "M",
          "M",
          "M",
          "M",
          "M",
          "M",
          "M",
          "M",
          "M",
          "M",
          "M",
          "M",
          "M",
          "M",
          "M",
          "M",
          "M",
          "M",
          "M",
          "M",
          "M",
          "M",
          "M",
          "M",
          "M",
          "M",
          "M",
          "M",
          "M",
          "M",
          "M",
          "M",
          "M",
          "M",
          "M",
          "M",
          "M",
          "M",
          "M",
          "M",
          "M",
          "M",
          "M",
          "M",
          "M",
          "M",
          "M",
          "M",
          "M",
          "M",
          "M",
          "M",
          "M",
          "M",
          "M",
          "M",
          "M",
          "M",
          "M",
          "M",
          "M",
          "M",
          "M",
          "M",
          "M",
          "M",
          "M",
          "M",
          "M",
          "M",
          "M",
          "M",
          "M",
          "M",
          "M",
          "M",
          "M",
          "M",
          "M",
          "M",
          "M",
          "M",
          "M",
          "M",
          "M",
          "M",
          "M",
          "M",
          "M",
          "M",
          "M",
          "M",
          "M",
          "M",
          "M",
          "M",
          "M",
          "M",
          "M",
          "M",
          "M",
          "M",
          "M",
          "M",
          "M",
          "M",
          "M",
          "M",
          "M",
          "M",
          "M",
          "M",
          "M",
          "M",
          "M",
          "M",
          "M",
          "M",
          "M",
          "M",
          "M",
          "M",
          "M",
          "M",
          "M",
          "M",
          "M",
          "M",
          "M",
          "M",
          "M",
          "M",
          "M",
          "M",
          "M",
          "M",
          "M",
          "M",
          "M",
          "M",
          "M",
          "M",
          "M",
          "M",
          "M",
          "M",
          "M",
          "M",
          "M",
          "M",
          "M",
          "M",
          "M",
          "M",
          "M",
          "M",
          "M",
          "M",
          "M",
          "M",
          "M",
          "M",
          "M",
          "M",
          "M",
          "M",
          "M",
          "M",
          "M",
          "M",
          "M",
          "M",
          "M",
          "M",
          "M",
          "M",
          "M",
          "M",
          "M",
          "M",
          "M",
          "M",
          "M",
          "M",
          "M",
          "M",
          "M",
          "M",
          "M",
          "M",
          "M",
          "M",
          "M",
          "M",
          "M",
          "M",
          "M",
          "M",
          "M",
          "M",
          "M",
          "M",
          "M",
          "M",
          "M",
          "M",
          "M",
          "M",
          "M",
          "M",
          "M",
          "M",
          "M",
          "M",
          "M",
          "M",
          "M",
          "M",
          "M",
          "M",
          "M",
          "M",
          "M",
          "M",
          "M",
          "M",
          "M",
          "M",
          "M",
          "M",
          "M",
          "M",
          "M",
          "M",
          "M",
          "M",
          "M",
          "M",
          "M",
          "M",
          "M",
          "M",
          "M",
          "M",
          "M",
          "M",
          "M",
          "M",
          "M",
          "M",
          "M",
          "M",
          "M",
          "M",
          "M",
          "M",
          "M",
          "M",
          "M",
          "M",
          "M",
          "M",
          "M",
          "M",
          "M",
          "M",
          "M",
          "M",
          "M",
          "M",
          "M",
          "M",
          "M",
          "M",
          "M",
          "M",
          "M",
          "M",
          "M",
          "M",
          "M",
          "M",
          "M",
          "M",
          "M",
          "M",
          "M",
          "M",
          "M",
          "M",
          "M",
          "M",
          "M",
          "M",
          "M",
          "M",
          "M",
          "M",
          "M",
          "M",
          "M",
          "M",
          "M",
          "M",
          "M",
          "M",
          "M",
          "M",
          "M",
          "M",
          "M",
          "M",
          "M",
          "M",
          "M",
          "M",
          "M",
          "M",
          "M",
          "M",
          "M",
          "M",
          "M",
          "M",
          "M",
          "M",
          "M",
          "M",
          "M",
          "M",
          "M",
          "M",
          "M",
          "M",
          "M",
          "M",
          "M",
          "M",
          "M",
          "M",
          "M",
          "M",
          "M",
          "M",
          "M",
          "M",
          "M",
          "M",
          "M",
          "M",
          "M",
          "M",
          "M",
          "M",
          "M",
          "M",
          "M",
          "M",
          "M",
          "M",
          "M",
          "M",
          "M",
          "M",
          "M",
          "M",
          "M",
          "M",
          "M",
          "M",
          "M",
          "M",
          "M",
          "M",
          "M",
          "M",
          "M",
          "M",
          "M",
          "M",
          "M",
          "M",
          "M",
          "M",
          "M",
          "M",
          "M",
          "M",
          "M",
          "M",
          "M",
          "M",
          "M",
          "M",
          "M",
          "M",
          "M",
          "M",
          "M",
          "M",
          "M",
          "M",
          "M",
          "M",
          "M",
          "M",
          "M",
          "M",
          "M",
          "M",
          "M",
          "M",
          "M",
          "M",
          "M",
          "M",
          "M",
          "M",
          "M",
          "M",
          "M",
          "M",
          "M",
          "M",
          "M",
          "M",
          "M",
          "M",
          "M",
          "M",
          "M",
          "M",
          "M",
          "M",
          "M",
          "M",
          "M",
          "M",
          "M",
          "M",
          "M",
          "M",
          "M",
          "M",
          "M",
          "M",
          "M",
          "M",
          "M",
          "M",
          "M",
          "M",
          "M",
          "M",
          "M",
          "M",
          "M",
          "M",
          "M",
          "M",
          "M",
          "M",
          "M",
          "M",
          "M",
          "M",
          "M",
          "M",
          "M",
          "M",
          "M",
          "M",
          "M",
          "M",
          "M",
          "M",
          "M",
          "M",
          "M",
          "M",
          "M",
          "M",
          "M",
          "M",
          "M",
          "M",
          "M",
          "M",
          "M",
          "M",
          "M",
          "M",
          "M",
          "M",
          "M",
          "M",
          "M",
          "M",
          "M",
          "M",
          "M",
          "M",
          "M",
          "M",
          "M",
          "M",
          "M",
          "M",
          "M",
          "M",
          "M",
          "M",
          "M",
          "M",
          "M",
          "M",
          "M",
          "M",
          "M",
          "M",
          "M",
          "M",
          "M",
          "M",
          "M",
          "M",
          "M",
          "M",
          "M",
          "M",
          "M",
          "M",
          "M",
          "M",
          "M",
          "M",
          "M",
          "M",
          "M",
          "M",
          "M",
          "M",
          "M",
          "M",
          "M",
          "M",
          "M",
          "M",
          "M",
          "M",
          "M",
          "M",
          "M",
          "M",
          "M",
          "M",
          "M",
          "M",
          "M",
          "M",
          "M"
         ],
         "x0": " ",
         "xaxis": "x",
         "y": [
          175000,
          120000,
          219000,
          141000,
          147100,
          90700,
          130000,
          100000,
          147100,
          90700,
          170000,
          150000,
          150000,
          110000,
          275000,
          174000,
          230000,
          143200,
          225000,
          156400,
          200000,
          130000,
          90000,
          72000,
          253200,
          90700,
          342810,
          184590,
          162500,
          130000,
          105380,
          64500,
          270703,
          221484,
          212750,
          185000,
          262000,
          245000,
          275300,
          183500,
          218500,
          199098,
          203300,
          123600,
          189110,
          139000,
          258750,
          185000,
          231500,
          166000,
          172500,
          110500,
          238000,
          176000,
          237000,
          201450,
          115000,
          81500,
          237000,
          201450,
          280000,
          210000,
          280100,
          168100,
          193500,
          139000,
          150000,
          185900,
          129300,
          225000,
          175000,
          185000,
          140000,
          48289,
          38631,
          105000,
          70000,
          163196,
          145885,
          217000,
          185000,
          145000,
          65000,
          165000,
          132300,
          179170,
          94300,
          152500,
          116450,
          247300,
          133800,
          203000,
          133000,
          150000,
          120000,
          289800,
          214000,
          179820,
          143860,
          283200,
          188800,
          289800,
          214200,
          185900,
          129300,
          252000,
          129000,
          155000,
          140000,
          161800,
          141600,
          100000,
          70000,
          85000,
          65000,
          138784,
          83270,
          75000,
          70000,
          204500,
          138900,
          318300,
          212200,
          95000,
          75000,
          195000,
          160000,
          230000,
          143200,
          100000,
          70000,
          46178,
          42533,
          145000,
          115000,
          168400,
          105200,
          190000,
          150000,
          162500,
          130000,
          150000,
          120000,
          145000,
          120000,
          54685,
          42533,
          241000,
          155000,
          220000,
          190000,
          66837,
          54685,
          15000,
          85066,
          57723,
          85000,
          75000,
          160000,
          140000,
          300000,
          250000,
          228000,
          186000,
          190000,
          170000,
          230000,
          200000,
          180000,
          115000,
          200000,
          115000,
          220000,
          205000,
          180000,
          130000,
          200000,
          150000,
          215000,
          170000,
          247500,
          172200,
          224000,
          176000,
          120000,
          75000,
          68318,
          75020,
          140000,
          120000,
          128000,
          81500,
          145000,
          115000,
          185000,
          140000,
          329500,
          269600,
          100000,
          80000,
          250000,
          162500,
          200000,
          145000,
          100000,
          145000,
          115000,
          203500,
          152000,
          237000,
          145000,
          191765,
          134236,
          190000,
          112000,
          85000,
          65000,
          135000,
          105500,
          293000,
          185000,
          80000,
          70000,
          220000,
          160000,
          175000,
          145000,
          200000,
          148500,
          48289,
          38631,
          152900,
          117100,
          173000,
          113000,
          175000,
          110000,
          130000,
          110000,
          205000,
          184000,
          149500,
          127075,
          195000,
          160000,
          219535,
          146115,
          170000,
          135000,
          175000,
          145000,
          199000,
          162000,
          221000,
          153000,
          187000,
          128000,
          210000,
          136000,
          175000,
          100000,
          179000,
          109000,
          245000,
          180000,
          142000,
          75000,
          198800,
          105200,
          125000,
          112000,
          210000,
          155000,
          115000,
          86000,
          165000,
          140000,
          139000,
          106000,
          280700,
          150450,
          250500,
          159500,
          145000,
          115000,
          140000,
          120000,
          130001,
          71907,
          93918,
          51962,
          175000,
          135000,
          85000,
          65000,
          257000,
          147000,
          222000,
          175000,
          203000,
          133200,
          221000,
          147000,
          100000,
          80000,
          185900,
          129300,
          238000,
          156000,
          304000,
          199000,
          48289,
          150000,
          130000,
          140000,
          110000,
          90000,
          75000,
          195895,
          102772,
          240000,
          183600,
          130000,
          80000,
          250000,
          150000,
          160000,
          120000,
          289076,
          202353,
          145000,
          120000,
          155000,
          106000,
          200000,
          160000,
          157750,
          104650,
          180000,
          140000,
          200000,
          145000,
          60000,
          48289,
          38631,
          85000,
          65000,
          125000,
          90000,
          105000,
          90000,
          179820,
          143860,
          135000,
          105500,
          155000,
          125000,
          241000,
          181000,
          252000,
          154000,
          180000,
          155000,
          191765,
          134236,
          175000,
          145000,
          237000,
          145000,
          155000,
          125000,
          80000,
          70000,
          146000,
          75000,
          64200,
          56100,
          170000,
          130000,
          208450,
          170550,
          125000,
          100000,
          135000,
          120000,
          200000,
          170000,
          171250,
          113750,
          153600,
          100500,
          205000,
          184000,
          115000,
          95000,
          182500,
          121500,
          203100,
          114500,
          72914,
          54685,
          252000,
          129000,
          92700,
          61800,
          160000,
          130000,
          258000,
          190000,
          170000,
          135000,
          167500,
          106500,
          195000,
          160000,
          146000,
          75000,
          286000,
          207000,
          100000,
          80000,
          223250,
          178600,
          353200,
          249300,
          230000,
          220000,
          297300,
          198200,
          210000,
          151800,
          200000,
          170000,
          317070,
          170730,
          128000,
          81500,
          21461,
          108000,
          60000,
          134000,
          124000,
          171250,
          113750,
          165000,
          132300,
          225000,
          175000,
          230000,
          124500,
          247500,
          172200,
          175000,
          145000,
          148700,
          125600,
          145000,
          115000,
          200000,
          150000,
          160000,
          120000,
          185000,
          120250,
          275300,
          183000,
          170000,
          125000,
          167500,
          106500,
          250000,
          200000,
          216000,
          184000,
          180000,
          165000,
          185900,
          129300,
          145000,
          120000,
          143865,
          115092,
          130000,
          90000,
          173000,
          132000,
          208049,
          128500,
          179820,
          143860,
          167500,
          106500,
          275300,
          183500,
          149600,
          102000,
          145000,
          100000,
          190000,
          95000,
          153600,
          106800,
          96578,
          80481,
          128000,
          85000,
          151000,
          140000,
          275300,
          183500,
          220000,
          170000,
          135000,
          105500,
          100000,
          80000,
          42923,
          160000,
          145000,
          154000,
          143000,
          78990,
          51039,
          190000,
          120000,
          85066,
          51039,
          109371,
          72914,
          150000,
          111000,
          265000,
          235000,
          73546,
          160000,
          130000,
          75000,
          60400,
          85000,
          75000,
          252000,
          129000,
          92700,
          61800,
          60093,
          83500,
          52500,
          201036,
          134024,
          165000,
          140000,
          62000,
          58000,
          172000,
          115000,
          125000,
          90000,
          163800,
          126000,
          237000,
          145000,
          90000,
          90000,
          139500,
          109400,
          258000,
          190000,
          145000,
          120000,
          252000,
          129000,
          239748,
          159832,
          186300,
          102500,
          165000,
          132300,
          190000,
          126000,
          149040,
          113900,
          153600,
          106800,
          172600,
          107900,
          180180,
          106020,
          376080,
          213120,
          153600,
          100500,
          206500,
          121600,
          260000,
          225000,
          194500,
          115500,
          95000,
          70000,
          275000,
          160000,
          115934,
          81666,
          175000,
          120000,
          150000,
          120000,
          200000,
          175000,
          206000,
          130000,
          138000,
          92000,
          65000,
          48000,
          110000,
          75000,
          130000,
          87000,
          160000,
          112000,
          162500,
          130000,
          299500,
          245100,
          145000,
          100000,
          147100,
          90700,
          115100,
          73900,
          168400,
          105200,
          210000,
          160000,
          145000,
          100000,
          100000,
          85000,
          85066,
          57723,
          200000,
          145000,
          140000,
          95000,
          185000,
          120250,
          205000,
          140000,
          297300,
          198200,
          141288,
          94192,
          184000,
          143000,
          70000,
          55000,
          275300,
          183500,
          75000,
          65000,
          160000,
          147000,
          149040,
          113900,
          180180,
          106020,
          80000,
          250000,
          150000,
          139500,
          109400,
          105000,
          70000,
          210914,
          116704,
          150000,
          100000,
          146000,
          75000,
          75000,
          60000,
          185700,
          165000,
          160000,
          130000,
          169000,
          110600,
          193000,
          136850,
          139500,
          109400,
          276000,
          178500,
          59020,
          48289,
          75116,
          48289,
          195652,
          101228,
          136956,
          101228,
          252000,
          129000,
          150000,
          163800,
          126000,
          260000,
          110000,
          170000,
          130000,
          247500,
          172200,
          239748,
          159832,
          163800,
          126000,
          128750,
          106250,
          252000,
          129000,
          299500,
          245100,
          155000,
          140000,
          167500,
          106500,
          188500,
          117000,
          250000,
          138000,
          130000,
          100000,
          140000,
          120000,
          160000,
          135000,
          104500,
          70000,
          90000,
          70000,
          153600,
          106800,
          125000,
          90000,
          185000,
          125000,
          127000,
          94000,
          210550,
          153300,
          200000,
          150000,
          161500,
          119500,
          175000,
          145000,
          175000,
          148750,
          105000,
          85000,
          215000,
          146300,
          72000,
          60000,
          153400,
          122700,
          260000,
          175000,
          186300,
          123900,
          340000,
          150000,
          153400,
          122700,
          250000,
          175000,
          64385,
          185900,
          121700,
          153600,
          106800,
          50000,
          247500,
          172200,
          310000,
          239000,
          125000,
          110000,
          150000,
          100000,
          149076,
          82365,
          146000,
          75000,
          139500,
          109400,
          139500,
          109400,
          149600,
          102000,
          97218,
          48609,
          252000,
          129000,
          95000,
          85500,
          185900,
          121700,
          150000,
          100000,
          145000,
          125000,
          150000,
          97750,
          201000,
          122000,
          252000,
          129000,
          120000,
          75000,
          116990,
          82920,
          185900,
          129300,
          201000,
          122000,
          204500,
          142200,
          155000,
          140000,
          205920,
          171600,
          121500,
          78000,
          154000,
          116000,
          190000,
          136000,
          78990,
          43809,
          180000,
          110000,
          275300,
          183000,
          170000,
          140000,
          154000,
          116000,
          160000,
          130000,
          200000,
          120000,
          175000,
          160000,
          127599,
          103294,
          153600,
          106800,
          85000,
          75000,
          225000,
          156400,
          150000,
          120000,
          163800,
          126000,
          145000,
          90000,
          204500,
          142200,
          95000,
          85500,
          167500,
          106500,
          163800,
          126000,
          155000,
          140000,
          250000,
          200000,
          260000,
          186000,
          160000,
          130000,
          200000,
          150000,
          48289,
          38631,
          150000,
          120000,
          30000,
          185000,
          125000,
          9289,
          175000,
          130000,
          122000,
          93800,
          150000,
          90000,
          165000,
          112000,
          220000,
          71897,
          64385,
          204500,
          142200,
          200000,
          175000,
          185900,
          129300,
          185900,
          121700,
          204500,
          142200,
          29453,
          180180,
          106020,
          136000,
          104000,
          125000,
          110000,
          153400,
          122700,
          310000,
          239000,
          152380,
          121904,
          185900,
          129300,
          247500,
          172200,
          168400,
          105200,
          128280,
          106900,
          140000,
          100000,
          275000,
          174000,
          139500,
          109400,
          139500,
          109400,
          170500,
          85000,
          72946,
          54365,
          160288,
          127467,
          80000,
          65000,
          124740,
          65488,
          72200,
          64980,
          153600,
          106800,
          179975,
          86466,
          120000,
          90000,
          51039,
          42533,
          149076,
          82365,
          169000,
          110600,
          175000,
          120000,
          230000,
          180000,
          153600,
          106800,
          140000,
          120000,
          205920,
          171600,
          165000,
          125000,
          265000,
          185000,
          130000,
          168000,
          95000,
          85500,
          147100,
          90700,
          167580,
          87980,
          202000,
          135000,
          163800,
          126000,
          163800,
          126000,
          104000,
          65000,
          230000,
          148000,
          269000,
          158000,
          197000,
          106000,
          150000,
          100000,
          290000,
          210000,
          192000,
          172800,
          300240,
          200160,
          300240,
          200160,
          175000,
          140000,
          169000,
          100000,
          370000,
          245000,
          55000,
          48000,
          95000,
          85000,
          137500,
          81500,
          323300,
          184700,
          186000,
          153088,
          190000,
          160000,
          200000,
          150000,
          190000,
          183310,
          240000,
          180000,
          200000,
          150000,
          299500,
          245100,
          144000,
          66000,
          148500,
          126277,
          228000,
          120000,
          180000,
          90000,
          126500,
          78000,
          180000,
          160000,
          272000,
          170000,
          80000,
          60000,
          259000,
          146000,
          200000,
          160000,
          310000,
          239000,
          142000,
          95000,
          155000,
          139500,
          140000,
          120000,
          259000,
          146000,
          109371,
          72914,
          247500,
          172200,
          225000,
          156400,
          139500,
          109400,
          125000,
          90000,
          107309,
          75116,
          185900,
          129300,
          139500,
          109400,
          120000,
          75000,
          169000,
          110600,
          288000,
          140000,
          288000,
          140000,
          120000,
          90000,
          72914,
          60761,
          215050,
          156400,
          198000,
          114000,
          75000,
          60000,
          204500,
          142200,
          209300,
          182200,
          140000,
          120000,
          85000,
          48609,
          120000,
          60000,
          147100,
          90700,
          230000,
          170000,
          227000,
          108000,
          180000,
          160000,
          180000,
          160000,
          180000,
          130000,
          55800,
          51508,
          226700,
          133300,
          252000,
          129000,
          80000,
          52500,
          250000,
          162500,
          85000,
          75000,
          153600,
          106800,
          165000,
          124000,
          115934,
          81666,
          167580,
          87980,
          250000,
          63000,
          253750,
          169200,
          253750,
          169200,
          170000,
          120000,
          124740,
          65488,
          213580,
          163625,
          375000,
          101943,
          220000,
          170000,
          235000,
          210000,
          180000,
          115000,
          200000,
          115000,
          231250,
          138750,
          284310,
          153090,
          160000,
          75000,
          125000,
          105000,
          109371,
          85066,
          55000,
          48000,
          100000,
          225900,
          156400,
          250000,
          162500,
          318300,
          188800,
          385000,
          60000,
          110000,
          95000,
          145000,
          135000,
          180180,
          106020,
          93919,
          51962,
          241871,
          133832,
          170000,
          90000,
          210914,
          116704,
          192500,
          140000,
          149076,
          82365,
          175000,
          148750,
          370000,
          200000,
          235000,
          185000,
          121523,
          97218,
          216100,
          140800,
          145828,
          121523,
          128000,
          81500,
          66837,
          63192,
          60761,
          54685,
          284000,
          236000,
          248100,
          145900,
          155850,
          102544,
          151410,
          115360,
          66531,
          59020,
          125686,
          250000,
          162500,
          185000,
          120250,
          180000,
          85000,
          70000,
          135000,
          100000,
          155000,
          140000,
          204500,
          142200,
          226700,
          133300,
          225000,
          156400,
          163800,
          126000,
          163800,
          126000,
          220000,
          150000,
          145000,
          115000,
          204500,
          138900,
          162500,
          130000,
          150000,
          107000,
          175000,
          110000,
          226700,
          133300,
          252000,
          129000,
          150000,
          125000,
          252000,
          129000,
          225000,
          156400,
          265000,
          182750,
          130000,
          100000,
          153600,
          106800,
          137500,
          81500,
          314100,
          195800,
          205000,
          180000,
          165000,
          144000,
          160000,
          100000,
          200000,
          145000,
          150000,
          100000,
          199000,
          112000,
          105000,
          70000,
          180180,
          106020,
          160000,
          135000,
          183000,
          134000,
          220000,
          150000,
          122000,
          94000,
          276000,
          184000,
          310000,
          239000,
          225000,
          156400,
          180000,
          150000,
          228000,
          152000,
          209450,
          158677,
          175000,
          145000,
          240000,
          170000,
          103200,
          61200,
          237000,
          145000,
          240000,
          139000,
          174500,
          113000,
          130000,
          87000,
          160000,
          108000,
          165000,
          107250,
          300000,
          119000,
          285800,
          154600,
          220000,
          195000,
          168400,
          105200,
          206000,
          160000,
          200000,
          175000,
          231250,
          138750,
          153000,
          94000,
          160000,
          90000,
          124234,
          74540,
          109000,
          79000,
          275300,
          183500,
          275300,
          183500,
          160000,
          125600,
          170000,
          120000,
          225000,
          140000,
          141290,
          74178,
          150000,
          120000,
          85000,
          75000,
          220000,
          160000,
          205600,
          107500,
          120000,
          95000,
          185900,
          129300,
          160000,
          130000,
          250000,
          175000,
          136000,
          104000,
          80000,
          52500,
          110000,
          84000,
          125000,
          110000,
          90000,
          80000,
          200000,
          135000,
          130000,
          75000,
          252000,
          129000,
          150000,
          100000,
          226700,
          133300,
          190000,
          165000,
          170000,
          150000,
          150000,
          130000,
          225000,
          156400,
          17509,
          257000,
          134000,
          77262,
          38631,
          140000,
          110000,
          299500,
          245100,
          210000,
          151800,
          51508,
          40777,
          51508,
          40777,
          160000,
          135000,
          120000,
          95000,
          250000,
          63000,
          237000,
          145000,
          130000,
          90000,
          120000,
          100000,
          174500,
          113000,
          183310,
          183310,
          145000,
          102500,
          210000,
          185000,
          174500,
          113000,
          122000,
          94000,
          220000,
          146000,
          300000,
          130000,
          15897,
          145000,
          128000,
          182000,
          140000,
          122000,
          94000,
          77262,
          38631,
          300000,
          200000,
          135000,
          105500,
          252000,
          129000,
          136000,
          104000,
          168000,
          130000,
          78990,
          43809,
          120000,
          95000,
          153400,
          122700,
          185000,
          160000,
          205000,
          185000,
          204500,
          142200,
          145000,
          87000,
          50000,
          234100,
          203500,
          223800,
          172100,
          180000,
          150000,
          232200,
          167200,
          197000,
          106000,
          180000,
          145000,
          225000,
          200000,
          170000,
          114000,
          291500,
          180000,
          196200,
          150900,
          168400,
          105200,
          95000,
          80000,
          116000,
          72000,
          207000,
          167000,
          145000,
          135000,
          105000,
          70000,
          180000,
          115000,
          133800,
          96100,
          120000,
          80000,
          140000,
          100000,
          150000,
          120000,
          140000,
          115000,
          297300,
          198200,
          297300,
          198200,
          202000,
          135000,
          110000,
          84000,
          230000,
          196000,
          140000,
          110000,
          150000,
          100000,
          160000,
          110000,
          185900,
          129300,
          170000,
          150000,
          175000,
          140000,
          240500,
          137500,
          187500,
          165000,
          210000,
          165750,
          225000,
          165750,
          109006,
          67141,
          135000,
          115000,
          275000,
          175000,
          170000,
          140000,
          175308,
          100706,
          235000,
          135000,
          310000,
          229000,
          289076,
          202353,
          69751,
          37558,
          120000,
          100000,
          226700,
          133300,
          125000,
          85000,
          130000,
          80000,
          120000,
          100000,
          231250,
          138750,
          199000,
          162000,
          160000,
          135000,
          100000,
          200000,
          150000,
          160000,
          120000,
          250000,
          200000,
          150000,
          120000,
          150000,
          100000,
          272550,
          198200,
          182000,
          140000,
          200000,
          160000,
          204500,
          142200,
          120000,
          105000,
          187500,
          175000,
          204500,
          142200,
          155000,
          64000,
          235000,
          185000,
          174500,
          113000,
          143100,
          113000,
          184000,
          142000,
          140000,
          120000,
          174500,
          113000,
          180560,
          115440,
          140000,
          120000,
          248100,
          145900,
          120000,
          110000,
          291500,
          180000,
          75344,
          63192,
          161800,
          141600,
          58331,
          46178,
          166000,
          128000,
          170000,
          110000,
          160000,
          75000,
          236000,
          182000,
          130000,
          150000,
          100000,
          130000,
          90000,
          160000,
          135000,
          175000,
          155000,
          153600,
          106800,
          150000,
          140000,
          122000,
          94500,
          170000,
          130000,
          145000,
          128000,
          145000,
          100000,
          175000,
          120000,
          145000,
          115000,
          150000,
          150000,
          100000,
          150000,
          127500,
          126500,
          51000,
          260000,
          175000,
          40000,
          40000,
          250000,
          63000,
          210000,
          160000,
          272550,
          198200,
          94560,
          52533,
          220000,
          146000,
          150000,
          100000,
          248400,
          183600,
          150000,
          150000,
          40000,
          120000,
          95000,
          160000,
          135000,
          24165,
          216000,
          144000,
          85000,
          65000,
          149000,
          119000,
          140000,
          120000,
          150000,
          110000,
          246000,
          201000,
          190000,
          155000,
          235000,
          185000,
          190000,
          160000,
          100000,
          130000,
          115000,
          92350,
          67723,
          105000,
          70000,
          204500,
          142200,
          192000,
          164000,
          185900,
          129300,
          130000,
          75000,
          175000,
          120000,
          167500,
          106500,
          75000,
          60000,
          184000,
          142000,
          145000,
          100000,
          31795,
          175000,
          120000,
          175000,
          120000,
          200000,
          145000,
          92350,
          73880,
          145000,
          100000,
          192000,
          164000,
          310000,
          239000,
          120000,
          95000,
          145000,
          135000,
          100000,
          78000,
          73546,
          36773,
          160000,
          120000,
          190000,
          150000,
          120000,
          95000,
          150000,
          100000,
          47280,
          37824,
          115934,
          81666,
          175000,
          140000,
          120000,
          95000,
          249500,
          149850,
          122500,
          100000,
          249500,
          149850,
          55000,
          48000,
          249500,
          149850,
          190000,
          120000,
          127000,
          104000,
          210000,
          150000,
          210000,
          150000,
          210000,
          130000,
          182750,
          161500,
          102640,
          66100,
          210000,
          150000,
          198800,
          122600,
          130000,
          80000,
          136000,
          104000,
          150000,
          100000,
          160000,
          135000,
          216000,
          144000,
          159000,
          130000,
          115934,
          81666,
          215000,
          150000,
          246000,
          201000,
          187000,
          153000,
          255000,
          185000,
          430967,
          55410,
          50432,
          39925,
          169000,
          110600,
          140000,
          120000,
          75000,
          60000,
          134000,
          124000,
          166700,
          119000,
          124234,
          74540,
          100000,
          65000,
          220000,
          146000,
          68293,
          36773,
          110000,
          70000,
          120000,
          95000,
          150000,
          100000,
          47280,
          37824,
          190000,
          135000,
          128000,
          81500,
          173000,
          110000,
          192000,
          120000,
          115934,
          81666,
          120000,
          95000,
          194000,
          129400,
          201000,
          89200,
          165000,
          125000,
          230000,
          196000,
          130000,
          90000,
          150000,
          100000,
          230000,
          150000,
          153600,
          106800,
          130000,
          100000,
          216000,
          144000,
          180000,
          120000,
          160000,
          135000,
          192500,
          140000,
          152500,
          130000,
          65000,
          55000,
          178750,
          160000,
          63040,
          52533,
          165000,
          135000,
          170000,
          125000,
          105000,
          70000,
          130000,
          95000,
          203500,
          152000,
          197430,
          134760,
          120000,
          197000,
          99000,
          220000,
          162000,
          110446,
          79178,
          70186,
          51716,
          149040,
          113900,
          95000,
          100000,
          78000,
          120000,
          95000,
          110000,
          70000,
          185900,
          129300,
          150000,
          100000,
          230000,
          154600,
          204500,
          142200,
          160000,
          75000,
          47280,
          37824,
          213000,
          152000,
          140000,
          120000,
          110000,
          70000,
          227200,
          168000,
          20000,
          64090,
          60938,
          243000,
          183000,
          175000,
          150000,
          130000,
          90000,
          165000,
          124000,
          178000,
          132000,
          300000,
          130000,
          169000,
          110600,
          116000,
          96000,
          92350,
          70186,
          105000,
          70000,
          194000,
          129400,
          190000,
          135000,
          100000,
          70000,
          189750,
          140250,
          130000,
          100000,
          160000,
          109000,
          250000,
          150000,
          206000,
          160000,
          135000,
          120000,
          115573,
          73546,
          160000,
          135000,
          150000,
          100000,
          120000,
          95000,
          68293,
          42026,
          191200,
          130000,
          191200,
          130000,
          120000,
          95000,
          140000,
          120000,
          169000,
          110600,
          185900,
          129300,
          135000,
          110000,
          155000,
          140000,
          205000,
          150000,
          179500,
          134000,
          180000,
          120000,
          185900,
          129300,
          175000,
          145000,
          235000,
          175000,
          160000,
          90000,
          68293,
          36773,
          145000,
          115000,
          165000,
          135000,
          168400,
          105200,
          86193,
          49253,
          200000,
          160000,
          47280,
          37824,
          198800,
          122600,
          100000,
          105066,
          130000,
          100000,
          104663,
          73880,
          125000,
          110000,
          165000,
          124000,
          148000,
          107000,
          150000,
          100000,
          160000,
          135000,
          120000,
          95000,
          153600,
          106800,
          100000,
          65000,
          120000,
          95000,
          63040,
          36773,
          310000,
          239000,
          299500,
          245100,
          168000,
          130000,
          136000,
          104000,
          161000,
          118000,
          205000,
          184000,
          185900,
          129300,
          247500,
          172200,
          177000,
          131000,
          205000,
          184000,
          146000,
          102000,
          169000,
          110600,
          230000,
          196000,
          135000,
          100000,
          80000,
          65000,
          135000,
          100000,
          61566,
          43096,
          175000,
          135000,
          80000,
          231250,
          138750,
          193750,
          116250,
          231250,
          138750,
          231250,
          138750,
          231250,
          138750,
          193750,
          116250,
          208000,
          127000,
          300000,
          196000,
          204500,
          142200,
          45555,
          185900,
          129300,
          47280,
          37824,
          204500,
          142200,
          205000,
          185000,
          185900,
          129300,
          247500,
          172200,
          160000,
          135000,
          150000,
          100000,
          110000,
          95000,
          185900,
          129300,
          205000,
          184000,
          17684,
          191200,
          130000,
          225000,
          156400,
          169000,
          110600,
          204500,
          142200,
          104663,
          80036,
          185900,
          129300,
          140700,
          93800,
          350000,
          135000,
          115934,
          81666,
          201000,
          119000,
          175000,
          150000,
          154560,
          123648,
          130000,
          100000,
          170000,
          145000,
          135000,
          100000,
          247500,
          172200,
          177500,
          134000,
          185900,
          129300,
          192564,
          144854,
          130000,
          105000,
          179305,
          142127,
          315000,
          225000,
          243900,
          156600,
          206000,
          160000,
          109000,
          79000,
          160000,
          109000,
          182500,
          128500,
          160000,
          90000,
          77300,
          45600,
          127000,
          110000,
          210000,
          136000,
          170000,
          140000,
          247500,
          172200,
          225000,
          184100,
          130000,
          90000,
          120000,
          100000,
          85000,
          78000,
          161000,
          110000,
          136000,
          104000,
          47280,
          37824,
          205000,
          160000,
          169000,
          110600,
          61566,
          49253,
          160000,
          130000,
          245000,
          180000,
          135000,
          100000,
          220000,
          150000,
          240000,
          170000,
          198440,
          144000,
          150000,
          100000,
          120000,
          95000,
          57872,
          187200,
          116100,
          150000,
          127000,
          275000,
          166000,
          159699,
          138938,
          166700,
          119000,
          130000,
          100000,
          103432,
          92350,
          80000,
          52500,
          236000,
          182000,
          180000,
          140000,
          225000,
          156400,
          135000,
          100000,
          204500,
          142200,
          240000,
          300000,
          130000,
          195000,
          175000,
          155000,
          110000,
          123000,
          92250,
          170000,
          150000,
          180000,
          100000,
          97000,
          90000,
          200000,
          160000,
          210000,
          180000,
          260000,
          180000,
          210000,
          157000,
          180000,
          100000,
          80000,
          52500,
          128000,
          81500,
          105000,
          70000,
          175000,
          122500,
          171000,
          117000,
          50432,
          36773,
          197000,
          99000,
          160000,
          110000,
          185900,
          129300,
          78000,
          48000,
          170000,
          130000,
          150000,
          95000,
          78000,
          42000,
          345600,
          230400,
          145000,
          115000,
          78000,
          48000,
          175950,
          130050,
          236600,
          89200,
          84000,
          54000,
          185900,
          129300,
          169000,
          110600,
          225000,
          184100,
          185900,
          129300,
          225000,
          156400,
          185900,
          129300,
          155000,
          38000,
          85000,
          65000,
          155000,
          38000,
          110820,
          92350,
          153600,
          106800,
          185000,
          50000,
          185900,
          129300,
          155000,
          38000,
          168000,
          130000,
          123400,
          88100,
          185900,
          129300,
          191200,
          130000,
          169000,
          110600,
          150000,
          120000,
          139000,
          122000,
          185900,
          129300,
          139600,
          85700,
          185000,
          50000,
          185900,
          129300,
          225000,
          156400,
          200000,
          175000,
          185900,
          129300,
          115000,
          95000,
          225000,
          66000,
          185000,
          50000,
          47280,
          37824,
          134000,
          98000,
          105000,
          62000,
          161311,
          144200,
          115360,
          73546,
          42026,
          170000,
          150000,
          180000,
          160000,
          200000,
          150000,
          188700,
          160395,
          115934,
          81666,
          300000,
          225000,
          198440,
          144000,
          191475,
          141525,
          50432,
          36773,
          5132,
          90000,
          200000,
          180000,
          108000,
          85000,
          210000,
          180000,
          165000,
          132000,
          130000,
          110000,
          20000,
          140000,
          110000,
          160000,
          85000,
          250000,
          63000,
          187200,
          116100,
          10000,
          200000,
          145000,
          50000,
          99750,
          68400,
          243225,
          179775,
          175000,
          150000,
          210000,
          180000,
          148000,
          128000,
          190000,
          135000,
          130000,
          110000,
          191475,
          141525,
          160000,
          85000,
          218000,
          145300,
          191475,
          141525,
          207000,
          153000,
          191475,
          141525,
          110000,
          99000,
          191475,
          141525,
          191475,
          141525,
          191475,
          141525,
          200000,
          135000,
          207000,
          153000,
          191475,
          141525,
          191475,
          141525,
          191475,
          141525,
          195700,
          130500,
          130000,
          84000,
          100000,
          60000,
          80036,
          67723,
          141300,
          102100,
          50432,
          36773,
          102200,
          22892,
          144000,
          113000,
          31520,
          190000,
          135000,
          135000,
          80000,
          8050,
          160000,
          85000,
          140000,
          105000,
          80036,
          67723,
          190000,
          140000,
          100000,
          60000,
          20000,
          190000,
          135000,
          179400,
          154000,
          193900,
          129300,
          222640,
          182160,
          150000,
          100000,
          122500,
          100000,
          297500,
          260000,
          193000,
          93000,
          73000,
          100000,
          60000,
          136994,
          101570,
          250000,
          63000,
          134000,
          98000,
          191475,
          141525,
          136000,
          112000,
          172000,
          140000,
          215000,
          164000,
          300000,
          130000,
          250000,
          63000,
          180000,
          150000,
          250000,
          63000,
          191475,
          141525,
          212800,
          142800,
          50000,
          151800,
          130240,
          165000,
          140250,
          135000,
          115000,
          179400,
          154000,
          191475,
          141525,
          191475,
          141525,
          191475,
          141525,
          75000,
          84053,
          73546,
          98506,
          86193,
          84053,
          73546,
          191475,
          141525,
          191475,
          141525,
          102663,
          80041,
          191475,
          141525,
          104611,
          82280,
          191475,
          141525,
          191475,
          141525,
          31520,
          81000,
          66000,
          204100,
          136100,
          250000,
          63000,
          118208,
          110820,
          191475,
          141525,
          191475,
          141525,
          191475,
          141525,
          95000,
          70000,
          75000,
          7500,
          170000,
          130000,
          140000,
          53368,
          175000,
          140000,
          250000,
          63000,
          105000,
          90000,
          146200,
          124270,
          225000,
          160000,
          185800,
          137400,
          245000,
          180000,
          203500,
          152000,
          250000,
          63000,
          186000,
          148800,
          110000,
          173000,
          203500,
          152000,
          186000,
          148800,
          158000,
          134000,
          170000,
          120000,
          200000,
          150000,
          216200,
          144100,
          115573,
          89306,
          250000,
          63000,
          135000,
          85000,
          135000,
          85000,
          206000,
          175100,
          189650,
          164996,
          149040,
          113900,
          154000,
          126000,
          195700,
          130500,
          170000,
          135000,
          98506,
          73880,
          117000,
          99450,
          200000,
          135000,
          193900,
          129300,
          86193,
          61566,
          175000,
          130000,
          188100,
          139860,
          248700,
          167100,
          123400,
          88100,
          245000,
          205000,
          141300,
          102100,
          141300,
          102100,
          250000,
          63000,
          24000,
          24000,
          250000,
          63000,
          145000,
          115000,
          193900,
          129300,
          216200,
          144100,
          216000,
          144000,
          12171,
          50000,
          131752,
          260500,
          175100,
          210000,
          100000,
          130000,
          206699,
          99100,
          200000,
          54000,
          250000,
          63000,
          250000,
          63000,
          250000,
          63000,
          28368,
          91118,
          61566,
          249260,
          185400,
          170000,
          130000,
          80036,
          128875,
          93700,
          180000,
          100000,
          136260,
          109280,
          200000,
          160000,
          135446,
          104663,
          117000,
          99450,
          25000,
          65257,
          200000,
          210000,
          100000,
          150075,
          110925,
          22800,
          22809,
          175000,
          135000,
          92350,
          67723,
          186000,
          148800,
          112900,
          90320,
          240000,
          160000,
          300000,
          200000,
          116976,
          92350,
          120000,
          112900,
          90320,
          145000,
          105400,
          110820,
          92350,
          115934,
          81666,
          175000,
          155000,
          84053,
          164000,
          132000,
          170000,
          123000,
          189650,
          164996,
          52533,
          52533,
          165400,
          132320,
          208775,
          147800,
          136994,
          101570,
          128875,
          93700,
          49253,
          36940,
          42026,
          31520,
          84053,
          73546,
          98506,
          86193,
          84053,
          73546,
          189650,
          164996,
          42026,
          31520,
          92350,
          73880,
          63040,
          47280,
          260000,
          180000,
          67723,
          43096,
          63040,
          47280,
          73880,
          55410,
          82900,
          63900,
          241000,
          159000,
          180000,
          80000,
          136000,
          108800,
          242000,
          200000,
          61566,
          36940,
          73880,
          49253,
          165220,
          120160,
          124190,
          90320,
          181940,
          132320,
          220110,
          160080,
          126500,
          106260,
          116000,
          99000,
          155000,
          120600,
          130000,
          90000,
          170000,
          150000,
          102100,
          84900,
          136620,
          99360,
          110820,
          98506,
          146000,
          123000,
          49253,
          43096,
          130000,
          110000,
          170000,
          135000,
          161342,
          137141,
          167000,
          123000,
          73880,
          61566,
          211500,
          138600,
          192400,
          90700,
          130000,
          61300,
          130000,
          61300,
          150000,
          95550,
          167000,
          115500,
          112900,
          90320,
          112900,
          90320,
          165400,
          132320,
          243900,
          156600,
          136600,
          109280,
          128875,
          93700,
          224000,
          167875,
          175000,
          135000,
          180000,
          160000,
          176000,
          144000,
          200100,
          160000,
          70500,
          54000,
          205300,
          140400,
          205300,
          184700,
          175100,
          140250,
          116150,
          99050,
          145000,
          130000,
          112900,
          90320,
          85000,
          75000,
          214000,
          192600,
          266400,
          213120,
          155000,
          115000,
          141300,
          102100,
          115934,
          81666,
          206699,
          99100,
          130000,
          110500,
          61566,
          43096,
          80000,
          60000,
          192564,
          144854,
          230000,
          150000,
          150260,
          109280,
          170000,
          150000,
          160000,
          130000,
          67000,
          52000,
          154000,
          126000,
          129000,
          99000,
          210000,
          140000,
          210000,
          140000,
          210000,
          140000,
          100000,
          69000,
          210000,
          140000,
          150075,
          110925,
          100000,
          25000,
          126500,
          106260,
          220110,
          160080,
          105000,
          100000,
          170000,
          135000,
          230000,
          140000,
          135000,
          50000,
          220000,
          140000,
          172386,
          86193,
          220000,
          120000,
          200000,
          120000,
          324000,
          216000,
          210000,
          100000,
          185100,
          104890,
          105000,
          80000,
          76814,
          17805,
          17805,
          67597,
          10000,
          200000,
          78000,
          135000,
          115000,
          83171,
          165000,
          153000,
          100000,
          76814,
          30469,
          55475,
          152500,
          80000,
          65141,
          20000,
          90000,
          100000,
          100000,
          155499,
          24000,
          38400,
          49646,
          120000,
          84053,
          125000,
          10354,
          50000,
          200000,
          60000,
          82744,
          62649,
          130026,
          85000,
          120000,
          450000,
          150000,
          12000,
          5409,
          59102,
          80000,
          100000,
          50180,
          113476,
          150000,
          70000,
          28399,
          170000,
          12103,
          99703,
          21637,
          63810,
          109024,
          100000,
          77684,
          105000,
          65013,
          28016,
          111775,
          93150,
          71786,
          24823,
          21844,
          50000,
          39916,
          61467,
          195000,
          33808,
          88654,
          5707,
          56000,
          98000,
          40189,
          165000,
          12000,
          18907,
          173762,
          148261,
          38776,
          46809,
          190200,
          118000,
          138350,
          130800,
          119059
         ],
         "y0": " ",
         "yaxis": "y"
        },
        {
         "alignmentgroup": "True",
         "hovertemplate": "company_size=%{x}<br>salary_in_usd=%{y}<extra></extra>",
         "legendgroup": "L",
         "marker": {
          "color": "#00cc96"
         },
         "name": "L",
         "notched": false,
         "offsetgroup": "L",
         "orientation": "v",
         "showlegend": true,
         "type": "box",
         "x": [
          "L",
          "L",
          "L",
          "L",
          "L",
          "L",
          "L",
          "L",
          "L",
          "L",
          "L",
          "L",
          "L",
          "L",
          "L",
          "L",
          "L",
          "L",
          "L",
          "L",
          "L",
          "L",
          "L",
          "L",
          "L",
          "L",
          "L",
          "L",
          "L",
          "L",
          "L",
          "L",
          "L",
          "L",
          "L",
          "L",
          "L",
          "L",
          "L",
          "L",
          "L",
          "L",
          "L",
          "L",
          "L",
          "L",
          "L",
          "L",
          "L",
          "L",
          "L",
          "L",
          "L",
          "L",
          "L",
          "L",
          "L",
          "L",
          "L",
          "L",
          "L",
          "L",
          "L",
          "L",
          "L",
          "L",
          "L",
          "L",
          "L",
          "L",
          "L",
          "L",
          "L",
          "L",
          "L",
          "L",
          "L",
          "L",
          "L",
          "L",
          "L",
          "L",
          "L",
          "L",
          "L",
          "L",
          "L",
          "L",
          "L",
          "L",
          "L",
          "L",
          "L",
          "L",
          "L",
          "L",
          "L",
          "L",
          "L",
          "L",
          "L",
          "L",
          "L",
          "L",
          "L",
          "L",
          "L",
          "L",
          "L",
          "L",
          "L",
          "L",
          "L",
          "L",
          "L",
          "L",
          "L",
          "L",
          "L",
          "L",
          "L",
          "L",
          "L",
          "L",
          "L",
          "L",
          "L",
          "L",
          "L",
          "L",
          "L",
          "L",
          "L",
          "L",
          "L",
          "L",
          "L",
          "L",
          "L",
          "L",
          "L",
          "L",
          "L",
          "L",
          "L",
          "L",
          "L",
          "L",
          "L",
          "L",
          "L",
          "L",
          "L",
          "L",
          "L",
          "L",
          "L",
          "L",
          "L",
          "L",
          "L",
          "L",
          "L",
          "L",
          "L",
          "L",
          "L",
          "L",
          "L",
          "L",
          "L",
          "L",
          "L",
          "L",
          "L",
          "L",
          "L",
          "L",
          "L",
          "L",
          "L",
          "L",
          "L",
          "L",
          "L",
          "L",
          "L",
          "L",
          "L",
          "L",
          "L",
          "L",
          "L",
          "L",
          "L",
          "L",
          "L",
          "L",
          "L",
          "L",
          "L",
          "L",
          "L",
          "L",
          "L",
          "L",
          "L",
          "L",
          "L",
          "L",
          "L",
          "L",
          "L",
          "L",
          "L",
          "L",
          "L",
          "L",
          "L",
          "L",
          "L",
          "L",
          "L",
          "L",
          "L",
          "L",
          "L",
          "L",
          "L",
          "L",
          "L",
          "L",
          "L",
          "L",
          "L",
          "L",
          "L",
          "L",
          "L",
          "L",
          "L",
          "L",
          "L",
          "L",
          "L",
          "L",
          "L",
          "L",
          "L",
          "L",
          "L",
          "L",
          "L",
          "L",
          "L",
          "L",
          "L",
          "L",
          "L",
          "L",
          "L",
          "L",
          "L",
          "L",
          "L",
          "L",
          "L",
          "L",
          "L",
          "L",
          "L",
          "L",
          "L",
          "L",
          "L",
          "L",
          "L",
          "L",
          "L",
          "L",
          "L",
          "L",
          "L",
          "L",
          "L",
          "L",
          "L",
          "L",
          "L",
          "L",
          "L",
          "L",
          "L",
          "L",
          "L",
          "L",
          "L",
          "L",
          "L",
          "L",
          "L",
          "L",
          "L",
          "L",
          "L",
          "L",
          "L",
          "L",
          "L",
          "L",
          "L",
          "L",
          "L",
          "L",
          "L",
          "L",
          "L",
          "L",
          "L",
          "L",
          "L",
          "L",
          "L",
          "L",
          "L",
          "L",
          "L",
          "L",
          "L",
          "L",
          "L",
          "L",
          "L",
          "L",
          "L",
          "L",
          "L",
          "L",
          "L",
          "L",
          "L",
          "L",
          "L",
          "L",
          "L",
          "L",
          "L",
          "L",
          "L",
          "L",
          "L",
          "L",
          "L",
          "L",
          "L",
          "L",
          "L",
          "L",
          "L",
          "L",
          "L",
          "L",
          "L",
          "L",
          "L",
          "L",
          "L",
          "L",
          "L",
          "L",
          "L",
          "L",
          "L",
          "L",
          "L",
          "L",
          "L",
          "L",
          "L",
          "L",
          "L",
          "L",
          "L",
          "L",
          "L",
          "L",
          "L",
          "L",
          "L",
          "L",
          "L",
          "L",
          "L",
          "L",
          "L",
          "L",
          "L",
          "L",
          "L",
          "L",
          "L",
          "L",
          "L",
          "L",
          "L",
          "L",
          "L",
          "L",
          "L",
          "L",
          "L",
          "L",
          "L",
          "L",
          "L",
          "L",
          "L",
          "L",
          "L",
          "L",
          "L",
          "L",
          "L",
          "L",
          "L",
          "L",
          "L",
          "L",
          "L",
          "L",
          "L",
          "L",
          "L",
          "L",
          "L",
          "L",
          "L",
          "L",
          "L",
          "L",
          "L",
          "L",
          "L",
          "L",
          "L",
          "L",
          "L",
          "L",
          "L",
          "L",
          "L",
          "L",
          "L",
          "L"
         ],
         "x0": " ",
         "xaxis": "x",
         "y": [
          85847,
          222200,
          136000,
          213660,
          130760,
          100000,
          30000,
          20984,
          204620,
          110680,
          309400,
          159100,
          65062,
          300000,
          96578,
          202800,
          104300,
          220000,
          342300,
          176100,
          105000,
          20670,
          309400,
          159100,
          222200,
          136000,
          17022,
          239000,
          122900,
          88256,
          240500,
          123700,
          260000,
          136000,
          260000,
          136000,
          222200,
          136000,
          40663,
          51753,
          213660,
          130760,
          68000,
          222200,
          136000,
          260000,
          136000,
          59888,
          135000,
          423834,
          121093,
          172309,
          205600,
          105700,
          170000,
          90000,
          222200,
          136000,
          130000,
          75020,
          17022,
          70000,
          18238,
          130000,
          123405,
          214618,
          100000,
          75116,
          106000,
          40000,
          192000,
          38631,
          115447,
          17779,
          19522,
          60000,
          50000,
          151902,
          9727,
          12000,
          16414,
          53654,
          100000,
          12767,
          26827,
          23000,
          110000,
          350000,
          262500,
          155000,
          66970,
          63312,
          60795,
          240500,
          123700,
          84053,
          48000,
          12877,
          205600,
          105700,
          53654,
          24740,
          110000,
          219000,
          126100,
          72000,
          72914,
          25216,
          54094,
          18314,
          133000,
          14307,
          261500,
          134500,
          13989,
          125000,
          56723,
          35610,
          125000,
          60938,
          50000,
          16904,
          200000,
          12000,
          50000,
          190000,
          171000,
          105236,
          66192,
          230000,
          154600,
          80000,
          27317,
          68293,
          375000,
          12000,
          104697,
          89306,
          198440,
          144000,
          64000,
          39925,
          76000,
          202800,
          104300,
          30000,
          205600,
          105700,
          80000,
          73742,
          33246,
          5409,
          75050,
          8000,
          148500,
          98200,
          57000,
          83171,
          38154,
          108000,
          125976,
          156868,
          198440,
          144000,
          69344,
          45050,
          42028,
          135000,
          178800,
          132100,
          229998,
          154545,
          215000,
          159000,
          229998,
          154545,
          183000,
          236900,
          159200,
          195400,
          131300,
          105000,
          150000,
          195400,
          131300,
          195400,
          131300,
          195400,
          131300,
          178800,
          132100,
          50000,
          180000,
          165000,
          108000,
          15000,
          7799,
          57786,
          45390,
          97500,
          73546,
          6359,
          115000,
          46000,
          80000,
          19073,
          113000,
          113000,
          160000,
          119300,
          145000,
          95386,
          128058,
          82000,
          6270,
          200000,
          150000,
          50000,
          84053,
          189500,
          140100,
          177600,
          131300,
          202900,
          131300,
          115000,
          180000,
          140000,
          150000,
          53416,
          250000,
          84053,
          77119,
          130000,
          100000,
          80000,
          160000,
          100000,
          221300,
          148700,
          30000,
          160000,
          92000,
          129000,
          86000,
          13493,
          13493,
          160000,
          119300,
          100000,
          180000,
          153000,
          160000,
          92000,
          202900,
          131300,
          15000,
          133766,
          83000,
          200000,
          215300,
          158200,
          209100,
          154600,
          76309,
          35093,
          183600,
          100800,
          215300,
          140400,
          51064,
          60000,
          160000,
          112300,
          180000,
          120000,
          160000,
          113000,
          209100,
          154600,
          205300,
          140400,
          117104,
          192037,
          30523,
          55685,
          52533,
          75000,
          157000,
          69133,
          109000,
          102839,
          51081,
          83864,
          40000,
          59888,
          54742,
          89306,
          33609,
          69999,
          61989,
          120000,
          135000,
          405000,
          150000,
          240000,
          135000,
          380000,
          120402,
          177000,
          220000,
          144000,
          100000,
          40570,
          110037,
          21013,
          200000,
          100000,
          82528,
          170000,
          150000,
          250000,
          80000,
          70000,
          63831,
          68428,
          230000,
          46759,
          74130,
          127221,
          144000,
          13400,
          75774,
          103000,
          153000,
          90000,
          50000,
          270000,
          54238,
          153667,
          28476,
          110000,
          82528,
          250000,
          140000,
          79197,
          170000,
          53192,
          235000,
          150000,
          79833,
          225000,
          88654,
          94564,
          30428,
          187442,
          51519,
          106000,
          112872,
          36259,
          150000,
          89294,
          29751,
          276000,
          188000,
          105000,
          200000,
          174000,
          93000,
          60757,
          70139,
          96282,
          36643,
          72212,
          91000,
          165000,
          80000,
          103691,
          42000,
          115000,
          180000,
          200000,
          200000,
          110000,
          79833,
          72500,
          185000,
          69741,
          100000,
          112000,
          150000,
          20171,
          55000,
          58000,
          76833,
          72000,
          66265,
          63831,
          141846,
          16228,
          35735,
          135000,
          54094,
          24342,
          147000,
          96113,
          174000,
          135000,
          40481,
          87000,
          26005,
          90734,
          22611,
          40038,
          37825,
          85000,
          225000,
          56256,
          116914,
          46597,
          8000,
          88654,
          6072,
          47899,
          24823,
          120000,
          20000,
          325000,
          200000,
          160000,
          5882,
          185000,
          90734,
          110000,
          140000,
          120000,
          61896,
          152000,
          130000,
          59102,
          115000,
          235000,
          19609,
          75000,
          62000,
          73000,
          45391,
          423000,
          28369,
          165000,
          412000,
          151000,
          100000,
          94665
         ],
         "y0": " ",
         "yaxis": "y"
        }
       ],
       "layout": {
        "boxmode": "overlay",
        "legend": {
         "title": {
          "text": "company_size"
         },
         "tracegroupgap": 0
        },
        "template": {
         "data": {
          "bar": [
           {
            "error_x": {
             "color": "#f2f5fa"
            },
            "error_y": {
             "color": "#f2f5fa"
            },
            "marker": {
             "line": {
              "color": "rgb(17,17,17)",
              "width": 0.5
             },
             "pattern": {
              "fillmode": "overlay",
              "size": 10,
              "solidity": 0.2
             }
            },
            "type": "bar"
           }
          ],
          "barpolar": [
           {
            "marker": {
             "line": {
              "color": "rgb(17,17,17)",
              "width": 0.5
             },
             "pattern": {
              "fillmode": "overlay",
              "size": 10,
              "solidity": 0.2
             }
            },
            "type": "barpolar"
           }
          ],
          "carpet": [
           {
            "aaxis": {
             "endlinecolor": "#A2B1C6",
             "gridcolor": "#506784",
             "linecolor": "#506784",
             "minorgridcolor": "#506784",
             "startlinecolor": "#A2B1C6"
            },
            "baxis": {
             "endlinecolor": "#A2B1C6",
             "gridcolor": "#506784",
             "linecolor": "#506784",
             "minorgridcolor": "#506784",
             "startlinecolor": "#A2B1C6"
            },
            "type": "carpet"
           }
          ],
          "choropleth": [
           {
            "colorbar": {
             "outlinewidth": 0,
             "ticks": ""
            },
            "type": "choropleth"
           }
          ],
          "contour": [
           {
            "colorbar": {
             "outlinewidth": 0,
             "ticks": ""
            },
            "colorscale": [
             [
              0,
              "#0d0887"
             ],
             [
              0.1111111111111111,
              "#46039f"
             ],
             [
              0.2222222222222222,
              "#7201a8"
             ],
             [
              0.3333333333333333,
              "#9c179e"
             ],
             [
              0.4444444444444444,
              "#bd3786"
             ],
             [
              0.5555555555555556,
              "#d8576b"
             ],
             [
              0.6666666666666666,
              "#ed7953"
             ],
             [
              0.7777777777777778,
              "#fb9f3a"
             ],
             [
              0.8888888888888888,
              "#fdca26"
             ],
             [
              1,
              "#f0f921"
             ]
            ],
            "type": "contour"
           }
          ],
          "contourcarpet": [
           {
            "colorbar": {
             "outlinewidth": 0,
             "ticks": ""
            },
            "type": "contourcarpet"
           }
          ],
          "heatmap": [
           {
            "colorbar": {
             "outlinewidth": 0,
             "ticks": ""
            },
            "colorscale": [
             [
              0,
              "#0d0887"
             ],
             [
              0.1111111111111111,
              "#46039f"
             ],
             [
              0.2222222222222222,
              "#7201a8"
             ],
             [
              0.3333333333333333,
              "#9c179e"
             ],
             [
              0.4444444444444444,
              "#bd3786"
             ],
             [
              0.5555555555555556,
              "#d8576b"
             ],
             [
              0.6666666666666666,
              "#ed7953"
             ],
             [
              0.7777777777777778,
              "#fb9f3a"
             ],
             [
              0.8888888888888888,
              "#fdca26"
             ],
             [
              1,
              "#f0f921"
             ]
            ],
            "type": "heatmap"
           }
          ],
          "heatmapgl": [
           {
            "colorbar": {
             "outlinewidth": 0,
             "ticks": ""
            },
            "colorscale": [
             [
              0,
              "#0d0887"
             ],
             [
              0.1111111111111111,
              "#46039f"
             ],
             [
              0.2222222222222222,
              "#7201a8"
             ],
             [
              0.3333333333333333,
              "#9c179e"
             ],
             [
              0.4444444444444444,
              "#bd3786"
             ],
             [
              0.5555555555555556,
              "#d8576b"
             ],
             [
              0.6666666666666666,
              "#ed7953"
             ],
             [
              0.7777777777777778,
              "#fb9f3a"
             ],
             [
              0.8888888888888888,
              "#fdca26"
             ],
             [
              1,
              "#f0f921"
             ]
            ],
            "type": "heatmapgl"
           }
          ],
          "histogram": [
           {
            "marker": {
             "pattern": {
              "fillmode": "overlay",
              "size": 10,
              "solidity": 0.2
             }
            },
            "type": "histogram"
           }
          ],
          "histogram2d": [
           {
            "colorbar": {
             "outlinewidth": 0,
             "ticks": ""
            },
            "colorscale": [
             [
              0,
              "#0d0887"
             ],
             [
              0.1111111111111111,
              "#46039f"
             ],
             [
              0.2222222222222222,
              "#7201a8"
             ],
             [
              0.3333333333333333,
              "#9c179e"
             ],
             [
              0.4444444444444444,
              "#bd3786"
             ],
             [
              0.5555555555555556,
              "#d8576b"
             ],
             [
              0.6666666666666666,
              "#ed7953"
             ],
             [
              0.7777777777777778,
              "#fb9f3a"
             ],
             [
              0.8888888888888888,
              "#fdca26"
             ],
             [
              1,
              "#f0f921"
             ]
            ],
            "type": "histogram2d"
           }
          ],
          "histogram2dcontour": [
           {
            "colorbar": {
             "outlinewidth": 0,
             "ticks": ""
            },
            "colorscale": [
             [
              0,
              "#0d0887"
             ],
             [
              0.1111111111111111,
              "#46039f"
             ],
             [
              0.2222222222222222,
              "#7201a8"
             ],
             [
              0.3333333333333333,
              "#9c179e"
             ],
             [
              0.4444444444444444,
              "#bd3786"
             ],
             [
              0.5555555555555556,
              "#d8576b"
             ],
             [
              0.6666666666666666,
              "#ed7953"
             ],
             [
              0.7777777777777778,
              "#fb9f3a"
             ],
             [
              0.8888888888888888,
              "#fdca26"
             ],
             [
              1,
              "#f0f921"
             ]
            ],
            "type": "histogram2dcontour"
           }
          ],
          "mesh3d": [
           {
            "colorbar": {
             "outlinewidth": 0,
             "ticks": ""
            },
            "type": "mesh3d"
           }
          ],
          "parcoords": [
           {
            "line": {
             "colorbar": {
              "outlinewidth": 0,
              "ticks": ""
             }
            },
            "type": "parcoords"
           }
          ],
          "pie": [
           {
            "automargin": true,
            "type": "pie"
           }
          ],
          "scatter": [
           {
            "marker": {
             "line": {
              "color": "#283442"
             }
            },
            "type": "scatter"
           }
          ],
          "scatter3d": [
           {
            "line": {
             "colorbar": {
              "outlinewidth": 0,
              "ticks": ""
             }
            },
            "marker": {
             "colorbar": {
              "outlinewidth": 0,
              "ticks": ""
             }
            },
            "type": "scatter3d"
           }
          ],
          "scattercarpet": [
           {
            "marker": {
             "colorbar": {
              "outlinewidth": 0,
              "ticks": ""
             }
            },
            "type": "scattercarpet"
           }
          ],
          "scattergeo": [
           {
            "marker": {
             "colorbar": {
              "outlinewidth": 0,
              "ticks": ""
             }
            },
            "type": "scattergeo"
           }
          ],
          "scattergl": [
           {
            "marker": {
             "line": {
              "color": "#283442"
             }
            },
            "type": "scattergl"
           }
          ],
          "scattermapbox": [
           {
            "marker": {
             "colorbar": {
              "outlinewidth": 0,
              "ticks": ""
             }
            },
            "type": "scattermapbox"
           }
          ],
          "scatterpolar": [
           {
            "marker": {
             "colorbar": {
              "outlinewidth": 0,
              "ticks": ""
             }
            },
            "type": "scatterpolar"
           }
          ],
          "scatterpolargl": [
           {
            "marker": {
             "colorbar": {
              "outlinewidth": 0,
              "ticks": ""
             }
            },
            "type": "scatterpolargl"
           }
          ],
          "scatterternary": [
           {
            "marker": {
             "colorbar": {
              "outlinewidth": 0,
              "ticks": ""
             }
            },
            "type": "scatterternary"
           }
          ],
          "surface": [
           {
            "colorbar": {
             "outlinewidth": 0,
             "ticks": ""
            },
            "colorscale": [
             [
              0,
              "#0d0887"
             ],
             [
              0.1111111111111111,
              "#46039f"
             ],
             [
              0.2222222222222222,
              "#7201a8"
             ],
             [
              0.3333333333333333,
              "#9c179e"
             ],
             [
              0.4444444444444444,
              "#bd3786"
             ],
             [
              0.5555555555555556,
              "#d8576b"
             ],
             [
              0.6666666666666666,
              "#ed7953"
             ],
             [
              0.7777777777777778,
              "#fb9f3a"
             ],
             [
              0.8888888888888888,
              "#fdca26"
             ],
             [
              1,
              "#f0f921"
             ]
            ],
            "type": "surface"
           }
          ],
          "table": [
           {
            "cells": {
             "fill": {
              "color": "#506784"
             },
             "line": {
              "color": "rgb(17,17,17)"
             }
            },
            "header": {
             "fill": {
              "color": "#2a3f5f"
             },
             "line": {
              "color": "rgb(17,17,17)"
             }
            },
            "type": "table"
           }
          ]
         },
         "layout": {
          "annotationdefaults": {
           "arrowcolor": "#f2f5fa",
           "arrowhead": 0,
           "arrowwidth": 1
          },
          "autotypenumbers": "strict",
          "coloraxis": {
           "colorbar": {
            "outlinewidth": 0,
            "ticks": ""
           }
          },
          "colorscale": {
           "diverging": [
            [
             0,
             "#8e0152"
            ],
            [
             0.1,
             "#c51b7d"
            ],
            [
             0.2,
             "#de77ae"
            ],
            [
             0.3,
             "#f1b6da"
            ],
            [
             0.4,
             "#fde0ef"
            ],
            [
             0.5,
             "#f7f7f7"
            ],
            [
             0.6,
             "#e6f5d0"
            ],
            [
             0.7,
             "#b8e186"
            ],
            [
             0.8,
             "#7fbc41"
            ],
            [
             0.9,
             "#4d9221"
            ],
            [
             1,
             "#276419"
            ]
           ],
           "sequential": [
            [
             0,
             "#0d0887"
            ],
            [
             0.1111111111111111,
             "#46039f"
            ],
            [
             0.2222222222222222,
             "#7201a8"
            ],
            [
             0.3333333333333333,
             "#9c179e"
            ],
            [
             0.4444444444444444,
             "#bd3786"
            ],
            [
             0.5555555555555556,
             "#d8576b"
            ],
            [
             0.6666666666666666,
             "#ed7953"
            ],
            [
             0.7777777777777778,
             "#fb9f3a"
            ],
            [
             0.8888888888888888,
             "#fdca26"
            ],
            [
             1,
             "#f0f921"
            ]
           ],
           "sequentialminus": [
            [
             0,
             "#0d0887"
            ],
            [
             0.1111111111111111,
             "#46039f"
            ],
            [
             0.2222222222222222,
             "#7201a8"
            ],
            [
             0.3333333333333333,
             "#9c179e"
            ],
            [
             0.4444444444444444,
             "#bd3786"
            ],
            [
             0.5555555555555556,
             "#d8576b"
            ],
            [
             0.6666666666666666,
             "#ed7953"
            ],
            [
             0.7777777777777778,
             "#fb9f3a"
            ],
            [
             0.8888888888888888,
             "#fdca26"
            ],
            [
             1,
             "#f0f921"
            ]
           ]
          },
          "colorway": [
           "#636efa",
           "#EF553B",
           "#00cc96",
           "#ab63fa",
           "#FFA15A",
           "#19d3f3",
           "#FF6692",
           "#B6E880",
           "#FF97FF",
           "#FECB52"
          ],
          "font": {
           "color": "#f2f5fa"
          },
          "geo": {
           "bgcolor": "rgb(17,17,17)",
           "lakecolor": "rgb(17,17,17)",
           "landcolor": "rgb(17,17,17)",
           "showlakes": true,
           "showland": true,
           "subunitcolor": "#506784"
          },
          "hoverlabel": {
           "align": "left"
          },
          "hovermode": "closest",
          "mapbox": {
           "style": "dark"
          },
          "paper_bgcolor": "rgb(17,17,17)",
          "plot_bgcolor": "rgb(17,17,17)",
          "polar": {
           "angularaxis": {
            "gridcolor": "#506784",
            "linecolor": "#506784",
            "ticks": ""
           },
           "bgcolor": "rgb(17,17,17)",
           "radialaxis": {
            "gridcolor": "#506784",
            "linecolor": "#506784",
            "ticks": ""
           }
          },
          "scene": {
           "xaxis": {
            "backgroundcolor": "rgb(17,17,17)",
            "gridcolor": "#506784",
            "gridwidth": 2,
            "linecolor": "#506784",
            "showbackground": true,
            "ticks": "",
            "zerolinecolor": "#C8D4E3"
           },
           "yaxis": {
            "backgroundcolor": "rgb(17,17,17)",
            "gridcolor": "#506784",
            "gridwidth": 2,
            "linecolor": "#506784",
            "showbackground": true,
            "ticks": "",
            "zerolinecolor": "#C8D4E3"
           },
           "zaxis": {
            "backgroundcolor": "rgb(17,17,17)",
            "gridcolor": "#506784",
            "gridwidth": 2,
            "linecolor": "#506784",
            "showbackground": true,
            "ticks": "",
            "zerolinecolor": "#C8D4E3"
           }
          },
          "shapedefaults": {
           "line": {
            "color": "#f2f5fa"
           }
          },
          "sliderdefaults": {
           "bgcolor": "#C8D4E3",
           "bordercolor": "rgb(17,17,17)",
           "borderwidth": 1,
           "tickwidth": 0
          },
          "ternary": {
           "aaxis": {
            "gridcolor": "#506784",
            "linecolor": "#506784",
            "ticks": ""
           },
           "baxis": {
            "gridcolor": "#506784",
            "linecolor": "#506784",
            "ticks": ""
           },
           "bgcolor": "rgb(17,17,17)",
           "caxis": {
            "gridcolor": "#506784",
            "linecolor": "#506784",
            "ticks": ""
           }
          },
          "title": {
           "x": 0.05
          },
          "updatemenudefaults": {
           "bgcolor": "#506784",
           "borderwidth": 0
          },
          "xaxis": {
           "automargin": true,
           "gridcolor": "#283442",
           "linecolor": "#506784",
           "ticks": "",
           "title": {
            "standoff": 15
           },
           "zerolinecolor": "#283442",
           "zerolinewidth": 2
          },
          "yaxis": {
           "automargin": true,
           "gridcolor": "#283442",
           "linecolor": "#506784",
           "ticks": "",
           "title": {
            "standoff": 15
           },
           "zerolinecolor": "#283442",
           "zerolinewidth": 2
          }
         }
        },
        "title": {
         "text": "Relación tamaño-empresa/salario"
        },
        "xaxis": {
         "anchor": "y",
         "categoryarray": [
          "S",
          "M",
          "L"
         ],
         "categoryorder": "array",
         "domain": [
          0,
          1
         ],
         "title": {
          "text": "company_size"
         }
        },
        "yaxis": {
         "anchor": "x",
         "domain": [
          0,
          1
         ],
         "title": {
          "text": "salary_in_usd"
         }
        }
       }
      }
     },
     "metadata": {},
     "output_type": "display_data"
    }
   ],
   "source": [
    "fig = px.box(df, x='company_size', y='salary_in_usd', title='Relación tamaño-empresa/salario',\n",
    "             category_orders={'company_size': ['S', 'M', 'L']}, # Configuramos el orden de las variables\n",
    "             template ='plotly_dark', color='company_size')\n",
    "fig.show()"
   ]
  },
  {
   "attachments": {},
   "cell_type": "markdown",
   "metadata": {},
   "source": [
    "¿Cuál es el país con más trabajadores remotos?"
   ]
  },
  {
   "cell_type": "code",
   "execution_count": 9,
   "metadata": {},
   "outputs": [
    {
     "data": {
      "application/vnd.plotly.v1+json": {
       "config": {
        "plotlyServerURL": "https://plot.ly"
       },
       "data": [
        {
         "alignmentgroup": "True",
         "hovertemplate": "employee_residence=%{x}<br>remote_ratio=%{y}<extra></extra>",
         "legendgroup": "",
         "marker": {
          "color": "#636efa",
          "pattern": {
           "shape": ""
          }
         },
         "name": "",
         "offsetgroup": "",
         "orientation": "v",
         "showlegend": false,
         "textposition": "auto",
         "type": "bar",
         "x": [
          "US",
          "GB",
          "CA",
          "IN",
          "ES",
          "FR",
          "DE",
          "BR",
          "GR",
          "NL",
          "PT",
          "MX",
          "AU",
          "AR",
          "PL",
          "PK",
          "NG",
          "IT",
          "PR",
          "BE",
          "SG",
          "JP",
          "SI",
          "IE",
          "AT",
          "RU",
          "CH",
          "BO",
          "PH",
          "KE",
          "TR",
          "TH",
          "HU",
          "AE",
          "VN",
          "CF",
          "CL",
          "UA",
          "SE",
          "CO",
          "CZ",
          "DK",
          "TN",
          "BG",
          "SK",
          "UZ",
          "EE",
          "RS",
          "RO",
          "DO",
          "MY",
          "HR",
          "IR",
          "LU",
          "EG",
          "FI",
          "KW",
          "AS",
          "HK",
          "BA",
          "IQ",
          "CN",
          "MT",
          "DZ",
          "CR",
          "CY",
          "NZ",
          "MA",
          "LT",
          "JE",
          "GH",
          "LV",
          "AM",
          "IL",
          "HN",
          "MD",
          "ID",
          "MK"
         ],
         "xaxis": "x",
         "y": [
          131950,
          6900,
          5100,
          5000,
          2800,
          2550,
          2450,
          1600,
          1300,
          950,
          950,
          900,
          800,
          600,
          600,
          600,
          550,
          450,
          450,
          400,
          350,
          350,
          350,
          300,
          250,
          250,
          250,
          250,
          200,
          200,
          200,
          200,
          200,
          200,
          200,
          200,
          200,
          150,
          150,
          150,
          150,
          150,
          100,
          100,
          100,
          100,
          100,
          100,
          100,
          100,
          100,
          100,
          100,
          100,
          100,
          50,
          50,
          50,
          50,
          50,
          50,
          50,
          50,
          50,
          50,
          50,
          50,
          50,
          0,
          0,
          0,
          0,
          0,
          0,
          0,
          0,
          0,
          0
         ],
         "yaxis": "y"
        }
       ],
       "layout": {
        "barmode": "relative",
        "legend": {
         "tracegroupgap": 0
        },
        "template": {
         "data": {
          "bar": [
           {
            "error_x": {
             "color": "#f2f5fa"
            },
            "error_y": {
             "color": "#f2f5fa"
            },
            "marker": {
             "line": {
              "color": "rgb(17,17,17)",
              "width": 0.5
             },
             "pattern": {
              "fillmode": "overlay",
              "size": 10,
              "solidity": 0.2
             }
            },
            "type": "bar"
           }
          ],
          "barpolar": [
           {
            "marker": {
             "line": {
              "color": "rgb(17,17,17)",
              "width": 0.5
             },
             "pattern": {
              "fillmode": "overlay",
              "size": 10,
              "solidity": 0.2
             }
            },
            "type": "barpolar"
           }
          ],
          "carpet": [
           {
            "aaxis": {
             "endlinecolor": "#A2B1C6",
             "gridcolor": "#506784",
             "linecolor": "#506784",
             "minorgridcolor": "#506784",
             "startlinecolor": "#A2B1C6"
            },
            "baxis": {
             "endlinecolor": "#A2B1C6",
             "gridcolor": "#506784",
             "linecolor": "#506784",
             "minorgridcolor": "#506784",
             "startlinecolor": "#A2B1C6"
            },
            "type": "carpet"
           }
          ],
          "choropleth": [
           {
            "colorbar": {
             "outlinewidth": 0,
             "ticks": ""
            },
            "type": "choropleth"
           }
          ],
          "contour": [
           {
            "colorbar": {
             "outlinewidth": 0,
             "ticks": ""
            },
            "colorscale": [
             [
              0,
              "#0d0887"
             ],
             [
              0.1111111111111111,
              "#46039f"
             ],
             [
              0.2222222222222222,
              "#7201a8"
             ],
             [
              0.3333333333333333,
              "#9c179e"
             ],
             [
              0.4444444444444444,
              "#bd3786"
             ],
             [
              0.5555555555555556,
              "#d8576b"
             ],
             [
              0.6666666666666666,
              "#ed7953"
             ],
             [
              0.7777777777777778,
              "#fb9f3a"
             ],
             [
              0.8888888888888888,
              "#fdca26"
             ],
             [
              1,
              "#f0f921"
             ]
            ],
            "type": "contour"
           }
          ],
          "contourcarpet": [
           {
            "colorbar": {
             "outlinewidth": 0,
             "ticks": ""
            },
            "type": "contourcarpet"
           }
          ],
          "heatmap": [
           {
            "colorbar": {
             "outlinewidth": 0,
             "ticks": ""
            },
            "colorscale": [
             [
              0,
              "#0d0887"
             ],
             [
              0.1111111111111111,
              "#46039f"
             ],
             [
              0.2222222222222222,
              "#7201a8"
             ],
             [
              0.3333333333333333,
              "#9c179e"
             ],
             [
              0.4444444444444444,
              "#bd3786"
             ],
             [
              0.5555555555555556,
              "#d8576b"
             ],
             [
              0.6666666666666666,
              "#ed7953"
             ],
             [
              0.7777777777777778,
              "#fb9f3a"
             ],
             [
              0.8888888888888888,
              "#fdca26"
             ],
             [
              1,
              "#f0f921"
             ]
            ],
            "type": "heatmap"
           }
          ],
          "heatmapgl": [
           {
            "colorbar": {
             "outlinewidth": 0,
             "ticks": ""
            },
            "colorscale": [
             [
              0,
              "#0d0887"
             ],
             [
              0.1111111111111111,
              "#46039f"
             ],
             [
              0.2222222222222222,
              "#7201a8"
             ],
             [
              0.3333333333333333,
              "#9c179e"
             ],
             [
              0.4444444444444444,
              "#bd3786"
             ],
             [
              0.5555555555555556,
              "#d8576b"
             ],
             [
              0.6666666666666666,
              "#ed7953"
             ],
             [
              0.7777777777777778,
              "#fb9f3a"
             ],
             [
              0.8888888888888888,
              "#fdca26"
             ],
             [
              1,
              "#f0f921"
             ]
            ],
            "type": "heatmapgl"
           }
          ],
          "histogram": [
           {
            "marker": {
             "pattern": {
              "fillmode": "overlay",
              "size": 10,
              "solidity": 0.2
             }
            },
            "type": "histogram"
           }
          ],
          "histogram2d": [
           {
            "colorbar": {
             "outlinewidth": 0,
             "ticks": ""
            },
            "colorscale": [
             [
              0,
              "#0d0887"
             ],
             [
              0.1111111111111111,
              "#46039f"
             ],
             [
              0.2222222222222222,
              "#7201a8"
             ],
             [
              0.3333333333333333,
              "#9c179e"
             ],
             [
              0.4444444444444444,
              "#bd3786"
             ],
             [
              0.5555555555555556,
              "#d8576b"
             ],
             [
              0.6666666666666666,
              "#ed7953"
             ],
             [
              0.7777777777777778,
              "#fb9f3a"
             ],
             [
              0.8888888888888888,
              "#fdca26"
             ],
             [
              1,
              "#f0f921"
             ]
            ],
            "type": "histogram2d"
           }
          ],
          "histogram2dcontour": [
           {
            "colorbar": {
             "outlinewidth": 0,
             "ticks": ""
            },
            "colorscale": [
             [
              0,
              "#0d0887"
             ],
             [
              0.1111111111111111,
              "#46039f"
             ],
             [
              0.2222222222222222,
              "#7201a8"
             ],
             [
              0.3333333333333333,
              "#9c179e"
             ],
             [
              0.4444444444444444,
              "#bd3786"
             ],
             [
              0.5555555555555556,
              "#d8576b"
             ],
             [
              0.6666666666666666,
              "#ed7953"
             ],
             [
              0.7777777777777778,
              "#fb9f3a"
             ],
             [
              0.8888888888888888,
              "#fdca26"
             ],
             [
              1,
              "#f0f921"
             ]
            ],
            "type": "histogram2dcontour"
           }
          ],
          "mesh3d": [
           {
            "colorbar": {
             "outlinewidth": 0,
             "ticks": ""
            },
            "type": "mesh3d"
           }
          ],
          "parcoords": [
           {
            "line": {
             "colorbar": {
              "outlinewidth": 0,
              "ticks": ""
             }
            },
            "type": "parcoords"
           }
          ],
          "pie": [
           {
            "automargin": true,
            "type": "pie"
           }
          ],
          "scatter": [
           {
            "marker": {
             "line": {
              "color": "#283442"
             }
            },
            "type": "scatter"
           }
          ],
          "scatter3d": [
           {
            "line": {
             "colorbar": {
              "outlinewidth": 0,
              "ticks": ""
             }
            },
            "marker": {
             "colorbar": {
              "outlinewidth": 0,
              "ticks": ""
             }
            },
            "type": "scatter3d"
           }
          ],
          "scattercarpet": [
           {
            "marker": {
             "colorbar": {
              "outlinewidth": 0,
              "ticks": ""
             }
            },
            "type": "scattercarpet"
           }
          ],
          "scattergeo": [
           {
            "marker": {
             "colorbar": {
              "outlinewidth": 0,
              "ticks": ""
             }
            },
            "type": "scattergeo"
           }
          ],
          "scattergl": [
           {
            "marker": {
             "line": {
              "color": "#283442"
             }
            },
            "type": "scattergl"
           }
          ],
          "scattermapbox": [
           {
            "marker": {
             "colorbar": {
              "outlinewidth": 0,
              "ticks": ""
             }
            },
            "type": "scattermapbox"
           }
          ],
          "scatterpolar": [
           {
            "marker": {
             "colorbar": {
              "outlinewidth": 0,
              "ticks": ""
             }
            },
            "type": "scatterpolar"
           }
          ],
          "scatterpolargl": [
           {
            "marker": {
             "colorbar": {
              "outlinewidth": 0,
              "ticks": ""
             }
            },
            "type": "scatterpolargl"
           }
          ],
          "scatterternary": [
           {
            "marker": {
             "colorbar": {
              "outlinewidth": 0,
              "ticks": ""
             }
            },
            "type": "scatterternary"
           }
          ],
          "surface": [
           {
            "colorbar": {
             "outlinewidth": 0,
             "ticks": ""
            },
            "colorscale": [
             [
              0,
              "#0d0887"
             ],
             [
              0.1111111111111111,
              "#46039f"
             ],
             [
              0.2222222222222222,
              "#7201a8"
             ],
             [
              0.3333333333333333,
              "#9c179e"
             ],
             [
              0.4444444444444444,
              "#bd3786"
             ],
             [
              0.5555555555555556,
              "#d8576b"
             ],
             [
              0.6666666666666666,
              "#ed7953"
             ],
             [
              0.7777777777777778,
              "#fb9f3a"
             ],
             [
              0.8888888888888888,
              "#fdca26"
             ],
             [
              1,
              "#f0f921"
             ]
            ],
            "type": "surface"
           }
          ],
          "table": [
           {
            "cells": {
             "fill": {
              "color": "#506784"
             },
             "line": {
              "color": "rgb(17,17,17)"
             }
            },
            "header": {
             "fill": {
              "color": "#2a3f5f"
             },
             "line": {
              "color": "rgb(17,17,17)"
             }
            },
            "type": "table"
           }
          ]
         },
         "layout": {
          "annotationdefaults": {
           "arrowcolor": "#f2f5fa",
           "arrowhead": 0,
           "arrowwidth": 1
          },
          "autotypenumbers": "strict",
          "coloraxis": {
           "colorbar": {
            "outlinewidth": 0,
            "ticks": ""
           }
          },
          "colorscale": {
           "diverging": [
            [
             0,
             "#8e0152"
            ],
            [
             0.1,
             "#c51b7d"
            ],
            [
             0.2,
             "#de77ae"
            ],
            [
             0.3,
             "#f1b6da"
            ],
            [
             0.4,
             "#fde0ef"
            ],
            [
             0.5,
             "#f7f7f7"
            ],
            [
             0.6,
             "#e6f5d0"
            ],
            [
             0.7,
             "#b8e186"
            ],
            [
             0.8,
             "#7fbc41"
            ],
            [
             0.9,
             "#4d9221"
            ],
            [
             1,
             "#276419"
            ]
           ],
           "sequential": [
            [
             0,
             "#0d0887"
            ],
            [
             0.1111111111111111,
             "#46039f"
            ],
            [
             0.2222222222222222,
             "#7201a8"
            ],
            [
             0.3333333333333333,
             "#9c179e"
            ],
            [
             0.4444444444444444,
             "#bd3786"
            ],
            [
             0.5555555555555556,
             "#d8576b"
            ],
            [
             0.6666666666666666,
             "#ed7953"
            ],
            [
             0.7777777777777778,
             "#fb9f3a"
            ],
            [
             0.8888888888888888,
             "#fdca26"
            ],
            [
             1,
             "#f0f921"
            ]
           ],
           "sequentialminus": [
            [
             0,
             "#0d0887"
            ],
            [
             0.1111111111111111,
             "#46039f"
            ],
            [
             0.2222222222222222,
             "#7201a8"
            ],
            [
             0.3333333333333333,
             "#9c179e"
            ],
            [
             0.4444444444444444,
             "#bd3786"
            ],
            [
             0.5555555555555556,
             "#d8576b"
            ],
            [
             0.6666666666666666,
             "#ed7953"
            ],
            [
             0.7777777777777778,
             "#fb9f3a"
            ],
            [
             0.8888888888888888,
             "#fdca26"
            ],
            [
             1,
             "#f0f921"
            ]
           ]
          },
          "colorway": [
           "#636efa",
           "#EF553B",
           "#00cc96",
           "#ab63fa",
           "#FFA15A",
           "#19d3f3",
           "#FF6692",
           "#B6E880",
           "#FF97FF",
           "#FECB52"
          ],
          "font": {
           "color": "#f2f5fa"
          },
          "geo": {
           "bgcolor": "rgb(17,17,17)",
           "lakecolor": "rgb(17,17,17)",
           "landcolor": "rgb(17,17,17)",
           "showlakes": true,
           "showland": true,
           "subunitcolor": "#506784"
          },
          "hoverlabel": {
           "align": "left"
          },
          "hovermode": "closest",
          "mapbox": {
           "style": "dark"
          },
          "paper_bgcolor": "rgb(17,17,17)",
          "plot_bgcolor": "rgb(17,17,17)",
          "polar": {
           "angularaxis": {
            "gridcolor": "#506784",
            "linecolor": "#506784",
            "ticks": ""
           },
           "bgcolor": "rgb(17,17,17)",
           "radialaxis": {
            "gridcolor": "#506784",
            "linecolor": "#506784",
            "ticks": ""
           }
          },
          "scene": {
           "xaxis": {
            "backgroundcolor": "rgb(17,17,17)",
            "gridcolor": "#506784",
            "gridwidth": 2,
            "linecolor": "#506784",
            "showbackground": true,
            "ticks": "",
            "zerolinecolor": "#C8D4E3"
           },
           "yaxis": {
            "backgroundcolor": "rgb(17,17,17)",
            "gridcolor": "#506784",
            "gridwidth": 2,
            "linecolor": "#506784",
            "showbackground": true,
            "ticks": "",
            "zerolinecolor": "#C8D4E3"
           },
           "zaxis": {
            "backgroundcolor": "rgb(17,17,17)",
            "gridcolor": "#506784",
            "gridwidth": 2,
            "linecolor": "#506784",
            "showbackground": true,
            "ticks": "",
            "zerolinecolor": "#C8D4E3"
           }
          },
          "shapedefaults": {
           "line": {
            "color": "#f2f5fa"
           }
          },
          "sliderdefaults": {
           "bgcolor": "#C8D4E3",
           "bordercolor": "rgb(17,17,17)",
           "borderwidth": 1,
           "tickwidth": 0
          },
          "ternary": {
           "aaxis": {
            "gridcolor": "#506784",
            "linecolor": "#506784",
            "ticks": ""
           },
           "baxis": {
            "gridcolor": "#506784",
            "linecolor": "#506784",
            "ticks": ""
           },
           "bgcolor": "rgb(17,17,17)",
           "caxis": {
            "gridcolor": "#506784",
            "linecolor": "#506784",
            "ticks": ""
           }
          },
          "title": {
           "x": 0.05
          },
          "updatemenudefaults": {
           "bgcolor": "#506784",
           "borderwidth": 0
          },
          "xaxis": {
           "automargin": true,
           "gridcolor": "#283442",
           "linecolor": "#506784",
           "ticks": "",
           "title": {
            "standoff": 15
           },
           "zerolinecolor": "#283442",
           "zerolinewidth": 2
          },
          "yaxis": {
           "automargin": true,
           "gridcolor": "#283442",
           "linecolor": "#506784",
           "ticks": "",
           "title": {
            "standoff": 15
           },
           "zerolinecolor": "#283442",
           "zerolinewidth": 2
          }
         }
        },
        "title": {
         "text": "Cantidad de trabajadores en remoto por país"
        },
        "xaxis": {
         "anchor": "y",
         "domain": [
          0,
          1
         ],
         "tickangle": 90,
         "title": {
          "text": "employee_residence"
         }
        },
        "yaxis": {
         "anchor": "x",
         "domain": [
          0,
          1
         ],
         "title": {
          "text": "remote_ratio"
         }
        }
       }
      }
     },
     "metadata": {},
     "output_type": "display_data"
    }
   ],
   "source": [
    "remote_worker = df.groupby('employee_residence')['remote_ratio'].sum().reset_index()\n",
    "\n",
    "fig = px.bar(remote_worker.sort_values('remote_ratio', ascending=False), x='employee_residence', y='remote_ratio',\n",
    "             title='Cantidad de trabajadores en remoto por país', template='plotly_dark')\n",
    "fig.update_xaxes(tickangle=90)\n",
    "fig.show()"
   ]
  },
  {
   "attachments": {},
   "cell_type": "markdown",
   "metadata": {},
   "source": [
    "¿Cómo ha cambiado la proporción de trabajo remoto con el paso del tiempo?"
   ]
  },
  {
   "cell_type": "code",
   "execution_count": 13,
   "metadata": {},
   "outputs": [
    {
     "data": {
      "application/vnd.plotly.v1+json": {
       "config": {
        "plotlyServerURL": "https://plot.ly"
       },
       "data": [
        {
         "hovertemplate": "work_year=%{x}<br>remote_ratio=%{y}<extra></extra>",
         "legendgroup": "",
         "line": {
          "color": "green",
          "dash": "solid"
         },
         "marker": {
          "symbol": "circle"
         },
         "mode": "lines",
         "name": "",
         "orientation": "v",
         "showlegend": false,
         "type": "scatter",
         "x": [
          2020,
          2021,
          2022,
          2023
         ],
         "xaxis": "x",
         "y": [
          65.13157894736842,
          68.69565217391305,
          55.40865384615385,
          34.061624649859944
         ],
         "yaxis": "y"
        }
       ],
       "layout": {
        "legend": {
         "tracegroupgap": 0
        },
        "template": {
         "data": {
          "bar": [
           {
            "error_x": {
             "color": "#f2f5fa"
            },
            "error_y": {
             "color": "#f2f5fa"
            },
            "marker": {
             "line": {
              "color": "rgb(17,17,17)",
              "width": 0.5
             },
             "pattern": {
              "fillmode": "overlay",
              "size": 10,
              "solidity": 0.2
             }
            },
            "type": "bar"
           }
          ],
          "barpolar": [
           {
            "marker": {
             "line": {
              "color": "rgb(17,17,17)",
              "width": 0.5
             },
             "pattern": {
              "fillmode": "overlay",
              "size": 10,
              "solidity": 0.2
             }
            },
            "type": "barpolar"
           }
          ],
          "carpet": [
           {
            "aaxis": {
             "endlinecolor": "#A2B1C6",
             "gridcolor": "#506784",
             "linecolor": "#506784",
             "minorgridcolor": "#506784",
             "startlinecolor": "#A2B1C6"
            },
            "baxis": {
             "endlinecolor": "#A2B1C6",
             "gridcolor": "#506784",
             "linecolor": "#506784",
             "minorgridcolor": "#506784",
             "startlinecolor": "#A2B1C6"
            },
            "type": "carpet"
           }
          ],
          "choropleth": [
           {
            "colorbar": {
             "outlinewidth": 0,
             "ticks": ""
            },
            "type": "choropleth"
           }
          ],
          "contour": [
           {
            "colorbar": {
             "outlinewidth": 0,
             "ticks": ""
            },
            "colorscale": [
             [
              0,
              "#0d0887"
             ],
             [
              0.1111111111111111,
              "#46039f"
             ],
             [
              0.2222222222222222,
              "#7201a8"
             ],
             [
              0.3333333333333333,
              "#9c179e"
             ],
             [
              0.4444444444444444,
              "#bd3786"
             ],
             [
              0.5555555555555556,
              "#d8576b"
             ],
             [
              0.6666666666666666,
              "#ed7953"
             ],
             [
              0.7777777777777778,
              "#fb9f3a"
             ],
             [
              0.8888888888888888,
              "#fdca26"
             ],
             [
              1,
              "#f0f921"
             ]
            ],
            "type": "contour"
           }
          ],
          "contourcarpet": [
           {
            "colorbar": {
             "outlinewidth": 0,
             "ticks": ""
            },
            "type": "contourcarpet"
           }
          ],
          "heatmap": [
           {
            "colorbar": {
             "outlinewidth": 0,
             "ticks": ""
            },
            "colorscale": [
             [
              0,
              "#0d0887"
             ],
             [
              0.1111111111111111,
              "#46039f"
             ],
             [
              0.2222222222222222,
              "#7201a8"
             ],
             [
              0.3333333333333333,
              "#9c179e"
             ],
             [
              0.4444444444444444,
              "#bd3786"
             ],
             [
              0.5555555555555556,
              "#d8576b"
             ],
             [
              0.6666666666666666,
              "#ed7953"
             ],
             [
              0.7777777777777778,
              "#fb9f3a"
             ],
             [
              0.8888888888888888,
              "#fdca26"
             ],
             [
              1,
              "#f0f921"
             ]
            ],
            "type": "heatmap"
           }
          ],
          "heatmapgl": [
           {
            "colorbar": {
             "outlinewidth": 0,
             "ticks": ""
            },
            "colorscale": [
             [
              0,
              "#0d0887"
             ],
             [
              0.1111111111111111,
              "#46039f"
             ],
             [
              0.2222222222222222,
              "#7201a8"
             ],
             [
              0.3333333333333333,
              "#9c179e"
             ],
             [
              0.4444444444444444,
              "#bd3786"
             ],
             [
              0.5555555555555556,
              "#d8576b"
             ],
             [
              0.6666666666666666,
              "#ed7953"
             ],
             [
              0.7777777777777778,
              "#fb9f3a"
             ],
             [
              0.8888888888888888,
              "#fdca26"
             ],
             [
              1,
              "#f0f921"
             ]
            ],
            "type": "heatmapgl"
           }
          ],
          "histogram": [
           {
            "marker": {
             "pattern": {
              "fillmode": "overlay",
              "size": 10,
              "solidity": 0.2
             }
            },
            "type": "histogram"
           }
          ],
          "histogram2d": [
           {
            "colorbar": {
             "outlinewidth": 0,
             "ticks": ""
            },
            "colorscale": [
             [
              0,
              "#0d0887"
             ],
             [
              0.1111111111111111,
              "#46039f"
             ],
             [
              0.2222222222222222,
              "#7201a8"
             ],
             [
              0.3333333333333333,
              "#9c179e"
             ],
             [
              0.4444444444444444,
              "#bd3786"
             ],
             [
              0.5555555555555556,
              "#d8576b"
             ],
             [
              0.6666666666666666,
              "#ed7953"
             ],
             [
              0.7777777777777778,
              "#fb9f3a"
             ],
             [
              0.8888888888888888,
              "#fdca26"
             ],
             [
              1,
              "#f0f921"
             ]
            ],
            "type": "histogram2d"
           }
          ],
          "histogram2dcontour": [
           {
            "colorbar": {
             "outlinewidth": 0,
             "ticks": ""
            },
            "colorscale": [
             [
              0,
              "#0d0887"
             ],
             [
              0.1111111111111111,
              "#46039f"
             ],
             [
              0.2222222222222222,
              "#7201a8"
             ],
             [
              0.3333333333333333,
              "#9c179e"
             ],
             [
              0.4444444444444444,
              "#bd3786"
             ],
             [
              0.5555555555555556,
              "#d8576b"
             ],
             [
              0.6666666666666666,
              "#ed7953"
             ],
             [
              0.7777777777777778,
              "#fb9f3a"
             ],
             [
              0.8888888888888888,
              "#fdca26"
             ],
             [
              1,
              "#f0f921"
             ]
            ],
            "type": "histogram2dcontour"
           }
          ],
          "mesh3d": [
           {
            "colorbar": {
             "outlinewidth": 0,
             "ticks": ""
            },
            "type": "mesh3d"
           }
          ],
          "parcoords": [
           {
            "line": {
             "colorbar": {
              "outlinewidth": 0,
              "ticks": ""
             }
            },
            "type": "parcoords"
           }
          ],
          "pie": [
           {
            "automargin": true,
            "type": "pie"
           }
          ],
          "scatter": [
           {
            "marker": {
             "line": {
              "color": "#283442"
             }
            },
            "type": "scatter"
           }
          ],
          "scatter3d": [
           {
            "line": {
             "colorbar": {
              "outlinewidth": 0,
              "ticks": ""
             }
            },
            "marker": {
             "colorbar": {
              "outlinewidth": 0,
              "ticks": ""
             }
            },
            "type": "scatter3d"
           }
          ],
          "scattercarpet": [
           {
            "marker": {
             "colorbar": {
              "outlinewidth": 0,
              "ticks": ""
             }
            },
            "type": "scattercarpet"
           }
          ],
          "scattergeo": [
           {
            "marker": {
             "colorbar": {
              "outlinewidth": 0,
              "ticks": ""
             }
            },
            "type": "scattergeo"
           }
          ],
          "scattergl": [
           {
            "marker": {
             "line": {
              "color": "#283442"
             }
            },
            "type": "scattergl"
           }
          ],
          "scattermapbox": [
           {
            "marker": {
             "colorbar": {
              "outlinewidth": 0,
              "ticks": ""
             }
            },
            "type": "scattermapbox"
           }
          ],
          "scatterpolar": [
           {
            "marker": {
             "colorbar": {
              "outlinewidth": 0,
              "ticks": ""
             }
            },
            "type": "scatterpolar"
           }
          ],
          "scatterpolargl": [
           {
            "marker": {
             "colorbar": {
              "outlinewidth": 0,
              "ticks": ""
             }
            },
            "type": "scatterpolargl"
           }
          ],
          "scatterternary": [
           {
            "marker": {
             "colorbar": {
              "outlinewidth": 0,
              "ticks": ""
             }
            },
            "type": "scatterternary"
           }
          ],
          "surface": [
           {
            "colorbar": {
             "outlinewidth": 0,
             "ticks": ""
            },
            "colorscale": [
             [
              0,
              "#0d0887"
             ],
             [
              0.1111111111111111,
              "#46039f"
             ],
             [
              0.2222222222222222,
              "#7201a8"
             ],
             [
              0.3333333333333333,
              "#9c179e"
             ],
             [
              0.4444444444444444,
              "#bd3786"
             ],
             [
              0.5555555555555556,
              "#d8576b"
             ],
             [
              0.6666666666666666,
              "#ed7953"
             ],
             [
              0.7777777777777778,
              "#fb9f3a"
             ],
             [
              0.8888888888888888,
              "#fdca26"
             ],
             [
              1,
              "#f0f921"
             ]
            ],
            "type": "surface"
           }
          ],
          "table": [
           {
            "cells": {
             "fill": {
              "color": "#506784"
             },
             "line": {
              "color": "rgb(17,17,17)"
             }
            },
            "header": {
             "fill": {
              "color": "#2a3f5f"
             },
             "line": {
              "color": "rgb(17,17,17)"
             }
            },
            "type": "table"
           }
          ]
         },
         "layout": {
          "annotationdefaults": {
           "arrowcolor": "#f2f5fa",
           "arrowhead": 0,
           "arrowwidth": 1
          },
          "autotypenumbers": "strict",
          "coloraxis": {
           "colorbar": {
            "outlinewidth": 0,
            "ticks": ""
           }
          },
          "colorscale": {
           "diverging": [
            [
             0,
             "#8e0152"
            ],
            [
             0.1,
             "#c51b7d"
            ],
            [
             0.2,
             "#de77ae"
            ],
            [
             0.3,
             "#f1b6da"
            ],
            [
             0.4,
             "#fde0ef"
            ],
            [
             0.5,
             "#f7f7f7"
            ],
            [
             0.6,
             "#e6f5d0"
            ],
            [
             0.7,
             "#b8e186"
            ],
            [
             0.8,
             "#7fbc41"
            ],
            [
             0.9,
             "#4d9221"
            ],
            [
             1,
             "#276419"
            ]
           ],
           "sequential": [
            [
             0,
             "#0d0887"
            ],
            [
             0.1111111111111111,
             "#46039f"
            ],
            [
             0.2222222222222222,
             "#7201a8"
            ],
            [
             0.3333333333333333,
             "#9c179e"
            ],
            [
             0.4444444444444444,
             "#bd3786"
            ],
            [
             0.5555555555555556,
             "#d8576b"
            ],
            [
             0.6666666666666666,
             "#ed7953"
            ],
            [
             0.7777777777777778,
             "#fb9f3a"
            ],
            [
             0.8888888888888888,
             "#fdca26"
            ],
            [
             1,
             "#f0f921"
            ]
           ],
           "sequentialminus": [
            [
             0,
             "#0d0887"
            ],
            [
             0.1111111111111111,
             "#46039f"
            ],
            [
             0.2222222222222222,
             "#7201a8"
            ],
            [
             0.3333333333333333,
             "#9c179e"
            ],
            [
             0.4444444444444444,
             "#bd3786"
            ],
            [
             0.5555555555555556,
             "#d8576b"
            ],
            [
             0.6666666666666666,
             "#ed7953"
            ],
            [
             0.7777777777777778,
             "#fb9f3a"
            ],
            [
             0.8888888888888888,
             "#fdca26"
            ],
            [
             1,
             "#f0f921"
            ]
           ]
          },
          "colorway": [
           "#636efa",
           "#EF553B",
           "#00cc96",
           "#ab63fa",
           "#FFA15A",
           "#19d3f3",
           "#FF6692",
           "#B6E880",
           "#FF97FF",
           "#FECB52"
          ],
          "font": {
           "color": "#f2f5fa"
          },
          "geo": {
           "bgcolor": "rgb(17,17,17)",
           "lakecolor": "rgb(17,17,17)",
           "landcolor": "rgb(17,17,17)",
           "showlakes": true,
           "showland": true,
           "subunitcolor": "#506784"
          },
          "hoverlabel": {
           "align": "left"
          },
          "hovermode": "closest",
          "mapbox": {
           "style": "dark"
          },
          "paper_bgcolor": "rgb(17,17,17)",
          "plot_bgcolor": "rgb(17,17,17)",
          "polar": {
           "angularaxis": {
            "gridcolor": "#506784",
            "linecolor": "#506784",
            "ticks": ""
           },
           "bgcolor": "rgb(17,17,17)",
           "radialaxis": {
            "gridcolor": "#506784",
            "linecolor": "#506784",
            "ticks": ""
           }
          },
          "scene": {
           "xaxis": {
            "backgroundcolor": "rgb(17,17,17)",
            "gridcolor": "#506784",
            "gridwidth": 2,
            "linecolor": "#506784",
            "showbackground": true,
            "ticks": "",
            "zerolinecolor": "#C8D4E3"
           },
           "yaxis": {
            "backgroundcolor": "rgb(17,17,17)",
            "gridcolor": "#506784",
            "gridwidth": 2,
            "linecolor": "#506784",
            "showbackground": true,
            "ticks": "",
            "zerolinecolor": "#C8D4E3"
           },
           "zaxis": {
            "backgroundcolor": "rgb(17,17,17)",
            "gridcolor": "#506784",
            "gridwidth": 2,
            "linecolor": "#506784",
            "showbackground": true,
            "ticks": "",
            "zerolinecolor": "#C8D4E3"
           }
          },
          "shapedefaults": {
           "line": {
            "color": "#f2f5fa"
           }
          },
          "sliderdefaults": {
           "bgcolor": "#C8D4E3",
           "bordercolor": "rgb(17,17,17)",
           "borderwidth": 1,
           "tickwidth": 0
          },
          "ternary": {
           "aaxis": {
            "gridcolor": "#506784",
            "linecolor": "#506784",
            "ticks": ""
           },
           "baxis": {
            "gridcolor": "#506784",
            "linecolor": "#506784",
            "ticks": ""
           },
           "bgcolor": "rgb(17,17,17)",
           "caxis": {
            "gridcolor": "#506784",
            "linecolor": "#506784",
            "ticks": ""
           }
          },
          "title": {
           "x": 0.05
          },
          "updatemenudefaults": {
           "bgcolor": "#506784",
           "borderwidth": 0
          },
          "xaxis": {
           "automargin": true,
           "gridcolor": "#283442",
           "linecolor": "#506784",
           "ticks": "",
           "title": {
            "standoff": 15
           },
           "zerolinecolor": "#283442",
           "zerolinewidth": 2
          },
          "yaxis": {
           "automargin": true,
           "gridcolor": "#283442",
           "linecolor": "#506784",
           "ticks": "",
           "title": {
            "standoff": 15
           },
           "zerolinecolor": "#283442",
           "zerolinewidth": 2
          }
         }
        },
        "title": {
         "text": "Empleados remotos con el paso del tiempo"
        },
        "xaxis": {
         "anchor": "y",
         "domain": [
          0,
          1
         ],
         "title": {
          "text": "work_year"
         }
        },
        "yaxis": {
         "anchor": "x",
         "domain": [
          0,
          1
         ],
         "title": {
          "text": "remote_ratio"
         }
        }
       }
      }
     },
     "metadata": {},
     "output_type": "display_data"
    }
   ],
   "source": [
    "remote_overtime = df.groupby('work_year')['remote_ratio'].mean().reset_index()\n",
    "fig = px.line(remote_overtime, x='work_year', y='remote_ratio', title='Empleados remotos con el paso del tiempo',\n",
    "              template='plotly_dark', color_discrete_sequence=['green'])\n",
    "fig.show()"
   ]
  },
  {
   "attachments": {},
   "cell_type": "markdown",
   "metadata": {},
   "source": [
    "¿Cuál es el país con los salarios promedio más altos en USD?"
   ]
  },
  {
   "cell_type": "code",
   "execution_count": 14,
   "metadata": {},
   "outputs": [
    {
     "data": {
      "application/vnd.plotly.v1+json": {
       "config": {
        "plotlyServerURL": "https://plot.ly"
       },
       "data": [
        {
         "alignmentgroup": "True",
         "hovertemplate": "employee_residence=%{x}<br>salary_in_usd=%{y}<extra></extra>",
         "legendgroup": "",
         "marker": {
          "color": "green",
          "pattern": {
           "shape": ""
          }
         },
         "name": "",
         "offsetgroup": "",
         "orientation": "v",
         "showlegend": false,
         "textposition": "auto",
         "type": "bar",
         "x": [
          "IL",
          "MY",
          "PR",
          "US",
          "CA",
          "CN",
          "NZ",
          "BA",
          "IE",
          "DO",
          "RU",
          "SE",
          "JP",
          "UZ",
          "CH",
          "IQ",
          "IR",
          "JE",
          "DZ",
          "AE",
          "LT",
          "DE",
          "MX",
          "GB",
          "SG",
          "BG",
          "AU",
          "NL",
          "HR",
          "CL",
          "BE",
          "AT",
          "FI",
          "HK",
          "NG",
          "CO",
          "CY",
          "SI",
          "FR",
          "ES",
          "LU",
          "LV",
          "UA",
          "GR",
          "PT",
          "BO",
          "RO",
          "IT",
          "AM",
          "KW",
          "BR",
          "CF",
          "PH",
          "PL",
          "KE",
          "CZ",
          "IN",
          "AR",
          "VN",
          "AS",
          "EE",
          "DK",
          "TN",
          "PK",
          "HU",
          "MT",
          "RS",
          "TH",
          "EG",
          "HN",
          "CR",
          "TR",
          "GH",
          "MD",
          "ID",
          "SK",
          "MA",
          "MK"
         ],
         "xaxis": "x",
         "y": [
          423834,
          200000,
          166000,
          152822.01165113182,
          132222.90588235293,
          125404,
          125000,
          120000,
          114943.42857142857,
          110000,
          105750,
          105000,
          103537.71428571429,
          103000,
          100682,
          100000,
          100000,
          100000,
          100000,
          100000,
          94812,
          94772.25,
          92351.1,
          86988.32335329341,
          83120,
          80000,
          77980.54545454546,
          77483.46666666666,
          75967.66666666667,
          72519,
          71491.8,
          71125.83333333333,
          69030,
          65542,
          65000,
          64961,
          63312,
          62766.75,
          61492.5,
          60463.35,
          59102,
          57946.5,
          57850,
          55136.0625,
          53059,
          52500,
          52164,
          50816.25,
          50000,
          50000,
          48927.11111111111,
          48609,
          47880,
          47478.833333333336,
          44636,
          37565.5,
          36218.45070422535,
          35500,
          33466.666666666664,
          32777.5,
          31520,
          31192.666666666668,
          30469,
          30277.125,
          29892.666666666668,
          28369,
          25532,
          23064.333333333332,
          22800,
          20000,
          20000,
          19058,
          18500,
          18000,
          15000,
          12608,
          10000,
          6304
         ],
         "yaxis": "y"
        }
       ],
       "layout": {
        "barmode": "relative",
        "legend": {
         "tracegroupgap": 0
        },
        "template": {
         "data": {
          "bar": [
           {
            "error_x": {
             "color": "#f2f5fa"
            },
            "error_y": {
             "color": "#f2f5fa"
            },
            "marker": {
             "line": {
              "color": "rgb(17,17,17)",
              "width": 0.5
             },
             "pattern": {
              "fillmode": "overlay",
              "size": 10,
              "solidity": 0.2
             }
            },
            "type": "bar"
           }
          ],
          "barpolar": [
           {
            "marker": {
             "line": {
              "color": "rgb(17,17,17)",
              "width": 0.5
             },
             "pattern": {
              "fillmode": "overlay",
              "size": 10,
              "solidity": 0.2
             }
            },
            "type": "barpolar"
           }
          ],
          "carpet": [
           {
            "aaxis": {
             "endlinecolor": "#A2B1C6",
             "gridcolor": "#506784",
             "linecolor": "#506784",
             "minorgridcolor": "#506784",
             "startlinecolor": "#A2B1C6"
            },
            "baxis": {
             "endlinecolor": "#A2B1C6",
             "gridcolor": "#506784",
             "linecolor": "#506784",
             "minorgridcolor": "#506784",
             "startlinecolor": "#A2B1C6"
            },
            "type": "carpet"
           }
          ],
          "choropleth": [
           {
            "colorbar": {
             "outlinewidth": 0,
             "ticks": ""
            },
            "type": "choropleth"
           }
          ],
          "contour": [
           {
            "colorbar": {
             "outlinewidth": 0,
             "ticks": ""
            },
            "colorscale": [
             [
              0,
              "#0d0887"
             ],
             [
              0.1111111111111111,
              "#46039f"
             ],
             [
              0.2222222222222222,
              "#7201a8"
             ],
             [
              0.3333333333333333,
              "#9c179e"
             ],
             [
              0.4444444444444444,
              "#bd3786"
             ],
             [
              0.5555555555555556,
              "#d8576b"
             ],
             [
              0.6666666666666666,
              "#ed7953"
             ],
             [
              0.7777777777777778,
              "#fb9f3a"
             ],
             [
              0.8888888888888888,
              "#fdca26"
             ],
             [
              1,
              "#f0f921"
             ]
            ],
            "type": "contour"
           }
          ],
          "contourcarpet": [
           {
            "colorbar": {
             "outlinewidth": 0,
             "ticks": ""
            },
            "type": "contourcarpet"
           }
          ],
          "heatmap": [
           {
            "colorbar": {
             "outlinewidth": 0,
             "ticks": ""
            },
            "colorscale": [
             [
              0,
              "#0d0887"
             ],
             [
              0.1111111111111111,
              "#46039f"
             ],
             [
              0.2222222222222222,
              "#7201a8"
             ],
             [
              0.3333333333333333,
              "#9c179e"
             ],
             [
              0.4444444444444444,
              "#bd3786"
             ],
             [
              0.5555555555555556,
              "#d8576b"
             ],
             [
              0.6666666666666666,
              "#ed7953"
             ],
             [
              0.7777777777777778,
              "#fb9f3a"
             ],
             [
              0.8888888888888888,
              "#fdca26"
             ],
             [
              1,
              "#f0f921"
             ]
            ],
            "type": "heatmap"
           }
          ],
          "heatmapgl": [
           {
            "colorbar": {
             "outlinewidth": 0,
             "ticks": ""
            },
            "colorscale": [
             [
              0,
              "#0d0887"
             ],
             [
              0.1111111111111111,
              "#46039f"
             ],
             [
              0.2222222222222222,
              "#7201a8"
             ],
             [
              0.3333333333333333,
              "#9c179e"
             ],
             [
              0.4444444444444444,
              "#bd3786"
             ],
             [
              0.5555555555555556,
              "#d8576b"
             ],
             [
              0.6666666666666666,
              "#ed7953"
             ],
             [
              0.7777777777777778,
              "#fb9f3a"
             ],
             [
              0.8888888888888888,
              "#fdca26"
             ],
             [
              1,
              "#f0f921"
             ]
            ],
            "type": "heatmapgl"
           }
          ],
          "histogram": [
           {
            "marker": {
             "pattern": {
              "fillmode": "overlay",
              "size": 10,
              "solidity": 0.2
             }
            },
            "type": "histogram"
           }
          ],
          "histogram2d": [
           {
            "colorbar": {
             "outlinewidth": 0,
             "ticks": ""
            },
            "colorscale": [
             [
              0,
              "#0d0887"
             ],
             [
              0.1111111111111111,
              "#46039f"
             ],
             [
              0.2222222222222222,
              "#7201a8"
             ],
             [
              0.3333333333333333,
              "#9c179e"
             ],
             [
              0.4444444444444444,
              "#bd3786"
             ],
             [
              0.5555555555555556,
              "#d8576b"
             ],
             [
              0.6666666666666666,
              "#ed7953"
             ],
             [
              0.7777777777777778,
              "#fb9f3a"
             ],
             [
              0.8888888888888888,
              "#fdca26"
             ],
             [
              1,
              "#f0f921"
             ]
            ],
            "type": "histogram2d"
           }
          ],
          "histogram2dcontour": [
           {
            "colorbar": {
             "outlinewidth": 0,
             "ticks": ""
            },
            "colorscale": [
             [
              0,
              "#0d0887"
             ],
             [
              0.1111111111111111,
              "#46039f"
             ],
             [
              0.2222222222222222,
              "#7201a8"
             ],
             [
              0.3333333333333333,
              "#9c179e"
             ],
             [
              0.4444444444444444,
              "#bd3786"
             ],
             [
              0.5555555555555556,
              "#d8576b"
             ],
             [
              0.6666666666666666,
              "#ed7953"
             ],
             [
              0.7777777777777778,
              "#fb9f3a"
             ],
             [
              0.8888888888888888,
              "#fdca26"
             ],
             [
              1,
              "#f0f921"
             ]
            ],
            "type": "histogram2dcontour"
           }
          ],
          "mesh3d": [
           {
            "colorbar": {
             "outlinewidth": 0,
             "ticks": ""
            },
            "type": "mesh3d"
           }
          ],
          "parcoords": [
           {
            "line": {
             "colorbar": {
              "outlinewidth": 0,
              "ticks": ""
             }
            },
            "type": "parcoords"
           }
          ],
          "pie": [
           {
            "automargin": true,
            "type": "pie"
           }
          ],
          "scatter": [
           {
            "marker": {
             "line": {
              "color": "#283442"
             }
            },
            "type": "scatter"
           }
          ],
          "scatter3d": [
           {
            "line": {
             "colorbar": {
              "outlinewidth": 0,
              "ticks": ""
             }
            },
            "marker": {
             "colorbar": {
              "outlinewidth": 0,
              "ticks": ""
             }
            },
            "type": "scatter3d"
           }
          ],
          "scattercarpet": [
           {
            "marker": {
             "colorbar": {
              "outlinewidth": 0,
              "ticks": ""
             }
            },
            "type": "scattercarpet"
           }
          ],
          "scattergeo": [
           {
            "marker": {
             "colorbar": {
              "outlinewidth": 0,
              "ticks": ""
             }
            },
            "type": "scattergeo"
           }
          ],
          "scattergl": [
           {
            "marker": {
             "line": {
              "color": "#283442"
             }
            },
            "type": "scattergl"
           }
          ],
          "scattermapbox": [
           {
            "marker": {
             "colorbar": {
              "outlinewidth": 0,
              "ticks": ""
             }
            },
            "type": "scattermapbox"
           }
          ],
          "scatterpolar": [
           {
            "marker": {
             "colorbar": {
              "outlinewidth": 0,
              "ticks": ""
             }
            },
            "type": "scatterpolar"
           }
          ],
          "scatterpolargl": [
           {
            "marker": {
             "colorbar": {
              "outlinewidth": 0,
              "ticks": ""
             }
            },
            "type": "scatterpolargl"
           }
          ],
          "scatterternary": [
           {
            "marker": {
             "colorbar": {
              "outlinewidth": 0,
              "ticks": ""
             }
            },
            "type": "scatterternary"
           }
          ],
          "surface": [
           {
            "colorbar": {
             "outlinewidth": 0,
             "ticks": ""
            },
            "colorscale": [
             [
              0,
              "#0d0887"
             ],
             [
              0.1111111111111111,
              "#46039f"
             ],
             [
              0.2222222222222222,
              "#7201a8"
             ],
             [
              0.3333333333333333,
              "#9c179e"
             ],
             [
              0.4444444444444444,
              "#bd3786"
             ],
             [
              0.5555555555555556,
              "#d8576b"
             ],
             [
              0.6666666666666666,
              "#ed7953"
             ],
             [
              0.7777777777777778,
              "#fb9f3a"
             ],
             [
              0.8888888888888888,
              "#fdca26"
             ],
             [
              1,
              "#f0f921"
             ]
            ],
            "type": "surface"
           }
          ],
          "table": [
           {
            "cells": {
             "fill": {
              "color": "#506784"
             },
             "line": {
              "color": "rgb(17,17,17)"
             }
            },
            "header": {
             "fill": {
              "color": "#2a3f5f"
             },
             "line": {
              "color": "rgb(17,17,17)"
             }
            },
            "type": "table"
           }
          ]
         },
         "layout": {
          "annotationdefaults": {
           "arrowcolor": "#f2f5fa",
           "arrowhead": 0,
           "arrowwidth": 1
          },
          "autotypenumbers": "strict",
          "coloraxis": {
           "colorbar": {
            "outlinewidth": 0,
            "ticks": ""
           }
          },
          "colorscale": {
           "diverging": [
            [
             0,
             "#8e0152"
            ],
            [
             0.1,
             "#c51b7d"
            ],
            [
             0.2,
             "#de77ae"
            ],
            [
             0.3,
             "#f1b6da"
            ],
            [
             0.4,
             "#fde0ef"
            ],
            [
             0.5,
             "#f7f7f7"
            ],
            [
             0.6,
             "#e6f5d0"
            ],
            [
             0.7,
             "#b8e186"
            ],
            [
             0.8,
             "#7fbc41"
            ],
            [
             0.9,
             "#4d9221"
            ],
            [
             1,
             "#276419"
            ]
           ],
           "sequential": [
            [
             0,
             "#0d0887"
            ],
            [
             0.1111111111111111,
             "#46039f"
            ],
            [
             0.2222222222222222,
             "#7201a8"
            ],
            [
             0.3333333333333333,
             "#9c179e"
            ],
            [
             0.4444444444444444,
             "#bd3786"
            ],
            [
             0.5555555555555556,
             "#d8576b"
            ],
            [
             0.6666666666666666,
             "#ed7953"
            ],
            [
             0.7777777777777778,
             "#fb9f3a"
            ],
            [
             0.8888888888888888,
             "#fdca26"
            ],
            [
             1,
             "#f0f921"
            ]
           ],
           "sequentialminus": [
            [
             0,
             "#0d0887"
            ],
            [
             0.1111111111111111,
             "#46039f"
            ],
            [
             0.2222222222222222,
             "#7201a8"
            ],
            [
             0.3333333333333333,
             "#9c179e"
            ],
            [
             0.4444444444444444,
             "#bd3786"
            ],
            [
             0.5555555555555556,
             "#d8576b"
            ],
            [
             0.6666666666666666,
             "#ed7953"
            ],
            [
             0.7777777777777778,
             "#fb9f3a"
            ],
            [
             0.8888888888888888,
             "#fdca26"
            ],
            [
             1,
             "#f0f921"
            ]
           ]
          },
          "colorway": [
           "#636efa",
           "#EF553B",
           "#00cc96",
           "#ab63fa",
           "#FFA15A",
           "#19d3f3",
           "#FF6692",
           "#B6E880",
           "#FF97FF",
           "#FECB52"
          ],
          "font": {
           "color": "#f2f5fa"
          },
          "geo": {
           "bgcolor": "rgb(17,17,17)",
           "lakecolor": "rgb(17,17,17)",
           "landcolor": "rgb(17,17,17)",
           "showlakes": true,
           "showland": true,
           "subunitcolor": "#506784"
          },
          "hoverlabel": {
           "align": "left"
          },
          "hovermode": "closest",
          "mapbox": {
           "style": "dark"
          },
          "paper_bgcolor": "rgb(17,17,17)",
          "plot_bgcolor": "rgb(17,17,17)",
          "polar": {
           "angularaxis": {
            "gridcolor": "#506784",
            "linecolor": "#506784",
            "ticks": ""
           },
           "bgcolor": "rgb(17,17,17)",
           "radialaxis": {
            "gridcolor": "#506784",
            "linecolor": "#506784",
            "ticks": ""
           }
          },
          "scene": {
           "xaxis": {
            "backgroundcolor": "rgb(17,17,17)",
            "gridcolor": "#506784",
            "gridwidth": 2,
            "linecolor": "#506784",
            "showbackground": true,
            "ticks": "",
            "zerolinecolor": "#C8D4E3"
           },
           "yaxis": {
            "backgroundcolor": "rgb(17,17,17)",
            "gridcolor": "#506784",
            "gridwidth": 2,
            "linecolor": "#506784",
            "showbackground": true,
            "ticks": "",
            "zerolinecolor": "#C8D4E3"
           },
           "zaxis": {
            "backgroundcolor": "rgb(17,17,17)",
            "gridcolor": "#506784",
            "gridwidth": 2,
            "linecolor": "#506784",
            "showbackground": true,
            "ticks": "",
            "zerolinecolor": "#C8D4E3"
           }
          },
          "shapedefaults": {
           "line": {
            "color": "#f2f5fa"
           }
          },
          "sliderdefaults": {
           "bgcolor": "#C8D4E3",
           "bordercolor": "rgb(17,17,17)",
           "borderwidth": 1,
           "tickwidth": 0
          },
          "ternary": {
           "aaxis": {
            "gridcolor": "#506784",
            "linecolor": "#506784",
            "ticks": ""
           },
           "baxis": {
            "gridcolor": "#506784",
            "linecolor": "#506784",
            "ticks": ""
           },
           "bgcolor": "rgb(17,17,17)",
           "caxis": {
            "gridcolor": "#506784",
            "linecolor": "#506784",
            "ticks": ""
           }
          },
          "title": {
           "x": 0.05
          },
          "updatemenudefaults": {
           "bgcolor": "#506784",
           "borderwidth": 0
          },
          "xaxis": {
           "automargin": true,
           "gridcolor": "#283442",
           "linecolor": "#506784",
           "ticks": "",
           "title": {
            "standoff": 15
           },
           "zerolinecolor": "#283442",
           "zerolinewidth": 2
          },
          "yaxis": {
           "automargin": true,
           "gridcolor": "#283442",
           "linecolor": "#506784",
           "ticks": "",
           "title": {
            "standoff": 15
           },
           "zerolinecolor": "#283442",
           "zerolinewidth": 2
          }
         }
        },
        "title": {
         "text": "Países con los salarios más altos"
        },
        "xaxis": {
         "anchor": "y",
         "domain": [
          0,
          1
         ],
         "title": {
          "text": "employee_residence"
         }
        },
        "yaxis": {
         "anchor": "x",
         "domain": [
          0,
          1
         ],
         "title": {
          "text": "salary_in_usd"
         }
        }
       }
      }
     },
     "metadata": {},
     "output_type": "display_data"
    }
   ],
   "source": [
    "salario_promedio_pais = df.groupby('employee_residence')['salary_in_usd'].mean().reset_index()\n",
    "fig = px.bar(salario_promedio_pais.sort_values('salary_in_usd', ascending=False),\n",
    "             x='employee_residence', y='salary_in_usd', title='Países con los salarios más altos', template='plotly_dark', color_discrete_sequence=['green'])\n",
    "fig.show()"
   ]
  },
  {
   "attachments": {},
   "cell_type": "markdown",
   "metadata": {},
   "source": [
    "¿Cómo se distribuyen los roles de trabajo en las diferentes categorías de experiencia?"
   ]
  },
  {
   "cell_type": "code",
   "execution_count": 15,
   "metadata": {},
   "outputs": [
    {
     "data": {
      "application/vnd.plotly.v1+json": {
       "config": {
        "plotlyServerURL": "https://plot.ly"
       },
       "data": [
        {
         "branchvalues": "total",
         "domain": {
          "x": [
           0,
           1
          ],
          "y": [
           0,
           1
          ]
         },
         "hovertemplate": "labels=%{label}<br>Count=%{value}<br>parent=%{parent}<br>id=%{id}<extra></extra>",
         "ids": [
          "EN/3D Computer Vision Researcher",
          "MI/3D Computer Vision Researcher",
          "SE/3D Computer Vision Researcher",
          "EN/AI Developer",
          "MI/AI Developer",
          "SE/AI Developer",
          "EN/AI Programmer",
          "EN/AI Scientist",
          "EX/AI Scientist",
          "MI/AI Scientist",
          "SE/AI Scientist",
          "EN/Analytics Engineer",
          "EX/Analytics Engineer",
          "MI/Analytics Engineer",
          "SE/Analytics Engineer",
          "EN/Applied Data Scientist",
          "MI/Applied Data Scientist",
          "SE/Applied Data Scientist",
          "MI/Applied Machine Learning Engineer",
          "EN/Applied Machine Learning Scientist",
          "MI/Applied Machine Learning Scientist",
          "SE/Applied Machine Learning Scientist",
          "EN/Applied Scientist",
          "SE/Applied Scientist",
          "EN/Autonomous Vehicle Technician",
          "MI/Autonomous Vehicle Technician",
          "SE/Azure Data Engineer",
          "EN/BI Analyst",
          "MI/BI Analyst",
          "SE/BI Analyst",
          "EN/BI Data Analyst",
          "EX/BI Data Analyst",
          "MI/BI Data Analyst",
          "SE/BI Data Analyst",
          "EN/BI Data Engineer",
          "EN/BI Developer",
          "SE/BI Developer",
          "SE/Big Data Architect",
          "EN/Big Data Engineer",
          "MI/Big Data Engineer",
          "SE/Big Data Engineer",
          "EN/Business Data Analyst",
          "MI/Business Data Analyst",
          "SE/Business Data Analyst",
          "SE/Business Intelligence Engineer",
          "SE/Cloud Data Architect",
          "MI/Cloud Data Engineer",
          "SE/Cloud Data Engineer",
          "SE/Cloud Database Engineer",
          "EN/Compliance Data Analyst",
          "EN/Computer Vision Engineer",
          "MI/Computer Vision Engineer",
          "SE/Computer Vision Engineer",
          "EN/Computer Vision Software Engineer",
          "MI/Computer Vision Software Engineer",
          "SE/Computer Vision Software Engineer",
          "EN/Data Analyst",
          "EX/Data Analyst",
          "MI/Data Analyst",
          "SE/Data Analyst",
          "EN/Data Analytics Consultant",
          "MI/Data Analytics Consultant",
          "EN/Data Analytics Engineer",
          "MI/Data Analytics Engineer",
          "SE/Data Analytics Engineer",
          "MI/Data Analytics Lead",
          "SE/Data Analytics Lead",
          "EX/Data Analytics Manager",
          "MI/Data Analytics Manager",
          "SE/Data Analytics Manager",
          "SE/Data Analytics Specialist",
          "EX/Data Architect",
          "MI/Data Architect",
          "SE/Data Architect",
          "SE/Data DevOps Engineer",
          "EN/Data Engineer",
          "EX/Data Engineer",
          "MI/Data Engineer",
          "SE/Data Engineer",
          "MI/Data Infrastructure Engineer",
          "SE/Data Infrastructure Engineer",
          "SE/Data Lead",
          "SE/Data Management Specialist",
          "EN/Data Manager",
          "EX/Data Manager",
          "MI/Data Manager",
          "SE/Data Manager",
          "SE/Data Modeler",
          "SE/Data Operations Analyst",
          "MI/Data Operations Engineer",
          "SE/Data Operations Engineer",
          "EN/Data Quality Analyst",
          "SE/Data Quality Analyst",
          "EN/Data Science Consultant",
          "EX/Data Science Consultant",
          "MI/Data Science Consultant",
          "SE/Data Science Consultant",
          "MI/Data Science Engineer",
          "SE/Data Science Engineer",
          "MI/Data Science Lead",
          "SE/Data Science Lead",
          "EX/Data Science Manager",
          "MI/Data Science Manager",
          "SE/Data Science Manager",
          "SE/Data Science Tech Lead",
          "EN/Data Scientist",
          "EX/Data Scientist",
          "MI/Data Scientist",
          "SE/Data Scientist",
          "MI/Data Scientist Lead",
          "SE/Data Scientist Lead",
          "EN/Data Specialist",
          "MI/Data Specialist",
          "SE/Data Specialist",
          "SE/Data Strategist",
          "EN/Deep Learning Engineer",
          "MI/Deep Learning Engineer",
          "SE/Deep Learning Researcher",
          "EX/Director of Data Science",
          "SE/Director of Data Science",
          "MI/ETL Developer",
          "SE/ETL Developer",
          "MI/ETL Engineer",
          "SE/Finance Data Analyst",
          "EN/Financial Data Analyst",
          "MI/Financial Data Analyst",
          "EX/Head of Data",
          "MI/Head of Data",
          "SE/Head of Data",
          "EX/Head of Data Science",
          "MI/Head of Data Science",
          "EX/Head of Machine Learning",
          "MI/Insight Analyst",
          "MI/Lead Data Analyst",
          "SE/Lead Data Analyst",
          "EX/Lead Data Engineer",
          "MI/Lead Data Engineer",
          "SE/Lead Data Engineer",
          "MI/Lead Data Scientist",
          "SE/Lead Data Scientist",
          "SE/Lead Machine Learning Engineer",
          "EN/ML Engineer",
          "MI/ML Engineer",
          "SE/ML Engineer",
          "MI/MLOps Engineer",
          "EN/Machine Learning Developer",
          "MI/Machine Learning Developer",
          "SE/Machine Learning Developer",
          "EN/Machine Learning Engineer",
          "MI/Machine Learning Engineer",
          "SE/Machine Learning Engineer",
          "MI/Machine Learning Infrastructure Engineer",
          "SE/Machine Learning Infrastructure Engineer",
          "SE/Machine Learning Manager",
          "EN/Machine Learning Research Engineer",
          "MI/Machine Learning Research Engineer",
          "MI/Machine Learning Researcher",
          "SE/Machine Learning Researcher",
          "EN/Machine Learning Scientist",
          "EX/Machine Learning Scientist",
          "MI/Machine Learning Scientist",
          "SE/Machine Learning Scientist",
          "EN/Machine Learning Software Engineer",
          "SE/Machine Learning Software Engineer",
          "SE/Manager Data Management",
          "SE/Marketing Data Analyst",
          "EN/Marketing Data Engineer",
          "MI/NLP Engineer",
          "SE/NLP Engineer",
          "EN/Power BI Developer",
          "MI/Principal Data Analyst",
          "SE/Principal Data Analyst",
          "SE/Principal Data Architect",
          "SE/Principal Data Engineer",
          "EX/Principal Data Scientist",
          "MI/Principal Data Scientist",
          "SE/Principal Data Scientist",
          "SE/Principal Machine Learning Engineer",
          "EN/Product Data Analyst",
          "MI/Product Data Analyst",
          "SE/Product Data Scientist",
          "EN/Research Engineer",
          "MI/Research Engineer",
          "SE/Research Engineer",
          "EN/Research Scientist",
          "EX/Research Scientist",
          "MI/Research Scientist",
          "SE/Research Scientist",
          "MI/Software Data Engineer",
          "SE/Software Data Engineer",
          "EX/Staff Data Analyst",
          "SE/Staff Data Scientist",
          "EN",
          "EX",
          "MI",
          "SE"
         ],
         "labels": [
          "3D Computer Vision Researcher",
          "3D Computer Vision Researcher",
          "3D Computer Vision Researcher",
          "AI Developer",
          "AI Developer",
          "AI Developer",
          "AI Programmer",
          "AI Scientist",
          "AI Scientist",
          "AI Scientist",
          "AI Scientist",
          "Analytics Engineer",
          "Analytics Engineer",
          "Analytics Engineer",
          "Analytics Engineer",
          "Applied Data Scientist",
          "Applied Data Scientist",
          "Applied Data Scientist",
          "Applied Machine Learning Engineer",
          "Applied Machine Learning Scientist",
          "Applied Machine Learning Scientist",
          "Applied Machine Learning Scientist",
          "Applied Scientist",
          "Applied Scientist",
          "Autonomous Vehicle Technician",
          "Autonomous Vehicle Technician",
          "Azure Data Engineer",
          "BI Analyst",
          "BI Analyst",
          "BI Analyst",
          "BI Data Analyst",
          "BI Data Analyst",
          "BI Data Analyst",
          "BI Data Analyst",
          "BI Data Engineer",
          "BI Developer",
          "BI Developer",
          "Big Data Architect",
          "Big Data Engineer",
          "Big Data Engineer",
          "Big Data Engineer",
          "Business Data Analyst",
          "Business Data Analyst",
          "Business Data Analyst",
          "Business Intelligence Engineer",
          "Cloud Data Architect",
          "Cloud Data Engineer",
          "Cloud Data Engineer",
          "Cloud Database Engineer",
          "Compliance Data Analyst",
          "Computer Vision Engineer",
          "Computer Vision Engineer",
          "Computer Vision Engineer",
          "Computer Vision Software Engineer",
          "Computer Vision Software Engineer",
          "Computer Vision Software Engineer",
          "Data Analyst",
          "Data Analyst",
          "Data Analyst",
          "Data Analyst",
          "Data Analytics Consultant",
          "Data Analytics Consultant",
          "Data Analytics Engineer",
          "Data Analytics Engineer",
          "Data Analytics Engineer",
          "Data Analytics Lead",
          "Data Analytics Lead",
          "Data Analytics Manager",
          "Data Analytics Manager",
          "Data Analytics Manager",
          "Data Analytics Specialist",
          "Data Architect",
          "Data Architect",
          "Data Architect",
          "Data DevOps Engineer",
          "Data Engineer",
          "Data Engineer",
          "Data Engineer",
          "Data Engineer",
          "Data Infrastructure Engineer",
          "Data Infrastructure Engineer",
          "Data Lead",
          "Data Management Specialist",
          "Data Manager",
          "Data Manager",
          "Data Manager",
          "Data Manager",
          "Data Modeler",
          "Data Operations Analyst",
          "Data Operations Engineer",
          "Data Operations Engineer",
          "Data Quality Analyst",
          "Data Quality Analyst",
          "Data Science Consultant",
          "Data Science Consultant",
          "Data Science Consultant",
          "Data Science Consultant",
          "Data Science Engineer",
          "Data Science Engineer",
          "Data Science Lead",
          "Data Science Lead",
          "Data Science Manager",
          "Data Science Manager",
          "Data Science Manager",
          "Data Science Tech Lead",
          "Data Scientist",
          "Data Scientist",
          "Data Scientist",
          "Data Scientist",
          "Data Scientist Lead",
          "Data Scientist Lead",
          "Data Specialist",
          "Data Specialist",
          "Data Specialist",
          "Data Strategist",
          "Deep Learning Engineer",
          "Deep Learning Engineer",
          "Deep Learning Researcher",
          "Director of Data Science",
          "Director of Data Science",
          "ETL Developer",
          "ETL Developer",
          "ETL Engineer",
          "Finance Data Analyst",
          "Financial Data Analyst",
          "Financial Data Analyst",
          "Head of Data",
          "Head of Data",
          "Head of Data",
          "Head of Data Science",
          "Head of Data Science",
          "Head of Machine Learning",
          "Insight Analyst",
          "Lead Data Analyst",
          "Lead Data Analyst",
          "Lead Data Engineer",
          "Lead Data Engineer",
          "Lead Data Engineer",
          "Lead Data Scientist",
          "Lead Data Scientist",
          "Lead Machine Learning Engineer",
          "ML Engineer",
          "ML Engineer",
          "ML Engineer",
          "MLOps Engineer",
          "Machine Learning Developer",
          "Machine Learning Developer",
          "Machine Learning Developer",
          "Machine Learning Engineer",
          "Machine Learning Engineer",
          "Machine Learning Engineer",
          "Machine Learning Infrastructure Engineer",
          "Machine Learning Infrastructure Engineer",
          "Machine Learning Manager",
          "Machine Learning Research Engineer",
          "Machine Learning Research Engineer",
          "Machine Learning Researcher",
          "Machine Learning Researcher",
          "Machine Learning Scientist",
          "Machine Learning Scientist",
          "Machine Learning Scientist",
          "Machine Learning Scientist",
          "Machine Learning Software Engineer",
          "Machine Learning Software Engineer",
          "Manager Data Management",
          "Marketing Data Analyst",
          "Marketing Data Engineer",
          "NLP Engineer",
          "NLP Engineer",
          "Power BI Developer",
          "Principal Data Analyst",
          "Principal Data Analyst",
          "Principal Data Architect",
          "Principal Data Engineer",
          "Principal Data Scientist",
          "Principal Data Scientist",
          "Principal Data Scientist",
          "Principal Machine Learning Engineer",
          "Product Data Analyst",
          "Product Data Analyst",
          "Product Data Scientist",
          "Research Engineer",
          "Research Engineer",
          "Research Engineer",
          "Research Scientist",
          "Research Scientist",
          "Research Scientist",
          "Research Scientist",
          "Software Data Engineer",
          "Software Data Engineer",
          "Staff Data Analyst",
          "Staff Data Scientist",
          "EN",
          "EX",
          "MI",
          "SE"
         ],
         "name": "",
         "parents": [
          "EN",
          "MI",
          "SE",
          "EN",
          "MI",
          "SE",
          "EN",
          "EN",
          "EX",
          "MI",
          "SE",
          "EN",
          "EX",
          "MI",
          "SE",
          "EN",
          "MI",
          "SE",
          "MI",
          "EN",
          "MI",
          "SE",
          "EN",
          "SE",
          "EN",
          "MI",
          "SE",
          "EN",
          "MI",
          "SE",
          "EN",
          "EX",
          "MI",
          "SE",
          "EN",
          "EN",
          "SE",
          "SE",
          "EN",
          "MI",
          "SE",
          "EN",
          "MI",
          "SE",
          "SE",
          "SE",
          "MI",
          "SE",
          "SE",
          "EN",
          "EN",
          "MI",
          "SE",
          "EN",
          "MI",
          "SE",
          "EN",
          "EX",
          "MI",
          "SE",
          "EN",
          "MI",
          "EN",
          "MI",
          "SE",
          "MI",
          "SE",
          "EX",
          "MI",
          "SE",
          "SE",
          "EX",
          "MI",
          "SE",
          "SE",
          "EN",
          "EX",
          "MI",
          "SE",
          "MI",
          "SE",
          "SE",
          "SE",
          "EN",
          "EX",
          "MI",
          "SE",
          "SE",
          "SE",
          "MI",
          "SE",
          "EN",
          "SE",
          "EN",
          "EX",
          "MI",
          "SE",
          "MI",
          "SE",
          "MI",
          "SE",
          "EX",
          "MI",
          "SE",
          "SE",
          "EN",
          "EX",
          "MI",
          "SE",
          "MI",
          "SE",
          "EN",
          "MI",
          "SE",
          "SE",
          "EN",
          "MI",
          "SE",
          "EX",
          "SE",
          "MI",
          "SE",
          "MI",
          "SE",
          "EN",
          "MI",
          "EX",
          "MI",
          "SE",
          "EX",
          "MI",
          "EX",
          "MI",
          "MI",
          "SE",
          "EX",
          "MI",
          "SE",
          "MI",
          "SE",
          "SE",
          "EN",
          "MI",
          "SE",
          "MI",
          "EN",
          "MI",
          "SE",
          "EN",
          "MI",
          "SE",
          "MI",
          "SE",
          "SE",
          "EN",
          "MI",
          "MI",
          "SE",
          "EN",
          "EX",
          "MI",
          "SE",
          "EN",
          "SE",
          "SE",
          "SE",
          "EN",
          "MI",
          "SE",
          "EN",
          "MI",
          "SE",
          "SE",
          "SE",
          "EX",
          "MI",
          "SE",
          "SE",
          "EN",
          "MI",
          "SE",
          "EN",
          "MI",
          "SE",
          "EN",
          "EX",
          "MI",
          "SE",
          "MI",
          "SE",
          "EX",
          "SE",
          "",
          "",
          "",
          ""
         ],
         "type": "treemap",
         "values": [
          2,
          1,
          1,
          6,
          2,
          3,
          2,
          7,
          1,
          5,
          3,
          1,
          8,
          13,
          81,
          3,
          4,
          3,
          2,
          2,
          6,
          4,
          6,
          52,
          1,
          1,
          1,
          2,
          2,
          5,
          6,
          1,
          7,
          1,
          1,
          2,
          11,
          2,
          4,
          4,
          3,
          6,
          8,
          1,
          4,
          1,
          1,
          2,
          5,
          1,
          4,
          2,
          12,
          3,
          1,
          1,
          63,
          2,
          167,
          380,
          1,
          1,
          2,
          2,
          2,
          1,
          1,
          2,
          8,
          12,
          2,
          2,
          7,
          92,
          1,
          66,
          51,
          205,
          718,
          4,
          2,
          2,
          1,
          2,
          1,
          6,
          20,
          2,
          4,
          6,
          4,
          1,
          6,
          7,
          1,
          5,
          11,
          1,
          4,
          3,
          5,
          5,
          8,
          45,
          1,
          59,
          12,
          161,
          608,
          1,
          1,
          1,
          4,
          9,
          2,
          2,
          4,
          1,
          8,
          3,
          2,
          8,
          2,
          1,
          1,
          2,
          6,
          1,
          3,
          7,
          2,
          1,
          2,
          4,
          1,
          1,
          1,
          4,
          2,
          7,
          3,
          2,
          11,
          21,
          4,
          5,
          1,
          1,
          21,
          59,
          209,
          4,
          7,
          3,
          3,
          1,
          5,
          1,
          2,
          2,
          11,
          11,
          1,
          9,
          1,
          2,
          1,
          3,
          4,
          1,
          1,
          1,
          1,
          2,
          1,
          1,
          6,
          1,
          1,
          4,
          1,
          10,
          5,
          22,
          9,
          1,
          23,
          49,
          1,
          1,
          1,
          1,
          320,
          114,
          805,
          2516
         ]
        }
       ],
       "layout": {
        "legend": {
         "tracegroupgap": 0
        },
        "template": {
         "data": {
          "bar": [
           {
            "error_x": {
             "color": "#f2f5fa"
            },
            "error_y": {
             "color": "#f2f5fa"
            },
            "marker": {
             "line": {
              "color": "rgb(17,17,17)",
              "width": 0.5
             },
             "pattern": {
              "fillmode": "overlay",
              "size": 10,
              "solidity": 0.2
             }
            },
            "type": "bar"
           }
          ],
          "barpolar": [
           {
            "marker": {
             "line": {
              "color": "rgb(17,17,17)",
              "width": 0.5
             },
             "pattern": {
              "fillmode": "overlay",
              "size": 10,
              "solidity": 0.2
             }
            },
            "type": "barpolar"
           }
          ],
          "carpet": [
           {
            "aaxis": {
             "endlinecolor": "#A2B1C6",
             "gridcolor": "#506784",
             "linecolor": "#506784",
             "minorgridcolor": "#506784",
             "startlinecolor": "#A2B1C6"
            },
            "baxis": {
             "endlinecolor": "#A2B1C6",
             "gridcolor": "#506784",
             "linecolor": "#506784",
             "minorgridcolor": "#506784",
             "startlinecolor": "#A2B1C6"
            },
            "type": "carpet"
           }
          ],
          "choropleth": [
           {
            "colorbar": {
             "outlinewidth": 0,
             "ticks": ""
            },
            "type": "choropleth"
           }
          ],
          "contour": [
           {
            "colorbar": {
             "outlinewidth": 0,
             "ticks": ""
            },
            "colorscale": [
             [
              0,
              "#0d0887"
             ],
             [
              0.1111111111111111,
              "#46039f"
             ],
             [
              0.2222222222222222,
              "#7201a8"
             ],
             [
              0.3333333333333333,
              "#9c179e"
             ],
             [
              0.4444444444444444,
              "#bd3786"
             ],
             [
              0.5555555555555556,
              "#d8576b"
             ],
             [
              0.6666666666666666,
              "#ed7953"
             ],
             [
              0.7777777777777778,
              "#fb9f3a"
             ],
             [
              0.8888888888888888,
              "#fdca26"
             ],
             [
              1,
              "#f0f921"
             ]
            ],
            "type": "contour"
           }
          ],
          "contourcarpet": [
           {
            "colorbar": {
             "outlinewidth": 0,
             "ticks": ""
            },
            "type": "contourcarpet"
           }
          ],
          "heatmap": [
           {
            "colorbar": {
             "outlinewidth": 0,
             "ticks": ""
            },
            "colorscale": [
             [
              0,
              "#0d0887"
             ],
             [
              0.1111111111111111,
              "#46039f"
             ],
             [
              0.2222222222222222,
              "#7201a8"
             ],
             [
              0.3333333333333333,
              "#9c179e"
             ],
             [
              0.4444444444444444,
              "#bd3786"
             ],
             [
              0.5555555555555556,
              "#d8576b"
             ],
             [
              0.6666666666666666,
              "#ed7953"
             ],
             [
              0.7777777777777778,
              "#fb9f3a"
             ],
             [
              0.8888888888888888,
              "#fdca26"
             ],
             [
              1,
              "#f0f921"
             ]
            ],
            "type": "heatmap"
           }
          ],
          "heatmapgl": [
           {
            "colorbar": {
             "outlinewidth": 0,
             "ticks": ""
            },
            "colorscale": [
             [
              0,
              "#0d0887"
             ],
             [
              0.1111111111111111,
              "#46039f"
             ],
             [
              0.2222222222222222,
              "#7201a8"
             ],
             [
              0.3333333333333333,
              "#9c179e"
             ],
             [
              0.4444444444444444,
              "#bd3786"
             ],
             [
              0.5555555555555556,
              "#d8576b"
             ],
             [
              0.6666666666666666,
              "#ed7953"
             ],
             [
              0.7777777777777778,
              "#fb9f3a"
             ],
             [
              0.8888888888888888,
              "#fdca26"
             ],
             [
              1,
              "#f0f921"
             ]
            ],
            "type": "heatmapgl"
           }
          ],
          "histogram": [
           {
            "marker": {
             "pattern": {
              "fillmode": "overlay",
              "size": 10,
              "solidity": 0.2
             }
            },
            "type": "histogram"
           }
          ],
          "histogram2d": [
           {
            "colorbar": {
             "outlinewidth": 0,
             "ticks": ""
            },
            "colorscale": [
             [
              0,
              "#0d0887"
             ],
             [
              0.1111111111111111,
              "#46039f"
             ],
             [
              0.2222222222222222,
              "#7201a8"
             ],
             [
              0.3333333333333333,
              "#9c179e"
             ],
             [
              0.4444444444444444,
              "#bd3786"
             ],
             [
              0.5555555555555556,
              "#d8576b"
             ],
             [
              0.6666666666666666,
              "#ed7953"
             ],
             [
              0.7777777777777778,
              "#fb9f3a"
             ],
             [
              0.8888888888888888,
              "#fdca26"
             ],
             [
              1,
              "#f0f921"
             ]
            ],
            "type": "histogram2d"
           }
          ],
          "histogram2dcontour": [
           {
            "colorbar": {
             "outlinewidth": 0,
             "ticks": ""
            },
            "colorscale": [
             [
              0,
              "#0d0887"
             ],
             [
              0.1111111111111111,
              "#46039f"
             ],
             [
              0.2222222222222222,
              "#7201a8"
             ],
             [
              0.3333333333333333,
              "#9c179e"
             ],
             [
              0.4444444444444444,
              "#bd3786"
             ],
             [
              0.5555555555555556,
              "#d8576b"
             ],
             [
              0.6666666666666666,
              "#ed7953"
             ],
             [
              0.7777777777777778,
              "#fb9f3a"
             ],
             [
              0.8888888888888888,
              "#fdca26"
             ],
             [
              1,
              "#f0f921"
             ]
            ],
            "type": "histogram2dcontour"
           }
          ],
          "mesh3d": [
           {
            "colorbar": {
             "outlinewidth": 0,
             "ticks": ""
            },
            "type": "mesh3d"
           }
          ],
          "parcoords": [
           {
            "line": {
             "colorbar": {
              "outlinewidth": 0,
              "ticks": ""
             }
            },
            "type": "parcoords"
           }
          ],
          "pie": [
           {
            "automargin": true,
            "type": "pie"
           }
          ],
          "scatter": [
           {
            "marker": {
             "line": {
              "color": "#283442"
             }
            },
            "type": "scatter"
           }
          ],
          "scatter3d": [
           {
            "line": {
             "colorbar": {
              "outlinewidth": 0,
              "ticks": ""
             }
            },
            "marker": {
             "colorbar": {
              "outlinewidth": 0,
              "ticks": ""
             }
            },
            "type": "scatter3d"
           }
          ],
          "scattercarpet": [
           {
            "marker": {
             "colorbar": {
              "outlinewidth": 0,
              "ticks": ""
             }
            },
            "type": "scattercarpet"
           }
          ],
          "scattergeo": [
           {
            "marker": {
             "colorbar": {
              "outlinewidth": 0,
              "ticks": ""
             }
            },
            "type": "scattergeo"
           }
          ],
          "scattergl": [
           {
            "marker": {
             "line": {
              "color": "#283442"
             }
            },
            "type": "scattergl"
           }
          ],
          "scattermapbox": [
           {
            "marker": {
             "colorbar": {
              "outlinewidth": 0,
              "ticks": ""
             }
            },
            "type": "scattermapbox"
           }
          ],
          "scatterpolar": [
           {
            "marker": {
             "colorbar": {
              "outlinewidth": 0,
              "ticks": ""
             }
            },
            "type": "scatterpolar"
           }
          ],
          "scatterpolargl": [
           {
            "marker": {
             "colorbar": {
              "outlinewidth": 0,
              "ticks": ""
             }
            },
            "type": "scatterpolargl"
           }
          ],
          "scatterternary": [
           {
            "marker": {
             "colorbar": {
              "outlinewidth": 0,
              "ticks": ""
             }
            },
            "type": "scatterternary"
           }
          ],
          "surface": [
           {
            "colorbar": {
             "outlinewidth": 0,
             "ticks": ""
            },
            "colorscale": [
             [
              0,
              "#0d0887"
             ],
             [
              0.1111111111111111,
              "#46039f"
             ],
             [
              0.2222222222222222,
              "#7201a8"
             ],
             [
              0.3333333333333333,
              "#9c179e"
             ],
             [
              0.4444444444444444,
              "#bd3786"
             ],
             [
              0.5555555555555556,
              "#d8576b"
             ],
             [
              0.6666666666666666,
              "#ed7953"
             ],
             [
              0.7777777777777778,
              "#fb9f3a"
             ],
             [
              0.8888888888888888,
              "#fdca26"
             ],
             [
              1,
              "#f0f921"
             ]
            ],
            "type": "surface"
           }
          ],
          "table": [
           {
            "cells": {
             "fill": {
              "color": "#506784"
             },
             "line": {
              "color": "rgb(17,17,17)"
             }
            },
            "header": {
             "fill": {
              "color": "#2a3f5f"
             },
             "line": {
              "color": "rgb(17,17,17)"
             }
            },
            "type": "table"
           }
          ]
         },
         "layout": {
          "annotationdefaults": {
           "arrowcolor": "#f2f5fa",
           "arrowhead": 0,
           "arrowwidth": 1
          },
          "autotypenumbers": "strict",
          "coloraxis": {
           "colorbar": {
            "outlinewidth": 0,
            "ticks": ""
           }
          },
          "colorscale": {
           "diverging": [
            [
             0,
             "#8e0152"
            ],
            [
             0.1,
             "#c51b7d"
            ],
            [
             0.2,
             "#de77ae"
            ],
            [
             0.3,
             "#f1b6da"
            ],
            [
             0.4,
             "#fde0ef"
            ],
            [
             0.5,
             "#f7f7f7"
            ],
            [
             0.6,
             "#e6f5d0"
            ],
            [
             0.7,
             "#b8e186"
            ],
            [
             0.8,
             "#7fbc41"
            ],
            [
             0.9,
             "#4d9221"
            ],
            [
             1,
             "#276419"
            ]
           ],
           "sequential": [
            [
             0,
             "#0d0887"
            ],
            [
             0.1111111111111111,
             "#46039f"
            ],
            [
             0.2222222222222222,
             "#7201a8"
            ],
            [
             0.3333333333333333,
             "#9c179e"
            ],
            [
             0.4444444444444444,
             "#bd3786"
            ],
            [
             0.5555555555555556,
             "#d8576b"
            ],
            [
             0.6666666666666666,
             "#ed7953"
            ],
            [
             0.7777777777777778,
             "#fb9f3a"
            ],
            [
             0.8888888888888888,
             "#fdca26"
            ],
            [
             1,
             "#f0f921"
            ]
           ],
           "sequentialminus": [
            [
             0,
             "#0d0887"
            ],
            [
             0.1111111111111111,
             "#46039f"
            ],
            [
             0.2222222222222222,
             "#7201a8"
            ],
            [
             0.3333333333333333,
             "#9c179e"
            ],
            [
             0.4444444444444444,
             "#bd3786"
            ],
            [
             0.5555555555555556,
             "#d8576b"
            ],
            [
             0.6666666666666666,
             "#ed7953"
            ],
            [
             0.7777777777777778,
             "#fb9f3a"
            ],
            [
             0.8888888888888888,
             "#fdca26"
            ],
            [
             1,
             "#f0f921"
            ]
           ]
          },
          "colorway": [
           "#636efa",
           "#EF553B",
           "#00cc96",
           "#ab63fa",
           "#FFA15A",
           "#19d3f3",
           "#FF6692",
           "#B6E880",
           "#FF97FF",
           "#FECB52"
          ],
          "font": {
           "color": "#f2f5fa"
          },
          "geo": {
           "bgcolor": "rgb(17,17,17)",
           "lakecolor": "rgb(17,17,17)",
           "landcolor": "rgb(17,17,17)",
           "showlakes": true,
           "showland": true,
           "subunitcolor": "#506784"
          },
          "hoverlabel": {
           "align": "left"
          },
          "hovermode": "closest",
          "mapbox": {
           "style": "dark"
          },
          "paper_bgcolor": "rgb(17,17,17)",
          "plot_bgcolor": "rgb(17,17,17)",
          "polar": {
           "angularaxis": {
            "gridcolor": "#506784",
            "linecolor": "#506784",
            "ticks": ""
           },
           "bgcolor": "rgb(17,17,17)",
           "radialaxis": {
            "gridcolor": "#506784",
            "linecolor": "#506784",
            "ticks": ""
           }
          },
          "scene": {
           "xaxis": {
            "backgroundcolor": "rgb(17,17,17)",
            "gridcolor": "#506784",
            "gridwidth": 2,
            "linecolor": "#506784",
            "showbackground": true,
            "ticks": "",
            "zerolinecolor": "#C8D4E3"
           },
           "yaxis": {
            "backgroundcolor": "rgb(17,17,17)",
            "gridcolor": "#506784",
            "gridwidth": 2,
            "linecolor": "#506784",
            "showbackground": true,
            "ticks": "",
            "zerolinecolor": "#C8D4E3"
           },
           "zaxis": {
            "backgroundcolor": "rgb(17,17,17)",
            "gridcolor": "#506784",
            "gridwidth": 2,
            "linecolor": "#506784",
            "showbackground": true,
            "ticks": "",
            "zerolinecolor": "#C8D4E3"
           }
          },
          "shapedefaults": {
           "line": {
            "color": "#f2f5fa"
           }
          },
          "sliderdefaults": {
           "bgcolor": "#C8D4E3",
           "bordercolor": "rgb(17,17,17)",
           "borderwidth": 1,
           "tickwidth": 0
          },
          "ternary": {
           "aaxis": {
            "gridcolor": "#506784",
            "linecolor": "#506784",
            "ticks": ""
           },
           "baxis": {
            "gridcolor": "#506784",
            "linecolor": "#506784",
            "ticks": ""
           },
           "bgcolor": "rgb(17,17,17)",
           "caxis": {
            "gridcolor": "#506784",
            "linecolor": "#506784",
            "ticks": ""
           }
          },
          "title": {
           "x": 0.05
          },
          "updatemenudefaults": {
           "bgcolor": "#506784",
           "borderwidth": 0
          },
          "xaxis": {
           "automargin": true,
           "gridcolor": "#283442",
           "linecolor": "#506784",
           "ticks": "",
           "title": {
            "standoff": 15
           },
           "zerolinecolor": "#283442",
           "zerolinewidth": 2
          },
          "yaxis": {
           "automargin": true,
           "gridcolor": "#283442",
           "linecolor": "#506784",
           "ticks": "",
           "title": {
            "standoff": 15
           },
           "zerolinecolor": "#283442",
           "zerolinewidth": 2
          }
         }
        },
        "title": {
         "text": "Distribución de roles en categorías"
        }
       }
      }
     },
     "metadata": {},
     "output_type": "display_data"
    }
   ],
   "source": [
    "roles_en_categorias = df.groupby(['experience_level', 'job_title']).size().reset_index(name='Count')\n",
    "\n",
    "fig = px.treemap(roles_en_categorias, path=['experience_level', 'job_title'], values='Count', title= 'Distribución de roles en categorías', template='plotly_dark')\n",
    "fig.show()"
   ]
  },
  {
   "attachments": {},
   "cell_type": "markdown",
   "metadata": {},
   "source": [
    "¿Cómo varía el salario promedio entre los diferentes tipos de empleo, fulltime, partime ect?"
   ]
  },
  {
   "cell_type": "code",
   "execution_count": 17,
   "metadata": {},
   "outputs": [
    {
     "data": {
      "application/vnd.plotly.v1+json": {
       "config": {
        "plotlyServerURL": "https://plot.ly"
       },
       "data": [
        {
         "alignmentgroup": "True",
         "hovertemplate": "employment_type=%{x}<br>salary_in_usd=%{y}<extra></extra>",
         "legendgroup": "",
         "marker": {
          "color": "green",
          "pattern": {
           "shape": ""
          }
         },
         "name": "",
         "offsetgroup": "",
         "orientation": "v",
         "showlegend": false,
         "textposition": "auto",
         "type": "bar",
         "x": [
          "FT",
          "CT",
          "FL",
          "PT"
         ],
         "xaxis": "x",
         "y": [
          138314.1995696611,
          113446.9,
          51807.8,
          39533.705882352944
         ],
         "yaxis": "y"
        }
       ],
       "layout": {
        "barmode": "relative",
        "legend": {
         "tracegroupgap": 0
        },
        "template": {
         "data": {
          "bar": [
           {
            "error_x": {
             "color": "#f2f5fa"
            },
            "error_y": {
             "color": "#f2f5fa"
            },
            "marker": {
             "line": {
              "color": "rgb(17,17,17)",
              "width": 0.5
             },
             "pattern": {
              "fillmode": "overlay",
              "size": 10,
              "solidity": 0.2
             }
            },
            "type": "bar"
           }
          ],
          "barpolar": [
           {
            "marker": {
             "line": {
              "color": "rgb(17,17,17)",
              "width": 0.5
             },
             "pattern": {
              "fillmode": "overlay",
              "size": 10,
              "solidity": 0.2
             }
            },
            "type": "barpolar"
           }
          ],
          "carpet": [
           {
            "aaxis": {
             "endlinecolor": "#A2B1C6",
             "gridcolor": "#506784",
             "linecolor": "#506784",
             "minorgridcolor": "#506784",
             "startlinecolor": "#A2B1C6"
            },
            "baxis": {
             "endlinecolor": "#A2B1C6",
             "gridcolor": "#506784",
             "linecolor": "#506784",
             "minorgridcolor": "#506784",
             "startlinecolor": "#A2B1C6"
            },
            "type": "carpet"
           }
          ],
          "choropleth": [
           {
            "colorbar": {
             "outlinewidth": 0,
             "ticks": ""
            },
            "type": "choropleth"
           }
          ],
          "contour": [
           {
            "colorbar": {
             "outlinewidth": 0,
             "ticks": ""
            },
            "colorscale": [
             [
              0,
              "#0d0887"
             ],
             [
              0.1111111111111111,
              "#46039f"
             ],
             [
              0.2222222222222222,
              "#7201a8"
             ],
             [
              0.3333333333333333,
              "#9c179e"
             ],
             [
              0.4444444444444444,
              "#bd3786"
             ],
             [
              0.5555555555555556,
              "#d8576b"
             ],
             [
              0.6666666666666666,
              "#ed7953"
             ],
             [
              0.7777777777777778,
              "#fb9f3a"
             ],
             [
              0.8888888888888888,
              "#fdca26"
             ],
             [
              1,
              "#f0f921"
             ]
            ],
            "type": "contour"
           }
          ],
          "contourcarpet": [
           {
            "colorbar": {
             "outlinewidth": 0,
             "ticks": ""
            },
            "type": "contourcarpet"
           }
          ],
          "heatmap": [
           {
            "colorbar": {
             "outlinewidth": 0,
             "ticks": ""
            },
            "colorscale": [
             [
              0,
              "#0d0887"
             ],
             [
              0.1111111111111111,
              "#46039f"
             ],
             [
              0.2222222222222222,
              "#7201a8"
             ],
             [
              0.3333333333333333,
              "#9c179e"
             ],
             [
              0.4444444444444444,
              "#bd3786"
             ],
             [
              0.5555555555555556,
              "#d8576b"
             ],
             [
              0.6666666666666666,
              "#ed7953"
             ],
             [
              0.7777777777777778,
              "#fb9f3a"
             ],
             [
              0.8888888888888888,
              "#fdca26"
             ],
             [
              1,
              "#f0f921"
             ]
            ],
            "type": "heatmap"
           }
          ],
          "heatmapgl": [
           {
            "colorbar": {
             "outlinewidth": 0,
             "ticks": ""
            },
            "colorscale": [
             [
              0,
              "#0d0887"
             ],
             [
              0.1111111111111111,
              "#46039f"
             ],
             [
              0.2222222222222222,
              "#7201a8"
             ],
             [
              0.3333333333333333,
              "#9c179e"
             ],
             [
              0.4444444444444444,
              "#bd3786"
             ],
             [
              0.5555555555555556,
              "#d8576b"
             ],
             [
              0.6666666666666666,
              "#ed7953"
             ],
             [
              0.7777777777777778,
              "#fb9f3a"
             ],
             [
              0.8888888888888888,
              "#fdca26"
             ],
             [
              1,
              "#f0f921"
             ]
            ],
            "type": "heatmapgl"
           }
          ],
          "histogram": [
           {
            "marker": {
             "pattern": {
              "fillmode": "overlay",
              "size": 10,
              "solidity": 0.2
             }
            },
            "type": "histogram"
           }
          ],
          "histogram2d": [
           {
            "colorbar": {
             "outlinewidth": 0,
             "ticks": ""
            },
            "colorscale": [
             [
              0,
              "#0d0887"
             ],
             [
              0.1111111111111111,
              "#46039f"
             ],
             [
              0.2222222222222222,
              "#7201a8"
             ],
             [
              0.3333333333333333,
              "#9c179e"
             ],
             [
              0.4444444444444444,
              "#bd3786"
             ],
             [
              0.5555555555555556,
              "#d8576b"
             ],
             [
              0.6666666666666666,
              "#ed7953"
             ],
             [
              0.7777777777777778,
              "#fb9f3a"
             ],
             [
              0.8888888888888888,
              "#fdca26"
             ],
             [
              1,
              "#f0f921"
             ]
            ],
            "type": "histogram2d"
           }
          ],
          "histogram2dcontour": [
           {
            "colorbar": {
             "outlinewidth": 0,
             "ticks": ""
            },
            "colorscale": [
             [
              0,
              "#0d0887"
             ],
             [
              0.1111111111111111,
              "#46039f"
             ],
             [
              0.2222222222222222,
              "#7201a8"
             ],
             [
              0.3333333333333333,
              "#9c179e"
             ],
             [
              0.4444444444444444,
              "#bd3786"
             ],
             [
              0.5555555555555556,
              "#d8576b"
             ],
             [
              0.6666666666666666,
              "#ed7953"
             ],
             [
              0.7777777777777778,
              "#fb9f3a"
             ],
             [
              0.8888888888888888,
              "#fdca26"
             ],
             [
              1,
              "#f0f921"
             ]
            ],
            "type": "histogram2dcontour"
           }
          ],
          "mesh3d": [
           {
            "colorbar": {
             "outlinewidth": 0,
             "ticks": ""
            },
            "type": "mesh3d"
           }
          ],
          "parcoords": [
           {
            "line": {
             "colorbar": {
              "outlinewidth": 0,
              "ticks": ""
             }
            },
            "type": "parcoords"
           }
          ],
          "pie": [
           {
            "automargin": true,
            "type": "pie"
           }
          ],
          "scatter": [
           {
            "marker": {
             "line": {
              "color": "#283442"
             }
            },
            "type": "scatter"
           }
          ],
          "scatter3d": [
           {
            "line": {
             "colorbar": {
              "outlinewidth": 0,
              "ticks": ""
             }
            },
            "marker": {
             "colorbar": {
              "outlinewidth": 0,
              "ticks": ""
             }
            },
            "type": "scatter3d"
           }
          ],
          "scattercarpet": [
           {
            "marker": {
             "colorbar": {
              "outlinewidth": 0,
              "ticks": ""
             }
            },
            "type": "scattercarpet"
           }
          ],
          "scattergeo": [
           {
            "marker": {
             "colorbar": {
              "outlinewidth": 0,
              "ticks": ""
             }
            },
            "type": "scattergeo"
           }
          ],
          "scattergl": [
           {
            "marker": {
             "line": {
              "color": "#283442"
             }
            },
            "type": "scattergl"
           }
          ],
          "scattermapbox": [
           {
            "marker": {
             "colorbar": {
              "outlinewidth": 0,
              "ticks": ""
             }
            },
            "type": "scattermapbox"
           }
          ],
          "scatterpolar": [
           {
            "marker": {
             "colorbar": {
              "outlinewidth": 0,
              "ticks": ""
             }
            },
            "type": "scatterpolar"
           }
          ],
          "scatterpolargl": [
           {
            "marker": {
             "colorbar": {
              "outlinewidth": 0,
              "ticks": ""
             }
            },
            "type": "scatterpolargl"
           }
          ],
          "scatterternary": [
           {
            "marker": {
             "colorbar": {
              "outlinewidth": 0,
              "ticks": ""
             }
            },
            "type": "scatterternary"
           }
          ],
          "surface": [
           {
            "colorbar": {
             "outlinewidth": 0,
             "ticks": ""
            },
            "colorscale": [
             [
              0,
              "#0d0887"
             ],
             [
              0.1111111111111111,
              "#46039f"
             ],
             [
              0.2222222222222222,
              "#7201a8"
             ],
             [
              0.3333333333333333,
              "#9c179e"
             ],
             [
              0.4444444444444444,
              "#bd3786"
             ],
             [
              0.5555555555555556,
              "#d8576b"
             ],
             [
              0.6666666666666666,
              "#ed7953"
             ],
             [
              0.7777777777777778,
              "#fb9f3a"
             ],
             [
              0.8888888888888888,
              "#fdca26"
             ],
             [
              1,
              "#f0f921"
             ]
            ],
            "type": "surface"
           }
          ],
          "table": [
           {
            "cells": {
             "fill": {
              "color": "#506784"
             },
             "line": {
              "color": "rgb(17,17,17)"
             }
            },
            "header": {
             "fill": {
              "color": "#2a3f5f"
             },
             "line": {
              "color": "rgb(17,17,17)"
             }
            },
            "type": "table"
           }
          ]
         },
         "layout": {
          "annotationdefaults": {
           "arrowcolor": "#f2f5fa",
           "arrowhead": 0,
           "arrowwidth": 1
          },
          "autotypenumbers": "strict",
          "coloraxis": {
           "colorbar": {
            "outlinewidth": 0,
            "ticks": ""
           }
          },
          "colorscale": {
           "diverging": [
            [
             0,
             "#8e0152"
            ],
            [
             0.1,
             "#c51b7d"
            ],
            [
             0.2,
             "#de77ae"
            ],
            [
             0.3,
             "#f1b6da"
            ],
            [
             0.4,
             "#fde0ef"
            ],
            [
             0.5,
             "#f7f7f7"
            ],
            [
             0.6,
             "#e6f5d0"
            ],
            [
             0.7,
             "#b8e186"
            ],
            [
             0.8,
             "#7fbc41"
            ],
            [
             0.9,
             "#4d9221"
            ],
            [
             1,
             "#276419"
            ]
           ],
           "sequential": [
            [
             0,
             "#0d0887"
            ],
            [
             0.1111111111111111,
             "#46039f"
            ],
            [
             0.2222222222222222,
             "#7201a8"
            ],
            [
             0.3333333333333333,
             "#9c179e"
            ],
            [
             0.4444444444444444,
             "#bd3786"
            ],
            [
             0.5555555555555556,
             "#d8576b"
            ],
            [
             0.6666666666666666,
             "#ed7953"
            ],
            [
             0.7777777777777778,
             "#fb9f3a"
            ],
            [
             0.8888888888888888,
             "#fdca26"
            ],
            [
             1,
             "#f0f921"
            ]
           ],
           "sequentialminus": [
            [
             0,
             "#0d0887"
            ],
            [
             0.1111111111111111,
             "#46039f"
            ],
            [
             0.2222222222222222,
             "#7201a8"
            ],
            [
             0.3333333333333333,
             "#9c179e"
            ],
            [
             0.4444444444444444,
             "#bd3786"
            ],
            [
             0.5555555555555556,
             "#d8576b"
            ],
            [
             0.6666666666666666,
             "#ed7953"
            ],
            [
             0.7777777777777778,
             "#fb9f3a"
            ],
            [
             0.8888888888888888,
             "#fdca26"
            ],
            [
             1,
             "#f0f921"
            ]
           ]
          },
          "colorway": [
           "#636efa",
           "#EF553B",
           "#00cc96",
           "#ab63fa",
           "#FFA15A",
           "#19d3f3",
           "#FF6692",
           "#B6E880",
           "#FF97FF",
           "#FECB52"
          ],
          "font": {
           "color": "#f2f5fa"
          },
          "geo": {
           "bgcolor": "rgb(17,17,17)",
           "lakecolor": "rgb(17,17,17)",
           "landcolor": "rgb(17,17,17)",
           "showlakes": true,
           "showland": true,
           "subunitcolor": "#506784"
          },
          "hoverlabel": {
           "align": "left"
          },
          "hovermode": "closest",
          "mapbox": {
           "style": "dark"
          },
          "paper_bgcolor": "rgb(17,17,17)",
          "plot_bgcolor": "rgb(17,17,17)",
          "polar": {
           "angularaxis": {
            "gridcolor": "#506784",
            "linecolor": "#506784",
            "ticks": ""
           },
           "bgcolor": "rgb(17,17,17)",
           "radialaxis": {
            "gridcolor": "#506784",
            "linecolor": "#506784",
            "ticks": ""
           }
          },
          "scene": {
           "xaxis": {
            "backgroundcolor": "rgb(17,17,17)",
            "gridcolor": "#506784",
            "gridwidth": 2,
            "linecolor": "#506784",
            "showbackground": true,
            "ticks": "",
            "zerolinecolor": "#C8D4E3"
           },
           "yaxis": {
            "backgroundcolor": "rgb(17,17,17)",
            "gridcolor": "#506784",
            "gridwidth": 2,
            "linecolor": "#506784",
            "showbackground": true,
            "ticks": "",
            "zerolinecolor": "#C8D4E3"
           },
           "zaxis": {
            "backgroundcolor": "rgb(17,17,17)",
            "gridcolor": "#506784",
            "gridwidth": 2,
            "linecolor": "#506784",
            "showbackground": true,
            "ticks": "",
            "zerolinecolor": "#C8D4E3"
           }
          },
          "shapedefaults": {
           "line": {
            "color": "#f2f5fa"
           }
          },
          "sliderdefaults": {
           "bgcolor": "#C8D4E3",
           "bordercolor": "rgb(17,17,17)",
           "borderwidth": 1,
           "tickwidth": 0
          },
          "ternary": {
           "aaxis": {
            "gridcolor": "#506784",
            "linecolor": "#506784",
            "ticks": ""
           },
           "baxis": {
            "gridcolor": "#506784",
            "linecolor": "#506784",
            "ticks": ""
           },
           "bgcolor": "rgb(17,17,17)",
           "caxis": {
            "gridcolor": "#506784",
            "linecolor": "#506784",
            "ticks": ""
           }
          },
          "title": {
           "x": 0.05
          },
          "updatemenudefaults": {
           "bgcolor": "#506784",
           "borderwidth": 0
          },
          "xaxis": {
           "automargin": true,
           "gridcolor": "#283442",
           "linecolor": "#506784",
           "ticks": "",
           "title": {
            "standoff": 15
           },
           "zerolinecolor": "#283442",
           "zerolinewidth": 2
          },
          "yaxis": {
           "automargin": true,
           "gridcolor": "#283442",
           "linecolor": "#506784",
           "ticks": "",
           "title": {
            "standoff": 15
           },
           "zerolinecolor": "#283442",
           "zerolinewidth": 2
          }
         }
        },
        "title": {
         "text": "Salario medio por tipo de empleo"
        },
        "xaxis": {
         "anchor": "y",
         "domain": [
          0,
          1
         ],
         "title": {
          "text": "employment_type"
         }
        },
        "yaxis": {
         "anchor": "x",
         "domain": [
          0,
          1
         ],
         "title": {
          "text": "salary_in_usd"
         }
        }
       }
      }
     },
     "metadata": {},
     "output_type": "display_data"
    }
   ],
   "source": [
    "salario_promedio_tipos = df.groupby('employment_type')['salary_in_usd'].mean().reset_index()\n",
    "\n",
    "fig = px.bar(salario_promedio_tipos.sort_values('salary_in_usd', ascending=False),\n",
    "                x='employment_type', y='salary_in_usd', title='Salario medio por tipo de empleo',\n",
    "                template=\"plotly_dark\", color_discrete_sequence=['green'])\n",
    "\n",
    "fig.show()"
   ]
  },
  {
   "attachments": {},
   "cell_type": "markdown",
   "metadata": {},
   "source": [
    "#### Crear un top10 con los empleos mas demandados:"
   ]
  },
  {
   "cell_type": "code",
   "execution_count": 3,
   "metadata": {},
   "outputs": [
    {
     "data": {
      "application/vnd.plotly.v1+json": {
       "config": {
        "plotlyServerURL": "https://plot.ly"
       },
       "data": [
        {
         "domain": {
          "x": [
           0,
           1
          ],
          "y": [
           0,
           1
          ]
         },
         "hovertemplate": "job_title=%{label}<extra></extra>",
         "labels": [
          "Data Scientist",
          "Data Scientist",
          "Applied Scientist",
          "Applied Scientist",
          "Data Scientist",
          "Data Scientist",
          "Data Scientist",
          "Data Scientist",
          "Data Analyst",
          "Data Analyst",
          "Applied Scientist",
          "Applied Scientist",
          "Data Scientist",
          "Data Scientist",
          "Data Analyst",
          "Data Analyst",
          "Research Engineer",
          "Research Engineer",
          "Analytics Engineer",
          "Analytics Engineer",
          "Machine Learning Engineer",
          "Machine Learning Engineer",
          "Data Engineer",
          "Data Engineer",
          "Data Engineer",
          "Data Engineer",
          "Data Analyst",
          "Data Analyst",
          "Machine Learning Engineer",
          "Applied Scientist",
          "Applied Scientist",
          "Data Engineer",
          "Data Engineer",
          "Data Scientist",
          "Data Scientist",
          "Data Scientist",
          "Data Scientist",
          "Data Scientist",
          "Data Scientist",
          "Data Scientist",
          "Data Scientist",
          "Data Engineer",
          "Data Engineer",
          "Research Engineer",
          "Research Engineer",
          "Data Scientist",
          "Data Scientist",
          "Data Engineer",
          "Data Engineer",
          "Data Scientist",
          "Data Scientist",
          "Data Engineer",
          "Data Engineer",
          "Data Engineer",
          "Data Engineer",
          "Applied Scientist",
          "Applied Scientist",
          "Data Engineer",
          "Data Engineer",
          "Data Scientist",
          "Data Scientist",
          "Data Architect",
          "Data Architect",
          "Data Engineer",
          "Data Engineer",
          "Data Scientist",
          "Machine Learning Engineer",
          "Machine Learning Engineer",
          "Data Engineer",
          "Data Engineer",
          "Data Engineer",
          "Data Engineer",
          "Data Scientist",
          "Data Scientist",
          "Data Scientist",
          "Data Scientist",
          "Machine Learning Engineer",
          "Machine Learning Engineer",
          "Data Engineer",
          "Data Engineer",
          "Data Analyst",
          "Data Analyst",
          "Data Analyst",
          "Data Analyst",
          "Data Engineer",
          "Data Engineer",
          "Data Engineer",
          "Data Engineer",
          "Analytics Engineer",
          "Analytics Engineer",
          "Data Engineer",
          "Data Engineer",
          "Research Engineer",
          "Research Engineer",
          "Research Scientist",
          "Machine Learning Engineer",
          "Data Scientist",
          "Data Scientist",
          "Analytics Engineer",
          "Analytics Engineer",
          "Analytics Engineer",
          "Analytics Engineer",
          "Machine Learning Engineer",
          "Machine Learning Engineer",
          "Analytics Engineer",
          "Analytics Engineer",
          "Data Engineer",
          "Data Engineer",
          "Data Engineer",
          "Data Engineer",
          "Data Engineer",
          "Data Engineer",
          "Machine Learning Engineer",
          "Machine Learning Engineer",
          "Data Engineer",
          "Data Engineer",
          "Data Engineer",
          "Data Engineer",
          "Data Scientist",
          "Data Scientist",
          "Data Analyst",
          "Data Analyst",
          "Data Analyst",
          "Data Analyst",
          "Machine Learning Engineer",
          "Machine Learning Engineer",
          "Data Engineer",
          "Data Engineer",
          "Data Scientist",
          "Data Scientist",
          "Analytics Engineer",
          "Analytics Engineer",
          "Data Engineer",
          "Data Engineer",
          "Data Analyst",
          "Data Analyst",
          "Data Engineer",
          "Data Engineer",
          "Data Analyst",
          "Data Analyst",
          "Applied Scientist",
          "Applied Scientist",
          "Machine Learning Engineer",
          "Machine Learning Engineer",
          "Data Engineer",
          "Data Engineer",
          "Analytics Engineer",
          "Analytics Engineer",
          "Data Engineer",
          "Data Engineer",
          "Applied Scientist",
          "Applied Scientist",
          "Data Analyst",
          "Data Analyst",
          "Data Engineer",
          "Data Engineer",
          "Data Engineer",
          "Data Engineer",
          "Data Scientist",
          "Data Scientist",
          "Data Analyst",
          "Data Analyst",
          "Data Engineer",
          "Data Engineer",
          "Machine Learning Engineer",
          "Machine Learning Engineer",
          "Data Scientist",
          "Data Scientist",
          "Data Scientist",
          "Data Scientist",
          "Research Engineer",
          "Research Engineer",
          "Data Architect",
          "Data Architect",
          "Data Architect",
          "Data Architect",
          "Data Engineer",
          "Data Engineer",
          "Data Engineer",
          "Data Engineer",
          "Data Engineer",
          "Data Engineer",
          "Machine Learning Engineer",
          "Machine Learning Engineer",
          "Data Scientist",
          "Data Scientist",
          "Data Analyst",
          "Data Analyst",
          "Data Engineer",
          "Data Analyst",
          "Data Analyst",
          "Data Engineer",
          "Data Engineer",
          "Data Engineer",
          "Data Engineer",
          "Data Engineer",
          "Data Engineer",
          "Data Scientist",
          "Data Scientist",
          "Data Engineer",
          "Data Engineer",
          "Data Engineer",
          "Data Engineer",
          "Data Scientist",
          "Data Scientist",
          "Data Scientist",
          "Data Scientist",
          "Data Scientist",
          "Data Scientist",
          "Data Science Manager",
          "Data Science Manager",
          "Analytics Engineer",
          "Analytics Engineer",
          "Data Scientist",
          "Data Engineer",
          "Data Engineer",
          "Data Analyst",
          "Data Analyst",
          "Research Engineer",
          "Research Engineer",
          "Data Analyst",
          "Data Analyst",
          "Data Engineer",
          "Data Engineer",
          "Data Scientist",
          "Data Scientist",
          "Data Analyst",
          "Data Analyst",
          "Data Scientist",
          "Data Scientist",
          "Data Engineer",
          "Data Engineer",
          "Analytics Engineer",
          "Analytics Engineer",
          "Analytics Engineer",
          "Analytics Engineer",
          "Applied Scientist",
          "Applied Scientist",
          "Data Engineer",
          "Data Engineer",
          "Applied Scientist",
          "Applied Scientist",
          "Research Scientist",
          "Research Scientist",
          "Applied Scientist",
          "Applied Scientist",
          "Data Analyst",
          "Data Analyst",
          "Data Scientist",
          "Data Scientist",
          "Data Engineer",
          "Data Engineer",
          "Data Scientist",
          "Data Scientist",
          "Data Scientist",
          "Data Scientist",
          "Data Scientist",
          "Data Scientist",
          "Applied Scientist",
          "Applied Scientist",
          "Analytics Engineer",
          "Analytics Engineer",
          "Data Analyst",
          "Data Analyst",
          "Research Scientist",
          "Research Scientist",
          "Data Scientist",
          "Data Scientist",
          "Data Engineer",
          "Data Engineer",
          "Data Scientist",
          "Data Scientist",
          "Data Analyst",
          "Data Analyst",
          "Data Analyst",
          "Data Analyst",
          "Data Scientist",
          "Data Scientist",
          "Data Scientist",
          "Data Scientist",
          "Data Analyst",
          "Data Analyst",
          "Data Analyst",
          "Machine Learning Engineer",
          "Machine Learning Engineer",
          "Data Scientist",
          "Data Architect",
          "Data Architect",
          "Data Engineer",
          "Data Engineer",
          "Data Analyst",
          "Data Analyst",
          "Data Scientist",
          "Data Scientist",
          "Data Scientist",
          "Data Scientist",
          "Data Analyst",
          "Data Analyst",
          "Data Engineer",
          "Data Engineer",
          "Machine Learning Engineer",
          "Machine Learning Engineer",
          "Data Engineer",
          "Data Engineer",
          "Data Scientist",
          "Data Scientist",
          "Applied Scientist",
          "Applied Scientist",
          "Data Engineer",
          "Data Engineer",
          "Data Scientist",
          "Data Scientist",
          "Data Scientist",
          "Data Scientist",
          "Machine Learning Engineer",
          "Machine Learning Engineer",
          "Data Engineer",
          "Data Engineer",
          "Data Scientist",
          "Data Scientist",
          "Data Analyst",
          "Data Analyst",
          "Research Scientist",
          "Research Scientist",
          "Data Engineer",
          "Data Engineer",
          "Data Engineer",
          "Data Engineer",
          "Machine Learning Engineer",
          "Machine Learning Engineer",
          "Data Engineer",
          "Data Engineer",
          "Data Analyst",
          "Data Analyst",
          "Data Engineer",
          "Data Engineer",
          "Data Scientist",
          "Data Scientist",
          "Data Scientist",
          "Data Scientist",
          "Data Scientist",
          "Data Scientist",
          "Data Scientist",
          "Data Scientist",
          "Data Engineer",
          "Data Engineer",
          "Data Engineer",
          "Data Engineer",
          "Data Analyst",
          "Data Analyst",
          "Analytics Engineer",
          "Analytics Engineer",
          "Data Analyst",
          "Data Analyst",
          "Research Engineer",
          "Research Engineer",
          "Machine Learning Engineer",
          "Machine Learning Engineer",
          "Data Scientist",
          "Data Scientist",
          "Data Architect",
          "Data Architect",
          "Data Scientist",
          "Data Scientist",
          "Data Scientist",
          "Data Scientist",
          "Data Scientist",
          "Data Scientist",
          "Research Engineer",
          "Research Engineer",
          "Data Analyst",
          "Data Analyst",
          "Data Engineer",
          "Data Engineer",
          "Data Analyst",
          "Data Analyst",
          "Machine Learning Engineer",
          "Machine Learning Engineer",
          "Data Analyst",
          "Data Analyst",
          "Machine Learning Engineer",
          "Machine Learning Engineer",
          "Data Scientist",
          "Data Scientist",
          "Data Scientist",
          "Data Scientist",
          "Applied Scientist",
          "Applied Scientist",
          "Applied Scientist",
          "Applied Scientist",
          "Data Analyst",
          "Data Analyst",
          "Applied Scientist",
          "Applied Scientist",
          "Machine Learning Engineer",
          "Machine Learning Engineer",
          "Data Analyst",
          "Data Analyst",
          "Data Engineer",
          "Data Engineer",
          "Data Analyst",
          "Data Analyst",
          "Data Engineer",
          "Data Engineer",
          "Data Engineer",
          "Data Engineer",
          "Data Engineer",
          "Data Engineer",
          "Data Scientist",
          "Data Scientist",
          "Data Scientist",
          "Data Scientist",
          "Data Architect",
          "Data Architect",
          "Data Scientist",
          "Data Scientist",
          "Data Engineer",
          "Data Engineer",
          "Data Engineer",
          "Data Engineer",
          "Data Engineer",
          "Data Analyst",
          "Data Analyst",
          "Data Engineer",
          "Data Engineer",
          "Data Scientist",
          "Data Scientist",
          "Research Scientist",
          "Research Scientist",
          "Data Scientist",
          "Data Scientist",
          "Data Scientist",
          "Data Scientist",
          "Data Engineer",
          "Data Engineer",
          "Data Engineer",
          "Data Engineer",
          "Data Engineer",
          "Data Engineer",
          "Data Scientist",
          "Data Scientist",
          "Data Engineer",
          "Data Engineer",
          "Machine Learning Engineer",
          "Machine Learning Engineer",
          "Data Analyst",
          "Data Analyst",
          "Data Analyst",
          "Data Analyst",
          "Data Engineer",
          "Data Engineer",
          "Research Scientist",
          "Research Scientist",
          "Research Engineer",
          "Research Engineer",
          "Data Analyst",
          "Data Analyst",
          "Data Scientist",
          "Data Scientist",
          "Data Architect",
          "Data Architect",
          "Data Architect",
          "Data Architect",
          "Research Scientist",
          "Research Scientist",
          "Machine Learning Engineer",
          "Machine Learning Engineer",
          "Machine Learning Engineer",
          "Data Engineer",
          "Data Engineer",
          "Data Scientist",
          "Data Scientist",
          "Data Engineer",
          "Data Engineer",
          "Data Engineer",
          "Data Engineer",
          "Machine Learning Engineer",
          "Machine Learning Engineer",
          "Data Scientist",
          "Data Scientist",
          "Data Analyst",
          "Data Analyst",
          "Analytics Engineer",
          "Analytics Engineer",
          "Data Engineer",
          "Data Engineer",
          "Data Scientist",
          "Data Scientist",
          "Data Engineer",
          "Data Engineer",
          "Data Scientist",
          "Data Scientist",
          "Data Analyst",
          "Data Analyst",
          "Data Analyst",
          "Data Analyst",
          "Data Scientist",
          "Data Scientist",
          "Data Analyst",
          "Data Analyst",
          "Data Engineer",
          "Data Engineer",
          "Data Scientist",
          "Data Scientist",
          "Data Analyst",
          "Data Analyst",
          "Data Analyst",
          "Data Analyst",
          "Data Engineer",
          "Data Engineer",
          "Data Analyst",
          "Data Analyst",
          "Data Scientist",
          "Data Scientist",
          "Data Scientist",
          "Data Scientist",
          "Data Scientist",
          "Data Scientist",
          "Data Scientist",
          "Data Scientist",
          "Data Engineer",
          "Data Engineer",
          "Data Engineer",
          "Data Engineer",
          "Data Scientist",
          "Data Scientist",
          "Data Engineer",
          "Data Engineer",
          "Data Engineer",
          "Data Engineer",
          "Data Analyst",
          "Data Analyst",
          "Data Engineer",
          "Data Engineer",
          "Data Engineer",
          "Data Engineer",
          "Data Scientist",
          "Data Analyst",
          "Data Analyst",
          "Data Scientist",
          "Data Scientist",
          "Data Analyst",
          "Data Analyst",
          "Data Engineer",
          "Data Engineer",
          "Data Scientist",
          "Data Scientist",
          "Data Engineer",
          "Data Engineer",
          "Data Engineer",
          "Data Engineer",
          "Data Scientist",
          "Data Scientist",
          "Data Engineer",
          "Data Engineer",
          "Data Engineer",
          "Data Engineer",
          "Data Scientist",
          "Data Scientist",
          "Data Engineer",
          "Data Engineer",
          "Data Engineer",
          "Data Engineer",
          "Data Engineer",
          "Data Engineer",
          "Data Scientist",
          "Data Scientist",
          "Data Scientist",
          "Data Scientist",
          "Data Engineer",
          "Data Engineer",
          "Data Scientist",
          "Data Scientist",
          "Data Architect",
          "Data Architect",
          "Data Engineer",
          "Data Engineer",
          "Data Engineer",
          "Data Engineer",
          "Data Analyst",
          "Data Analyst",
          "Data Architect",
          "Data Architect",
          "Data Analyst",
          "Data Analyst",
          "Data Analyst",
          "Data Analyst",
          "Data Engineer",
          "Data Engineer",
          "Data Engineer",
          "Data Engineer",
          "Data Analyst",
          "Data Analyst",
          "Data Engineer",
          "Data Engineer",
          "Data Analyst",
          "Data Analyst",
          "Data Scientist",
          "Data Scientist",
          "Machine Learning Engineer",
          "Machine Learning Engineer",
          "Research Engineer",
          "Research Engineer",
          "Data Analyst",
          "Data Analyst",
          "Data Architect",
          "Data Architect",
          "Data Analyst",
          "Data Analyst",
          "Analytics Engineer",
          "Analytics Engineer",
          "Data Analyst",
          "Data Analyst",
          "Data Engineer",
          "Data Engineer",
          "Data Science Manager",
          "Data Science Manager",
          "Data Scientist",
          "Data Scientist",
          "Data Engineer",
          "Data Engineer",
          "Data Engineer",
          "Data Engineer",
          "Data Engineer",
          "Data Engineer",
          "Data Scientist",
          "Data Scientist",
          "Data Scientist",
          "Data Scientist",
          "Applied Scientist",
          "Applied Scientist",
          "Data Analyst",
          "Data Analyst",
          "Data Engineer",
          "Data Engineer",
          "Data Scientist",
          "Data Scientist",
          "Data Engineer",
          "Data Engineer",
          "Data Analyst",
          "Data Analyst",
          "Data Scientist",
          "Data Scientist",
          "Data Scientist",
          "Data Scientist",
          "Research Scientist",
          "Research Scientist",
          "Data Analyst",
          "Data Analyst",
          "Analytics Engineer",
          "Analytics Engineer",
          "Data Analyst",
          "Data Analyst",
          "Data Architect",
          "Data Architect",
          "Data Analyst",
          "Data Analyst",
          "Data Scientist",
          "Machine Learning Engineer",
          "Machine Learning Engineer",
          "Data Engineer",
          "Data Engineer",
          "Data Scientist",
          "Data Scientist",
          "Data Engineer",
          "Data Engineer",
          "Research Scientist",
          "Research Scientist",
          "Data Engineer",
          "Data Engineer",
          "Data Analyst",
          "Data Analyst",
          "Analytics Engineer",
          "Analytics Engineer",
          "Data Engineer",
          "Data Engineer",
          "Data Analyst",
          "Data Analyst",
          "Machine Learning Engineer",
          "Machine Learning Engineer",
          "Data Engineer",
          "Data Engineer",
          "Data Scientist",
          "Data Scientist",
          "Data Engineer",
          "Data Engineer",
          "Machine Learning Engineer",
          "Machine Learning Engineer",
          "Data Engineer",
          "Data Engineer",
          "Data Engineer",
          "Data Engineer",
          "Data Engineer",
          "Data Engineer",
          "Analytics Engineer",
          "Analytics Engineer",
          "Machine Learning Engineer",
          "Machine Learning Engineer",
          "Data Scientist",
          "Data Scientist",
          "Machine Learning Engineer",
          "Machine Learning Engineer",
          "Data Scientist",
          "Data Scientist",
          "Data Engineer",
          "Data Engineer",
          "Data Science Manager",
          "Data Science Manager",
          "Data Engineer",
          "Data Engineer",
          "Data Architect",
          "Data Architect",
          "Data Analyst",
          "Data Analyst",
          "Data Analyst",
          "Data Analyst",
          "Data Engineer",
          "Data Engineer",
          "Data Science Manager",
          "Data Science Manager",
          "Data Engineer",
          "Data Engineer",
          "Data Engineer",
          "Data Engineer",
          "Research Scientist",
          "Research Scientist",
          "Data Analyst",
          "Data Analyst",
          "Data Scientist",
          "Data Scientist",
          "Data Scientist",
          "Data Scientist",
          "Data Analyst",
          "Data Analyst",
          "Data Analyst",
          "Data Analyst",
          "Data Scientist",
          "Data Scientist",
          "Research Scientist",
          "Research Scientist",
          "Data Engineer",
          "Data Engineer",
          "Machine Learning Engineer",
          "Machine Learning Engineer",
          "Data Engineer",
          "Data Engineer",
          "Data Scientist",
          "Data Scientist",
          "Research Scientist",
          "Research Scientist",
          "Machine Learning Engineer",
          "Machine Learning Engineer",
          "Data Engineer",
          "Data Engineer",
          "Data Scientist",
          "Data Analyst",
          "Data Analyst",
          "Data Analyst",
          "Data Analyst",
          "Data Analyst",
          "Machine Learning Engineer",
          "Machine Learning Engineer",
          "Data Engineer",
          "Data Engineer",
          "Data Analyst",
          "Data Analyst",
          "Data Analyst",
          "Data Analyst",
          "Data Scientist",
          "Data Scientist",
          "Data Engineer",
          "Data Engineer",
          "Machine Learning Engineer",
          "Machine Learning Engineer",
          "Data Engineer",
          "Data Engineer",
          "Data Engineer",
          "Data Engineer",
          "Data Analyst",
          "Data Analyst",
          "Data Engineer",
          "Data Engineer",
          "Data Analyst",
          "Data Analyst",
          "Data Analyst",
          "Data Analyst",
          "Research Scientist",
          "Research Scientist",
          "Data Engineer",
          "Data Engineer",
          "Data Scientist",
          "Data Scientist",
          "Data Scientist",
          "Data Scientist",
          "Data Engineer",
          "Data Engineer",
          "Data Analyst",
          "Data Analyst",
          "Data Scientist",
          "Data Scientist",
          "Data Scientist",
          "Data Scientist",
          "Data Scientist",
          "Data Scientist",
          "Machine Learning Engineer",
          "Machine Learning Engineer",
          "Data Engineer",
          "Data Engineer",
          "Data Engineer",
          "Data Engineer",
          "Data Scientist",
          "Data Scientist",
          "Data Analyst",
          "Data Analyst",
          "Data Analyst",
          "Data Analyst",
          "Data Scientist",
          "Data Scientist",
          "Data Engineer",
          "Data Engineer",
          "Data Engineer",
          "Data Engineer",
          "Data Engineer",
          "Data Engineer",
          "Data Engineer",
          "Data Engineer",
          "Data Scientist",
          "Data Scientist",
          "Data Engineer",
          "Data Engineer",
          "Data Engineer",
          "Data Engineer",
          "Data Analyst",
          "Data Analyst",
          "Data Scientist",
          "Data Scientist",
          "Analytics Engineer",
          "Analytics Engineer",
          "Machine Learning Engineer",
          "Machine Learning Engineer",
          "Data Analyst",
          "Data Analyst",
          "Machine Learning Engineer",
          "Machine Learning Engineer",
          "Data Analyst",
          "Data Analyst",
          "Data Engineer",
          "Data Engineer",
          "Data Engineer",
          "Data Engineer",
          "Research Scientist",
          "Research Scientist",
          "Data Scientist",
          "Data Scientist",
          "Data Engineer",
          "Data Engineer",
          "Research Scientist",
          "Research Scientist",
          "Data Scientist",
          "Data Scientist",
          "Data Scientist",
          "Data Scientist",
          "Data Analyst",
          "Research Scientist",
          "Research Scientist",
          "Data Analyst",
          "Data Science Manager",
          "Data Analyst",
          "Data Analyst",
          "Data Analyst",
          "Data Analyst",
          "Data Science Manager",
          "Data Science Manager",
          "Data Analyst",
          "Data Analyst",
          "Machine Learning Engineer",
          "Machine Learning Engineer",
          "Data Analyst",
          "Machine Learning Engineer",
          "Machine Learning Engineer",
          "Data Engineer",
          "Data Engineer",
          "Data Analyst",
          "Data Analyst",
          "Machine Learning Engineer",
          "Machine Learning Engineer",
          "Data Scientist",
          "Data Analyst",
          "Data Analyst",
          "Data Scientist",
          "Data Scientist",
          "Data Analyst",
          "Data Analyst",
          "Machine Learning Engineer",
          "Machine Learning Engineer",
          "Data Engineer",
          "Data Engineer",
          "Data Analyst",
          "Data Analyst",
          "Data Scientist",
          "Data Scientist",
          "Machine Learning Engineer",
          "Machine Learning Engineer",
          "Data Architect",
          "Data Architect",
          "Machine Learning Engineer",
          "Machine Learning Engineer",
          "Data Engineer",
          "Data Engineer",
          "Research Engineer",
          "Research Engineer",
          "Machine Learning Engineer",
          "Machine Learning Engineer",
          "Data Engineer",
          "Data Engineer",
          "Machine Learning Engineer",
          "Machine Learning Engineer",
          "Data Analyst",
          "Data Analyst",
          "Data Engineer",
          "Data Engineer",
          "Data Engineer",
          "Data Engineer",
          "Data Engineer",
          "Data Engineer",
          "Data Analyst",
          "Data Analyst",
          "Data Engineer",
          "Data Engineer",
          "Data Scientist",
          "Data Scientist",
          "Data Analyst",
          "Data Analyst",
          "Data Science Manager",
          "Data Science Manager",
          "Data Analyst",
          "Data Analyst",
          "Data Analyst",
          "Data Analyst",
          "Data Analyst",
          "Data Analyst",
          "Data Engineer",
          "Data Engineer",
          "Data Scientist",
          "Data Analyst",
          "Data Analyst",
          "Data Scientist",
          "Data Scientist",
          "Data Engineer",
          "Data Engineer",
          "Data Engineer",
          "Data Engineer",
          "Data Engineer",
          "Data Engineer",
          "Machine Learning Engineer",
          "Machine Learning Engineer",
          "Data Engineer",
          "Data Engineer",
          "Research Engineer",
          "Research Engineer",
          "Machine Learning Engineer",
          "Machine Learning Engineer",
          "Analytics Engineer",
          "Analytics Engineer",
          "Data Engineer",
          "Data Engineer",
          "Data Engineer",
          "Data Engineer",
          "Data Scientist",
          "Data Scientist",
          "Data Scientist",
          "Data Scientist",
          "Analytics Engineer",
          "Analytics Engineer",
          "Data Scientist",
          "Data Scientist",
          "Data Engineer",
          "Data Analyst",
          "Data Analyst",
          "Data Analyst",
          "Data Analyst",
          "Data Analyst",
          "Data Analyst",
          "Data Engineer",
          "Data Engineer",
          "Machine Learning Engineer",
          "Machine Learning Engineer",
          "Machine Learning Engineer",
          "Machine Learning Engineer",
          "Machine Learning Engineer",
          "Machine Learning Engineer",
          "Machine Learning Engineer",
          "Machine Learning Engineer",
          "Machine Learning Engineer",
          "Machine Learning Engineer",
          "Data Science Manager",
          "Data Science Manager",
          "Data Engineer",
          "Data Engineer",
          "Machine Learning Engineer",
          "Machine Learning Engineer",
          "Data Architect",
          "Data Architect",
          "Data Scientist",
          "Data Scientist",
          "Data Engineer",
          "Data Engineer",
          "Data Analyst",
          "Data Analyst",
          "Data Engineer",
          "Data Engineer",
          "Data Engineer",
          "Data Engineer",
          "Data Engineer",
          "Data Engineer",
          "Data Analyst",
          "Data Analyst",
          "Data Scientist",
          "Data Scientist",
          "Data Engineer",
          "Data Engineer",
          "Data Engineer",
          "Data Engineer",
          "Data Analyst",
          "Data Analyst",
          "Data Analyst",
          "Data Scientist",
          "Data Scientist",
          "Data Scientist",
          "Data Engineer",
          "Data Engineer",
          "Data Engineer",
          "Data Engineer",
          "Data Scientist",
          "Data Scientist",
          "Machine Learning Engineer",
          "Machine Learning Engineer",
          "Data Analyst",
          "Data Analyst",
          "Data Analyst",
          "Data Analyst",
          "Machine Learning Engineer",
          "Machine Learning Engineer",
          "Machine Learning Engineer",
          "Machine Learning Engineer",
          "Data Engineer",
          "Data Engineer",
          "Data Scientist",
          "Data Scientist",
          "Data Architect",
          "Data Architect",
          "Data Analyst",
          "Data Analyst",
          "Machine Learning Engineer",
          "Machine Learning Engineer",
          "Data Scientist",
          "Data Scientist",
          "Data Scientist",
          "Machine Learning Engineer",
          "Research Engineer",
          "Research Engineer",
          "Machine Learning Engineer",
          "Machine Learning Engineer",
          "Data Engineer",
          "Data Engineer",
          "Data Analyst",
          "Data Analyst",
          "Data Engineer",
          "Data Engineer",
          "Data Architect",
          "Data Architect",
          "Data Engineer",
          "Data Engineer",
          "Data Analyst",
          "Data Analyst",
          "Data Analyst",
          "Data Analyst",
          "Data Engineer",
          "Data Engineer",
          "Data Engineer",
          "Data Engineer",
          "Data Scientist",
          "Data Analyst",
          "Data Analyst",
          "Data Engineer",
          "Data Engineer",
          "Data Analyst",
          "Data Analyst",
          "Data Analyst",
          "Data Analyst",
          "Data Analyst",
          "Data Analyst",
          "Data Analyst",
          "Data Analyst",
          "Data Engineer",
          "Data Engineer",
          "Data Engineer",
          "Data Engineer",
          "Research Scientist",
          "Research Scientist",
          "Research Scientist",
          "Research Scientist",
          "Data Scientist",
          "Data Scientist",
          "Data Engineer",
          "Data Engineer",
          "Data Engineer",
          "Data Engineer",
          "Data Engineer",
          "Data Engineer",
          "Machine Learning Engineer",
          "Machine Learning Engineer",
          "Data Engineer",
          "Data Engineer",
          "Data Architect",
          "Data Architect",
          "Data Architect",
          "Data Architect",
          "Data Science Manager",
          "Data Science Manager",
          "Machine Learning Engineer",
          "Machine Learning Engineer",
          "Data Engineer",
          "Data Engineer",
          "Data Analyst",
          "Data Analyst",
          "Data Analyst",
          "Data Analyst",
          "Data Analyst",
          "Data Analyst",
          "Data Analyst",
          "Data Engineer",
          "Data Engineer",
          "Machine Learning Engineer",
          "Machine Learning Engineer",
          "Data Analyst",
          "Data Analyst",
          "Data Analyst",
          "Data Analyst",
          "Data Scientist",
          "Data Scientist",
          "Data Analyst",
          "Data Analyst",
          "Data Analyst",
          "Data Analyst",
          "Data Engineer",
          "Data Engineer",
          "Data Scientist",
          "Data Scientist",
          "Data Engineer",
          "Data Engineer",
          "Data Analyst",
          "Data Analyst",
          "Data Scientist",
          "Data Scientist",
          "Machine Learning Engineer",
          "Data Scientist",
          "Data Scientist",
          "Research Scientist",
          "Research Scientist",
          "Data Scientist",
          "Data Scientist",
          "Machine Learning Engineer",
          "Machine Learning Engineer",
          "Data Scientist",
          "Data Scientist",
          "Machine Learning Engineer",
          "Machine Learning Engineer",
          "Data Scientist",
          "Data Engineer",
          "Data Engineer",
          "Data Engineer",
          "Data Engineer",
          "Data Analyst",
          "Data Analyst",
          "Data Engineer",
          "Data Engineer",
          "Research Scientist",
          "Research Scientist",
          "Research Engineer",
          "Research Engineer",
          "Data Scientist",
          "Data Scientist",
          "Data Engineer",
          "Data Engineer",
          "Data Scientist",
          "Data Scientist",
          "Data Scientist",
          "Data Scientist",
          "Data Scientist",
          "Data Engineer",
          "Data Scientist",
          "Research Scientist",
          "Research Scientist",
          "Machine Learning Engineer",
          "Machine Learning Engineer",
          "Data Engineer",
          "Data Engineer",
          "Data Scientist",
          "Data Scientist",
          "Data Engineer",
          "Data Engineer",
          "Machine Learning Engineer",
          "Machine Learning Engineer",
          "Data Engineer",
          "Data Engineer",
          "Data Engineer",
          "Data Engineer",
          "Data Engineer",
          "Data Engineer",
          "Data Engineer",
          "Data Engineer",
          "Data Engineer",
          "Data Engineer",
          "Data Engineer",
          "Data Engineer",
          "Machine Learning Engineer",
          "Machine Learning Engineer",
          "Data Engineer",
          "Data Engineer",
          "Data Scientist",
          "Data Scientist",
          "Research Scientist",
          "Machine Learning Engineer",
          "Data Engineer",
          "Data Engineer",
          "Data Analyst",
          "Data Analyst",
          "Data Analyst",
          "Data Analyst",
          "Data Engineer",
          "Data Engineer",
          "Applied Scientist",
          "Applied Scientist",
          "Data Scientist",
          "Data Scientist",
          "Data Engineer",
          "Data Engineer",
          "Data Analyst",
          "Data Analyst",
          "Data Scientist",
          "Data Scientist",
          "Data Analyst",
          "Data Analyst",
          "Data Engineer",
          "Data Engineer",
          "Data Scientist",
          "Data Scientist",
          "Machine Learning Engineer",
          "Machine Learning Engineer",
          "Applied Scientist",
          "Applied Scientist",
          "Data Analyst",
          "Data Analyst",
          "Machine Learning Engineer",
          "Machine Learning Engineer",
          "Data Engineer",
          "Data Engineer",
          "Data Scientist",
          "Data Scientist",
          "Machine Learning Engineer",
          "Machine Learning Engineer",
          "Data Scientist",
          "Data Scientist",
          "Data Scientist",
          "Data Scientist",
          "Data Analyst",
          "Data Analyst",
          "Data Engineer",
          "Data Engineer",
          "Data Analyst",
          "Data Analyst",
          "Data Scientist",
          "Data Scientist",
          "Data Scientist",
          "Data Scientist",
          "Data Scientist",
          "Data Scientist",
          "Data Architect",
          "Data Architect",
          "Data Analyst",
          "Data Analyst",
          "Data Analyst",
          "Data Analyst",
          "Data Engineer",
          "Data Engineer",
          "Data Engineer",
          "Data Engineer",
          "Data Scientist",
          "Data Scientist",
          "Data Analyst",
          "Data Science Manager",
          "Data Science Manager",
          "Data Analyst",
          "Data Analyst",
          "Analytics Engineer",
          "Analytics Engineer",
          "Analytics Engineer",
          "Analytics Engineer",
          "Data Engineer",
          "Data Engineer",
          "Data Engineer",
          "Data Engineer",
          "Data Engineer",
          "Data Engineer",
          "Data Scientist",
          "Data Scientist",
          "Data Analyst",
          "Data Analyst",
          "Machine Learning Engineer",
          "Machine Learning Engineer",
          "Data Scientist",
          "Data Scientist",
          "Data Scientist",
          "Data Scientist",
          "Data Analyst",
          "Data Analyst",
          "Data Engineer",
          "Data Engineer",
          "Data Engineer",
          "Data Engineer",
          "Data Analyst",
          "Data Analyst",
          "Data Scientist",
          "Data Scientist",
          "Data Engineer",
          "Data Engineer",
          "Data Engineer",
          "Data Engineer",
          "Data Engineer",
          "Data Engineer",
          "Data Engineer",
          "Data Engineer",
          "Data Engineer",
          "Data Engineer",
          "Data Engineer",
          "Data Engineer",
          "Data Scientist",
          "Data Engineer",
          "Data Engineer",
          "Data Scientist",
          "Data Scientist",
          "Data Analyst",
          "Data Analyst",
          "Data Scientist",
          "Data Scientist",
          "Data Analyst",
          "Data Analyst",
          "Data Engineer",
          "Data Engineer",
          "Data Engineer",
          "Data Engineer",
          "Data Analyst",
          "Data Analyst",
          "Data Engineer",
          "Data Engineer",
          "Data Scientist",
          "Data Scientist",
          "Data Engineer",
          "Data Engineer",
          "Data Engineer",
          "Data Engineer",
          "Data Scientist",
          "Data Scientist",
          "Data Scientist",
          "Data Scientist",
          "Data Scientist",
          "Data Scientist",
          "Data Engineer",
          "Data Engineer",
          "Data Science Manager",
          "Data Science Manager",
          "Research Scientist",
          "Research Scientist",
          "Data Scientist",
          "Data Analyst",
          "Data Analyst",
          "Data Analyst",
          "Data Analyst",
          "Data Engineer",
          "Data Engineer",
          "Data Engineer",
          "Data Engineer",
          "Data Engineer",
          "Data Engineer",
          "Data Scientist",
          "Data Scientist",
          "Data Scientist",
          "Data Scientist",
          "Data Analyst",
          "Data Analyst",
          "Data Architect",
          "Data Architect",
          "Data Scientist",
          "Data Scientist",
          "Data Analyst",
          "Data Analyst",
          "Data Scientist",
          "Data Scientist",
          "Data Architect",
          "Data Architect",
          "Data Scientist",
          "Data Scientist",
          "Data Engineer",
          "Data Engineer",
          "Data Scientist",
          "Data Scientist",
          "Data Scientist",
          "Data Engineer",
          "Data Engineer",
          "Machine Learning Engineer",
          "Machine Learning Engineer",
          "Data Scientist",
          "Data Scientist",
          "Data Analyst",
          "Data Analyst",
          "Data Engineer",
          "Data Engineer",
          "Data Scientist",
          "Data Scientist",
          "Data Scientist",
          "Data Scientist",
          "Data Scientist",
          "Data Analyst",
          "Data Analyst",
          "Data Engineer",
          "Data Engineer",
          "Data Scientist",
          "Data Scientist",
          "Data Scientist",
          "Data Scientist",
          "Data Scientist",
          "Data Scientist",
          "Machine Learning Engineer",
          "Machine Learning Engineer",
          "Machine Learning Engineer",
          "Machine Learning Engineer",
          "Data Scientist",
          "Data Scientist",
          "Data Scientist",
          "Data Scientist",
          "Data Scientist",
          "Data Engineer",
          "Data Engineer",
          "Research Scientist",
          "Research Scientist",
          "Data Engineer",
          "Data Engineer",
          "Data Engineer",
          "Data Engineer",
          "Data Engineer",
          "Data Engineer",
          "Data Scientist",
          "Data Scientist",
          "Data Engineer",
          "Data Engineer",
          "Data Analyst",
          "Data Analyst",
          "Analytics Engineer",
          "Analytics Engineer",
          "Machine Learning Engineer",
          "Machine Learning Engineer",
          "Data Engineer",
          "Data Engineer",
          "Data Architect",
          "Data Architect",
          "Data Engineer",
          "Data Engineer",
          "Data Analyst",
          "Data Analyst",
          "Research Scientist",
          "Research Scientist",
          "Data Science Manager",
          "Data Science Manager",
          "Data Scientist",
          "Data Scientist",
          "Data Engineer",
          "Data Engineer",
          "Data Scientist",
          "Data Scientist",
          "Machine Learning Engineer",
          "Applied Scientist",
          "Applied Scientist",
          "Data Analyst",
          "Data Analyst",
          "Data Engineer",
          "Data Engineer",
          "Data Scientist",
          "Data Scientist",
          "Applied Scientist",
          "Applied Scientist",
          "Data Engineer",
          "Data Engineer",
          "Machine Learning Engineer",
          "Machine Learning Engineer",
          "Data Analyst",
          "Data Analyst",
          "Data Scientist",
          "Data Scientist",
          "Data Analyst",
          "Research Scientist",
          "Research Scientist",
          "Machine Learning Engineer",
          "Machine Learning Engineer",
          "Data Scientist",
          "Data Scientist",
          "Data Scientist",
          "Data Scientist",
          "Data Engineer",
          "Data Engineer",
          "Data Engineer",
          "Data Engineer",
          "Data Engineer",
          "Data Engineer",
          "Research Engineer",
          "Research Engineer",
          "Data Engineer",
          "Data Engineer",
          "Data Analyst",
          "Data Analyst",
          "Data Analyst",
          "Data Analyst",
          "Data Engineer",
          "Data Engineer",
          "Data Scientist",
          "Data Engineer",
          "Data Engineer",
          "Data Engineer",
          "Data Engineer",
          "Data Engineer",
          "Data Engineer",
          "Data Scientist",
          "Research Scientist",
          "Research Scientist",
          "Research Engineer",
          "Research Engineer",
          "Research Scientist",
          "Research Scientist",
          "Research Engineer",
          "Research Engineer",
          "Data Scientist",
          "Data Scientist",
          "Data Scientist",
          "Data Scientist",
          "Data Engineer",
          "Data Engineer",
          "Machine Learning Engineer",
          "Machine Learning Engineer",
          "Data Scientist",
          "Data Scientist",
          "Data Engineer",
          "Data Engineer",
          "Machine Learning Engineer",
          "Machine Learning Engineer",
          "Data Analyst",
          "Data Analyst",
          "Data Architect",
          "Data Architect",
          "Data Scientist",
          "Data Scientist",
          "Applied Scientist",
          "Applied Scientist",
          "Data Scientist",
          "Data Scientist",
          "Data Architect",
          "Data Architect",
          "Data Scientist",
          "Data Scientist",
          "Data Scientist",
          "Data Scientist",
          "Research Scientist",
          "Research Scientist",
          "Data Scientist",
          "Data Scientist",
          "Data Engineer",
          "Data Engineer",
          "Machine Learning Engineer",
          "Machine Learning Engineer",
          "Data Engineer",
          "Data Engineer",
          "Machine Learning Engineer",
          "Machine Learning Engineer",
          "Data Engineer",
          "Data Engineer",
          "Data Architect",
          "Data Architect",
          "Data Engineer",
          "Data Engineer",
          "Data Engineer",
          "Data Engineer",
          "Data Analyst",
          "Data Scientist",
          "Data Analyst",
          "Data Analyst",
          "Machine Learning Engineer",
          "Machine Learning Engineer",
          "Data Scientist",
          "Data Scientist",
          "Data Scientist",
          "Data Engineer",
          "Data Engineer",
          "Data Engineer",
          "Data Engineer",
          "Data Engineer",
          "Data Engineer",
          "Data Scientist",
          "Data Scientist",
          "Data Engineer",
          "Data Engineer",
          "Data Engineer",
          "Data Engineer",
          "Data Engineer",
          "Data Engineer",
          "Data Engineer",
          "Data Engineer",
          "Data Analyst",
          "Data Analyst",
          "Data Scientist",
          "Data Scientist",
          "Data Scientist",
          "Data Scientist",
          "Data Engineer",
          "Data Engineer",
          "Data Engineer",
          "Data Engineer",
          "Machine Learning Engineer",
          "Machine Learning Engineer",
          "Data Scientist",
          "Data Scientist",
          "Data Scientist",
          "Data Scientist",
          "Data Scientist",
          "Data Scientist",
          "Data Analyst",
          "Data Analyst",
          "Data Engineer",
          "Data Engineer",
          "Data Engineer",
          "Data Engineer",
          "Data Engineer",
          "Data Engineer",
          "Data Engineer",
          "Data Engineer",
          "Data Engineer",
          "Data Engineer",
          "Data Analyst",
          "Data Analyst",
          "Data Scientist",
          "Data Scientist",
          "Data Scientist",
          "Data Scientist",
          "Machine Learning Engineer",
          "Machine Learning Engineer",
          "Data Scientist",
          "Data Scientist",
          "Data Engineer",
          "Data Engineer",
          "Data Scientist",
          "Data Scientist",
          "Data Engineer",
          "Data Engineer",
          "Machine Learning Engineer",
          "Machine Learning Engineer",
          "Machine Learning Engineer",
          "Machine Learning Engineer",
          "Data Engineer",
          "Data Engineer",
          "Data Engineer",
          "Data Engineer",
          "Data Science Manager",
          "Data Science Manager",
          "Data Engineer",
          "Data Engineer",
          "Data Analyst",
          "Data Analyst",
          "Applied Scientist",
          "Applied Scientist",
          "Data Scientist",
          "Data Scientist",
          "Data Scientist",
          "Data Engineer",
          "Data Engineer",
          "Data Engineer",
          "Data Engineer",
          "Data Engineer",
          "Data Engineer",
          "Data Engineer",
          "Data Engineer",
          "Data Engineer",
          "Data Engineer",
          "Applied Scientist",
          "Applied Scientist",
          "Data Engineer",
          "Data Engineer",
          "Data Analyst",
          "Data Analyst",
          "Machine Learning Engineer",
          "Machine Learning Engineer",
          "Data Engineer",
          "Data Engineer",
          "Data Engineer",
          "Data Engineer",
          "Data Engineer",
          "Data Engineer",
          "Data Scientist",
          "Data Scientist",
          "Data Engineer",
          "Data Engineer",
          "Data Engineer",
          "Data Analyst",
          "Data Analyst",
          "Data Scientist",
          "Data Scientist",
          "Data Analyst",
          "Data Analyst",
          "Data Scientist",
          "Data Scientist",
          "Data Engineer",
          "Data Engineer",
          "Research Engineer",
          "Research Engineer",
          "Analytics Engineer",
          "Analytics Engineer",
          "Data Scientist",
          "Data Scientist",
          "Data Analyst",
          "Data Analyst",
          "Research Scientist",
          "Research Scientist",
          "Data Engineer",
          "Data Engineer",
          "Data Analyst",
          "Data Analyst",
          "Data Scientist",
          "Data Scientist",
          "Machine Learning Engineer",
          "Machine Learning Engineer",
          "Data Engineer",
          "Data Engineer",
          "Data Scientist",
          "Data Scientist",
          "Data Analyst",
          "Data Analyst",
          "Research Scientist",
          "Research Scientist",
          "Data Engineer",
          "Data Engineer",
          "Data Engineer",
          "Data Engineer",
          "Data Scientist",
          "Data Scientist",
          "Data Analyst",
          "Data Analyst",
          "Data Engineer",
          "Data Engineer",
          "Data Engineer",
          "Data Engineer",
          "Data Scientist",
          "Data Scientist",
          "Data Analyst",
          "Data Analyst",
          "Data Engineer",
          "Data Engineer",
          "Machine Learning Engineer",
          "Machine Learning Engineer",
          "Data Engineer",
          "Data Engineer",
          "Machine Learning Engineer",
          "Machine Learning Engineer",
          "Data Analyst",
          "Data Analyst",
          "Data Analyst",
          "Data Analyst",
          "Data Analyst",
          "Data Analyst",
          "Data Analyst",
          "Data Analyst",
          "Data Analyst",
          "Data Analyst",
          "Data Analyst",
          "Data Scientist",
          "Data Scientist",
          "Data Analyst",
          "Data Analyst",
          "Data Analyst",
          "Machine Learning Engineer",
          "Data Engineer",
          "Data Engineer",
          "Data Engineer",
          "Data Engineer",
          "Data Analyst",
          "Data Engineer",
          "Data Engineer",
          "Data Analyst",
          "Data Analyst",
          "Data Scientist",
          "Data Scientist",
          "Data Architect",
          "Data Architect",
          "Data Scientist",
          "Data Scientist",
          "Data Scientist",
          "Data Scientist",
          "Machine Learning Engineer",
          "Machine Learning Engineer",
          "Data Analyst",
          "Data Analyst",
          "Data Analyst",
          "Data Analyst",
          "Data Engineer",
          "Data Engineer",
          "Data Analyst",
          "Data Analyst",
          "Data Scientist",
          "Data Scientist",
          "Applied Scientist",
          "Applied Scientist",
          "Machine Learning Engineer",
          "Machine Learning Engineer",
          "Machine Learning Engineer",
          "Machine Learning Engineer",
          "Data Engineer",
          "Data Engineer",
          "Data Engineer",
          "Data Engineer",
          "Data Scientist",
          "Data Scientist",
          "Data Engineer",
          "Data Engineer",
          "Data Analyst",
          "Data Analyst",
          "Data Engineer",
          "Data Engineer",
          "Data Analyst",
          "Data Analyst",
          "Data Engineer",
          "Data Engineer",
          "Data Scientist",
          "Data Scientist",
          "Analytics Engineer",
          "Analytics Engineer",
          "Data Engineer",
          "Data Engineer",
          "Data Scientist",
          "Data Scientist",
          "Data Scientist",
          "Data Scientist",
          "Data Engineer",
          "Data Engineer",
          "Data Scientist",
          "Data Engineer",
          "Data Engineer",
          "Data Engineer",
          "Data Engineer",
          "Data Engineer",
          "Data Engineer",
          "Data Architect",
          "Data Architect",
          "Data Analyst",
          "Data Analyst",
          "Data Engineer",
          "Data Engineer",
          "Data Engineer",
          "Data Engineer",
          "Data Scientist",
          "Data Scientist",
          "Data Analyst",
          "Data Analyst",
          "Data Engineer",
          "Data Engineer",
          "Machine Learning Engineer",
          "Machine Learning Engineer",
          "Data Engineer",
          "Data Engineer",
          "Data Scientist",
          "Data Scientist",
          "Data Engineer",
          "Data Engineer",
          "Data Scientist",
          "Data Scientist",
          "Data Scientist",
          "Data Scientist",
          "Data Scientist",
          "Data Scientist",
          "Data Engineer",
          "Data Engineer",
          "Data Scientist",
          "Data Scientist",
          "Data Analyst",
          "Data Analyst",
          "Data Engineer",
          "Data Engineer",
          "Data Engineer",
          "Data Engineer",
          "Data Analyst",
          "Data Analyst",
          "Data Analyst",
          "Data Analyst",
          "Data Analyst",
          "Data Analyst",
          "Data Analyst",
          "Data Analyst",
          "Data Engineer",
          "Data Engineer",
          "Data Architect",
          "Data Architect",
          "Data Analyst",
          "Data Analyst",
          "Machine Learning Engineer",
          "Machine Learning Engineer",
          "Data Analyst",
          "Data Analyst",
          "Data Analyst",
          "Data Analyst",
          "Research Engineer",
          "Research Engineer",
          "Data Analyst",
          "Data Analyst",
          "Data Engineer",
          "Data Engineer",
          "Machine Learning Engineer",
          "Machine Learning Engineer",
          "Data Engineer",
          "Data Engineer",
          "Data Analyst",
          "Data Analyst",
          "Data Engineer",
          "Data Engineer",
          "Data Engineer",
          "Data Engineer",
          "Data Engineer",
          "Data Engineer",
          "Data Engineer",
          "Data Engineer",
          "Data Engineer",
          "Data Engineer",
          "Data Engineer",
          "Data Engineer",
          "Data Scientist",
          "Data Scientist",
          "Data Analyst",
          "Data Analyst",
          "Data Analyst",
          "Data Engineer",
          "Data Engineer",
          "Analytics Engineer",
          "Analytics Engineer",
          "Data Engineer",
          "Data Engineer",
          "Data Engineer",
          "Data Engineer",
          "Data Scientist",
          "Data Scientist",
          "Data Scientist",
          "Data Scientist",
          "Data Scientist",
          "Data Scientist",
          "Data Architect",
          "Data Architect",
          "Data Engineer",
          "Data Engineer",
          "Data Engineer",
          "Data Engineer",
          "Data Engineer",
          "Data Engineer",
          "Data Engineer",
          "Data Engineer",
          "Data Engineer",
          "Data Engineer",
          "Data Scientist",
          "Data Scientist",
          "Data Scientist",
          "Data Scientist",
          "Machine Learning Engineer",
          "Data Analyst",
          "Data Analyst",
          "Analytics Engineer",
          "Analytics Engineer",
          "Data Engineer",
          "Data Engineer",
          "Data Analyst",
          "Data Analyst",
          "Data Scientist",
          "Data Scientist",
          "Data Analyst",
          "Data Analyst",
          "Data Engineer",
          "Data Engineer",
          "Data Engineer",
          "Data Engineer",
          "Data Engineer",
          "Data Engineer",
          "Data Analyst",
          "Data Analyst",
          "Data Engineer",
          "Data Engineer",
          "Data Engineer",
          "Data Engineer",
          "Data Engineer",
          "Data Engineer",
          "Data Science Manager",
          "Data Science Manager",
          "Data Scientist",
          "Data Scientist",
          "Data Scientist",
          "Data Scientist",
          "Data Engineer",
          "Data Engineer",
          "Applied Scientist",
          "Applied Scientist",
          "Data Scientist",
          "Data Scientist",
          "Data Science Manager",
          "Data Science Manager",
          "Data Analyst",
          "Data Analyst",
          "Applied Scientist",
          "Applied Scientist",
          "Data Engineer",
          "Data Engineer",
          "Data Analyst",
          "Data Analyst",
          "Applied Scientist",
          "Applied Scientist",
          "Data Engineer",
          "Data Engineer",
          "Data Engineer",
          "Data Engineer",
          "Data Engineer",
          "Data Engineer",
          "Data Engineer",
          "Data Engineer",
          "Data Engineer",
          "Data Engineer",
          "Data Scientist",
          "Data Engineer",
          "Data Engineer",
          "Analytics Engineer",
          "Analytics Engineer",
          "Data Engineer",
          "Data Engineer",
          "Analytics Engineer",
          "Analytics Engineer",
          "Analytics Engineer",
          "Analytics Engineer",
          "Data Engineer",
          "Data Engineer",
          "Data Scientist",
          "Data Scientist",
          "Research Scientist",
          "Research Scientist",
          "Machine Learning Engineer",
          "Machine Learning Engineer",
          "Data Engineer",
          "Data Engineer",
          "Data Scientist",
          "Data Scientist",
          "Machine Learning Engineer",
          "Machine Learning Engineer",
          "Data Scientist",
          "Data Scientist",
          "Data Scientist",
          "Data Scientist",
          "Machine Learning Engineer",
          "Machine Learning Engineer",
          "Data Engineer",
          "Data Engineer",
          "Data Analyst",
          "Data Analyst",
          "Data Analyst",
          "Data Analyst",
          "Data Scientist",
          "Data Scientist",
          "Applied Scientist",
          "Applied Scientist",
          "Data Scientist",
          "Data Engineer",
          "Data Engineer",
          "Data Scientist",
          "Data Scientist",
          "Data Analyst",
          "Data Analyst",
          "Machine Learning Engineer",
          "Machine Learning Engineer",
          "Machine Learning Engineer",
          "Machine Learning Engineer",
          "Data Scientist",
          "Data Scientist",
          "Data Scientist",
          "Data Scientist",
          "Data Scientist",
          "Data Scientist",
          "Data Analyst",
          "Data Analyst",
          "Machine Learning Engineer",
          "Machine Learning Engineer",
          "Machine Learning Engineer",
          "Data Engineer",
          "Data Engineer",
          "Data Analyst",
          "Data Analyst",
          "Data Analyst",
          "Data Analyst",
          "Data Engineer",
          "Data Engineer",
          "Data Engineer",
          "Data Engineer",
          "Data Scientist",
          "Data Scientist",
          "Data Scientist",
          "Data Scientist",
          "Data Scientist",
          "Data Scientist",
          "Data Architect",
          "Data Architect",
          "Data Analyst",
          "Data Analyst",
          "Data Engineer",
          "Data Engineer",
          "Data Engineer",
          "Data Engineer",
          "Data Scientist",
          "Data Scientist",
          "Data Analyst",
          "Data Analyst",
          "Data Analyst",
          "Data Analyst",
          "Data Analyst",
          "Data Analyst",
          "Data Engineer",
          "Data Engineer",
          "Data Engineer",
          "Data Engineer",
          "Data Analyst",
          "Data Analyst",
          "Data Architect",
          "Data Architect",
          "Data Engineer",
          "Data Engineer",
          "Data Engineer",
          "Data Engineer",
          "Data Engineer",
          "Data Engineer",
          "Machine Learning Engineer",
          "Machine Learning Engineer",
          "Data Scientist",
          "Data Scientist",
          "Data Scientist",
          "Data Scientist",
          "Data Engineer",
          "Data Engineer",
          "Data Scientist",
          "Data Scientist",
          "Data Scientist",
          "Data Scientist",
          "Data Analyst",
          "Data Analyst",
          "Data Engineer",
          "Data Engineer",
          "Data Engineer",
          "Data Engineer",
          "Data Scientist",
          "Data Scientist",
          "Data Engineer",
          "Data Engineer",
          "Data Engineer",
          "Data Engineer",
          "Data Scientist",
          "Data Scientist",
          "Data Engineer",
          "Data Engineer",
          "Data Scientist",
          "Data Scientist",
          "Data Analyst",
          "Data Analyst",
          "Data Analyst",
          "Data Analyst",
          "Data Scientist",
          "Data Analyst",
          "Data Scientist",
          "Machine Learning Engineer",
          "Machine Learning Engineer",
          "Data Analyst",
          "Data Analyst",
          "Data Engineer",
          "Data Engineer",
          "Data Scientist",
          "Data Scientist",
          "Data Analyst",
          "Data Analyst",
          "Data Analyst",
          "Data Analyst",
          "Analytics Engineer",
          "Analytics Engineer",
          "Data Analyst",
          "Data Analyst",
          "Data Engineer",
          "Data Engineer",
          "Data Scientist",
          "Data Scientist",
          "Data Scientist",
          "Data Scientist",
          "Data Analyst",
          "Data Analyst",
          "Machine Learning Engineer",
          "Machine Learning Engineer",
          "Research Engineer",
          "Data Analyst",
          "Data Engineer",
          "Data Engineer",
          "Data Engineer",
          "Data Engineer",
          "Data Engineer",
          "Data Engineer",
          "Data Engineer",
          "Data Engineer",
          "Data Engineer",
          "Data Engineer",
          "Data Engineer",
          "Data Engineer",
          "Machine Learning Engineer",
          "Machine Learning Engineer",
          "Data Engineer",
          "Data Engineer",
          "Analytics Engineer",
          "Analytics Engineer",
          "Data Scientist",
          "Data Scientist",
          "Data Analyst",
          "Data Analyst",
          "Data Architect",
          "Data Architect",
          "Data Scientist",
          "Data Scientist",
          "Data Engineer",
          "Data Engineer",
          "Data Scientist",
          "Data Scientist",
          "Data Analyst",
          "Data Analyst",
          "Data Engineer",
          "Data Engineer",
          "Data Engineer",
          "Data Engineer",
          "Data Scientist",
          "Data Scientist",
          "Data Scientist",
          "Analytics Engineer",
          "Analytics Engineer",
          "Data Engineer",
          "Data Engineer",
          "Data Analyst",
          "Data Analyst",
          "Data Engineer",
          "Data Engineer",
          "Data Architect",
          "Data Architect",
          "Data Engineer",
          "Data Engineer",
          "Data Analyst",
          "Data Analyst",
          "Data Engineer",
          "Data Engineer",
          "Data Analyst",
          "Data Analyst",
          "Data Scientist",
          "Data Scientist",
          "Data Scientist",
          "Data Scientist",
          "Data Scientist",
          "Data Engineer",
          "Data Engineer",
          "Data Analyst",
          "Data Analyst",
          "Data Engineer",
          "Data Engineer",
          "Data Engineer",
          "Data Scientist",
          "Data Scientist",
          "Data Scientist",
          "Data Scientist",
          "Data Scientist",
          "Data Scientist",
          "Machine Learning Engineer",
          "Data Scientist",
          "Data Scientist",
          "Data Analyst",
          "Data Analyst",
          "Data Scientist",
          "Data Scientist",
          "Data Engineer",
          "Data Engineer",
          "Data Scientist",
          "Data Scientist",
          "Data Scientist",
          "Data Scientist",
          "Data Engineer",
          "Data Engineer",
          "Data Scientist",
          "Data Scientist",
          "Data Scientist",
          "Data Scientist",
          "Data Scientist",
          "Data Scientist",
          "Data Scientist",
          "Data Scientist",
          "Data Scientist",
          "Data Scientist",
          "Data Engineer",
          "Data Engineer",
          "Data Analyst",
          "Data Analyst",
          "Analytics Engineer",
          "Analytics Engineer",
          "Data Scientist",
          "Data Scientist",
          "Data Analyst",
          "Data Analyst",
          "Data Engineer",
          "Data Engineer",
          "Data Engineer",
          "Data Engineer",
          "Data Scientist",
          "Data Scientist",
          "Data Scientist",
          "Data Scientist",
          "Data Engineer",
          "Data Engineer",
          "Data Analyst",
          "Data Analyst",
          "Data Architect",
          "Data Architect",
          "Data Scientist",
          "Data Scientist",
          "Data Scientist",
          "Data Scientist",
          "Data Analyst",
          "Data Analyst",
          "Data Scientist",
          "Data Scientist",
          "Data Scientist",
          "Data Engineer",
          "Data Engineer",
          "Data Engineer",
          "Data Engineer",
          "Data Architect",
          "Data Architect",
          "Data Scientist",
          "Data Engineer",
          "Data Engineer",
          "Data Analyst",
          "Data Analyst",
          "Data Engineer",
          "Data Engineer",
          "Data Scientist",
          "Data Scientist",
          "Applied Scientist",
          "Applied Scientist",
          "Data Analyst",
          "Data Analyst",
          "Data Scientist",
          "Data Scientist",
          "Data Scientist",
          "Data Analyst",
          "Research Scientist",
          "Research Scientist",
          "Data Engineer",
          "Data Engineer",
          "Analytics Engineer",
          "Analytics Engineer",
          "Machine Learning Engineer",
          "Machine Learning Engineer",
          "Data Engineer",
          "Data Engineer",
          "Analytics Engineer",
          "Analytics Engineer",
          "Data Analyst",
          "Data Engineer",
          "Data Engineer",
          "Data Analyst",
          "Machine Learning Engineer",
          "Machine Learning Engineer",
          "Data Engineer",
          "Data Engineer",
          "Data Engineer",
          "Data Engineer",
          "Data Scientist",
          "Data Engineer",
          "Data Engineer",
          "Data Engineer",
          "Data Engineer",
          "Data Scientist",
          "Data Scientist",
          "Data Engineer",
          "Data Engineer",
          "Data Analyst",
          "Data Analyst",
          "Data Scientist",
          "Data Scientist",
          "Data Science Manager",
          "Data Science Manager",
          "Data Engineer",
          "Data Engineer",
          "Machine Learning Engineer",
          "Machine Learning Engineer",
          "Data Scientist",
          "Data Scientist",
          "Data Architect",
          "Data Architect",
          "Analytics Engineer",
          "Analytics Engineer",
          "Data Scientist",
          "Data Scientist",
          "Data Engineer",
          "Data Engineer",
          "Data Scientist",
          "Data Scientist",
          "Data Scientist",
          "Data Scientist",
          "Data Scientist",
          "Data Scientist",
          "Data Scientist",
          "Data Scientist",
          "Data Analyst",
          "Data Analyst",
          "Data Scientist",
          "Data Scientist",
          "Data Scientist",
          "Data Scientist",
          "Data Scientist",
          "Data Scientist",
          "Machine Learning Engineer",
          "Machine Learning Engineer",
          "Data Scientist",
          "Data Scientist",
          "Data Scientist",
          "Data Scientist",
          "Data Scientist",
          "Data Scientist",
          "Data Scientist",
          "Data Scientist",
          "Data Engineer",
          "Data Engineer",
          "Data Engineer",
          "Data Engineer",
          "Data Engineer",
          "Data Engineer",
          "Data Analyst",
          "Data Analyst",
          "Data Scientist",
          "Data Scientist",
          "Data Analyst",
          "Data Analyst",
          "Data Architect",
          "Data Architect",
          "Machine Learning Engineer",
          "Machine Learning Engineer",
          "Data Architect",
          "Data Architect",
          "Data Architect",
          "Data Architect",
          "Data Engineer",
          "Data Engineer",
          "Data Engineer",
          "Data Engineer",
          "Data Engineer",
          "Data Engineer",
          "Machine Learning Engineer",
          "Data Engineer",
          "Data Engineer",
          "Data Engineer",
          "Data Engineer",
          "Analytics Engineer",
          "Analytics Engineer",
          "Data Scientist",
          "Data Scientist",
          "Data Architect",
          "Data Architect",
          "Data Scientist",
          "Data Scientist",
          "Data Science Manager",
          "Data Science Manager",
          "Data Engineer",
          "Data Engineer",
          "Analytics Engineer",
          "Analytics Engineer",
          "Data Engineer",
          "Data Engineer",
          "Data Engineer",
          "Data Scientist",
          "Data Scientist",
          "Data Analyst",
          "Data Scientist",
          "Data Scientist",
          "Data Scientist",
          "Data Scientist",
          "Data Analyst",
          "Data Analyst",
          "Data Scientist",
          "Data Scientist",
          "Data Engineer",
          "Data Engineer",
          "Data Engineer",
          "Data Engineer",
          "Data Engineer",
          "Data Engineer",
          "Data Engineer",
          "Data Engineer",
          "Data Engineer",
          "Data Engineer",
          "Data Engineer",
          "Data Scientist",
          "Data Scientist",
          "Data Analyst",
          "Applied Scientist",
          "Applied Scientist",
          "Data Scientist",
          "Data Scientist",
          "Data Analyst",
          "Data Scientist",
          "Data Scientist",
          "Analytics Engineer",
          "Analytics Engineer",
          "Data Engineer",
          "Data Engineer",
          "Data Scientist",
          "Data Scientist",
          "Data Scientist",
          "Data Scientist",
          "Data Scientist",
          "Data Scientist",
          "Data Scientist",
          "Data Scientist",
          "Data Engineer",
          "Data Engineer",
          "Data Engineer",
          "Data Engineer",
          "Data Engineer",
          "Data Engineer",
          "Data Scientist",
          "Data Scientist",
          "Data Scientist",
          "Data Scientist",
          "Analytics Engineer",
          "Analytics Engineer",
          "Data Scientist",
          "Data Scientist",
          "Data Engineer",
          "Data Engineer",
          "Data Scientist",
          "Data Scientist",
          "Data Scientist",
          "Data Scientist",
          "Data Analyst",
          "Data Scientist",
          "Data Analyst",
          "Data Engineer",
          "Data Scientist",
          "Data Scientist",
          "Analytics Engineer",
          "Analytics Engineer",
          "Data Scientist",
          "Data Scientist",
          "Data Scientist",
          "Data Scientist",
          "Data Scientist",
          "Data Scientist",
          "Data Scientist",
          "Data Scientist",
          "Analytics Engineer",
          "Data Analyst",
          "Data Scientist",
          "Data Scientist",
          "Data Analyst",
          "Data Scientist",
          "Data Scientist",
          "Analytics Engineer",
          "Analytics Engineer",
          "Data Scientist",
          "Data Scientist",
          "Research Scientist",
          "Data Engineer",
          "Data Engineer",
          "Data Scientist",
          "Data Scientist",
          "Data Scientist",
          "Data Engineer",
          "Data Engineer",
          "Analytics Engineer",
          "Analytics Engineer",
          "Analytics Engineer",
          "Analytics Engineer",
          "Data Engineer",
          "Data Engineer",
          "Machine Learning Engineer",
          "Data Scientist",
          "Data Scientist",
          "Data Scientist",
          "Data Scientist",
          "Machine Learning Engineer",
          "Machine Learning Engineer",
          "Data Science Manager",
          "Data Science Manager",
          "Data Scientist",
          "Data Scientist",
          "Analytics Engineer",
          "Analytics Engineer",
          "Data Analyst",
          "Data Analyst",
          "Data Scientist",
          "Data Scientist",
          "Data Engineer",
          "Data Engineer",
          "Machine Learning Engineer",
          "Machine Learning Engineer",
          "Data Science Manager",
          "Data Science Manager",
          "Machine Learning Engineer",
          "Machine Learning Engineer",
          "Data Architect",
          "Data Architect",
          "Data Engineer",
          "Data Engineer",
          "Machine Learning Engineer",
          "Machine Learning Engineer",
          "Data Engineer",
          "Data Engineer",
          "Analytics Engineer",
          "Analytics Engineer",
          "Data Engineer",
          "Data Engineer",
          "Data Analyst",
          "Data Analyst",
          "Data Engineer",
          "Data Engineer",
          "Machine Learning Engineer",
          "Machine Learning Engineer",
          "Machine Learning Engineer",
          "Data Analyst",
          "Data Analyst",
          "Data Analyst",
          "Data Analyst",
          "Data Engineer",
          "Data Engineer",
          "Machine Learning Engineer",
          "Machine Learning Engineer",
          "Data Analyst",
          "Data Scientist",
          "Data Scientist",
          "Data Scientist",
          "Data Scientist",
          "Data Engineer",
          "Data Engineer",
          "Data Architect",
          "Data Architect",
          "Data Analyst",
          "Data Scientist",
          "Data Architect",
          "Data Architect",
          "Data Science Manager",
          "Data Science Manager",
          "Data Engineer",
          "Data Engineer",
          "Data Engineer",
          "Data Engineer",
          "Data Engineer",
          "Data Engineer",
          "Machine Learning Engineer",
          "Machine Learning Engineer",
          "Data Engineer",
          "Data Engineer",
          "Machine Learning Engineer",
          "Machine Learning Engineer",
          "Machine Learning Engineer",
          "Data Scientist",
          "Data Scientist",
          "Data Analyst",
          "Data Analyst",
          "Data Analyst",
          "Data Scientist",
          "Research Scientist",
          "Data Scientist",
          "Analytics Engineer",
          "Data Science Manager",
          "Data Science Manager",
          "Data Engineer",
          "Data Engineer",
          "Data Analyst",
          "Data Analyst",
          "Data Scientist",
          "Data Engineer",
          "Data Engineer",
          "Analytics Engineer",
          "Analytics Engineer",
          "Data Engineer",
          "Data Engineer",
          "Data Architect",
          "Data Architect",
          "Data Engineer",
          "Data Engineer",
          "Analytics Engineer",
          "Data Engineer",
          "Data Engineer",
          "Data Scientist",
          "Data Scientist",
          "Machine Learning Engineer",
          "Data Analyst",
          "Data Engineer",
          "Data Engineer",
          "Data Scientist",
          "Data Science Manager",
          "Data Science Manager",
          "Data Engineer",
          "Data Engineer",
          "Data Scientist",
          "Data Analyst",
          "Data Analyst",
          "Machine Learning Engineer",
          "Machine Learning Engineer",
          "Data Analyst",
          "Data Analyst",
          "Data Scientist",
          "Data Scientist",
          "Data Engineer",
          "Data Engineer",
          "Data Engineer",
          "Data Engineer",
          "Data Analyst",
          "Data Analyst",
          "Data Engineer",
          "Data Engineer",
          "Data Engineer",
          "Data Engineer",
          "Data Scientist",
          "Data Scientist",
          "Data Scientist",
          "Data Analyst",
          "Data Scientist",
          "Data Engineer",
          "Data Engineer",
          "Data Analyst",
          "Data Analyst",
          "Data Scientist",
          "Data Scientist",
          "Machine Learning Engineer",
          "Machine Learning Engineer",
          "Data Analyst",
          "Data Analyst",
          "Data Engineer",
          "Data Engineer",
          "Data Science Manager",
          "Machine Learning Engineer",
          "Data Engineer",
          "Data Engineer",
          "Data Scientist",
          "Data Scientist",
          "Data Analyst",
          "Data Analyst",
          "Data Science Manager",
          "Data Science Manager",
          "Data Engineer",
          "Machine Learning Engineer",
          "Machine Learning Engineer",
          "Data Analyst",
          "Data Analyst",
          "Data Scientist",
          "Data Engineer",
          "Data Engineer",
          "Data Scientist",
          "Data Scientist",
          "Data Engineer",
          "Data Engineer",
          "Data Analyst",
          "Data Analyst",
          "Data Engineer",
          "Data Engineer",
          "Machine Learning Engineer",
          "Data Analyst",
          "Data Analyst",
          "Data Scientist",
          "Data Scientist",
          "Machine Learning Engineer",
          "Machine Learning Engineer",
          "Data Engineer",
          "Data Engineer",
          "Data Architect",
          "Data Architect",
          "Data Engineer",
          "Data Engineer",
          "Data Analyst",
          "Data Analyst",
          "Machine Learning Engineer",
          "Data Engineer",
          "Data Engineer",
          "Data Analyst",
          "Data Analyst",
          "Data Analyst",
          "Data Analyst",
          "Data Engineer",
          "Data Engineer",
          "Data Engineer",
          "Data Engineer",
          "Data Engineer",
          "Data Engineer",
          "Machine Learning Engineer",
          "Machine Learning Engineer",
          "Data Analyst",
          "Data Analyst",
          "Data Engineer",
          "Data Engineer",
          "Data Scientist",
          "Data Scientist",
          "Data Engineer",
          "Data Engineer",
          "Data Scientist",
          "Data Scientist",
          "Data Scientist",
          "Data Scientist",
          "Data Engineer",
          "Data Engineer",
          "Data Engineer",
          "Data Engineer",
          "Machine Learning Engineer",
          "Data Engineer",
          "Data Engineer",
          "Data Science Manager",
          "Data Science Manager",
          "Data Scientist",
          "Data Scientist",
          "Data Analyst",
          "Data Analyst",
          "Data Engineer",
          "Data Engineer",
          "Data Engineer",
          "Data Engineer",
          "Data Scientist",
          "Data Scientist",
          "Data Engineer",
          "Data Engineer",
          "Data Scientist",
          "Data Scientist",
          "Data Analyst",
          "Data Analyst",
          "Data Engineer",
          "Data Engineer",
          "Data Engineer",
          "Data Engineer",
          "Data Scientist",
          "Data Scientist",
          "Data Analyst",
          "Data Analyst",
          "Data Analyst",
          "Data Analyst",
          "Data Analyst",
          "Data Analyst",
          "Data Scientist",
          "Data Scientist",
          "Data Engineer",
          "Data Engineer",
          "Data Analyst",
          "Data Analyst",
          "Data Scientist",
          "Data Scientist",
          "Data Scientist",
          "Data Scientist",
          "Data Scientist",
          "Data Scientist",
          "Data Engineer",
          "Data Engineer",
          "Data Analyst",
          "Data Analyst",
          "Data Analyst",
          "Data Analyst",
          "Data Science Manager",
          "Data Science Manager",
          "Data Scientist",
          "Data Scientist",
          "Data Engineer",
          "Data Engineer",
          "Data Scientist",
          "Data Scientist",
          "Data Architect",
          "Data Architect",
          "Data Analyst",
          "Data Analyst",
          "Data Analyst",
          "Data Analyst",
          "Data Engineer",
          "Data Engineer",
          "Data Scientist",
          "Data Scientist",
          "Data Analyst",
          "Data Analyst",
          "Data Analyst",
          "Data Analyst",
          "Data Analyst",
          "Data Analyst",
          "Data Engineer",
          "Data Engineer",
          "Data Engineer",
          "Data Engineer",
          "Data Analyst",
          "Data Analyst",
          "Data Engineer",
          "Data Engineer",
          "Analytics Engineer",
          "Analytics Engineer",
          "Data Engineer",
          "Data Engineer",
          "Data Engineer",
          "Data Engineer",
          "Data Scientist",
          "Data Scientist",
          "Data Scientist",
          "Data Scientist",
          "Data Engineer",
          "Data Engineer",
          "Data Engineer",
          "Data Engineer",
          "Data Scientist",
          "Data Scientist",
          "Analytics Engineer",
          "Analytics Engineer",
          "Data Engineer",
          "Data Engineer",
          "Data Analyst",
          "Data Analyst",
          "Data Engineer",
          "Data Engineer",
          "Data Analyst",
          "Data Analyst",
          "Data Analyst",
          "Data Analyst",
          "Machine Learning Engineer",
          "Machine Learning Engineer",
          "Data Architect",
          "Data Architect",
          "Data Engineer",
          "Data Engineer",
          "Data Scientist",
          "Data Scientist",
          "Data Analyst",
          "Data Analyst",
          "Data Engineer",
          "Data Engineer",
          "Data Engineer",
          "Data Engineer",
          "Data Analyst",
          "Data Analyst",
          "Data Analyst",
          "Data Analyst",
          "Data Architect",
          "Data Architect",
          "Data Scientist",
          "Data Scientist",
          "Data Analyst",
          "Data Analyst",
          "Data Scientist",
          "Data Scientist",
          "Data Analyst",
          "Data Analyst",
          "Data Engineer",
          "Data Engineer",
          "Data Analyst",
          "Data Analyst",
          "Data Scientist",
          "Data Scientist",
          "Data Scientist",
          "Data Scientist",
          "Data Scientist",
          "Data Scientist",
          "Data Analyst",
          "Data Analyst",
          "Data Scientist",
          "Data Scientist",
          "Data Analyst",
          "Data Analyst",
          "Data Engineer",
          "Data Engineer",
          "Data Analyst",
          "Data Analyst",
          "Data Engineer",
          "Data Engineer",
          "Data Analyst",
          "Data Analyst",
          "Data Analyst",
          "Data Analyst",
          "Data Scientist",
          "Data Scientist",
          "Data Analyst",
          "Data Analyst",
          "Data Scientist",
          "Data Scientist",
          "Data Scientist",
          "Data Scientist",
          "Machine Learning Engineer",
          "Machine Learning Engineer",
          "Data Scientist",
          "Data Scientist",
          "Machine Learning Engineer",
          "Machine Learning Engineer",
          "Data Engineer",
          "Data Engineer",
          "Data Engineer",
          "Data Engineer",
          "Data Scientist",
          "Data Scientist",
          "Data Engineer",
          "Data Engineer",
          "Machine Learning Engineer",
          "Data Scientist",
          "Data Engineer",
          "Data Scientist",
          "Data Engineer",
          "Machine Learning Engineer",
          "Data Scientist",
          "Data Scientist",
          "Data Analyst",
          "Data Scientist",
          "Data Scientist",
          "Data Engineer",
          "Data Engineer",
          "Machine Learning Engineer",
          "Data Scientist",
          "Machine Learning Engineer",
          "Data Engineer",
          "Research Scientist",
          "Data Scientist",
          "Data Scientist",
          "Data Scientist",
          "Data Scientist",
          "Research Scientist",
          "Data Engineer",
          "Research Scientist",
          "Data Science Manager",
          "Research Scientist",
          "Data Scientist",
          "Data Engineer",
          "Data Science Manager",
          "Data Analyst",
          "Data Scientist",
          "Data Scientist",
          "Data Engineer",
          "Data Scientist",
          "Data Analyst",
          "Data Scientist",
          "Data Scientist",
          "Data Scientist",
          "Research Scientist",
          "Data Scientist",
          "Data Scientist",
          "Data Engineer",
          "Machine Learning Engineer",
          "Data Scientist",
          "Data Analyst",
          "Data Analyst",
          "Data Engineer",
          "Data Engineer",
          "Machine Learning Engineer",
          "Data Engineer",
          "Research Scientist",
          "Data Engineer",
          "Data Architect",
          "Data Architect",
          "Data Engineer",
          "Data Scientist",
          "Machine Learning Engineer",
          "Research Scientist",
          "Data Analyst",
          "Data Engineer",
          "Data Science Manager",
          "Data Scientist",
          "Data Scientist",
          "Data Scientist",
          "Data Engineer",
          "Data Engineer",
          "Data Analyst",
          "Data Analyst",
          "Data Scientist",
          "Machine Learning Engineer",
          "Data Engineer",
          "Research Scientist",
          "Machine Learning Engineer",
          "Data Analyst",
          "Data Analyst",
          "Data Analyst",
          "Machine Learning Engineer",
          "Data Engineer",
          "Data Analyst",
          "Data Scientist",
          "Data Scientist",
          "Data Engineer",
          "Data Engineer",
          "Machine Learning Engineer",
          "Data Engineer",
          "Data Engineer",
          "Data Engineer",
          "Research Scientist",
          "Data Analyst",
          "Data Engineer",
          "Data Engineer",
          "Data Engineer",
          "Data Scientist",
          "Data Scientist",
          "Data Engineer",
          "Data Scientist",
          "Data Engineer",
          "Data Engineer",
          "Data Analyst",
          "Data Scientist",
          "Research Scientist",
          "Data Scientist",
          "Data Engineer",
          "Data Analyst",
          "Data Engineer",
          "Data Engineer",
          "Data Engineer",
          "Data Scientist",
          "Data Engineer",
          "Data Analyst",
          "Data Scientist",
          "Data Analyst",
          "Data Scientist",
          "Data Engineer",
          "Research Scientist",
          "Research Scientist",
          "Data Architect",
          "Data Analyst",
          "Data Engineer",
          "Data Engineer",
          "Data Scientist",
          "Data Engineer",
          "Machine Learning Engineer",
          "Data Engineer",
          "Research Scientist",
          "Data Engineer",
          "Machine Learning Engineer",
          "Data Scientist",
          "Data Scientist",
          "Data Scientist",
          "Data Scientist",
          "Machine Learning Engineer",
          "Data Analyst",
          "Data Engineer",
          "Data Engineer",
          "Data Engineer",
          "Data Engineer",
          "Data Scientist",
          "Machine Learning Engineer",
          "Data Scientist",
          "Data Analyst",
          "Data Analyst",
          "Data Scientist",
          "Data Scientist",
          "Machine Learning Engineer",
          "Data Science Manager",
          "Machine Learning Engineer",
          "Data Scientist",
          "Research Scientist",
          "Data Science Manager",
          "Machine Learning Engineer",
          "Data Scientist",
          "Data Scientist",
          "Data Scientist",
          "Data Engineer",
          "Data Scientist",
          "Data Scientist",
          "Machine Learning Engineer",
          "Data Scientist",
          "Data Scientist",
          "Data Scientist",
          "Data Analyst",
          "Data Scientist",
          "Data Scientist",
          "Data Scientist",
          "Machine Learning Engineer",
          "Data Analyst",
          "Data Engineer",
          "Machine Learning Engineer",
          "Data Scientist",
          "Data Engineer",
          "Data Engineer",
          "Research Scientist",
          "Machine Learning Engineer",
          "Data Engineer",
          "Machine Learning Engineer",
          "Data Scientist",
          "Research Scientist",
          "Data Scientist",
          "Data Engineer",
          "Data Scientist",
          "Data Scientist",
          "Data Scientist",
          "Data Scientist",
          "Data Engineer",
          "Data Scientist",
          "Data Scientist",
          "Data Engineer",
          "Machine Learning Engineer",
          "Data Science Manager",
          "Data Scientist",
          "Data Scientist",
          "Data Scientist",
          "Data Scientist",
          "Data Scientist",
          "Data Scientist",
          "Data Analyst",
          "Data Analyst",
          "Data Scientist",
          "Data Engineer",
          "Data Science Manager",
          "Data Scientist",
          "Data Scientist",
          "Data Engineer",
          "Machine Learning Engineer",
          "Data Scientist",
          "Data Engineer",
          "Data Scientist",
          "Data Scientist",
          "Data Science Manager"
         ],
         "legendgroup": "",
         "name": "",
         "showlegend": true,
         "textinfo": "percent+label",
         "textposition": "inside",
         "type": "pie"
        }
       ],
       "layout": {
        "height": 500,
        "legend": {
         "tracegroupgap": 0
        },
        "template": {
         "data": {
          "bar": [
           {
            "error_x": {
             "color": "#f2f5fa"
            },
            "error_y": {
             "color": "#f2f5fa"
            },
            "marker": {
             "line": {
              "color": "rgb(17,17,17)",
              "width": 0.5
             },
             "pattern": {
              "fillmode": "overlay",
              "size": 10,
              "solidity": 0.2
             }
            },
            "type": "bar"
           }
          ],
          "barpolar": [
           {
            "marker": {
             "line": {
              "color": "rgb(17,17,17)",
              "width": 0.5
             },
             "pattern": {
              "fillmode": "overlay",
              "size": 10,
              "solidity": 0.2
             }
            },
            "type": "barpolar"
           }
          ],
          "carpet": [
           {
            "aaxis": {
             "endlinecolor": "#A2B1C6",
             "gridcolor": "#506784",
             "linecolor": "#506784",
             "minorgridcolor": "#506784",
             "startlinecolor": "#A2B1C6"
            },
            "baxis": {
             "endlinecolor": "#A2B1C6",
             "gridcolor": "#506784",
             "linecolor": "#506784",
             "minorgridcolor": "#506784",
             "startlinecolor": "#A2B1C6"
            },
            "type": "carpet"
           }
          ],
          "choropleth": [
           {
            "colorbar": {
             "outlinewidth": 0,
             "ticks": ""
            },
            "type": "choropleth"
           }
          ],
          "contour": [
           {
            "colorbar": {
             "outlinewidth": 0,
             "ticks": ""
            },
            "colorscale": [
             [
              0,
              "#0d0887"
             ],
             [
              0.1111111111111111,
              "#46039f"
             ],
             [
              0.2222222222222222,
              "#7201a8"
             ],
             [
              0.3333333333333333,
              "#9c179e"
             ],
             [
              0.4444444444444444,
              "#bd3786"
             ],
             [
              0.5555555555555556,
              "#d8576b"
             ],
             [
              0.6666666666666666,
              "#ed7953"
             ],
             [
              0.7777777777777778,
              "#fb9f3a"
             ],
             [
              0.8888888888888888,
              "#fdca26"
             ],
             [
              1,
              "#f0f921"
             ]
            ],
            "type": "contour"
           }
          ],
          "contourcarpet": [
           {
            "colorbar": {
             "outlinewidth": 0,
             "ticks": ""
            },
            "type": "contourcarpet"
           }
          ],
          "heatmap": [
           {
            "colorbar": {
             "outlinewidth": 0,
             "ticks": ""
            },
            "colorscale": [
             [
              0,
              "#0d0887"
             ],
             [
              0.1111111111111111,
              "#46039f"
             ],
             [
              0.2222222222222222,
              "#7201a8"
             ],
             [
              0.3333333333333333,
              "#9c179e"
             ],
             [
              0.4444444444444444,
              "#bd3786"
             ],
             [
              0.5555555555555556,
              "#d8576b"
             ],
             [
              0.6666666666666666,
              "#ed7953"
             ],
             [
              0.7777777777777778,
              "#fb9f3a"
             ],
             [
              0.8888888888888888,
              "#fdca26"
             ],
             [
              1,
              "#f0f921"
             ]
            ],
            "type": "heatmap"
           }
          ],
          "heatmapgl": [
           {
            "colorbar": {
             "outlinewidth": 0,
             "ticks": ""
            },
            "colorscale": [
             [
              0,
              "#0d0887"
             ],
             [
              0.1111111111111111,
              "#46039f"
             ],
             [
              0.2222222222222222,
              "#7201a8"
             ],
             [
              0.3333333333333333,
              "#9c179e"
             ],
             [
              0.4444444444444444,
              "#bd3786"
             ],
             [
              0.5555555555555556,
              "#d8576b"
             ],
             [
              0.6666666666666666,
              "#ed7953"
             ],
             [
              0.7777777777777778,
              "#fb9f3a"
             ],
             [
              0.8888888888888888,
              "#fdca26"
             ],
             [
              1,
              "#f0f921"
             ]
            ],
            "type": "heatmapgl"
           }
          ],
          "histogram": [
           {
            "marker": {
             "pattern": {
              "fillmode": "overlay",
              "size": 10,
              "solidity": 0.2
             }
            },
            "type": "histogram"
           }
          ],
          "histogram2d": [
           {
            "colorbar": {
             "outlinewidth": 0,
             "ticks": ""
            },
            "colorscale": [
             [
              0,
              "#0d0887"
             ],
             [
              0.1111111111111111,
              "#46039f"
             ],
             [
              0.2222222222222222,
              "#7201a8"
             ],
             [
              0.3333333333333333,
              "#9c179e"
             ],
             [
              0.4444444444444444,
              "#bd3786"
             ],
             [
              0.5555555555555556,
              "#d8576b"
             ],
             [
              0.6666666666666666,
              "#ed7953"
             ],
             [
              0.7777777777777778,
              "#fb9f3a"
             ],
             [
              0.8888888888888888,
              "#fdca26"
             ],
             [
              1,
              "#f0f921"
             ]
            ],
            "type": "histogram2d"
           }
          ],
          "histogram2dcontour": [
           {
            "colorbar": {
             "outlinewidth": 0,
             "ticks": ""
            },
            "colorscale": [
             [
              0,
              "#0d0887"
             ],
             [
              0.1111111111111111,
              "#46039f"
             ],
             [
              0.2222222222222222,
              "#7201a8"
             ],
             [
              0.3333333333333333,
              "#9c179e"
             ],
             [
              0.4444444444444444,
              "#bd3786"
             ],
             [
              0.5555555555555556,
              "#d8576b"
             ],
             [
              0.6666666666666666,
              "#ed7953"
             ],
             [
              0.7777777777777778,
              "#fb9f3a"
             ],
             [
              0.8888888888888888,
              "#fdca26"
             ],
             [
              1,
              "#f0f921"
             ]
            ],
            "type": "histogram2dcontour"
           }
          ],
          "mesh3d": [
           {
            "colorbar": {
             "outlinewidth": 0,
             "ticks": ""
            },
            "type": "mesh3d"
           }
          ],
          "parcoords": [
           {
            "line": {
             "colorbar": {
              "outlinewidth": 0,
              "ticks": ""
             }
            },
            "type": "parcoords"
           }
          ],
          "pie": [
           {
            "automargin": true,
            "type": "pie"
           }
          ],
          "scatter": [
           {
            "marker": {
             "line": {
              "color": "#283442"
             }
            },
            "type": "scatter"
           }
          ],
          "scatter3d": [
           {
            "line": {
             "colorbar": {
              "outlinewidth": 0,
              "ticks": ""
             }
            },
            "marker": {
             "colorbar": {
              "outlinewidth": 0,
              "ticks": ""
             }
            },
            "type": "scatter3d"
           }
          ],
          "scattercarpet": [
           {
            "marker": {
             "colorbar": {
              "outlinewidth": 0,
              "ticks": ""
             }
            },
            "type": "scattercarpet"
           }
          ],
          "scattergeo": [
           {
            "marker": {
             "colorbar": {
              "outlinewidth": 0,
              "ticks": ""
             }
            },
            "type": "scattergeo"
           }
          ],
          "scattergl": [
           {
            "marker": {
             "line": {
              "color": "#283442"
             }
            },
            "type": "scattergl"
           }
          ],
          "scattermapbox": [
           {
            "marker": {
             "colorbar": {
              "outlinewidth": 0,
              "ticks": ""
             }
            },
            "type": "scattermapbox"
           }
          ],
          "scatterpolar": [
           {
            "marker": {
             "colorbar": {
              "outlinewidth": 0,
              "ticks": ""
             }
            },
            "type": "scatterpolar"
           }
          ],
          "scatterpolargl": [
           {
            "marker": {
             "colorbar": {
              "outlinewidth": 0,
              "ticks": ""
             }
            },
            "type": "scatterpolargl"
           }
          ],
          "scatterternary": [
           {
            "marker": {
             "colorbar": {
              "outlinewidth": 0,
              "ticks": ""
             }
            },
            "type": "scatterternary"
           }
          ],
          "surface": [
           {
            "colorbar": {
             "outlinewidth": 0,
             "ticks": ""
            },
            "colorscale": [
             [
              0,
              "#0d0887"
             ],
             [
              0.1111111111111111,
              "#46039f"
             ],
             [
              0.2222222222222222,
              "#7201a8"
             ],
             [
              0.3333333333333333,
              "#9c179e"
             ],
             [
              0.4444444444444444,
              "#bd3786"
             ],
             [
              0.5555555555555556,
              "#d8576b"
             ],
             [
              0.6666666666666666,
              "#ed7953"
             ],
             [
              0.7777777777777778,
              "#fb9f3a"
             ],
             [
              0.8888888888888888,
              "#fdca26"
             ],
             [
              1,
              "#f0f921"
             ]
            ],
            "type": "surface"
           }
          ],
          "table": [
           {
            "cells": {
             "fill": {
              "color": "#506784"
             },
             "line": {
              "color": "rgb(17,17,17)"
             }
            },
            "header": {
             "fill": {
              "color": "#2a3f5f"
             },
             "line": {
              "color": "rgb(17,17,17)"
             }
            },
            "type": "table"
           }
          ]
         },
         "layout": {
          "annotationdefaults": {
           "arrowcolor": "#f2f5fa",
           "arrowhead": 0,
           "arrowwidth": 1
          },
          "autotypenumbers": "strict",
          "coloraxis": {
           "colorbar": {
            "outlinewidth": 0,
            "ticks": ""
           }
          },
          "colorscale": {
           "diverging": [
            [
             0,
             "#8e0152"
            ],
            [
             0.1,
             "#c51b7d"
            ],
            [
             0.2,
             "#de77ae"
            ],
            [
             0.3,
             "#f1b6da"
            ],
            [
             0.4,
             "#fde0ef"
            ],
            [
             0.5,
             "#f7f7f7"
            ],
            [
             0.6,
             "#e6f5d0"
            ],
            [
             0.7,
             "#b8e186"
            ],
            [
             0.8,
             "#7fbc41"
            ],
            [
             0.9,
             "#4d9221"
            ],
            [
             1,
             "#276419"
            ]
           ],
           "sequential": [
            [
             0,
             "#0d0887"
            ],
            [
             0.1111111111111111,
             "#46039f"
            ],
            [
             0.2222222222222222,
             "#7201a8"
            ],
            [
             0.3333333333333333,
             "#9c179e"
            ],
            [
             0.4444444444444444,
             "#bd3786"
            ],
            [
             0.5555555555555556,
             "#d8576b"
            ],
            [
             0.6666666666666666,
             "#ed7953"
            ],
            [
             0.7777777777777778,
             "#fb9f3a"
            ],
            [
             0.8888888888888888,
             "#fdca26"
            ],
            [
             1,
             "#f0f921"
            ]
           ],
           "sequentialminus": [
            [
             0,
             "#0d0887"
            ],
            [
             0.1111111111111111,
             "#46039f"
            ],
            [
             0.2222222222222222,
             "#7201a8"
            ],
            [
             0.3333333333333333,
             "#9c179e"
            ],
            [
             0.4444444444444444,
             "#bd3786"
            ],
            [
             0.5555555555555556,
             "#d8576b"
            ],
            [
             0.6666666666666666,
             "#ed7953"
            ],
            [
             0.7777777777777778,
             "#fb9f3a"
            ],
            [
             0.8888888888888888,
             "#fdca26"
            ],
            [
             1,
             "#f0f921"
            ]
           ]
          },
          "colorway": [
           "#636efa",
           "#EF553B",
           "#00cc96",
           "#ab63fa",
           "#FFA15A",
           "#19d3f3",
           "#FF6692",
           "#B6E880",
           "#FF97FF",
           "#FECB52"
          ],
          "font": {
           "color": "#f2f5fa"
          },
          "geo": {
           "bgcolor": "rgb(17,17,17)",
           "lakecolor": "rgb(17,17,17)",
           "landcolor": "rgb(17,17,17)",
           "showlakes": true,
           "showland": true,
           "subunitcolor": "#506784"
          },
          "hoverlabel": {
           "align": "left"
          },
          "hovermode": "closest",
          "mapbox": {
           "style": "dark"
          },
          "paper_bgcolor": "rgb(17,17,17)",
          "plot_bgcolor": "rgb(17,17,17)",
          "polar": {
           "angularaxis": {
            "gridcolor": "#506784",
            "linecolor": "#506784",
            "ticks": ""
           },
           "bgcolor": "rgb(17,17,17)",
           "radialaxis": {
            "gridcolor": "#506784",
            "linecolor": "#506784",
            "ticks": ""
           }
          },
          "scene": {
           "xaxis": {
            "backgroundcolor": "rgb(17,17,17)",
            "gridcolor": "#506784",
            "gridwidth": 2,
            "linecolor": "#506784",
            "showbackground": true,
            "ticks": "",
            "zerolinecolor": "#C8D4E3"
           },
           "yaxis": {
            "backgroundcolor": "rgb(17,17,17)",
            "gridcolor": "#506784",
            "gridwidth": 2,
            "linecolor": "#506784",
            "showbackground": true,
            "ticks": "",
            "zerolinecolor": "#C8D4E3"
           },
           "zaxis": {
            "backgroundcolor": "rgb(17,17,17)",
            "gridcolor": "#506784",
            "gridwidth": 2,
            "linecolor": "#506784",
            "showbackground": true,
            "ticks": "",
            "zerolinecolor": "#C8D4E3"
           }
          },
          "shapedefaults": {
           "line": {
            "color": "#f2f5fa"
           }
          },
          "sliderdefaults": {
           "bgcolor": "#C8D4E3",
           "bordercolor": "rgb(17,17,17)",
           "borderwidth": 1,
           "tickwidth": 0
          },
          "ternary": {
           "aaxis": {
            "gridcolor": "#506784",
            "linecolor": "#506784",
            "ticks": ""
           },
           "baxis": {
            "gridcolor": "#506784",
            "linecolor": "#506784",
            "ticks": ""
           },
           "bgcolor": "rgb(17,17,17)",
           "caxis": {
            "gridcolor": "#506784",
            "linecolor": "#506784",
            "ticks": ""
           }
          },
          "title": {
           "x": 0.05
          },
          "updatemenudefaults": {
           "bgcolor": "#506784",
           "borderwidth": 0
          },
          "xaxis": {
           "automargin": true,
           "gridcolor": "#283442",
           "linecolor": "#506784",
           "ticks": "",
           "title": {
            "standoff": 15
           },
           "zerolinecolor": "#283442",
           "zerolinewidth": 2
          },
          "yaxis": {
           "automargin": true,
           "gridcolor": "#283442",
           "linecolor": "#506784",
           "ticks": "",
           "title": {
            "standoff": 15
           },
           "zerolinecolor": "#283442",
           "zerolinewidth": 2
          }
         }
        },
        "title": {
         "text": "Top 10 de empleos"
        }
       }
      }
     },
     "metadata": {},
     "output_type": "display_data"
    }
   ],
   "source": [
    "top10 = df.job_title.value_counts()[:10].index.tolist()\n",
    "fig = px.pie(df[df.job_title.isin(top10)], 'job_title', height=500, title='Top 10 de empleos', template='plotly_dark')\n",
    "fig.update_traces(textposition='inside', textinfo='percent+label')\n",
    "fig.show()"
   ]
  },
  {
   "attachments": {},
   "cell_type": "markdown",
   "metadata": {},
   "source": [
    "####  Crear un top10 con los empleos mas cotizados:"
   ]
  },
  {
   "cell_type": "code",
   "execution_count": 6,
   "metadata": {},
   "outputs": [
    {
     "data": {
      "application/vnd.plotly.v1+json": {
       "config": {
        "plotlyServerURL": "https://plot.ly"
       },
       "data": [
        {
         "alignmentgroup": "True",
         "hovertemplate": "job_title=%{y}<br>salary_in_usd=%{x}<extra></extra>",
         "legendgroup": "Data Science Tech Lead",
         "marker": {
          "color": "#636efa",
          "pattern": {
           "shape": ""
          }
         },
         "name": "Data Science Tech Lead",
         "offsetgroup": "Data Science Tech Lead",
         "orientation": "h",
         "showlegend": true,
         "textposition": "auto",
         "type": "bar",
         "x": [
          375000
         ],
         "xaxis": "x",
         "y": [
          "Data Science Tech Lead"
         ],
         "yaxis": "y"
        },
        {
         "alignmentgroup": "True",
         "hovertemplate": "job_title=%{y}<br>salary_in_usd=%{x}<extra></extra>",
         "legendgroup": "Cloud Data Architect",
         "marker": {
          "color": "#EF553B",
          "pattern": {
           "shape": ""
          }
         },
         "name": "Cloud Data Architect",
         "offsetgroup": "Cloud Data Architect",
         "orientation": "h",
         "showlegend": true,
         "textposition": "auto",
         "type": "bar",
         "x": [
          250000
         ],
         "xaxis": "x",
         "y": [
          "Cloud Data Architect"
         ],
         "yaxis": "y"
        },
        {
         "alignmentgroup": "True",
         "hovertemplate": "job_title=%{y}<br>salary_in_usd=%{x}<extra></extra>",
         "legendgroup": "Data Lead",
         "marker": {
          "color": "#00cc96",
          "pattern": {
           "shape": ""
          }
         },
         "name": "Data Lead",
         "offsetgroup": "Data Lead",
         "orientation": "h",
         "showlegend": true,
         "textposition": "auto",
         "type": "bar",
         "x": [
          212500
         ],
         "xaxis": "x",
         "y": [
          "Data Lead"
         ],
         "yaxis": "y"
        },
        {
         "alignmentgroup": "True",
         "hovertemplate": "job_title=%{y}<br>salary_in_usd=%{x}<extra></extra>",
         "legendgroup": "Data Analytics Lead",
         "marker": {
          "color": "#ab63fa",
          "pattern": {
           "shape": ""
          }
         },
         "name": "Data Analytics Lead",
         "offsetgroup": "Data Analytics Lead",
         "orientation": "h",
         "showlegend": true,
         "textposition": "auto",
         "type": "bar",
         "x": [
          211254.5
         ],
         "xaxis": "x",
         "y": [
          "Data Analytics Lead"
         ],
         "yaxis": "y"
        },
        {
         "alignmentgroup": "True",
         "hovertemplate": "job_title=%{y}<br>salary_in_usd=%{x}<extra></extra>",
         "legendgroup": "Principal Data Scientist",
         "marker": {
          "color": "#FFA15A",
          "pattern": {
           "shape": ""
          }
         },
         "name": "Principal Data Scientist",
         "offsetgroup": "Principal Data Scientist",
         "orientation": "h",
         "showlegend": true,
         "textposition": "auto",
         "type": "bar",
         "x": [
          198171.125
         ],
         "xaxis": "x",
         "y": [
          "Principal Data Scientist"
         ],
         "yaxis": "y"
        },
        {
         "alignmentgroup": "True",
         "hovertemplate": "job_title=%{y}<br>salary_in_usd=%{x}<extra></extra>",
         "legendgroup": "Director of Data Science",
         "marker": {
          "color": "#19d3f3",
          "pattern": {
           "shape": ""
          }
         },
         "name": "Director of Data Science",
         "offsetgroup": "Director of Data Science",
         "orientation": "h",
         "showlegend": true,
         "textposition": "auto",
         "type": "bar",
         "x": [
          195140.72727272726
         ],
         "xaxis": "x",
         "y": [
          "Director of Data Science"
         ],
         "yaxis": "y"
        },
        {
         "alignmentgroup": "True",
         "hovertemplate": "job_title=%{y}<br>salary_in_usd=%{x}<extra></extra>",
         "legendgroup": "Principal Data Engineer",
         "marker": {
          "color": "#FF6692",
          "pattern": {
           "shape": ""
          }
         },
         "name": "Principal Data Engineer",
         "offsetgroup": "Principal Data Engineer",
         "orientation": "h",
         "showlegend": true,
         "textposition": "auto",
         "type": "bar",
         "x": [
          192500
         ],
         "xaxis": "x",
         "y": [
          "Principal Data Engineer"
         ],
         "yaxis": "y"
        },
        {
         "alignmentgroup": "True",
         "hovertemplate": "job_title=%{y}<br>salary_in_usd=%{x}<extra></extra>",
         "legendgroup": "Machine Learning Software Engineer",
         "marker": {
          "color": "#B6E880",
          "pattern": {
           "shape": ""
          }
         },
         "name": "Machine Learning Software Engineer",
         "offsetgroup": "Machine Learning Software Engineer",
         "orientation": "h",
         "showlegend": true,
         "textposition": "auto",
         "type": "bar",
         "x": [
          192420
         ],
         "xaxis": "x",
         "y": [
          "Machine Learning Software Engineer"
         ],
         "yaxis": "y"
        },
        {
         "alignmentgroup": "True",
         "hovertemplate": "job_title=%{y}<br>salary_in_usd=%{x}<extra></extra>",
         "legendgroup": "Data Science Manager",
         "marker": {
          "color": "#FF97FF",
          "pattern": {
           "shape": ""
          }
         },
         "name": "Data Science Manager",
         "offsetgroup": "Data Science Manager",
         "orientation": "h",
         "showlegend": true,
         "textposition": "auto",
         "type": "bar",
         "x": [
          191278.77586206896
         ],
         "xaxis": "x",
         "y": [
          "Data Science Manager"
         ],
         "yaxis": "y"
        },
        {
         "alignmentgroup": "True",
         "hovertemplate": "job_title=%{y}<br>salary_in_usd=%{x}<extra></extra>",
         "legendgroup": "Applied Scientist",
         "marker": {
          "color": "#FECB52",
          "pattern": {
           "shape": ""
          }
         },
         "name": "Applied Scientist",
         "offsetgroup": "Applied Scientist",
         "orientation": "h",
         "showlegend": true,
         "textposition": "auto",
         "type": "bar",
         "x": [
          190264.4827586207
         ],
         "xaxis": "x",
         "y": [
          "Applied Scientist"
         ],
         "yaxis": "y"
        }
       ],
       "layout": {
        "barmode": "relative",
        "legend": {
         "title": {
          "text": "job_title"
         },
         "tracegroupgap": 0
        },
        "template": {
         "data": {
          "bar": [
           {
            "error_x": {
             "color": "#f2f5fa"
            },
            "error_y": {
             "color": "#f2f5fa"
            },
            "marker": {
             "line": {
              "color": "rgb(17,17,17)",
              "width": 0.5
             },
             "pattern": {
              "fillmode": "overlay",
              "size": 10,
              "solidity": 0.2
             }
            },
            "type": "bar"
           }
          ],
          "barpolar": [
           {
            "marker": {
             "line": {
              "color": "rgb(17,17,17)",
              "width": 0.5
             },
             "pattern": {
              "fillmode": "overlay",
              "size": 10,
              "solidity": 0.2
             }
            },
            "type": "barpolar"
           }
          ],
          "carpet": [
           {
            "aaxis": {
             "endlinecolor": "#A2B1C6",
             "gridcolor": "#506784",
             "linecolor": "#506784",
             "minorgridcolor": "#506784",
             "startlinecolor": "#A2B1C6"
            },
            "baxis": {
             "endlinecolor": "#A2B1C6",
             "gridcolor": "#506784",
             "linecolor": "#506784",
             "minorgridcolor": "#506784",
             "startlinecolor": "#A2B1C6"
            },
            "type": "carpet"
           }
          ],
          "choropleth": [
           {
            "colorbar": {
             "outlinewidth": 0,
             "ticks": ""
            },
            "type": "choropleth"
           }
          ],
          "contour": [
           {
            "colorbar": {
             "outlinewidth": 0,
             "ticks": ""
            },
            "colorscale": [
             [
              0,
              "#0d0887"
             ],
             [
              0.1111111111111111,
              "#46039f"
             ],
             [
              0.2222222222222222,
              "#7201a8"
             ],
             [
              0.3333333333333333,
              "#9c179e"
             ],
             [
              0.4444444444444444,
              "#bd3786"
             ],
             [
              0.5555555555555556,
              "#d8576b"
             ],
             [
              0.6666666666666666,
              "#ed7953"
             ],
             [
              0.7777777777777778,
              "#fb9f3a"
             ],
             [
              0.8888888888888888,
              "#fdca26"
             ],
             [
              1,
              "#f0f921"
             ]
            ],
            "type": "contour"
           }
          ],
          "contourcarpet": [
           {
            "colorbar": {
             "outlinewidth": 0,
             "ticks": ""
            },
            "type": "contourcarpet"
           }
          ],
          "heatmap": [
           {
            "colorbar": {
             "outlinewidth": 0,
             "ticks": ""
            },
            "colorscale": [
             [
              0,
              "#0d0887"
             ],
             [
              0.1111111111111111,
              "#46039f"
             ],
             [
              0.2222222222222222,
              "#7201a8"
             ],
             [
              0.3333333333333333,
              "#9c179e"
             ],
             [
              0.4444444444444444,
              "#bd3786"
             ],
             [
              0.5555555555555556,
              "#d8576b"
             ],
             [
              0.6666666666666666,
              "#ed7953"
             ],
             [
              0.7777777777777778,
              "#fb9f3a"
             ],
             [
              0.8888888888888888,
              "#fdca26"
             ],
             [
              1,
              "#f0f921"
             ]
            ],
            "type": "heatmap"
           }
          ],
          "heatmapgl": [
           {
            "colorbar": {
             "outlinewidth": 0,
             "ticks": ""
            },
            "colorscale": [
             [
              0,
              "#0d0887"
             ],
             [
              0.1111111111111111,
              "#46039f"
             ],
             [
              0.2222222222222222,
              "#7201a8"
             ],
             [
              0.3333333333333333,
              "#9c179e"
             ],
             [
              0.4444444444444444,
              "#bd3786"
             ],
             [
              0.5555555555555556,
              "#d8576b"
             ],
             [
              0.6666666666666666,
              "#ed7953"
             ],
             [
              0.7777777777777778,
              "#fb9f3a"
             ],
             [
              0.8888888888888888,
              "#fdca26"
             ],
             [
              1,
              "#f0f921"
             ]
            ],
            "type": "heatmapgl"
           }
          ],
          "histogram": [
           {
            "marker": {
             "pattern": {
              "fillmode": "overlay",
              "size": 10,
              "solidity": 0.2
             }
            },
            "type": "histogram"
           }
          ],
          "histogram2d": [
           {
            "colorbar": {
             "outlinewidth": 0,
             "ticks": ""
            },
            "colorscale": [
             [
              0,
              "#0d0887"
             ],
             [
              0.1111111111111111,
              "#46039f"
             ],
             [
              0.2222222222222222,
              "#7201a8"
             ],
             [
              0.3333333333333333,
              "#9c179e"
             ],
             [
              0.4444444444444444,
              "#bd3786"
             ],
             [
              0.5555555555555556,
              "#d8576b"
             ],
             [
              0.6666666666666666,
              "#ed7953"
             ],
             [
              0.7777777777777778,
              "#fb9f3a"
             ],
             [
              0.8888888888888888,
              "#fdca26"
             ],
             [
              1,
              "#f0f921"
             ]
            ],
            "type": "histogram2d"
           }
          ],
          "histogram2dcontour": [
           {
            "colorbar": {
             "outlinewidth": 0,
             "ticks": ""
            },
            "colorscale": [
             [
              0,
              "#0d0887"
             ],
             [
              0.1111111111111111,
              "#46039f"
             ],
             [
              0.2222222222222222,
              "#7201a8"
             ],
             [
              0.3333333333333333,
              "#9c179e"
             ],
             [
              0.4444444444444444,
              "#bd3786"
             ],
             [
              0.5555555555555556,
              "#d8576b"
             ],
             [
              0.6666666666666666,
              "#ed7953"
             ],
             [
              0.7777777777777778,
              "#fb9f3a"
             ],
             [
              0.8888888888888888,
              "#fdca26"
             ],
             [
              1,
              "#f0f921"
             ]
            ],
            "type": "histogram2dcontour"
           }
          ],
          "mesh3d": [
           {
            "colorbar": {
             "outlinewidth": 0,
             "ticks": ""
            },
            "type": "mesh3d"
           }
          ],
          "parcoords": [
           {
            "line": {
             "colorbar": {
              "outlinewidth": 0,
              "ticks": ""
             }
            },
            "type": "parcoords"
           }
          ],
          "pie": [
           {
            "automargin": true,
            "type": "pie"
           }
          ],
          "scatter": [
           {
            "marker": {
             "line": {
              "color": "#283442"
             }
            },
            "type": "scatter"
           }
          ],
          "scatter3d": [
           {
            "line": {
             "colorbar": {
              "outlinewidth": 0,
              "ticks": ""
             }
            },
            "marker": {
             "colorbar": {
              "outlinewidth": 0,
              "ticks": ""
             }
            },
            "type": "scatter3d"
           }
          ],
          "scattercarpet": [
           {
            "marker": {
             "colorbar": {
              "outlinewidth": 0,
              "ticks": ""
             }
            },
            "type": "scattercarpet"
           }
          ],
          "scattergeo": [
           {
            "marker": {
             "colorbar": {
              "outlinewidth": 0,
              "ticks": ""
             }
            },
            "type": "scattergeo"
           }
          ],
          "scattergl": [
           {
            "marker": {
             "line": {
              "color": "#283442"
             }
            },
            "type": "scattergl"
           }
          ],
          "scattermapbox": [
           {
            "marker": {
             "colorbar": {
              "outlinewidth": 0,
              "ticks": ""
             }
            },
            "type": "scattermapbox"
           }
          ],
          "scatterpolar": [
           {
            "marker": {
             "colorbar": {
              "outlinewidth": 0,
              "ticks": ""
             }
            },
            "type": "scatterpolar"
           }
          ],
          "scatterpolargl": [
           {
            "marker": {
             "colorbar": {
              "outlinewidth": 0,
              "ticks": ""
             }
            },
            "type": "scatterpolargl"
           }
          ],
          "scatterternary": [
           {
            "marker": {
             "colorbar": {
              "outlinewidth": 0,
              "ticks": ""
             }
            },
            "type": "scatterternary"
           }
          ],
          "surface": [
           {
            "colorbar": {
             "outlinewidth": 0,
             "ticks": ""
            },
            "colorscale": [
             [
              0,
              "#0d0887"
             ],
             [
              0.1111111111111111,
              "#46039f"
             ],
             [
              0.2222222222222222,
              "#7201a8"
             ],
             [
              0.3333333333333333,
              "#9c179e"
             ],
             [
              0.4444444444444444,
              "#bd3786"
             ],
             [
              0.5555555555555556,
              "#d8576b"
             ],
             [
              0.6666666666666666,
              "#ed7953"
             ],
             [
              0.7777777777777778,
              "#fb9f3a"
             ],
             [
              0.8888888888888888,
              "#fdca26"
             ],
             [
              1,
              "#f0f921"
             ]
            ],
            "type": "surface"
           }
          ],
          "table": [
           {
            "cells": {
             "fill": {
              "color": "#506784"
             },
             "line": {
              "color": "rgb(17,17,17)"
             }
            },
            "header": {
             "fill": {
              "color": "#2a3f5f"
             },
             "line": {
              "color": "rgb(17,17,17)"
             }
            },
            "type": "table"
           }
          ]
         },
         "layout": {
          "annotationdefaults": {
           "arrowcolor": "#f2f5fa",
           "arrowhead": 0,
           "arrowwidth": 1
          },
          "autotypenumbers": "strict",
          "coloraxis": {
           "colorbar": {
            "outlinewidth": 0,
            "ticks": ""
           }
          },
          "colorscale": {
           "diverging": [
            [
             0,
             "#8e0152"
            ],
            [
             0.1,
             "#c51b7d"
            ],
            [
             0.2,
             "#de77ae"
            ],
            [
             0.3,
             "#f1b6da"
            ],
            [
             0.4,
             "#fde0ef"
            ],
            [
             0.5,
             "#f7f7f7"
            ],
            [
             0.6,
             "#e6f5d0"
            ],
            [
             0.7,
             "#b8e186"
            ],
            [
             0.8,
             "#7fbc41"
            ],
            [
             0.9,
             "#4d9221"
            ],
            [
             1,
             "#276419"
            ]
           ],
           "sequential": [
            [
             0,
             "#0d0887"
            ],
            [
             0.1111111111111111,
             "#46039f"
            ],
            [
             0.2222222222222222,
             "#7201a8"
            ],
            [
             0.3333333333333333,
             "#9c179e"
            ],
            [
             0.4444444444444444,
             "#bd3786"
            ],
            [
             0.5555555555555556,
             "#d8576b"
            ],
            [
             0.6666666666666666,
             "#ed7953"
            ],
            [
             0.7777777777777778,
             "#fb9f3a"
            ],
            [
             0.8888888888888888,
             "#fdca26"
            ],
            [
             1,
             "#f0f921"
            ]
           ],
           "sequentialminus": [
            [
             0,
             "#0d0887"
            ],
            [
             0.1111111111111111,
             "#46039f"
            ],
            [
             0.2222222222222222,
             "#7201a8"
            ],
            [
             0.3333333333333333,
             "#9c179e"
            ],
            [
             0.4444444444444444,
             "#bd3786"
            ],
            [
             0.5555555555555556,
             "#d8576b"
            ],
            [
             0.6666666666666666,
             "#ed7953"
            ],
            [
             0.7777777777777778,
             "#fb9f3a"
            ],
            [
             0.8888888888888888,
             "#fdca26"
            ],
            [
             1,
             "#f0f921"
            ]
           ]
          },
          "colorway": [
           "#636efa",
           "#EF553B",
           "#00cc96",
           "#ab63fa",
           "#FFA15A",
           "#19d3f3",
           "#FF6692",
           "#B6E880",
           "#FF97FF",
           "#FECB52"
          ],
          "font": {
           "color": "#f2f5fa"
          },
          "geo": {
           "bgcolor": "rgb(17,17,17)",
           "lakecolor": "rgb(17,17,17)",
           "landcolor": "rgb(17,17,17)",
           "showlakes": true,
           "showland": true,
           "subunitcolor": "#506784"
          },
          "hoverlabel": {
           "align": "left"
          },
          "hovermode": "closest",
          "mapbox": {
           "style": "dark"
          },
          "paper_bgcolor": "rgb(17,17,17)",
          "plot_bgcolor": "rgb(17,17,17)",
          "polar": {
           "angularaxis": {
            "gridcolor": "#506784",
            "linecolor": "#506784",
            "ticks": ""
           },
           "bgcolor": "rgb(17,17,17)",
           "radialaxis": {
            "gridcolor": "#506784",
            "linecolor": "#506784",
            "ticks": ""
           }
          },
          "scene": {
           "xaxis": {
            "backgroundcolor": "rgb(17,17,17)",
            "gridcolor": "#506784",
            "gridwidth": 2,
            "linecolor": "#506784",
            "showbackground": true,
            "ticks": "",
            "zerolinecolor": "#C8D4E3"
           },
           "yaxis": {
            "backgroundcolor": "rgb(17,17,17)",
            "gridcolor": "#506784",
            "gridwidth": 2,
            "linecolor": "#506784",
            "showbackground": true,
            "ticks": "",
            "zerolinecolor": "#C8D4E3"
           },
           "zaxis": {
            "backgroundcolor": "rgb(17,17,17)",
            "gridcolor": "#506784",
            "gridwidth": 2,
            "linecolor": "#506784",
            "showbackground": true,
            "ticks": "",
            "zerolinecolor": "#C8D4E3"
           }
          },
          "shapedefaults": {
           "line": {
            "color": "#f2f5fa"
           }
          },
          "sliderdefaults": {
           "bgcolor": "#C8D4E3",
           "bordercolor": "rgb(17,17,17)",
           "borderwidth": 1,
           "tickwidth": 0
          },
          "ternary": {
           "aaxis": {
            "gridcolor": "#506784",
            "linecolor": "#506784",
            "ticks": ""
           },
           "baxis": {
            "gridcolor": "#506784",
            "linecolor": "#506784",
            "ticks": ""
           },
           "bgcolor": "rgb(17,17,17)",
           "caxis": {
            "gridcolor": "#506784",
            "linecolor": "#506784",
            "ticks": ""
           }
          },
          "title": {
           "x": 0.05
          },
          "updatemenudefaults": {
           "bgcolor": "#506784",
           "borderwidth": 0
          },
          "xaxis": {
           "automargin": true,
           "gridcolor": "#283442",
           "linecolor": "#506784",
           "ticks": "",
           "title": {
            "standoff": 15
           },
           "zerolinecolor": "#283442",
           "zerolinewidth": 2
          },
          "yaxis": {
           "automargin": true,
           "gridcolor": "#283442",
           "linecolor": "#506784",
           "ticks": "",
           "title": {
            "standoff": 15
           },
           "zerolinecolor": "#283442",
           "zerolinewidth": 2
          }
         }
        },
        "title": {
         "text": "Top 10 empleos más cotizados"
        },
        "xaxis": {
         "anchor": "y",
         "domain": [
          0,
          1
         ],
         "title": {
          "text": "salary_in_usd"
         }
        },
        "yaxis": {
         "anchor": "x",
         "categoryarray": [
          "Applied Scientist",
          "Data Science Manager",
          "Machine Learning Software Engineer",
          "Principal Data Engineer",
          "Director of Data Science",
          "Principal Data Scientist",
          "Data Analytics Lead",
          "Data Lead",
          "Cloud Data Architect",
          "Data Science Tech Lead"
         ],
         "categoryorder": "array",
         "domain": [
          0,
          1
         ],
         "title": {
          "text": "job_title"
         }
        }
       }
      }
     },
     "metadata": {},
     "output_type": "display_data"
    }
   ],
   "source": [
    "top10_cotizados = df.groupby('job_title')['salary_in_usd'].mean().reset_index() \n",
    "top10_cotizados.sort_values(by='salary_in_usd', inplace=True, ascending=False)\n",
    "\n",
    "fig = px.bar(top10_cotizados[:10], y='job_title', x='salary_in_usd', color='job_title', title='Top 10 empleos más cotizados', template=\"plotly_dark\")\n",
    "fig.show()"
   ]
  },
  {
   "attachments": {},
   "cell_type": "markdown",
   "metadata": {},
   "source": [
    "####  Crear un top10 con empleos donde podemos trabajar remoto: "
   ]
  },
  {
   "cell_type": "code",
   "execution_count": 7,
   "metadata": {},
   "outputs": [
    {
     "data": {
      "application/vnd.plotly.v1+json": {
       "config": {
        "plotlyServerURL": "https://plot.ly"
       },
       "data": [
        {
         "hovertemplate": "job_title=%{x}<br>remote_ratio=%{y}<extra></extra>",
         "legendgroup": "",
         "marker": {
          "color": "#4b8cff"
         },
         "name": "",
         "orientation": "v",
         "showlegend": false,
         "type": "funnel",
         "x": [
          "Applied Data Scientist",
          "Applied Machine Learning Scientist",
          "AI Scientist",
          "Analytics Engineer",
          "3D Computer Vision Researcher",
          "AI Programmer",
          "Applied Machine Learning Engineer",
          "Applied Scientist",
          "AI Developer",
          "Autonomous Vehicle Technician"
         ],
         "xaxis": "x",
         "y": [
          80,
          79.16666666666667,
          71.875,
          54.36893203883495,
          50,
          50,
          50,
          44.827586206896555,
          31.818181818181817,
          25
         ],
         "yaxis": "y"
        }
       ],
       "layout": {
        "legend": {
         "tracegroupgap": 0
        },
        "template": {
         "data": {
          "bar": [
           {
            "error_x": {
             "color": "#f2f5fa"
            },
            "error_y": {
             "color": "#f2f5fa"
            },
            "marker": {
             "line": {
              "color": "rgb(17,17,17)",
              "width": 0.5
             },
             "pattern": {
              "fillmode": "overlay",
              "size": 10,
              "solidity": 0.2
             }
            },
            "type": "bar"
           }
          ],
          "barpolar": [
           {
            "marker": {
             "line": {
              "color": "rgb(17,17,17)",
              "width": 0.5
             },
             "pattern": {
              "fillmode": "overlay",
              "size": 10,
              "solidity": 0.2
             }
            },
            "type": "barpolar"
           }
          ],
          "carpet": [
           {
            "aaxis": {
             "endlinecolor": "#A2B1C6",
             "gridcolor": "#506784",
             "linecolor": "#506784",
             "minorgridcolor": "#506784",
             "startlinecolor": "#A2B1C6"
            },
            "baxis": {
             "endlinecolor": "#A2B1C6",
             "gridcolor": "#506784",
             "linecolor": "#506784",
             "minorgridcolor": "#506784",
             "startlinecolor": "#A2B1C6"
            },
            "type": "carpet"
           }
          ],
          "choropleth": [
           {
            "colorbar": {
             "outlinewidth": 0,
             "ticks": ""
            },
            "type": "choropleth"
           }
          ],
          "contour": [
           {
            "colorbar": {
             "outlinewidth": 0,
             "ticks": ""
            },
            "colorscale": [
             [
              0,
              "#0d0887"
             ],
             [
              0.1111111111111111,
              "#46039f"
             ],
             [
              0.2222222222222222,
              "#7201a8"
             ],
             [
              0.3333333333333333,
              "#9c179e"
             ],
             [
              0.4444444444444444,
              "#bd3786"
             ],
             [
              0.5555555555555556,
              "#d8576b"
             ],
             [
              0.6666666666666666,
              "#ed7953"
             ],
             [
              0.7777777777777778,
              "#fb9f3a"
             ],
             [
              0.8888888888888888,
              "#fdca26"
             ],
             [
              1,
              "#f0f921"
             ]
            ],
            "type": "contour"
           }
          ],
          "contourcarpet": [
           {
            "colorbar": {
             "outlinewidth": 0,
             "ticks": ""
            },
            "type": "contourcarpet"
           }
          ],
          "heatmap": [
           {
            "colorbar": {
             "outlinewidth": 0,
             "ticks": ""
            },
            "colorscale": [
             [
              0,
              "#0d0887"
             ],
             [
              0.1111111111111111,
              "#46039f"
             ],
             [
              0.2222222222222222,
              "#7201a8"
             ],
             [
              0.3333333333333333,
              "#9c179e"
             ],
             [
              0.4444444444444444,
              "#bd3786"
             ],
             [
              0.5555555555555556,
              "#d8576b"
             ],
             [
              0.6666666666666666,
              "#ed7953"
             ],
             [
              0.7777777777777778,
              "#fb9f3a"
             ],
             [
              0.8888888888888888,
              "#fdca26"
             ],
             [
              1,
              "#f0f921"
             ]
            ],
            "type": "heatmap"
           }
          ],
          "heatmapgl": [
           {
            "colorbar": {
             "outlinewidth": 0,
             "ticks": ""
            },
            "colorscale": [
             [
              0,
              "#0d0887"
             ],
             [
              0.1111111111111111,
              "#46039f"
             ],
             [
              0.2222222222222222,
              "#7201a8"
             ],
             [
              0.3333333333333333,
              "#9c179e"
             ],
             [
              0.4444444444444444,
              "#bd3786"
             ],
             [
              0.5555555555555556,
              "#d8576b"
             ],
             [
              0.6666666666666666,
              "#ed7953"
             ],
             [
              0.7777777777777778,
              "#fb9f3a"
             ],
             [
              0.8888888888888888,
              "#fdca26"
             ],
             [
              1,
              "#f0f921"
             ]
            ],
            "type": "heatmapgl"
           }
          ],
          "histogram": [
           {
            "marker": {
             "pattern": {
              "fillmode": "overlay",
              "size": 10,
              "solidity": 0.2
             }
            },
            "type": "histogram"
           }
          ],
          "histogram2d": [
           {
            "colorbar": {
             "outlinewidth": 0,
             "ticks": ""
            },
            "colorscale": [
             [
              0,
              "#0d0887"
             ],
             [
              0.1111111111111111,
              "#46039f"
             ],
             [
              0.2222222222222222,
              "#7201a8"
             ],
             [
              0.3333333333333333,
              "#9c179e"
             ],
             [
              0.4444444444444444,
              "#bd3786"
             ],
             [
              0.5555555555555556,
              "#d8576b"
             ],
             [
              0.6666666666666666,
              "#ed7953"
             ],
             [
              0.7777777777777778,
              "#fb9f3a"
             ],
             [
              0.8888888888888888,
              "#fdca26"
             ],
             [
              1,
              "#f0f921"
             ]
            ],
            "type": "histogram2d"
           }
          ],
          "histogram2dcontour": [
           {
            "colorbar": {
             "outlinewidth": 0,
             "ticks": ""
            },
            "colorscale": [
             [
              0,
              "#0d0887"
             ],
             [
              0.1111111111111111,
              "#46039f"
             ],
             [
              0.2222222222222222,
              "#7201a8"
             ],
             [
              0.3333333333333333,
              "#9c179e"
             ],
             [
              0.4444444444444444,
              "#bd3786"
             ],
             [
              0.5555555555555556,
              "#d8576b"
             ],
             [
              0.6666666666666666,
              "#ed7953"
             ],
             [
              0.7777777777777778,
              "#fb9f3a"
             ],
             [
              0.8888888888888888,
              "#fdca26"
             ],
             [
              1,
              "#f0f921"
             ]
            ],
            "type": "histogram2dcontour"
           }
          ],
          "mesh3d": [
           {
            "colorbar": {
             "outlinewidth": 0,
             "ticks": ""
            },
            "type": "mesh3d"
           }
          ],
          "parcoords": [
           {
            "line": {
             "colorbar": {
              "outlinewidth": 0,
              "ticks": ""
             }
            },
            "type": "parcoords"
           }
          ],
          "pie": [
           {
            "automargin": true,
            "type": "pie"
           }
          ],
          "scatter": [
           {
            "marker": {
             "line": {
              "color": "#283442"
             }
            },
            "type": "scatter"
           }
          ],
          "scatter3d": [
           {
            "line": {
             "colorbar": {
              "outlinewidth": 0,
              "ticks": ""
             }
            },
            "marker": {
             "colorbar": {
              "outlinewidth": 0,
              "ticks": ""
             }
            },
            "type": "scatter3d"
           }
          ],
          "scattercarpet": [
           {
            "marker": {
             "colorbar": {
              "outlinewidth": 0,
              "ticks": ""
             }
            },
            "type": "scattercarpet"
           }
          ],
          "scattergeo": [
           {
            "marker": {
             "colorbar": {
              "outlinewidth": 0,
              "ticks": ""
             }
            },
            "type": "scattergeo"
           }
          ],
          "scattergl": [
           {
            "marker": {
             "line": {
              "color": "#283442"
             }
            },
            "type": "scattergl"
           }
          ],
          "scattermapbox": [
           {
            "marker": {
             "colorbar": {
              "outlinewidth": 0,
              "ticks": ""
             }
            },
            "type": "scattermapbox"
           }
          ],
          "scatterpolar": [
           {
            "marker": {
             "colorbar": {
              "outlinewidth": 0,
              "ticks": ""
             }
            },
            "type": "scatterpolar"
           }
          ],
          "scatterpolargl": [
           {
            "marker": {
             "colorbar": {
              "outlinewidth": 0,
              "ticks": ""
             }
            },
            "type": "scatterpolargl"
           }
          ],
          "scatterternary": [
           {
            "marker": {
             "colorbar": {
              "outlinewidth": 0,
              "ticks": ""
             }
            },
            "type": "scatterternary"
           }
          ],
          "surface": [
           {
            "colorbar": {
             "outlinewidth": 0,
             "ticks": ""
            },
            "colorscale": [
             [
              0,
              "#0d0887"
             ],
             [
              0.1111111111111111,
              "#46039f"
             ],
             [
              0.2222222222222222,
              "#7201a8"
             ],
             [
              0.3333333333333333,
              "#9c179e"
             ],
             [
              0.4444444444444444,
              "#bd3786"
             ],
             [
              0.5555555555555556,
              "#d8576b"
             ],
             [
              0.6666666666666666,
              "#ed7953"
             ],
             [
              0.7777777777777778,
              "#fb9f3a"
             ],
             [
              0.8888888888888888,
              "#fdca26"
             ],
             [
              1,
              "#f0f921"
             ]
            ],
            "type": "surface"
           }
          ],
          "table": [
           {
            "cells": {
             "fill": {
              "color": "#506784"
             },
             "line": {
              "color": "rgb(17,17,17)"
             }
            },
            "header": {
             "fill": {
              "color": "#2a3f5f"
             },
             "line": {
              "color": "rgb(17,17,17)"
             }
            },
            "type": "table"
           }
          ]
         },
         "layout": {
          "annotationdefaults": {
           "arrowcolor": "#f2f5fa",
           "arrowhead": 0,
           "arrowwidth": 1
          },
          "autotypenumbers": "strict",
          "coloraxis": {
           "colorbar": {
            "outlinewidth": 0,
            "ticks": ""
           }
          },
          "colorscale": {
           "diverging": [
            [
             0,
             "#8e0152"
            ],
            [
             0.1,
             "#c51b7d"
            ],
            [
             0.2,
             "#de77ae"
            ],
            [
             0.3,
             "#f1b6da"
            ],
            [
             0.4,
             "#fde0ef"
            ],
            [
             0.5,
             "#f7f7f7"
            ],
            [
             0.6,
             "#e6f5d0"
            ],
            [
             0.7,
             "#b8e186"
            ],
            [
             0.8,
             "#7fbc41"
            ],
            [
             0.9,
             "#4d9221"
            ],
            [
             1,
             "#276419"
            ]
           ],
           "sequential": [
            [
             0,
             "#0d0887"
            ],
            [
             0.1111111111111111,
             "#46039f"
            ],
            [
             0.2222222222222222,
             "#7201a8"
            ],
            [
             0.3333333333333333,
             "#9c179e"
            ],
            [
             0.4444444444444444,
             "#bd3786"
            ],
            [
             0.5555555555555556,
             "#d8576b"
            ],
            [
             0.6666666666666666,
             "#ed7953"
            ],
            [
             0.7777777777777778,
             "#fb9f3a"
            ],
            [
             0.8888888888888888,
             "#fdca26"
            ],
            [
             1,
             "#f0f921"
            ]
           ],
           "sequentialminus": [
            [
             0,
             "#0d0887"
            ],
            [
             0.1111111111111111,
             "#46039f"
            ],
            [
             0.2222222222222222,
             "#7201a8"
            ],
            [
             0.3333333333333333,
             "#9c179e"
            ],
            [
             0.4444444444444444,
             "#bd3786"
            ],
            [
             0.5555555555555556,
             "#d8576b"
            ],
            [
             0.6666666666666666,
             "#ed7953"
            ],
            [
             0.7777777777777778,
             "#fb9f3a"
            ],
            [
             0.8888888888888888,
             "#fdca26"
            ],
            [
             1,
             "#f0f921"
            ]
           ]
          },
          "colorway": [
           "#636efa",
           "#EF553B",
           "#00cc96",
           "#ab63fa",
           "#FFA15A",
           "#19d3f3",
           "#FF6692",
           "#B6E880",
           "#FF97FF",
           "#FECB52"
          ],
          "font": {
           "color": "#f2f5fa"
          },
          "geo": {
           "bgcolor": "rgb(17,17,17)",
           "lakecolor": "rgb(17,17,17)",
           "landcolor": "rgb(17,17,17)",
           "showlakes": true,
           "showland": true,
           "subunitcolor": "#506784"
          },
          "hoverlabel": {
           "align": "left"
          },
          "hovermode": "closest",
          "mapbox": {
           "style": "dark"
          },
          "paper_bgcolor": "rgb(17,17,17)",
          "plot_bgcolor": "rgb(17,17,17)",
          "polar": {
           "angularaxis": {
            "gridcolor": "#506784",
            "linecolor": "#506784",
            "ticks": ""
           },
           "bgcolor": "rgb(17,17,17)",
           "radialaxis": {
            "gridcolor": "#506784",
            "linecolor": "#506784",
            "ticks": ""
           }
          },
          "scene": {
           "xaxis": {
            "backgroundcolor": "rgb(17,17,17)",
            "gridcolor": "#506784",
            "gridwidth": 2,
            "linecolor": "#506784",
            "showbackground": true,
            "ticks": "",
            "zerolinecolor": "#C8D4E3"
           },
           "yaxis": {
            "backgroundcolor": "rgb(17,17,17)",
            "gridcolor": "#506784",
            "gridwidth": 2,
            "linecolor": "#506784",
            "showbackground": true,
            "ticks": "",
            "zerolinecolor": "#C8D4E3"
           },
           "zaxis": {
            "backgroundcolor": "rgb(17,17,17)",
            "gridcolor": "#506784",
            "gridwidth": 2,
            "linecolor": "#506784",
            "showbackground": true,
            "ticks": "",
            "zerolinecolor": "#C8D4E3"
           }
          },
          "shapedefaults": {
           "line": {
            "color": "#f2f5fa"
           }
          },
          "sliderdefaults": {
           "bgcolor": "#C8D4E3",
           "bordercolor": "rgb(17,17,17)",
           "borderwidth": 1,
           "tickwidth": 0
          },
          "ternary": {
           "aaxis": {
            "gridcolor": "#506784",
            "linecolor": "#506784",
            "ticks": ""
           },
           "baxis": {
            "gridcolor": "#506784",
            "linecolor": "#506784",
            "ticks": ""
           },
           "bgcolor": "rgb(17,17,17)",
           "caxis": {
            "gridcolor": "#506784",
            "linecolor": "#506784",
            "ticks": ""
           }
          },
          "title": {
           "x": 0.05
          },
          "updatemenudefaults": {
           "bgcolor": "#506784",
           "borderwidth": 0
          },
          "xaxis": {
           "automargin": true,
           "gridcolor": "#283442",
           "linecolor": "#506784",
           "ticks": "",
           "title": {
            "standoff": 15
           },
           "zerolinecolor": "#283442",
           "zerolinewidth": 2
          },
          "yaxis": {
           "automargin": true,
           "gridcolor": "#283442",
           "linecolor": "#506784",
           "ticks": "",
           "title": {
            "standoff": 15
           },
           "zerolinecolor": "#283442",
           "zerolinewidth": 2
          }
         }
        },
        "title": {
         "text": "Top 10 de profesiones que más trabajo remoto tienen"
        },
        "xaxis": {
         "anchor": "y",
         "domain": [
          0,
          1
         ],
         "title": {
          "text": "job_title"
         }
        },
        "yaxis": {
         "anchor": "x",
         "domain": [
          0,
          1
         ],
         "title": {
          "text": "remote_ratio"
         }
        }
       }
      }
     },
     "metadata": {},
     "output_type": "display_data"
    }
   ],
   "source": [
    "top10_remotos = df.groupby('job_title')['remote_ratio'].mean().reset_index()\n",
    "fig = px.funnel(top10_remotos[:10].sort_values(by='remote_ratio', ascending=False), x='job_title', y='remote_ratio', \n",
    "                title='Top 10 de profesiones que más trabajo remoto tienen', color_discrete_sequence=['#4b8cff'], template=\"plotly_dark\")\n",
    "fig.show()"
   ]
  }
 ],
 "metadata": {
  "kernelspec": {
   "display_name": "Python 3",
   "language": "python",
   "name": "python3"
  },
  "language_info": {
   "codemirror_mode": {
    "name": "ipython",
    "version": 3
   },
   "file_extension": ".py",
   "mimetype": "text/x-python",
   "name": "python",
   "nbconvert_exporter": "python",
   "pygments_lexer": "ipython3",
   "version": "3.11.9"
  },
  "orig_nbformat": 4
 },
 "nbformat": 4,
 "nbformat_minor": 2
}
